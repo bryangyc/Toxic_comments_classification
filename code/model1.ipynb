{
 "cells": [
  {
   "cell_type": "markdown",
   "metadata": {},
   "source": [
    "# Model 1"
   ]
  },
  {
   "cell_type": "code",
   "execution_count": 32,
   "metadata": {},
   "outputs": [],
   "source": [
    "import pandas as pd\n",
    "import numpy as np\n",
    "import matplotlib.pyplot as plt\n",
    "import seaborn as sns\n",
    "\n",
    "import pickle\n",
    "import scipy\n",
    "import datetime\n",
    "\n",
    "import nltk\n",
    "from nltk.tokenize import sent_tokenize, word_tokenize\n",
    "from nltk.corpus import stopwords\n",
    "stop_words = set(stopwords.words(\"english\"))\n",
    "from nltk.stem import SnowballStemmer\n",
    "from nltk.stem import WordNetLemmatizer\n",
    "from collections import Counter\n",
    "\n",
    "from sklearn.model_selection import train_test_split, GridSearchCV\n",
    "from skmultilearn.model_selection import iterative_train_test_split, IterativeStratification\n",
    "from iterstrat.ml_stratifiers import MultilabelStratifiedShuffleSplit\n",
    "# from skmultilearn.model_selection.measures import get_combination_wise_output_matrix\n",
    "from skmultilearn.problem_transform import LabelPowerset\n",
    "from sklearn.multioutput import MultiOutputClassifier, ClassifierChain\n",
    "from sklearn.multiclass import OneVsRestClassifier\n",
    "from skmultilearn.adapt import MLkNN\n",
    "from sklearn.linear_model import LogisticRegression\n",
    "from sklearn.svm import LinearSVC\n",
    "from sklearn.naive_bayes import MultinomialNB\n",
    "from sklearn.ensemble import RandomForestClassifier\n",
    "from sklearn.utils.class_weight import compute_class_weight\n",
    "from sklearn.pipeline import Pipeline\n",
    "from sklearn.metrics import accuracy_score, f1_score, precision_score, recall_score, classification_report, roc_auc_score, hamming_loss, ConfusionMatrixDisplay, confusion_matrix, multilabel_confusion_matrix\n",
    "\n",
    "from sklearn.feature_extraction.text import CountVectorizer, TfidfVectorizer\n",
    "\n",
    "\n",
    "# Tensorflow\n",
    "import tensorflow as tf\n",
    "from tensorflow import keras\n",
    "from tensorflow.keras.layers import TextVectorization\n",
    "from tensorflow.keras.models import Sequential\n",
    "from tensorflow.keras.layers import LSTM, Dropout, Bidirectional, Dense, Embedding, GlobalMaxPool1D\n",
    "from tensorflow.keras.metrics import Precision, Recall, Accuracy, PrecisionAtRecall, AUC\n",
    "\n",
    "# from sklearnex import patch_sklearn\n",
    "# patch_sklearn()"
   ]
  },
  {
   "cell_type": "code",
   "execution_count": 33,
   "metadata": {},
   "outputs": [
    {
     "data": {
      "text/html": [
       "<div>\n",
       "<style scoped>\n",
       "    .dataframe tbody tr th:only-of-type {\n",
       "        vertical-align: middle;\n",
       "    }\n",
       "\n",
       "    .dataframe tbody tr th {\n",
       "        vertical-align: top;\n",
       "    }\n",
       "\n",
       "    .dataframe thead th {\n",
       "        text-align: right;\n",
       "    }\n",
       "</style>\n",
       "<table border=\"1\" class=\"dataframe\">\n",
       "  <thead>\n",
       "    <tr style=\"text-align: right;\">\n",
       "      <th></th>\n",
       "      <th>id</th>\n",
       "      <th>comment_text</th>\n",
       "      <th>toxic</th>\n",
       "      <th>severe_toxic</th>\n",
       "      <th>obscene</th>\n",
       "      <th>threat</th>\n",
       "      <th>insult</th>\n",
       "      <th>identity_hate</th>\n",
       "      <th>non_toxic</th>\n",
       "      <th>word_count</th>\n",
       "      <th>unique_word_count</th>\n",
       "      <th>upper_case_word_count</th>\n",
       "      <th>stop_word_count</th>\n",
       "      <th>punctuation_count</th>\n",
       "      <th>title_word_count</th>\n",
       "      <th>sentence_count</th>\n",
       "      <th>percent_unique_word_count</th>\n",
       "      <th>percent_upper_case_word_count</th>\n",
       "      <th>percent_punctuation_count</th>\n",
       "      <th>cleaned_comment_text</th>\n",
       "    </tr>\n",
       "  </thead>\n",
       "  <tbody>\n",
       "    <tr>\n",
       "      <th>0</th>\n",
       "      <td>0000997932d777bf</td>\n",
       "      <td>Explanation\\nWhy the edits made under my usern...</td>\n",
       "      <td>0</td>\n",
       "      <td>0</td>\n",
       "      <td>0</td>\n",
       "      <td>0</td>\n",
       "      <td>0</td>\n",
       "      <td>0</td>\n",
       "      <td>0</td>\n",
       "      <td>43</td>\n",
       "      <td>41</td>\n",
       "      <td>2</td>\n",
       "      <td>20</td>\n",
       "      <td>10</td>\n",
       "      <td>11</td>\n",
       "      <td>5</td>\n",
       "      <td>95.348837</td>\n",
       "      <td>4.651163</td>\n",
       "      <td>23.255814</td>\n",
       "      <td>explanation why the edit make under username h...</td>\n",
       "    </tr>\n",
       "    <tr>\n",
       "      <th>1</th>\n",
       "      <td>000103f0d9cfb60f</td>\n",
       "      <td>D'aww! He matches this background colour I'm s...</td>\n",
       "      <td>0</td>\n",
       "      <td>0</td>\n",
       "      <td>0</td>\n",
       "      <td>0</td>\n",
       "      <td>0</td>\n",
       "      <td>0</td>\n",
       "      <td>0</td>\n",
       "      <td>17</td>\n",
       "      <td>17</td>\n",
       "      <td>1</td>\n",
       "      <td>3</td>\n",
       "      <td>12</td>\n",
       "      <td>3</td>\n",
       "      <td>4</td>\n",
       "      <td>100.000000</td>\n",
       "      <td>5.882353</td>\n",
       "      <td>70.588235</td>\n",
       "      <td>aww match this background colour seemingly sti...</td>\n",
       "    </tr>\n",
       "    <tr>\n",
       "      <th>2</th>\n",
       "      <td>000113f07ec002fd</td>\n",
       "      <td>Hey man, I'm really not trying to edit war. It...</td>\n",
       "      <td>0</td>\n",
       "      <td>0</td>\n",
       "      <td>0</td>\n",
       "      <td>0</td>\n",
       "      <td>0</td>\n",
       "      <td>0</td>\n",
       "      <td>0</td>\n",
       "      <td>42</td>\n",
       "      <td>39</td>\n",
       "      <td>0</td>\n",
       "      <td>21</td>\n",
       "      <td>6</td>\n",
       "      <td>2</td>\n",
       "      <td>4</td>\n",
       "      <td>92.857143</td>\n",
       "      <td>0.000000</td>\n",
       "      <td>14.285714</td>\n",
       "      <td>hey man really not try edit war just that this...</td>\n",
       "    </tr>\n",
       "    <tr>\n",
       "      <th>3</th>\n",
       "      <td>0001b41b1c6bb37e</td>\n",
       "      <td>\"\\nMore\\nI can't make any real suggestions on ...</td>\n",
       "      <td>0</td>\n",
       "      <td>0</td>\n",
       "      <td>0</td>\n",
       "      <td>0</td>\n",
       "      <td>0</td>\n",
       "      <td>0</td>\n",
       "      <td>0</td>\n",
       "      <td>113</td>\n",
       "      <td>82</td>\n",
       "      <td>5</td>\n",
       "      <td>58</td>\n",
       "      <td>21</td>\n",
       "      <td>7</td>\n",
       "      <td>6</td>\n",
       "      <td>72.566372</td>\n",
       "      <td>4.424779</td>\n",
       "      <td>18.584071</td>\n",
       "      <td>more cannot make any real suggestions improvem...</td>\n",
       "    </tr>\n",
       "    <tr>\n",
       "      <th>4</th>\n",
       "      <td>0001d958c54c6e35</td>\n",
       "      <td>You, sir, are my hero. Any chance you remember...</td>\n",
       "      <td>0</td>\n",
       "      <td>0</td>\n",
       "      <td>0</td>\n",
       "      <td>0</td>\n",
       "      <td>0</td>\n",
       "      <td>0</td>\n",
       "      <td>0</td>\n",
       "      <td>13</td>\n",
       "      <td>13</td>\n",
       "      <td>0</td>\n",
       "      <td>6</td>\n",
       "      <td>5</td>\n",
       "      <td>2</td>\n",
       "      <td>3</td>\n",
       "      <td>100.000000</td>\n",
       "      <td>0.000000</td>\n",
       "      <td>38.461538</td>\n",
       "      <td>you sir hero any chance you remember what page...</td>\n",
       "    </tr>\n",
       "  </tbody>\n",
       "</table>\n",
       "</div>"
      ],
      "text/plain": [
       "                 id                                       comment_text  toxic  \\\n",
       "0  0000997932d777bf  Explanation\\nWhy the edits made under my usern...      0   \n",
       "1  000103f0d9cfb60f  D'aww! He matches this background colour I'm s...      0   \n",
       "2  000113f07ec002fd  Hey man, I'm really not trying to edit war. It...      0   \n",
       "3  0001b41b1c6bb37e  \"\\nMore\\nI can't make any real suggestions on ...      0   \n",
       "4  0001d958c54c6e35  You, sir, are my hero. Any chance you remember...      0   \n",
       "\n",
       "   severe_toxic  obscene  threat  insult  identity_hate  non_toxic  \\\n",
       "0             0        0       0       0              0          0   \n",
       "1             0        0       0       0              0          0   \n",
       "2             0        0       0       0              0          0   \n",
       "3             0        0       0       0              0          0   \n",
       "4             0        0       0       0              0          0   \n",
       "\n",
       "   word_count  unique_word_count  upper_case_word_count  stop_word_count  \\\n",
       "0          43                 41                      2               20   \n",
       "1          17                 17                      1                3   \n",
       "2          42                 39                      0               21   \n",
       "3         113                 82                      5               58   \n",
       "4          13                 13                      0                6   \n",
       "\n",
       "   punctuation_count  title_word_count  sentence_count  \\\n",
       "0                 10                11               5   \n",
       "1                 12                 3               4   \n",
       "2                  6                 2               4   \n",
       "3                 21                 7               6   \n",
       "4                  5                 2               3   \n",
       "\n",
       "   percent_unique_word_count  percent_upper_case_word_count  \\\n",
       "0                  95.348837                       4.651163   \n",
       "1                 100.000000                       5.882353   \n",
       "2                  92.857143                       0.000000   \n",
       "3                  72.566372                       4.424779   \n",
       "4                 100.000000                       0.000000   \n",
       "\n",
       "   percent_punctuation_count  \\\n",
       "0                  23.255814   \n",
       "1                  70.588235   \n",
       "2                  14.285714   \n",
       "3                  18.584071   \n",
       "4                  38.461538   \n",
       "\n",
       "                                cleaned_comment_text  \n",
       "0  explanation why the edit make under username h...  \n",
       "1  aww match this background colour seemingly sti...  \n",
       "2  hey man really not try edit war just that this...  \n",
       "3  more cannot make any real suggestions improvem...  \n",
       "4  you sir hero any chance you remember what page...  "
      ]
     },
     "execution_count": 33,
     "metadata": {},
     "output_type": "execute_result"
    }
   ],
   "source": [
    "# Read in the pickle file\n",
    "\n",
    "with open('../pickled_models/after_eda.pickle', 'rb') as f:\n",
    "    df_train = pickle.load(f)\n",
    "\n",
    "df_train.head()"
   ]
  },
  {
   "cell_type": "markdown",
   "metadata": {},
   "source": [
    "# Train test split"
   ]
  },
  {
   "cell_type": "code",
   "execution_count": 34,
   "metadata": {},
   "outputs": [],
   "source": [
    "# Taking a subset of the data for faster processing\n",
    "\n",
    "# df_train = df_train.sample(1000, random_state=42)"
   ]
  },
  {
   "cell_type": "code",
   "execution_count": 41,
   "metadata": {},
   "outputs": [
    {
     "name": "stdout",
     "output_type": "stream",
     "text": [
      "TRAIN: [     0      1      3 ... 159567 159568 159570] TEST: [     2      5      8 ... 159556 159562 159569]\n",
      "TRAIN: [     0      1      2 ... 159567 159569 159570] TEST: [     3      4     10 ... 159559 159565 159568]\n"
     ]
    }
   ],
   "source": [
    "# train test split\n",
    "\n",
    "features = [\"toxic\", \"severe_toxic\", \"obscene\", \"threat\", \"insult\", \"identity_hate\"]\n",
    "\n",
    "X = df_train[\"cleaned_comment_text\"].to_numpy()\n",
    "y = df_train[features].to_numpy()\n",
    "\n",
    "# X_train, y_train, X_test, y_test = iterative_train_test_split(\n",
    "#     X.values.reshape(-1, 1), y.values, test_size=0.3,\n",
    "# )\n",
    "\n",
    "msss = MultilabelStratifiedShuffleSplit(n_splits=2, test_size=0.3, random_state=42)\n",
    "\n",
    "for train_index, test_index in msss.split(X, y):\n",
    "   print(\"TRAIN:\", train_index, \"TEST:\", test_index)\n",
    "   X_train, X_test = X[train_index], X[test_index]\n",
    "   y_train, y_test = y[train_index], y[test_index]"
   ]
  },
  {
   "cell_type": "code",
   "execution_count": 43,
   "metadata": {},
   "outputs": [
    {
     "data": {
      "text/plain": [
       "(111699,)"
      ]
     },
     "metadata": {},
     "output_type": "display_data"
    },
    {
     "data": {
      "text/plain": [
       "(111699, 6)"
      ]
     },
     "metadata": {},
     "output_type": "display_data"
    },
    {
     "data": {
      "text/plain": [
       "(47872,)"
      ]
     },
     "metadata": {},
     "output_type": "display_data"
    },
    {
     "data": {
      "text/plain": [
       "(47872, 6)"
      ]
     },
     "metadata": {},
     "output_type": "display_data"
    }
   ],
   "source": [
    "display(X_train.shape, y_train.shape, X_test.shape, y_test.shape)"
   ]
  },
  {
   "cell_type": "markdown",
   "metadata": {},
   "source": [
    "# scikit-learn estimators that have multi-learning support built-in\n"
   ]
  },
  {
   "cell_type": "code",
   "execution_count": null,
   "metadata": {},
   "outputs": [],
   "source": [
    "from sklearn.neighbors import KNeighborsClassifier"
   ]
  },
  {
   "cell_type": "code",
   "execution_count": null,
   "metadata": {},
   "outputs": [],
   "source": [
    "pipe_n = Pipeline([\n",
    "    ('tfidf', TfidfVectorizer(stop_words=stop_words, ngram_range=(1,1), min_df=2, max_df=0.95)),\n",
    "    ('nn', KNeighborsClassifier(n_neighbors=3, n_jobs=-1)),\n",
    "])"
   ]
  },
  {
   "cell_type": "code",
   "execution_count": null,
   "metadata": {},
   "outputs": [
    {
     "data": {
      "text/html": [
       "<style>#sk-container-id-2 {color: black;background-color: white;}#sk-container-id-2 pre{padding: 0;}#sk-container-id-2 div.sk-toggleable {background-color: white;}#sk-container-id-2 label.sk-toggleable__label {cursor: pointer;display: block;width: 100%;margin-bottom: 0;padding: 0.3em;box-sizing: border-box;text-align: center;}#sk-container-id-2 label.sk-toggleable__label-arrow:before {content: \"▸\";float: left;margin-right: 0.25em;color: #696969;}#sk-container-id-2 label.sk-toggleable__label-arrow:hover:before {color: black;}#sk-container-id-2 div.sk-estimator:hover label.sk-toggleable__label-arrow:before {color: black;}#sk-container-id-2 div.sk-toggleable__content {max-height: 0;max-width: 0;overflow: hidden;text-align: left;background-color: #f0f8ff;}#sk-container-id-2 div.sk-toggleable__content pre {margin: 0.2em;color: black;border-radius: 0.25em;background-color: #f0f8ff;}#sk-container-id-2 input.sk-toggleable__control:checked~div.sk-toggleable__content {max-height: 200px;max-width: 100%;overflow: auto;}#sk-container-id-2 input.sk-toggleable__control:checked~label.sk-toggleable__label-arrow:before {content: \"▾\";}#sk-container-id-2 div.sk-estimator input.sk-toggleable__control:checked~label.sk-toggleable__label {background-color: #d4ebff;}#sk-container-id-2 div.sk-label input.sk-toggleable__control:checked~label.sk-toggleable__label {background-color: #d4ebff;}#sk-container-id-2 input.sk-hidden--visually {border: 0;clip: rect(1px 1px 1px 1px);clip: rect(1px, 1px, 1px, 1px);height: 1px;margin: -1px;overflow: hidden;padding: 0;position: absolute;width: 1px;}#sk-container-id-2 div.sk-estimator {font-family: monospace;background-color: #f0f8ff;border: 1px dotted black;border-radius: 0.25em;box-sizing: border-box;margin-bottom: 0.5em;}#sk-container-id-2 div.sk-estimator:hover {background-color: #d4ebff;}#sk-container-id-2 div.sk-parallel-item::after {content: \"\";width: 100%;border-bottom: 1px solid gray;flex-grow: 1;}#sk-container-id-2 div.sk-label:hover label.sk-toggleable__label {background-color: #d4ebff;}#sk-container-id-2 div.sk-serial::before {content: \"\";position: absolute;border-left: 1px solid gray;box-sizing: border-box;top: 0;bottom: 0;left: 50%;z-index: 0;}#sk-container-id-2 div.sk-serial {display: flex;flex-direction: column;align-items: center;background-color: white;padding-right: 0.2em;padding-left: 0.2em;position: relative;}#sk-container-id-2 div.sk-item {position: relative;z-index: 1;}#sk-container-id-2 div.sk-parallel {display: flex;align-items: stretch;justify-content: center;background-color: white;position: relative;}#sk-container-id-2 div.sk-item::before, #sk-container-id-2 div.sk-parallel-item::before {content: \"\";position: absolute;border-left: 1px solid gray;box-sizing: border-box;top: 0;bottom: 0;left: 50%;z-index: -1;}#sk-container-id-2 div.sk-parallel-item {display: flex;flex-direction: column;z-index: 1;position: relative;background-color: white;}#sk-container-id-2 div.sk-parallel-item:first-child::after {align-self: flex-end;width: 50%;}#sk-container-id-2 div.sk-parallel-item:last-child::after {align-self: flex-start;width: 50%;}#sk-container-id-2 div.sk-parallel-item:only-child::after {width: 0;}#sk-container-id-2 div.sk-dashed-wrapped {border: 1px dashed gray;margin: 0 0.4em 0.5em 0.4em;box-sizing: border-box;padding-bottom: 0.4em;background-color: white;}#sk-container-id-2 div.sk-label label {font-family: monospace;font-weight: bold;display: inline-block;line-height: 1.2em;}#sk-container-id-2 div.sk-label-container {text-align: center;}#sk-container-id-2 div.sk-container {/* jupyter's `normalize.less` sets `[hidden] { display: none; }` but bootstrap.min.css set `[hidden] { display: none !important; }` so we also need the `!important` here to be able to override the default hidden behavior on the sphinx rendered scikit-learn.org. See: https://github.com/scikit-learn/scikit-learn/issues/21755 */display: inline-block !important;position: relative;}#sk-container-id-2 div.sk-text-repr-fallback {display: none;}</style><div id=\"sk-container-id-2\" class=\"sk-top-container\"><div class=\"sk-text-repr-fallback\"><pre>Pipeline(steps=[(&#x27;tfidf&#x27;,\n",
       "                 TfidfVectorizer(max_df=0.95, min_df=2,\n",
       "                                 stop_words={&#x27;a&#x27;, &#x27;about&#x27;, &#x27;above&#x27;, &#x27;after&#x27;,\n",
       "                                             &#x27;again&#x27;, &#x27;against&#x27;, &#x27;ain&#x27;, &#x27;all&#x27;,\n",
       "                                             &#x27;am&#x27;, &#x27;an&#x27;, &#x27;and&#x27;, &#x27;any&#x27;, &#x27;are&#x27;,\n",
       "                                             &#x27;aren&#x27;, &quot;aren&#x27;t&quot;, &#x27;as&#x27;, &#x27;at&#x27;, &#x27;be&#x27;,\n",
       "                                             &#x27;because&#x27;, &#x27;been&#x27;, &#x27;before&#x27;,\n",
       "                                             &#x27;being&#x27;, &#x27;below&#x27;, &#x27;between&#x27;,\n",
       "                                             &#x27;both&#x27;, &#x27;but&#x27;, &#x27;by&#x27;, &#x27;can&#x27;,\n",
       "                                             &#x27;couldn&#x27;, &quot;couldn&#x27;t&quot;, ...})),\n",
       "                (&#x27;nn&#x27;, KNeighborsClassifier(n_jobs=-1, n_neighbors=3))])</pre><b>In a Jupyter environment, please rerun this cell to show the HTML representation or trust the notebook. <br />On GitHub, the HTML representation is unable to render, please try loading this page with nbviewer.org.</b></div><div class=\"sk-container\" hidden><div class=\"sk-item sk-dashed-wrapped\"><div class=\"sk-label-container\"><div class=\"sk-label sk-toggleable\"><input class=\"sk-toggleable__control sk-hidden--visually\" id=\"sk-estimator-id-4\" type=\"checkbox\" ><label for=\"sk-estimator-id-4\" class=\"sk-toggleable__label sk-toggleable__label-arrow\">Pipeline</label><div class=\"sk-toggleable__content\"><pre>Pipeline(steps=[(&#x27;tfidf&#x27;,\n",
       "                 TfidfVectorizer(max_df=0.95, min_df=2,\n",
       "                                 stop_words={&#x27;a&#x27;, &#x27;about&#x27;, &#x27;above&#x27;, &#x27;after&#x27;,\n",
       "                                             &#x27;again&#x27;, &#x27;against&#x27;, &#x27;ain&#x27;, &#x27;all&#x27;,\n",
       "                                             &#x27;am&#x27;, &#x27;an&#x27;, &#x27;and&#x27;, &#x27;any&#x27;, &#x27;are&#x27;,\n",
       "                                             &#x27;aren&#x27;, &quot;aren&#x27;t&quot;, &#x27;as&#x27;, &#x27;at&#x27;, &#x27;be&#x27;,\n",
       "                                             &#x27;because&#x27;, &#x27;been&#x27;, &#x27;before&#x27;,\n",
       "                                             &#x27;being&#x27;, &#x27;below&#x27;, &#x27;between&#x27;,\n",
       "                                             &#x27;both&#x27;, &#x27;but&#x27;, &#x27;by&#x27;, &#x27;can&#x27;,\n",
       "                                             &#x27;couldn&#x27;, &quot;couldn&#x27;t&quot;, ...})),\n",
       "                (&#x27;nn&#x27;, KNeighborsClassifier(n_jobs=-1, n_neighbors=3))])</pre></div></div></div><div class=\"sk-serial\"><div class=\"sk-item\"><div class=\"sk-estimator sk-toggleable\"><input class=\"sk-toggleable__control sk-hidden--visually\" id=\"sk-estimator-id-5\" type=\"checkbox\" ><label for=\"sk-estimator-id-5\" class=\"sk-toggleable__label sk-toggleable__label-arrow\">TfidfVectorizer</label><div class=\"sk-toggleable__content\"><pre>TfidfVectorizer(max_df=0.95, min_df=2,\n",
       "                stop_words={&#x27;a&#x27;, &#x27;about&#x27;, &#x27;above&#x27;, &#x27;after&#x27;, &#x27;again&#x27;, &#x27;against&#x27;,\n",
       "                            &#x27;ain&#x27;, &#x27;all&#x27;, &#x27;am&#x27;, &#x27;an&#x27;, &#x27;and&#x27;, &#x27;any&#x27;, &#x27;are&#x27;,\n",
       "                            &#x27;aren&#x27;, &quot;aren&#x27;t&quot;, &#x27;as&#x27;, &#x27;at&#x27;, &#x27;be&#x27;, &#x27;because&#x27;,\n",
       "                            &#x27;been&#x27;, &#x27;before&#x27;, &#x27;being&#x27;, &#x27;below&#x27;, &#x27;between&#x27;,\n",
       "                            &#x27;both&#x27;, &#x27;but&#x27;, &#x27;by&#x27;, &#x27;can&#x27;, &#x27;couldn&#x27;, &quot;couldn&#x27;t&quot;, ...})</pre></div></div></div><div class=\"sk-item\"><div class=\"sk-estimator sk-toggleable\"><input class=\"sk-toggleable__control sk-hidden--visually\" id=\"sk-estimator-id-6\" type=\"checkbox\" ><label for=\"sk-estimator-id-6\" class=\"sk-toggleable__label sk-toggleable__label-arrow\">KNeighborsClassifier</label><div class=\"sk-toggleable__content\"><pre>KNeighborsClassifier(n_jobs=-1, n_neighbors=3)</pre></div></div></div></div></div></div></div>"
      ],
      "text/plain": [
       "Pipeline(steps=[('tfidf',\n",
       "                 TfidfVectorizer(max_df=0.95, min_df=2,\n",
       "                                 stop_words={'a', 'about', 'above', 'after',\n",
       "                                             'again', 'against', 'ain', 'all',\n",
       "                                             'am', 'an', 'and', 'any', 'are',\n",
       "                                             'aren', \"aren't\", 'as', 'at', 'be',\n",
       "                                             'because', 'been', 'before',\n",
       "                                             'being', 'below', 'between',\n",
       "                                             'both', 'but', 'by', 'can',\n",
       "                                             'couldn', \"couldn't\", ...})),\n",
       "                ('nn', KNeighborsClassifier(n_jobs=-1, n_neighbors=3))])"
      ]
     },
     "metadata": {},
     "output_type": "display_data"
    }
   ],
   "source": [
    "pipe_n.fit(X_train.ravel(), y_train)"
   ]
  },
  {
   "cell_type": "code",
   "execution_count": null,
   "metadata": {},
   "outputs": [
    {
     "data": {
      "text/plain": [
       "0.9034926470588235"
      ]
     },
     "metadata": {},
     "output_type": "display_data"
    },
    {
     "data": {
      "text/plain": [
       "0.3694806215348379"
      ]
     },
     "metadata": {},
     "output_type": "display_data"
    }
   ],
   "source": [
    "y_pred = pipe_n.predict(X_test.ravel())\n",
    "display(accuracy_score(y_test, y_pred))\n",
    "display(f1_score(y_test, y_pred, average='weighted'))"
   ]
  },
  {
   "cell_type": "code",
   "execution_count": null,
   "metadata": {},
   "outputs": [],
   "source": [
    "from sklearn.ensemble import RandomForestClassifier"
   ]
  },
  {
   "cell_type": "code",
   "execution_count": null,
   "metadata": {},
   "outputs": [],
   "source": [
    "pipe_rf = Pipeline([\n",
    "    ('tfidf', TfidfVectorizer(stop_words=stop_words, ngram_range=(1,1), min_df=2, max_df=0.95)),\n",
    "    ('rf', RandomForestClassifier(random_state=42, max_depth=5, n_jobs=-1, class_weight='balanced')),\n",
    "])"
   ]
  },
  {
   "cell_type": "code",
   "execution_count": null,
   "metadata": {},
   "outputs": [
    {
     "data": {
      "text/html": [
       "<style>#sk-container-id-6 {color: black;background-color: white;}#sk-container-id-6 pre{padding: 0;}#sk-container-id-6 div.sk-toggleable {background-color: white;}#sk-container-id-6 label.sk-toggleable__label {cursor: pointer;display: block;width: 100%;margin-bottom: 0;padding: 0.3em;box-sizing: border-box;text-align: center;}#sk-container-id-6 label.sk-toggleable__label-arrow:before {content: \"▸\";float: left;margin-right: 0.25em;color: #696969;}#sk-container-id-6 label.sk-toggleable__label-arrow:hover:before {color: black;}#sk-container-id-6 div.sk-estimator:hover label.sk-toggleable__label-arrow:before {color: black;}#sk-container-id-6 div.sk-toggleable__content {max-height: 0;max-width: 0;overflow: hidden;text-align: left;background-color: #f0f8ff;}#sk-container-id-6 div.sk-toggleable__content pre {margin: 0.2em;color: black;border-radius: 0.25em;background-color: #f0f8ff;}#sk-container-id-6 input.sk-toggleable__control:checked~div.sk-toggleable__content {max-height: 200px;max-width: 100%;overflow: auto;}#sk-container-id-6 input.sk-toggleable__control:checked~label.sk-toggleable__label-arrow:before {content: \"▾\";}#sk-container-id-6 div.sk-estimator input.sk-toggleable__control:checked~label.sk-toggleable__label {background-color: #d4ebff;}#sk-container-id-6 div.sk-label input.sk-toggleable__control:checked~label.sk-toggleable__label {background-color: #d4ebff;}#sk-container-id-6 input.sk-hidden--visually {border: 0;clip: rect(1px 1px 1px 1px);clip: rect(1px, 1px, 1px, 1px);height: 1px;margin: -1px;overflow: hidden;padding: 0;position: absolute;width: 1px;}#sk-container-id-6 div.sk-estimator {font-family: monospace;background-color: #f0f8ff;border: 1px dotted black;border-radius: 0.25em;box-sizing: border-box;margin-bottom: 0.5em;}#sk-container-id-6 div.sk-estimator:hover {background-color: #d4ebff;}#sk-container-id-6 div.sk-parallel-item::after {content: \"\";width: 100%;border-bottom: 1px solid gray;flex-grow: 1;}#sk-container-id-6 div.sk-label:hover label.sk-toggleable__label {background-color: #d4ebff;}#sk-container-id-6 div.sk-serial::before {content: \"\";position: absolute;border-left: 1px solid gray;box-sizing: border-box;top: 0;bottom: 0;left: 50%;z-index: 0;}#sk-container-id-6 div.sk-serial {display: flex;flex-direction: column;align-items: center;background-color: white;padding-right: 0.2em;padding-left: 0.2em;position: relative;}#sk-container-id-6 div.sk-item {position: relative;z-index: 1;}#sk-container-id-6 div.sk-parallel {display: flex;align-items: stretch;justify-content: center;background-color: white;position: relative;}#sk-container-id-6 div.sk-item::before, #sk-container-id-6 div.sk-parallel-item::before {content: \"\";position: absolute;border-left: 1px solid gray;box-sizing: border-box;top: 0;bottom: 0;left: 50%;z-index: -1;}#sk-container-id-6 div.sk-parallel-item {display: flex;flex-direction: column;z-index: 1;position: relative;background-color: white;}#sk-container-id-6 div.sk-parallel-item:first-child::after {align-self: flex-end;width: 50%;}#sk-container-id-6 div.sk-parallel-item:last-child::after {align-self: flex-start;width: 50%;}#sk-container-id-6 div.sk-parallel-item:only-child::after {width: 0;}#sk-container-id-6 div.sk-dashed-wrapped {border: 1px dashed gray;margin: 0 0.4em 0.5em 0.4em;box-sizing: border-box;padding-bottom: 0.4em;background-color: white;}#sk-container-id-6 div.sk-label label {font-family: monospace;font-weight: bold;display: inline-block;line-height: 1.2em;}#sk-container-id-6 div.sk-label-container {text-align: center;}#sk-container-id-6 div.sk-container {/* jupyter's `normalize.less` sets `[hidden] { display: none; }` but bootstrap.min.css set `[hidden] { display: none !important; }` so we also need the `!important` here to be able to override the default hidden behavior on the sphinx rendered scikit-learn.org. See: https://github.com/scikit-learn/scikit-learn/issues/21755 */display: inline-block !important;position: relative;}#sk-container-id-6 div.sk-text-repr-fallback {display: none;}</style><div id=\"sk-container-id-6\" class=\"sk-top-container\"><div class=\"sk-text-repr-fallback\"><pre>Pipeline(steps=[(&#x27;tfidf&#x27;,\n",
       "                 TfidfVectorizer(max_df=0.95, min_df=2,\n",
       "                                 stop_words={&#x27;a&#x27;, &#x27;about&#x27;, &#x27;above&#x27;, &#x27;after&#x27;,\n",
       "                                             &#x27;again&#x27;, &#x27;against&#x27;, &#x27;ain&#x27;, &#x27;all&#x27;,\n",
       "                                             &#x27;am&#x27;, &#x27;an&#x27;, &#x27;and&#x27;, &#x27;any&#x27;, &#x27;are&#x27;,\n",
       "                                             &#x27;aren&#x27;, &quot;aren&#x27;t&quot;, &#x27;as&#x27;, &#x27;at&#x27;, &#x27;be&#x27;,\n",
       "                                             &#x27;because&#x27;, &#x27;been&#x27;, &#x27;before&#x27;,\n",
       "                                             &#x27;being&#x27;, &#x27;below&#x27;, &#x27;between&#x27;,\n",
       "                                             &#x27;both&#x27;, &#x27;but&#x27;, &#x27;by&#x27;, &#x27;can&#x27;,\n",
       "                                             &#x27;couldn&#x27;, &quot;couldn&#x27;t&quot;, ...})),\n",
       "                (&#x27;rf&#x27;,\n",
       "                 RandomForestClassifier(class_weight=&#x27;balanced&#x27;, max_depth=5,\n",
       "                                        n_jobs=-1, random_state=42))])</pre><b>In a Jupyter environment, please rerun this cell to show the HTML representation or trust the notebook. <br />On GitHub, the HTML representation is unable to render, please try loading this page with nbviewer.org.</b></div><div class=\"sk-container\" hidden><div class=\"sk-item sk-dashed-wrapped\"><div class=\"sk-label-container\"><div class=\"sk-label sk-toggleable\"><input class=\"sk-toggleable__control sk-hidden--visually\" id=\"sk-estimator-id-16\" type=\"checkbox\" ><label for=\"sk-estimator-id-16\" class=\"sk-toggleable__label sk-toggleable__label-arrow\">Pipeline</label><div class=\"sk-toggleable__content\"><pre>Pipeline(steps=[(&#x27;tfidf&#x27;,\n",
       "                 TfidfVectorizer(max_df=0.95, min_df=2,\n",
       "                                 stop_words={&#x27;a&#x27;, &#x27;about&#x27;, &#x27;above&#x27;, &#x27;after&#x27;,\n",
       "                                             &#x27;again&#x27;, &#x27;against&#x27;, &#x27;ain&#x27;, &#x27;all&#x27;,\n",
       "                                             &#x27;am&#x27;, &#x27;an&#x27;, &#x27;and&#x27;, &#x27;any&#x27;, &#x27;are&#x27;,\n",
       "                                             &#x27;aren&#x27;, &quot;aren&#x27;t&quot;, &#x27;as&#x27;, &#x27;at&#x27;, &#x27;be&#x27;,\n",
       "                                             &#x27;because&#x27;, &#x27;been&#x27;, &#x27;before&#x27;,\n",
       "                                             &#x27;being&#x27;, &#x27;below&#x27;, &#x27;between&#x27;,\n",
       "                                             &#x27;both&#x27;, &#x27;but&#x27;, &#x27;by&#x27;, &#x27;can&#x27;,\n",
       "                                             &#x27;couldn&#x27;, &quot;couldn&#x27;t&quot;, ...})),\n",
       "                (&#x27;rf&#x27;,\n",
       "                 RandomForestClassifier(class_weight=&#x27;balanced&#x27;, max_depth=5,\n",
       "                                        n_jobs=-1, random_state=42))])</pre></div></div></div><div class=\"sk-serial\"><div class=\"sk-item\"><div class=\"sk-estimator sk-toggleable\"><input class=\"sk-toggleable__control sk-hidden--visually\" id=\"sk-estimator-id-17\" type=\"checkbox\" ><label for=\"sk-estimator-id-17\" class=\"sk-toggleable__label sk-toggleable__label-arrow\">TfidfVectorizer</label><div class=\"sk-toggleable__content\"><pre>TfidfVectorizer(max_df=0.95, min_df=2,\n",
       "                stop_words={&#x27;a&#x27;, &#x27;about&#x27;, &#x27;above&#x27;, &#x27;after&#x27;, &#x27;again&#x27;, &#x27;against&#x27;,\n",
       "                            &#x27;ain&#x27;, &#x27;all&#x27;, &#x27;am&#x27;, &#x27;an&#x27;, &#x27;and&#x27;, &#x27;any&#x27;, &#x27;are&#x27;,\n",
       "                            &#x27;aren&#x27;, &quot;aren&#x27;t&quot;, &#x27;as&#x27;, &#x27;at&#x27;, &#x27;be&#x27;, &#x27;because&#x27;,\n",
       "                            &#x27;been&#x27;, &#x27;before&#x27;, &#x27;being&#x27;, &#x27;below&#x27;, &#x27;between&#x27;,\n",
       "                            &#x27;both&#x27;, &#x27;but&#x27;, &#x27;by&#x27;, &#x27;can&#x27;, &#x27;couldn&#x27;, &quot;couldn&#x27;t&quot;, ...})</pre></div></div></div><div class=\"sk-item\"><div class=\"sk-estimator sk-toggleable\"><input class=\"sk-toggleable__control sk-hidden--visually\" id=\"sk-estimator-id-18\" type=\"checkbox\" ><label for=\"sk-estimator-id-18\" class=\"sk-toggleable__label sk-toggleable__label-arrow\">RandomForestClassifier</label><div class=\"sk-toggleable__content\"><pre>RandomForestClassifier(class_weight=&#x27;balanced&#x27;, max_depth=5, n_jobs=-1,\n",
       "                       random_state=42)</pre></div></div></div></div></div></div></div>"
      ],
      "text/plain": [
       "Pipeline(steps=[('tfidf',\n",
       "                 TfidfVectorizer(max_df=0.95, min_df=2,\n",
       "                                 stop_words={'a', 'about', 'above', 'after',\n",
       "                                             'again', 'against', 'ain', 'all',\n",
       "                                             'am', 'an', 'and', 'any', 'are',\n",
       "                                             'aren', \"aren't\", 'as', 'at', 'be',\n",
       "                                             'because', 'been', 'before',\n",
       "                                             'being', 'below', 'between',\n",
       "                                             'both', 'but', 'by', 'can',\n",
       "                                             'couldn', \"couldn't\", ...})),\n",
       "                ('rf',\n",
       "                 RandomForestClassifier(class_weight='balanced', max_depth=5,\n",
       "                                        n_jobs=-1, random_state=42))])"
      ]
     },
     "metadata": {},
     "output_type": "display_data"
    }
   ],
   "source": [
    "pipe_rf.fit(X_train.ravel(), y_train)"
   ]
  },
  {
   "cell_type": "code",
   "execution_count": null,
   "metadata": {},
   "outputs": [
    {
     "data": {
      "text/plain": [
       "0.00027155748663101604"
      ]
     },
     "metadata": {},
     "output_type": "display_data"
    },
    {
     "data": {
      "text/plain": [
       "0.12319412825100758"
      ]
     },
     "metadata": {},
     "output_type": "display_data"
    }
   ],
   "source": [
    "y_pred = pipe_rf.predict(X_test.ravel())\n",
    "display(accuracy_score(y_test, y_pred))\n",
    "display(f1_score(y_test, y_pred, average='weighted'))"
   ]
  },
  {
   "cell_type": "markdown",
   "metadata": {},
   "source": [
    "# One vs rest classifier\n",
    "\n",
    "This classifier can also be used for multilabel classification."
   ]
  },
  {
   "cell_type": "code",
   "execution_count": 41,
   "metadata": {},
   "outputs": [
    {
     "data": {
      "text/html": [
       "<style>#sk-container-id-10 {color: black;background-color: white;}#sk-container-id-10 pre{padding: 0;}#sk-container-id-10 div.sk-toggleable {background-color: white;}#sk-container-id-10 label.sk-toggleable__label {cursor: pointer;display: block;width: 100%;margin-bottom: 0;padding: 0.3em;box-sizing: border-box;text-align: center;}#sk-container-id-10 label.sk-toggleable__label-arrow:before {content: \"▸\";float: left;margin-right: 0.25em;color: #696969;}#sk-container-id-10 label.sk-toggleable__label-arrow:hover:before {color: black;}#sk-container-id-10 div.sk-estimator:hover label.sk-toggleable__label-arrow:before {color: black;}#sk-container-id-10 div.sk-toggleable__content {max-height: 0;max-width: 0;overflow: hidden;text-align: left;background-color: #f0f8ff;}#sk-container-id-10 div.sk-toggleable__content pre {margin: 0.2em;color: black;border-radius: 0.25em;background-color: #f0f8ff;}#sk-container-id-10 input.sk-toggleable__control:checked~div.sk-toggleable__content {max-height: 200px;max-width: 100%;overflow: auto;}#sk-container-id-10 input.sk-toggleable__control:checked~label.sk-toggleable__label-arrow:before {content: \"▾\";}#sk-container-id-10 div.sk-estimator input.sk-toggleable__control:checked~label.sk-toggleable__label {background-color: #d4ebff;}#sk-container-id-10 div.sk-label input.sk-toggleable__control:checked~label.sk-toggleable__label {background-color: #d4ebff;}#sk-container-id-10 input.sk-hidden--visually {border: 0;clip: rect(1px 1px 1px 1px);clip: rect(1px, 1px, 1px, 1px);height: 1px;margin: -1px;overflow: hidden;padding: 0;position: absolute;width: 1px;}#sk-container-id-10 div.sk-estimator {font-family: monospace;background-color: #f0f8ff;border: 1px dotted black;border-radius: 0.25em;box-sizing: border-box;margin-bottom: 0.5em;}#sk-container-id-10 div.sk-estimator:hover {background-color: #d4ebff;}#sk-container-id-10 div.sk-parallel-item::after {content: \"\";width: 100%;border-bottom: 1px solid gray;flex-grow: 1;}#sk-container-id-10 div.sk-label:hover label.sk-toggleable__label {background-color: #d4ebff;}#sk-container-id-10 div.sk-serial::before {content: \"\";position: absolute;border-left: 1px solid gray;box-sizing: border-box;top: 0;bottom: 0;left: 50%;z-index: 0;}#sk-container-id-10 div.sk-serial {display: flex;flex-direction: column;align-items: center;background-color: white;padding-right: 0.2em;padding-left: 0.2em;position: relative;}#sk-container-id-10 div.sk-item {position: relative;z-index: 1;}#sk-container-id-10 div.sk-parallel {display: flex;align-items: stretch;justify-content: center;background-color: white;position: relative;}#sk-container-id-10 div.sk-item::before, #sk-container-id-10 div.sk-parallel-item::before {content: \"\";position: absolute;border-left: 1px solid gray;box-sizing: border-box;top: 0;bottom: 0;left: 50%;z-index: -1;}#sk-container-id-10 div.sk-parallel-item {display: flex;flex-direction: column;z-index: 1;position: relative;background-color: white;}#sk-container-id-10 div.sk-parallel-item:first-child::after {align-self: flex-end;width: 50%;}#sk-container-id-10 div.sk-parallel-item:last-child::after {align-self: flex-start;width: 50%;}#sk-container-id-10 div.sk-parallel-item:only-child::after {width: 0;}#sk-container-id-10 div.sk-dashed-wrapped {border: 1px dashed gray;margin: 0 0.4em 0.5em 0.4em;box-sizing: border-box;padding-bottom: 0.4em;background-color: white;}#sk-container-id-10 div.sk-label label {font-family: monospace;font-weight: bold;display: inline-block;line-height: 1.2em;}#sk-container-id-10 div.sk-label-container {text-align: center;}#sk-container-id-10 div.sk-container {/* jupyter's `normalize.less` sets `[hidden] { display: none; }` but bootstrap.min.css set `[hidden] { display: none !important; }` so we also need the `!important` here to be able to override the default hidden behavior on the sphinx rendered scikit-learn.org. See: https://github.com/scikit-learn/scikit-learn/issues/21755 */display: inline-block !important;position: relative;}#sk-container-id-10 div.sk-text-repr-fallback {display: none;}</style><div id=\"sk-container-id-10\" class=\"sk-top-container\"><div class=\"sk-text-repr-fallback\"><pre>Pipeline(steps=[(&#x27;tfidf&#x27;,\n",
       "                 TfidfVectorizer(max_df=0.95, min_df=2,\n",
       "                                 stop_words={&#x27;a&#x27;, &#x27;about&#x27;, &#x27;above&#x27;, &#x27;after&#x27;,\n",
       "                                             &#x27;again&#x27;, &#x27;against&#x27;, &#x27;ain&#x27;, &#x27;all&#x27;,\n",
       "                                             &#x27;am&#x27;, &#x27;an&#x27;, &#x27;and&#x27;, &#x27;any&#x27;, &#x27;are&#x27;,\n",
       "                                             &#x27;aren&#x27;, &quot;aren&#x27;t&quot;, &#x27;as&#x27;, &#x27;at&#x27;, &#x27;be&#x27;,\n",
       "                                             &#x27;because&#x27;, &#x27;been&#x27;, &#x27;before&#x27;,\n",
       "                                             &#x27;being&#x27;, &#x27;below&#x27;, &#x27;between&#x27;,\n",
       "                                             &#x27;both&#x27;, &#x27;but&#x27;, &#x27;by&#x27;, &#x27;can&#x27;,\n",
       "                                             &#x27;couldn&#x27;, &quot;couldn&#x27;t&quot;, ...})),\n",
       "                (&#x27;log&#x27;,\n",
       "                 OneVsRestClassifier(estimator=LogisticRegression(class_weight=&#x27;balanced&#x27;,\n",
       "                                                                  max_iter=10000),\n",
       "                                     n_jobs=-1))])</pre><b>In a Jupyter environment, please rerun this cell to show the HTML representation or trust the notebook. <br />On GitHub, the HTML representation is unable to render, please try loading this page with nbviewer.org.</b></div><div class=\"sk-container\" hidden><div class=\"sk-item sk-dashed-wrapped\"><div class=\"sk-label-container\"><div class=\"sk-label sk-toggleable\"><input class=\"sk-toggleable__control sk-hidden--visually\" id=\"sk-estimator-id-34\" type=\"checkbox\" ><label for=\"sk-estimator-id-34\" class=\"sk-toggleable__label sk-toggleable__label-arrow\">Pipeline</label><div class=\"sk-toggleable__content\"><pre>Pipeline(steps=[(&#x27;tfidf&#x27;,\n",
       "                 TfidfVectorizer(max_df=0.95, min_df=2,\n",
       "                                 stop_words={&#x27;a&#x27;, &#x27;about&#x27;, &#x27;above&#x27;, &#x27;after&#x27;,\n",
       "                                             &#x27;again&#x27;, &#x27;against&#x27;, &#x27;ain&#x27;, &#x27;all&#x27;,\n",
       "                                             &#x27;am&#x27;, &#x27;an&#x27;, &#x27;and&#x27;, &#x27;any&#x27;, &#x27;are&#x27;,\n",
       "                                             &#x27;aren&#x27;, &quot;aren&#x27;t&quot;, &#x27;as&#x27;, &#x27;at&#x27;, &#x27;be&#x27;,\n",
       "                                             &#x27;because&#x27;, &#x27;been&#x27;, &#x27;before&#x27;,\n",
       "                                             &#x27;being&#x27;, &#x27;below&#x27;, &#x27;between&#x27;,\n",
       "                                             &#x27;both&#x27;, &#x27;but&#x27;, &#x27;by&#x27;, &#x27;can&#x27;,\n",
       "                                             &#x27;couldn&#x27;, &quot;couldn&#x27;t&quot;, ...})),\n",
       "                (&#x27;log&#x27;,\n",
       "                 OneVsRestClassifier(estimator=LogisticRegression(class_weight=&#x27;balanced&#x27;,\n",
       "                                                                  max_iter=10000),\n",
       "                                     n_jobs=-1))])</pre></div></div></div><div class=\"sk-serial\"><div class=\"sk-item\"><div class=\"sk-estimator sk-toggleable\"><input class=\"sk-toggleable__control sk-hidden--visually\" id=\"sk-estimator-id-35\" type=\"checkbox\" ><label for=\"sk-estimator-id-35\" class=\"sk-toggleable__label sk-toggleable__label-arrow\">TfidfVectorizer</label><div class=\"sk-toggleable__content\"><pre>TfidfVectorizer(max_df=0.95, min_df=2,\n",
       "                stop_words={&#x27;a&#x27;, &#x27;about&#x27;, &#x27;above&#x27;, &#x27;after&#x27;, &#x27;again&#x27;, &#x27;against&#x27;,\n",
       "                            &#x27;ain&#x27;, &#x27;all&#x27;, &#x27;am&#x27;, &#x27;an&#x27;, &#x27;and&#x27;, &#x27;any&#x27;, &#x27;are&#x27;,\n",
       "                            &#x27;aren&#x27;, &quot;aren&#x27;t&quot;, &#x27;as&#x27;, &#x27;at&#x27;, &#x27;be&#x27;, &#x27;because&#x27;,\n",
       "                            &#x27;been&#x27;, &#x27;before&#x27;, &#x27;being&#x27;, &#x27;below&#x27;, &#x27;between&#x27;,\n",
       "                            &#x27;both&#x27;, &#x27;but&#x27;, &#x27;by&#x27;, &#x27;can&#x27;, &#x27;couldn&#x27;, &quot;couldn&#x27;t&quot;, ...})</pre></div></div></div><div class=\"sk-item sk-dashed-wrapped\"><div class=\"sk-label-container\"><div class=\"sk-label sk-toggleable\"><input class=\"sk-toggleable__control sk-hidden--visually\" id=\"sk-estimator-id-36\" type=\"checkbox\" ><label for=\"sk-estimator-id-36\" class=\"sk-toggleable__label sk-toggleable__label-arrow\">log: OneVsRestClassifier</label><div class=\"sk-toggleable__content\"><pre>OneVsRestClassifier(estimator=LogisticRegression(class_weight=&#x27;balanced&#x27;,\n",
       "                                                 max_iter=10000),\n",
       "                    n_jobs=-1)</pre></div></div></div><div class=\"sk-parallel\"><div class=\"sk-parallel-item\"><div class=\"sk-item\"><div class=\"sk-label-container\"><div class=\"sk-label sk-toggleable\"><input class=\"sk-toggleable__control sk-hidden--visually\" id=\"sk-estimator-id-37\" type=\"checkbox\" ><label for=\"sk-estimator-id-37\" class=\"sk-toggleable__label sk-toggleable__label-arrow\">estimator: LogisticRegression</label><div class=\"sk-toggleable__content\"><pre>LogisticRegression(class_weight=&#x27;balanced&#x27;, max_iter=10000)</pre></div></div></div><div class=\"sk-serial\"><div class=\"sk-item\"><div class=\"sk-estimator sk-toggleable\"><input class=\"sk-toggleable__control sk-hidden--visually\" id=\"sk-estimator-id-38\" type=\"checkbox\" ><label for=\"sk-estimator-id-38\" class=\"sk-toggleable__label sk-toggleable__label-arrow\">LogisticRegression</label><div class=\"sk-toggleable__content\"><pre>LogisticRegression(class_weight=&#x27;balanced&#x27;, max_iter=10000)</pre></div></div></div></div></div></div></div></div></div></div></div></div>"
      ],
      "text/plain": [
       "Pipeline(steps=[('tfidf',\n",
       "                 TfidfVectorizer(max_df=0.95, min_df=2,\n",
       "                                 stop_words={'a', 'about', 'above', 'after',\n",
       "                                             'again', 'against', 'ain', 'all',\n",
       "                                             'am', 'an', 'and', 'any', 'are',\n",
       "                                             'aren', \"aren't\", 'as', 'at', 'be',\n",
       "                                             'because', 'been', 'before',\n",
       "                                             'being', 'below', 'between',\n",
       "                                             'both', 'but', 'by', 'can',\n",
       "                                             'couldn', \"couldn't\", ...})),\n",
       "                ('log',\n",
       "                 OneVsRestClassifier(estimator=LogisticRegression(class_weight='balanced',\n",
       "                                                                  max_iter=10000),\n",
       "                                     n_jobs=-1))])"
      ]
     },
     "execution_count": 41,
     "metadata": {},
     "output_type": "execute_result"
    }
   ],
   "source": [
    "pipe_log = Pipeline([\n",
    "    ('tfidf', TfidfVectorizer(stop_words=stop_words, ngram_range=(1,1), min_df=2, max_df=0.95)),\n",
    "    ('log', OneVsRestClassifier(LogisticRegression(class_weight='balanced', max_iter=10_000), n_jobs=-1, )),\n",
    "])\n",
    "\n",
    "pipe_log.fit(X_train.ravel(), y_train)"
   ]
  },
  {
   "cell_type": "code",
   "execution_count": 42,
   "metadata": {},
   "outputs": [
    {
     "data": {
      "text/plain": [
       "0.874456885026738"
      ]
     },
     "metadata": {},
     "output_type": "display_data"
    },
    {
     "data": {
      "text/plain": [
       "0.6915746891123729"
      ]
     },
     "metadata": {},
     "output_type": "display_data"
    }
   ],
   "source": [
    "y_pred = pipe_log.predict(X_test.ravel())\n",
    "display(accuracy_score(y_test, y_pred))\n",
    "display(f1_score(y_test, y_pred, average='weighted'))"
   ]
  },
  {
   "cell_type": "code",
   "execution_count": 43,
   "metadata": {},
   "outputs": [
    {
     "data": {
      "text/html": [
       "<style>#sk-container-id-11 {color: black;background-color: white;}#sk-container-id-11 pre{padding: 0;}#sk-container-id-11 div.sk-toggleable {background-color: white;}#sk-container-id-11 label.sk-toggleable__label {cursor: pointer;display: block;width: 100%;margin-bottom: 0;padding: 0.3em;box-sizing: border-box;text-align: center;}#sk-container-id-11 label.sk-toggleable__label-arrow:before {content: \"▸\";float: left;margin-right: 0.25em;color: #696969;}#sk-container-id-11 label.sk-toggleable__label-arrow:hover:before {color: black;}#sk-container-id-11 div.sk-estimator:hover label.sk-toggleable__label-arrow:before {color: black;}#sk-container-id-11 div.sk-toggleable__content {max-height: 0;max-width: 0;overflow: hidden;text-align: left;background-color: #f0f8ff;}#sk-container-id-11 div.sk-toggleable__content pre {margin: 0.2em;color: black;border-radius: 0.25em;background-color: #f0f8ff;}#sk-container-id-11 input.sk-toggleable__control:checked~div.sk-toggleable__content {max-height: 200px;max-width: 100%;overflow: auto;}#sk-container-id-11 input.sk-toggleable__control:checked~label.sk-toggleable__label-arrow:before {content: \"▾\";}#sk-container-id-11 div.sk-estimator input.sk-toggleable__control:checked~label.sk-toggleable__label {background-color: #d4ebff;}#sk-container-id-11 div.sk-label input.sk-toggleable__control:checked~label.sk-toggleable__label {background-color: #d4ebff;}#sk-container-id-11 input.sk-hidden--visually {border: 0;clip: rect(1px 1px 1px 1px);clip: rect(1px, 1px, 1px, 1px);height: 1px;margin: -1px;overflow: hidden;padding: 0;position: absolute;width: 1px;}#sk-container-id-11 div.sk-estimator {font-family: monospace;background-color: #f0f8ff;border: 1px dotted black;border-radius: 0.25em;box-sizing: border-box;margin-bottom: 0.5em;}#sk-container-id-11 div.sk-estimator:hover {background-color: #d4ebff;}#sk-container-id-11 div.sk-parallel-item::after {content: \"\";width: 100%;border-bottom: 1px solid gray;flex-grow: 1;}#sk-container-id-11 div.sk-label:hover label.sk-toggleable__label {background-color: #d4ebff;}#sk-container-id-11 div.sk-serial::before {content: \"\";position: absolute;border-left: 1px solid gray;box-sizing: border-box;top: 0;bottom: 0;left: 50%;z-index: 0;}#sk-container-id-11 div.sk-serial {display: flex;flex-direction: column;align-items: center;background-color: white;padding-right: 0.2em;padding-left: 0.2em;position: relative;}#sk-container-id-11 div.sk-item {position: relative;z-index: 1;}#sk-container-id-11 div.sk-parallel {display: flex;align-items: stretch;justify-content: center;background-color: white;position: relative;}#sk-container-id-11 div.sk-item::before, #sk-container-id-11 div.sk-parallel-item::before {content: \"\";position: absolute;border-left: 1px solid gray;box-sizing: border-box;top: 0;bottom: 0;left: 50%;z-index: -1;}#sk-container-id-11 div.sk-parallel-item {display: flex;flex-direction: column;z-index: 1;position: relative;background-color: white;}#sk-container-id-11 div.sk-parallel-item:first-child::after {align-self: flex-end;width: 50%;}#sk-container-id-11 div.sk-parallel-item:last-child::after {align-self: flex-start;width: 50%;}#sk-container-id-11 div.sk-parallel-item:only-child::after {width: 0;}#sk-container-id-11 div.sk-dashed-wrapped {border: 1px dashed gray;margin: 0 0.4em 0.5em 0.4em;box-sizing: border-box;padding-bottom: 0.4em;background-color: white;}#sk-container-id-11 div.sk-label label {font-family: monospace;font-weight: bold;display: inline-block;line-height: 1.2em;}#sk-container-id-11 div.sk-label-container {text-align: center;}#sk-container-id-11 div.sk-container {/* jupyter's `normalize.less` sets `[hidden] { display: none; }` but bootstrap.min.css set `[hidden] { display: none !important; }` so we also need the `!important` here to be able to override the default hidden behavior on the sphinx rendered scikit-learn.org. See: https://github.com/scikit-learn/scikit-learn/issues/21755 */display: inline-block !important;position: relative;}#sk-container-id-11 div.sk-text-repr-fallback {display: none;}</style><div id=\"sk-container-id-11\" class=\"sk-top-container\"><div class=\"sk-text-repr-fallback\"><pre>Pipeline(steps=[(&#x27;tfidf&#x27;,\n",
       "                 TfidfVectorizer(max_df=0.95, min_df=2,\n",
       "                                 stop_words={&#x27;a&#x27;, &#x27;about&#x27;, &#x27;above&#x27;, &#x27;after&#x27;,\n",
       "                                             &#x27;again&#x27;, &#x27;against&#x27;, &#x27;ain&#x27;, &#x27;all&#x27;,\n",
       "                                             &#x27;am&#x27;, &#x27;an&#x27;, &#x27;and&#x27;, &#x27;any&#x27;, &#x27;are&#x27;,\n",
       "                                             &#x27;aren&#x27;, &quot;aren&#x27;t&quot;, &#x27;as&#x27;, &#x27;at&#x27;, &#x27;be&#x27;,\n",
       "                                             &#x27;because&#x27;, &#x27;been&#x27;, &#x27;before&#x27;,\n",
       "                                             &#x27;being&#x27;, &#x27;below&#x27;, &#x27;between&#x27;,\n",
       "                                             &#x27;both&#x27;, &#x27;but&#x27;, &#x27;by&#x27;, &#x27;can&#x27;,\n",
       "                                             &#x27;couldn&#x27;, &quot;couldn&#x27;t&quot;, ...})),\n",
       "                (&#x27;mnb&#x27;,\n",
       "                 OneVsRestClassifier(estimator=MultinomialNB(), n_jobs=-1))])</pre><b>In a Jupyter environment, please rerun this cell to show the HTML representation or trust the notebook. <br />On GitHub, the HTML representation is unable to render, please try loading this page with nbviewer.org.</b></div><div class=\"sk-container\" hidden><div class=\"sk-item sk-dashed-wrapped\"><div class=\"sk-label-container\"><div class=\"sk-label sk-toggleable\"><input class=\"sk-toggleable__control sk-hidden--visually\" id=\"sk-estimator-id-39\" type=\"checkbox\" ><label for=\"sk-estimator-id-39\" class=\"sk-toggleable__label sk-toggleable__label-arrow\">Pipeline</label><div class=\"sk-toggleable__content\"><pre>Pipeline(steps=[(&#x27;tfidf&#x27;,\n",
       "                 TfidfVectorizer(max_df=0.95, min_df=2,\n",
       "                                 stop_words={&#x27;a&#x27;, &#x27;about&#x27;, &#x27;above&#x27;, &#x27;after&#x27;,\n",
       "                                             &#x27;again&#x27;, &#x27;against&#x27;, &#x27;ain&#x27;, &#x27;all&#x27;,\n",
       "                                             &#x27;am&#x27;, &#x27;an&#x27;, &#x27;and&#x27;, &#x27;any&#x27;, &#x27;are&#x27;,\n",
       "                                             &#x27;aren&#x27;, &quot;aren&#x27;t&quot;, &#x27;as&#x27;, &#x27;at&#x27;, &#x27;be&#x27;,\n",
       "                                             &#x27;because&#x27;, &#x27;been&#x27;, &#x27;before&#x27;,\n",
       "                                             &#x27;being&#x27;, &#x27;below&#x27;, &#x27;between&#x27;,\n",
       "                                             &#x27;both&#x27;, &#x27;but&#x27;, &#x27;by&#x27;, &#x27;can&#x27;,\n",
       "                                             &#x27;couldn&#x27;, &quot;couldn&#x27;t&quot;, ...})),\n",
       "                (&#x27;mnb&#x27;,\n",
       "                 OneVsRestClassifier(estimator=MultinomialNB(), n_jobs=-1))])</pre></div></div></div><div class=\"sk-serial\"><div class=\"sk-item\"><div class=\"sk-estimator sk-toggleable\"><input class=\"sk-toggleable__control sk-hidden--visually\" id=\"sk-estimator-id-40\" type=\"checkbox\" ><label for=\"sk-estimator-id-40\" class=\"sk-toggleable__label sk-toggleable__label-arrow\">TfidfVectorizer</label><div class=\"sk-toggleable__content\"><pre>TfidfVectorizer(max_df=0.95, min_df=2,\n",
       "                stop_words={&#x27;a&#x27;, &#x27;about&#x27;, &#x27;above&#x27;, &#x27;after&#x27;, &#x27;again&#x27;, &#x27;against&#x27;,\n",
       "                            &#x27;ain&#x27;, &#x27;all&#x27;, &#x27;am&#x27;, &#x27;an&#x27;, &#x27;and&#x27;, &#x27;any&#x27;, &#x27;are&#x27;,\n",
       "                            &#x27;aren&#x27;, &quot;aren&#x27;t&quot;, &#x27;as&#x27;, &#x27;at&#x27;, &#x27;be&#x27;, &#x27;because&#x27;,\n",
       "                            &#x27;been&#x27;, &#x27;before&#x27;, &#x27;being&#x27;, &#x27;below&#x27;, &#x27;between&#x27;,\n",
       "                            &#x27;both&#x27;, &#x27;but&#x27;, &#x27;by&#x27;, &#x27;can&#x27;, &#x27;couldn&#x27;, &quot;couldn&#x27;t&quot;, ...})</pre></div></div></div><div class=\"sk-item sk-dashed-wrapped\"><div class=\"sk-label-container\"><div class=\"sk-label sk-toggleable\"><input class=\"sk-toggleable__control sk-hidden--visually\" id=\"sk-estimator-id-41\" type=\"checkbox\" ><label for=\"sk-estimator-id-41\" class=\"sk-toggleable__label sk-toggleable__label-arrow\">mnb: OneVsRestClassifier</label><div class=\"sk-toggleable__content\"><pre>OneVsRestClassifier(estimator=MultinomialNB(), n_jobs=-1)</pre></div></div></div><div class=\"sk-parallel\"><div class=\"sk-parallel-item\"><div class=\"sk-item\"><div class=\"sk-label-container\"><div class=\"sk-label sk-toggleable\"><input class=\"sk-toggleable__control sk-hidden--visually\" id=\"sk-estimator-id-42\" type=\"checkbox\" ><label for=\"sk-estimator-id-42\" class=\"sk-toggleable__label sk-toggleable__label-arrow\">estimator: MultinomialNB</label><div class=\"sk-toggleable__content\"><pre>MultinomialNB()</pre></div></div></div><div class=\"sk-serial\"><div class=\"sk-item\"><div class=\"sk-estimator sk-toggleable\"><input class=\"sk-toggleable__control sk-hidden--visually\" id=\"sk-estimator-id-43\" type=\"checkbox\" ><label for=\"sk-estimator-id-43\" class=\"sk-toggleable__label sk-toggleable__label-arrow\">MultinomialNB</label><div class=\"sk-toggleable__content\"><pre>MultinomialNB()</pre></div></div></div></div></div></div></div></div></div></div></div></div>"
      ],
      "text/plain": [
       "Pipeline(steps=[('tfidf',\n",
       "                 TfidfVectorizer(max_df=0.95, min_df=2,\n",
       "                                 stop_words={'a', 'about', 'above', 'after',\n",
       "                                             'again', 'against', 'ain', 'all',\n",
       "                                             'am', 'an', 'and', 'any', 'are',\n",
       "                                             'aren', \"aren't\", 'as', 'at', 'be',\n",
       "                                             'because', 'been', 'before',\n",
       "                                             'being', 'below', 'between',\n",
       "                                             'both', 'but', 'by', 'can',\n",
       "                                             'couldn', \"couldn't\", ...})),\n",
       "                ('mnb',\n",
       "                 OneVsRestClassifier(estimator=MultinomialNB(), n_jobs=-1))])"
      ]
     },
     "execution_count": 43,
     "metadata": {},
     "output_type": "execute_result"
    }
   ],
   "source": [
    "pipe_nb = Pipeline([\n",
    "    ('tfidf', TfidfVectorizer(stop_words=stop_words, ngram_range=(1,1), min_df=2, max_df=0.95)),\n",
    "    ('mnb', OneVsRestClassifier(MultinomialNB(), n_jobs=-1)),\n",
    "])\n",
    "\n",
    "pipe_nb.fit(X_train.ravel(), y_train)"
   ]
  },
  {
   "cell_type": "code",
   "execution_count": 44,
   "metadata": {},
   "outputs": [
    {
     "data": {
      "text/plain": [
       "0.903555314171123"
      ]
     },
     "metadata": {},
     "output_type": "display_data"
    },
    {
     "data": {
      "text/plain": [
       "0.37037938011539645"
      ]
     },
     "metadata": {},
     "output_type": "display_data"
    }
   ],
   "source": [
    "y_pred = pipe_nb.predict(X_test.ravel())\n",
    "display(accuracy_score(y_test, y_pred))\n",
    "display(f1_score(y_test, y_pred, average='weighted'))"
   ]
  },
  {
   "cell_type": "code",
   "execution_count": 45,
   "metadata": {},
   "outputs": [],
   "source": [
    "# Pipeline\n",
    "\n",
    "pipe_svc = Pipeline([\n",
    "    ('tfidf', TfidfVectorizer(stop_words=stop_words, ngram_range=(1,1), min_df=2, max_df=0.95)),\n",
    "    ('svc', OneVsRestClassifier(LinearSVC(class_weight='balanced', max_iter=10_000))),\n",
    "])"
   ]
  },
  {
   "cell_type": "code",
   "execution_count": 46,
   "metadata": {},
   "outputs": [
    {
     "data": {
      "text/html": [
       "<style>#sk-container-id-12 {color: black;background-color: white;}#sk-container-id-12 pre{padding: 0;}#sk-container-id-12 div.sk-toggleable {background-color: white;}#sk-container-id-12 label.sk-toggleable__label {cursor: pointer;display: block;width: 100%;margin-bottom: 0;padding: 0.3em;box-sizing: border-box;text-align: center;}#sk-container-id-12 label.sk-toggleable__label-arrow:before {content: \"▸\";float: left;margin-right: 0.25em;color: #696969;}#sk-container-id-12 label.sk-toggleable__label-arrow:hover:before {color: black;}#sk-container-id-12 div.sk-estimator:hover label.sk-toggleable__label-arrow:before {color: black;}#sk-container-id-12 div.sk-toggleable__content {max-height: 0;max-width: 0;overflow: hidden;text-align: left;background-color: #f0f8ff;}#sk-container-id-12 div.sk-toggleable__content pre {margin: 0.2em;color: black;border-radius: 0.25em;background-color: #f0f8ff;}#sk-container-id-12 input.sk-toggleable__control:checked~div.sk-toggleable__content {max-height: 200px;max-width: 100%;overflow: auto;}#sk-container-id-12 input.sk-toggleable__control:checked~label.sk-toggleable__label-arrow:before {content: \"▾\";}#sk-container-id-12 div.sk-estimator input.sk-toggleable__control:checked~label.sk-toggleable__label {background-color: #d4ebff;}#sk-container-id-12 div.sk-label input.sk-toggleable__control:checked~label.sk-toggleable__label {background-color: #d4ebff;}#sk-container-id-12 input.sk-hidden--visually {border: 0;clip: rect(1px 1px 1px 1px);clip: rect(1px, 1px, 1px, 1px);height: 1px;margin: -1px;overflow: hidden;padding: 0;position: absolute;width: 1px;}#sk-container-id-12 div.sk-estimator {font-family: monospace;background-color: #f0f8ff;border: 1px dotted black;border-radius: 0.25em;box-sizing: border-box;margin-bottom: 0.5em;}#sk-container-id-12 div.sk-estimator:hover {background-color: #d4ebff;}#sk-container-id-12 div.sk-parallel-item::after {content: \"\";width: 100%;border-bottom: 1px solid gray;flex-grow: 1;}#sk-container-id-12 div.sk-label:hover label.sk-toggleable__label {background-color: #d4ebff;}#sk-container-id-12 div.sk-serial::before {content: \"\";position: absolute;border-left: 1px solid gray;box-sizing: border-box;top: 0;bottom: 0;left: 50%;z-index: 0;}#sk-container-id-12 div.sk-serial {display: flex;flex-direction: column;align-items: center;background-color: white;padding-right: 0.2em;padding-left: 0.2em;position: relative;}#sk-container-id-12 div.sk-item {position: relative;z-index: 1;}#sk-container-id-12 div.sk-parallel {display: flex;align-items: stretch;justify-content: center;background-color: white;position: relative;}#sk-container-id-12 div.sk-item::before, #sk-container-id-12 div.sk-parallel-item::before {content: \"\";position: absolute;border-left: 1px solid gray;box-sizing: border-box;top: 0;bottom: 0;left: 50%;z-index: -1;}#sk-container-id-12 div.sk-parallel-item {display: flex;flex-direction: column;z-index: 1;position: relative;background-color: white;}#sk-container-id-12 div.sk-parallel-item:first-child::after {align-self: flex-end;width: 50%;}#sk-container-id-12 div.sk-parallel-item:last-child::after {align-self: flex-start;width: 50%;}#sk-container-id-12 div.sk-parallel-item:only-child::after {width: 0;}#sk-container-id-12 div.sk-dashed-wrapped {border: 1px dashed gray;margin: 0 0.4em 0.5em 0.4em;box-sizing: border-box;padding-bottom: 0.4em;background-color: white;}#sk-container-id-12 div.sk-label label {font-family: monospace;font-weight: bold;display: inline-block;line-height: 1.2em;}#sk-container-id-12 div.sk-label-container {text-align: center;}#sk-container-id-12 div.sk-container {/* jupyter's `normalize.less` sets `[hidden] { display: none; }` but bootstrap.min.css set `[hidden] { display: none !important; }` so we also need the `!important` here to be able to override the default hidden behavior on the sphinx rendered scikit-learn.org. See: https://github.com/scikit-learn/scikit-learn/issues/21755 */display: inline-block !important;position: relative;}#sk-container-id-12 div.sk-text-repr-fallback {display: none;}</style><div id=\"sk-container-id-12\" class=\"sk-top-container\"><div class=\"sk-text-repr-fallback\"><pre>Pipeline(steps=[(&#x27;tfidf&#x27;,\n",
       "                 TfidfVectorizer(max_df=0.95, min_df=2,\n",
       "                                 stop_words={&#x27;a&#x27;, &#x27;about&#x27;, &#x27;above&#x27;, &#x27;after&#x27;,\n",
       "                                             &#x27;again&#x27;, &#x27;against&#x27;, &#x27;ain&#x27;, &#x27;all&#x27;,\n",
       "                                             &#x27;am&#x27;, &#x27;an&#x27;, &#x27;and&#x27;, &#x27;any&#x27;, &#x27;are&#x27;,\n",
       "                                             &#x27;aren&#x27;, &quot;aren&#x27;t&quot;, &#x27;as&#x27;, &#x27;at&#x27;, &#x27;be&#x27;,\n",
       "                                             &#x27;because&#x27;, &#x27;been&#x27;, &#x27;before&#x27;,\n",
       "                                             &#x27;being&#x27;, &#x27;below&#x27;, &#x27;between&#x27;,\n",
       "                                             &#x27;both&#x27;, &#x27;but&#x27;, &#x27;by&#x27;, &#x27;can&#x27;,\n",
       "                                             &#x27;couldn&#x27;, &quot;couldn&#x27;t&quot;, ...})),\n",
       "                (&#x27;svc&#x27;,\n",
       "                 OneVsRestClassifier(estimator=LinearSVC(class_weight=&#x27;balanced&#x27;,\n",
       "                                                         max_iter=10000)))])</pre><b>In a Jupyter environment, please rerun this cell to show the HTML representation or trust the notebook. <br />On GitHub, the HTML representation is unable to render, please try loading this page with nbviewer.org.</b></div><div class=\"sk-container\" hidden><div class=\"sk-item sk-dashed-wrapped\"><div class=\"sk-label-container\"><div class=\"sk-label sk-toggleable\"><input class=\"sk-toggleable__control sk-hidden--visually\" id=\"sk-estimator-id-44\" type=\"checkbox\" ><label for=\"sk-estimator-id-44\" class=\"sk-toggleable__label sk-toggleable__label-arrow\">Pipeline</label><div class=\"sk-toggleable__content\"><pre>Pipeline(steps=[(&#x27;tfidf&#x27;,\n",
       "                 TfidfVectorizer(max_df=0.95, min_df=2,\n",
       "                                 stop_words={&#x27;a&#x27;, &#x27;about&#x27;, &#x27;above&#x27;, &#x27;after&#x27;,\n",
       "                                             &#x27;again&#x27;, &#x27;against&#x27;, &#x27;ain&#x27;, &#x27;all&#x27;,\n",
       "                                             &#x27;am&#x27;, &#x27;an&#x27;, &#x27;and&#x27;, &#x27;any&#x27;, &#x27;are&#x27;,\n",
       "                                             &#x27;aren&#x27;, &quot;aren&#x27;t&quot;, &#x27;as&#x27;, &#x27;at&#x27;, &#x27;be&#x27;,\n",
       "                                             &#x27;because&#x27;, &#x27;been&#x27;, &#x27;before&#x27;,\n",
       "                                             &#x27;being&#x27;, &#x27;below&#x27;, &#x27;between&#x27;,\n",
       "                                             &#x27;both&#x27;, &#x27;but&#x27;, &#x27;by&#x27;, &#x27;can&#x27;,\n",
       "                                             &#x27;couldn&#x27;, &quot;couldn&#x27;t&quot;, ...})),\n",
       "                (&#x27;svc&#x27;,\n",
       "                 OneVsRestClassifier(estimator=LinearSVC(class_weight=&#x27;balanced&#x27;,\n",
       "                                                         max_iter=10000)))])</pre></div></div></div><div class=\"sk-serial\"><div class=\"sk-item\"><div class=\"sk-estimator sk-toggleable\"><input class=\"sk-toggleable__control sk-hidden--visually\" id=\"sk-estimator-id-45\" type=\"checkbox\" ><label for=\"sk-estimator-id-45\" class=\"sk-toggleable__label sk-toggleable__label-arrow\">TfidfVectorizer</label><div class=\"sk-toggleable__content\"><pre>TfidfVectorizer(max_df=0.95, min_df=2,\n",
       "                stop_words={&#x27;a&#x27;, &#x27;about&#x27;, &#x27;above&#x27;, &#x27;after&#x27;, &#x27;again&#x27;, &#x27;against&#x27;,\n",
       "                            &#x27;ain&#x27;, &#x27;all&#x27;, &#x27;am&#x27;, &#x27;an&#x27;, &#x27;and&#x27;, &#x27;any&#x27;, &#x27;are&#x27;,\n",
       "                            &#x27;aren&#x27;, &quot;aren&#x27;t&quot;, &#x27;as&#x27;, &#x27;at&#x27;, &#x27;be&#x27;, &#x27;because&#x27;,\n",
       "                            &#x27;been&#x27;, &#x27;before&#x27;, &#x27;being&#x27;, &#x27;below&#x27;, &#x27;between&#x27;,\n",
       "                            &#x27;both&#x27;, &#x27;but&#x27;, &#x27;by&#x27;, &#x27;can&#x27;, &#x27;couldn&#x27;, &quot;couldn&#x27;t&quot;, ...})</pre></div></div></div><div class=\"sk-item sk-dashed-wrapped\"><div class=\"sk-label-container\"><div class=\"sk-label sk-toggleable\"><input class=\"sk-toggleable__control sk-hidden--visually\" id=\"sk-estimator-id-46\" type=\"checkbox\" ><label for=\"sk-estimator-id-46\" class=\"sk-toggleable__label sk-toggleable__label-arrow\">svc: OneVsRestClassifier</label><div class=\"sk-toggleable__content\"><pre>OneVsRestClassifier(estimator=LinearSVC(class_weight=&#x27;balanced&#x27;,\n",
       "                                        max_iter=10000))</pre></div></div></div><div class=\"sk-parallel\"><div class=\"sk-parallel-item\"><div class=\"sk-item\"><div class=\"sk-label-container\"><div class=\"sk-label sk-toggleable\"><input class=\"sk-toggleable__control sk-hidden--visually\" id=\"sk-estimator-id-47\" type=\"checkbox\" ><label for=\"sk-estimator-id-47\" class=\"sk-toggleable__label sk-toggleable__label-arrow\">estimator: LinearSVC</label><div class=\"sk-toggleable__content\"><pre>LinearSVC(class_weight=&#x27;balanced&#x27;, max_iter=10000)</pre></div></div></div><div class=\"sk-serial\"><div class=\"sk-item\"><div class=\"sk-estimator sk-toggleable\"><input class=\"sk-toggleable__control sk-hidden--visually\" id=\"sk-estimator-id-48\" type=\"checkbox\" ><label for=\"sk-estimator-id-48\" class=\"sk-toggleable__label sk-toggleable__label-arrow\">LinearSVC</label><div class=\"sk-toggleable__content\"><pre>LinearSVC(class_weight=&#x27;balanced&#x27;, max_iter=10000)</pre></div></div></div></div></div></div></div></div></div></div></div></div>"
      ],
      "text/plain": [
       "Pipeline(steps=[('tfidf',\n",
       "                 TfidfVectorizer(max_df=0.95, min_df=2,\n",
       "                                 stop_words={'a', 'about', 'above', 'after',\n",
       "                                             'again', 'against', 'ain', 'all',\n",
       "                                             'am', 'an', 'and', 'any', 'are',\n",
       "                                             'aren', \"aren't\", 'as', 'at', 'be',\n",
       "                                             'because', 'been', 'before',\n",
       "                                             'being', 'below', 'between',\n",
       "                                             'both', 'but', 'by', 'can',\n",
       "                                             'couldn', \"couldn't\", ...})),\n",
       "                ('svc',\n",
       "                 OneVsRestClassifier(estimator=LinearSVC(class_weight='balanced',\n",
       "                                                         max_iter=10000)))])"
      ]
     },
     "execution_count": 46,
     "metadata": {},
     "output_type": "execute_result"
    }
   ],
   "source": [
    "pipe_svc.fit(X_train.ravel(), y_train)"
   ]
  },
  {
   "cell_type": "code",
   "execution_count": 48,
   "metadata": {},
   "outputs": [
    {
     "data": {
      "text/plain": [
       "0.8818098262032086"
      ]
     },
     "metadata": {},
     "output_type": "display_data"
    },
    {
     "data": {
      "text/plain": [
       "0.6911559534288386"
      ]
     },
     "metadata": {},
     "output_type": "display_data"
    }
   ],
   "source": [
    "y_pred = pipe_svc.predict(X_test.ravel())\n",
    "display(accuracy_score(y_test, y_pred))\n",
    "display(f1_score(y_test, y_pred, average='weighted'))"
   ]
  },
  {
   "cell_type": "code",
   "execution_count": 60,
   "metadata": {},
   "outputs": [
    {
     "data": {
      "text/plain": [
       "array([[[43250,    34],\n",
       "        [ 3090,  1498]],\n",
       "\n",
       "       [[47393,     0],\n",
       "        [  479,     0]],\n",
       "\n",
       "       [[45321,    16],\n",
       "        [ 1884,   651]],\n",
       "\n",
       "       [[47729,     0],\n",
       "        [  143,     0]],\n",
       "\n",
       "       [[45473,    36],\n",
       "        [ 2006,   357]],\n",
       "\n",
       "       [[47450,     0],\n",
       "        [  422,     0]]])"
      ]
     },
     "execution_count": 60,
     "metadata": {},
     "output_type": "execute_result"
    }
   ],
   "source": [
    "multilabel_confusion_matrix(y_test, y_pred)"
   ]
  },
  {
   "cell_type": "markdown",
   "metadata": {},
   "source": [
    "# Multioutput classifier"
   ]
  },
  {
   "cell_type": "code",
   "execution_count": 50,
   "metadata": {},
   "outputs": [
    {
     "data": {
      "text/html": [
       "<style>#sk-container-id-13 {color: black;background-color: white;}#sk-container-id-13 pre{padding: 0;}#sk-container-id-13 div.sk-toggleable {background-color: white;}#sk-container-id-13 label.sk-toggleable__label {cursor: pointer;display: block;width: 100%;margin-bottom: 0;padding: 0.3em;box-sizing: border-box;text-align: center;}#sk-container-id-13 label.sk-toggleable__label-arrow:before {content: \"▸\";float: left;margin-right: 0.25em;color: #696969;}#sk-container-id-13 label.sk-toggleable__label-arrow:hover:before {color: black;}#sk-container-id-13 div.sk-estimator:hover label.sk-toggleable__label-arrow:before {color: black;}#sk-container-id-13 div.sk-toggleable__content {max-height: 0;max-width: 0;overflow: hidden;text-align: left;background-color: #f0f8ff;}#sk-container-id-13 div.sk-toggleable__content pre {margin: 0.2em;color: black;border-radius: 0.25em;background-color: #f0f8ff;}#sk-container-id-13 input.sk-toggleable__control:checked~div.sk-toggleable__content {max-height: 200px;max-width: 100%;overflow: auto;}#sk-container-id-13 input.sk-toggleable__control:checked~label.sk-toggleable__label-arrow:before {content: \"▾\";}#sk-container-id-13 div.sk-estimator input.sk-toggleable__control:checked~label.sk-toggleable__label {background-color: #d4ebff;}#sk-container-id-13 div.sk-label input.sk-toggleable__control:checked~label.sk-toggleable__label {background-color: #d4ebff;}#sk-container-id-13 input.sk-hidden--visually {border: 0;clip: rect(1px 1px 1px 1px);clip: rect(1px, 1px, 1px, 1px);height: 1px;margin: -1px;overflow: hidden;padding: 0;position: absolute;width: 1px;}#sk-container-id-13 div.sk-estimator {font-family: monospace;background-color: #f0f8ff;border: 1px dotted black;border-radius: 0.25em;box-sizing: border-box;margin-bottom: 0.5em;}#sk-container-id-13 div.sk-estimator:hover {background-color: #d4ebff;}#sk-container-id-13 div.sk-parallel-item::after {content: \"\";width: 100%;border-bottom: 1px solid gray;flex-grow: 1;}#sk-container-id-13 div.sk-label:hover label.sk-toggleable__label {background-color: #d4ebff;}#sk-container-id-13 div.sk-serial::before {content: \"\";position: absolute;border-left: 1px solid gray;box-sizing: border-box;top: 0;bottom: 0;left: 50%;z-index: 0;}#sk-container-id-13 div.sk-serial {display: flex;flex-direction: column;align-items: center;background-color: white;padding-right: 0.2em;padding-left: 0.2em;position: relative;}#sk-container-id-13 div.sk-item {position: relative;z-index: 1;}#sk-container-id-13 div.sk-parallel {display: flex;align-items: stretch;justify-content: center;background-color: white;position: relative;}#sk-container-id-13 div.sk-item::before, #sk-container-id-13 div.sk-parallel-item::before {content: \"\";position: absolute;border-left: 1px solid gray;box-sizing: border-box;top: 0;bottom: 0;left: 50%;z-index: -1;}#sk-container-id-13 div.sk-parallel-item {display: flex;flex-direction: column;z-index: 1;position: relative;background-color: white;}#sk-container-id-13 div.sk-parallel-item:first-child::after {align-self: flex-end;width: 50%;}#sk-container-id-13 div.sk-parallel-item:last-child::after {align-self: flex-start;width: 50%;}#sk-container-id-13 div.sk-parallel-item:only-child::after {width: 0;}#sk-container-id-13 div.sk-dashed-wrapped {border: 1px dashed gray;margin: 0 0.4em 0.5em 0.4em;box-sizing: border-box;padding-bottom: 0.4em;background-color: white;}#sk-container-id-13 div.sk-label label {font-family: monospace;font-weight: bold;display: inline-block;line-height: 1.2em;}#sk-container-id-13 div.sk-label-container {text-align: center;}#sk-container-id-13 div.sk-container {/* jupyter's `normalize.less` sets `[hidden] { display: none; }` but bootstrap.min.css set `[hidden] { display: none !important; }` so we also need the `!important` here to be able to override the default hidden behavior on the sphinx rendered scikit-learn.org. See: https://github.com/scikit-learn/scikit-learn/issues/21755 */display: inline-block !important;position: relative;}#sk-container-id-13 div.sk-text-repr-fallback {display: none;}</style><div id=\"sk-container-id-13\" class=\"sk-top-container\"><div class=\"sk-text-repr-fallback\"><pre>Pipeline(steps=[(&#x27;tfidf&#x27;,\n",
       "                 TfidfVectorizer(max_df=0.95, min_df=2,\n",
       "                                 stop_words={&#x27;a&#x27;, &#x27;about&#x27;, &#x27;above&#x27;, &#x27;after&#x27;,\n",
       "                                             &#x27;again&#x27;, &#x27;against&#x27;, &#x27;ain&#x27;, &#x27;all&#x27;,\n",
       "                                             &#x27;am&#x27;, &#x27;an&#x27;, &#x27;and&#x27;, &#x27;any&#x27;, &#x27;are&#x27;,\n",
       "                                             &#x27;aren&#x27;, &quot;aren&#x27;t&quot;, &#x27;as&#x27;, &#x27;at&#x27;, &#x27;be&#x27;,\n",
       "                                             &#x27;because&#x27;, &#x27;been&#x27;, &#x27;before&#x27;,\n",
       "                                             &#x27;being&#x27;, &#x27;below&#x27;, &#x27;between&#x27;,\n",
       "                                             &#x27;both&#x27;, &#x27;but&#x27;, &#x27;by&#x27;, &#x27;can&#x27;,\n",
       "                                             &#x27;couldn&#x27;, &quot;couldn&#x27;t&quot;, ...})),\n",
       "                (&#x27;log&#x27;,\n",
       "                 MultiOutputClassifier(estimator=LogisticRegression(class_weight=&#x27;balanced&#x27;,\n",
       "                                                                    max_iter=10000,\n",
       "                                                                    n_jobs=-1)))])</pre><b>In a Jupyter environment, please rerun this cell to show the HTML representation or trust the notebook. <br />On GitHub, the HTML representation is unable to render, please try loading this page with nbviewer.org.</b></div><div class=\"sk-container\" hidden><div class=\"sk-item sk-dashed-wrapped\"><div class=\"sk-label-container\"><div class=\"sk-label sk-toggleable\"><input class=\"sk-toggleable__control sk-hidden--visually\" id=\"sk-estimator-id-49\" type=\"checkbox\" ><label for=\"sk-estimator-id-49\" class=\"sk-toggleable__label sk-toggleable__label-arrow\">Pipeline</label><div class=\"sk-toggleable__content\"><pre>Pipeline(steps=[(&#x27;tfidf&#x27;,\n",
       "                 TfidfVectorizer(max_df=0.95, min_df=2,\n",
       "                                 stop_words={&#x27;a&#x27;, &#x27;about&#x27;, &#x27;above&#x27;, &#x27;after&#x27;,\n",
       "                                             &#x27;again&#x27;, &#x27;against&#x27;, &#x27;ain&#x27;, &#x27;all&#x27;,\n",
       "                                             &#x27;am&#x27;, &#x27;an&#x27;, &#x27;and&#x27;, &#x27;any&#x27;, &#x27;are&#x27;,\n",
       "                                             &#x27;aren&#x27;, &quot;aren&#x27;t&quot;, &#x27;as&#x27;, &#x27;at&#x27;, &#x27;be&#x27;,\n",
       "                                             &#x27;because&#x27;, &#x27;been&#x27;, &#x27;before&#x27;,\n",
       "                                             &#x27;being&#x27;, &#x27;below&#x27;, &#x27;between&#x27;,\n",
       "                                             &#x27;both&#x27;, &#x27;but&#x27;, &#x27;by&#x27;, &#x27;can&#x27;,\n",
       "                                             &#x27;couldn&#x27;, &quot;couldn&#x27;t&quot;, ...})),\n",
       "                (&#x27;log&#x27;,\n",
       "                 MultiOutputClassifier(estimator=LogisticRegression(class_weight=&#x27;balanced&#x27;,\n",
       "                                                                    max_iter=10000,\n",
       "                                                                    n_jobs=-1)))])</pre></div></div></div><div class=\"sk-serial\"><div class=\"sk-item\"><div class=\"sk-estimator sk-toggleable\"><input class=\"sk-toggleable__control sk-hidden--visually\" id=\"sk-estimator-id-50\" type=\"checkbox\" ><label for=\"sk-estimator-id-50\" class=\"sk-toggleable__label sk-toggleable__label-arrow\">TfidfVectorizer</label><div class=\"sk-toggleable__content\"><pre>TfidfVectorizer(max_df=0.95, min_df=2,\n",
       "                stop_words={&#x27;a&#x27;, &#x27;about&#x27;, &#x27;above&#x27;, &#x27;after&#x27;, &#x27;again&#x27;, &#x27;against&#x27;,\n",
       "                            &#x27;ain&#x27;, &#x27;all&#x27;, &#x27;am&#x27;, &#x27;an&#x27;, &#x27;and&#x27;, &#x27;any&#x27;, &#x27;are&#x27;,\n",
       "                            &#x27;aren&#x27;, &quot;aren&#x27;t&quot;, &#x27;as&#x27;, &#x27;at&#x27;, &#x27;be&#x27;, &#x27;because&#x27;,\n",
       "                            &#x27;been&#x27;, &#x27;before&#x27;, &#x27;being&#x27;, &#x27;below&#x27;, &#x27;between&#x27;,\n",
       "                            &#x27;both&#x27;, &#x27;but&#x27;, &#x27;by&#x27;, &#x27;can&#x27;, &#x27;couldn&#x27;, &quot;couldn&#x27;t&quot;, ...})</pre></div></div></div><div class=\"sk-item sk-dashed-wrapped\"><div class=\"sk-label-container\"><div class=\"sk-label sk-toggleable\"><input class=\"sk-toggleable__control sk-hidden--visually\" id=\"sk-estimator-id-51\" type=\"checkbox\" ><label for=\"sk-estimator-id-51\" class=\"sk-toggleable__label sk-toggleable__label-arrow\">log: MultiOutputClassifier</label><div class=\"sk-toggleable__content\"><pre>MultiOutputClassifier(estimator=LogisticRegression(class_weight=&#x27;balanced&#x27;,\n",
       "                                                   max_iter=10000, n_jobs=-1))</pre></div></div></div><div class=\"sk-parallel\"><div class=\"sk-parallel-item\"><div class=\"sk-item\"><div class=\"sk-label-container\"><div class=\"sk-label sk-toggleable\"><input class=\"sk-toggleable__control sk-hidden--visually\" id=\"sk-estimator-id-52\" type=\"checkbox\" ><label for=\"sk-estimator-id-52\" class=\"sk-toggleable__label sk-toggleable__label-arrow\">estimator: LogisticRegression</label><div class=\"sk-toggleable__content\"><pre>LogisticRegression(class_weight=&#x27;balanced&#x27;, max_iter=10000, n_jobs=-1)</pre></div></div></div><div class=\"sk-serial\"><div class=\"sk-item\"><div class=\"sk-estimator sk-toggleable\"><input class=\"sk-toggleable__control sk-hidden--visually\" id=\"sk-estimator-id-53\" type=\"checkbox\" ><label for=\"sk-estimator-id-53\" class=\"sk-toggleable__label sk-toggleable__label-arrow\">LogisticRegression</label><div class=\"sk-toggleable__content\"><pre>LogisticRegression(class_weight=&#x27;balanced&#x27;, max_iter=10000, n_jobs=-1)</pre></div></div></div></div></div></div></div></div></div></div></div></div>"
      ],
      "text/plain": [
       "Pipeline(steps=[('tfidf',\n",
       "                 TfidfVectorizer(max_df=0.95, min_df=2,\n",
       "                                 stop_words={'a', 'about', 'above', 'after',\n",
       "                                             'again', 'against', 'ain', 'all',\n",
       "                                             'am', 'an', 'and', 'any', 'are',\n",
       "                                             'aren', \"aren't\", 'as', 'at', 'be',\n",
       "                                             'because', 'been', 'before',\n",
       "                                             'being', 'below', 'between',\n",
       "                                             'both', 'but', 'by', 'can',\n",
       "                                             'couldn', \"couldn't\", ...})),\n",
       "                ('log',\n",
       "                 MultiOutputClassifier(estimator=LogisticRegression(class_weight='balanced',\n",
       "                                                                    max_iter=10000,\n",
       "                                                                    n_jobs=-1)))])"
      ]
     },
     "execution_count": 50,
     "metadata": {},
     "output_type": "execute_result"
    }
   ],
   "source": [
    "pipe_log = Pipeline([\n",
    "    ('tfidf', TfidfVectorizer(stop_words=stop_words, ngram_range=(1,1), min_df=2, max_df=0.95)),\n",
    "    ('log', MultiOutputClassifier(LogisticRegression(class_weight='balanced', max_iter=10_000, n_jobs=-1))),\n",
    "])\n",
    "\n",
    "pipe_log.fit(X_train.ravel(), y_train)"
   ]
  },
  {
   "cell_type": "code",
   "execution_count": 51,
   "metadata": {},
   "outputs": [
    {
     "data": {
      "text/plain": [
       "0.874456885026738"
      ]
     },
     "metadata": {},
     "output_type": "display_data"
    },
    {
     "data": {
      "text/plain": [
       "0.6915746891123729"
      ]
     },
     "metadata": {},
     "output_type": "display_data"
    }
   ],
   "source": [
    "y_pred = pipe_log.predict(X_test.ravel())\n",
    "display(accuracy_score(y_test, y_pred))\n",
    "display(f1_score(y_test, y_pred, average='weighted'))"
   ]
  },
  {
   "cell_type": "code",
   "execution_count": 53,
   "metadata": {},
   "outputs": [
    {
     "data": {
      "text/html": [
       "<style>#sk-container-id-14 {color: black;background-color: white;}#sk-container-id-14 pre{padding: 0;}#sk-container-id-14 div.sk-toggleable {background-color: white;}#sk-container-id-14 label.sk-toggleable__label {cursor: pointer;display: block;width: 100%;margin-bottom: 0;padding: 0.3em;box-sizing: border-box;text-align: center;}#sk-container-id-14 label.sk-toggleable__label-arrow:before {content: \"▸\";float: left;margin-right: 0.25em;color: #696969;}#sk-container-id-14 label.sk-toggleable__label-arrow:hover:before {color: black;}#sk-container-id-14 div.sk-estimator:hover label.sk-toggleable__label-arrow:before {color: black;}#sk-container-id-14 div.sk-toggleable__content {max-height: 0;max-width: 0;overflow: hidden;text-align: left;background-color: #f0f8ff;}#sk-container-id-14 div.sk-toggleable__content pre {margin: 0.2em;color: black;border-radius: 0.25em;background-color: #f0f8ff;}#sk-container-id-14 input.sk-toggleable__control:checked~div.sk-toggleable__content {max-height: 200px;max-width: 100%;overflow: auto;}#sk-container-id-14 input.sk-toggleable__control:checked~label.sk-toggleable__label-arrow:before {content: \"▾\";}#sk-container-id-14 div.sk-estimator input.sk-toggleable__control:checked~label.sk-toggleable__label {background-color: #d4ebff;}#sk-container-id-14 div.sk-label input.sk-toggleable__control:checked~label.sk-toggleable__label {background-color: #d4ebff;}#sk-container-id-14 input.sk-hidden--visually {border: 0;clip: rect(1px 1px 1px 1px);clip: rect(1px, 1px, 1px, 1px);height: 1px;margin: -1px;overflow: hidden;padding: 0;position: absolute;width: 1px;}#sk-container-id-14 div.sk-estimator {font-family: monospace;background-color: #f0f8ff;border: 1px dotted black;border-radius: 0.25em;box-sizing: border-box;margin-bottom: 0.5em;}#sk-container-id-14 div.sk-estimator:hover {background-color: #d4ebff;}#sk-container-id-14 div.sk-parallel-item::after {content: \"\";width: 100%;border-bottom: 1px solid gray;flex-grow: 1;}#sk-container-id-14 div.sk-label:hover label.sk-toggleable__label {background-color: #d4ebff;}#sk-container-id-14 div.sk-serial::before {content: \"\";position: absolute;border-left: 1px solid gray;box-sizing: border-box;top: 0;bottom: 0;left: 50%;z-index: 0;}#sk-container-id-14 div.sk-serial {display: flex;flex-direction: column;align-items: center;background-color: white;padding-right: 0.2em;padding-left: 0.2em;position: relative;}#sk-container-id-14 div.sk-item {position: relative;z-index: 1;}#sk-container-id-14 div.sk-parallel {display: flex;align-items: stretch;justify-content: center;background-color: white;position: relative;}#sk-container-id-14 div.sk-item::before, #sk-container-id-14 div.sk-parallel-item::before {content: \"\";position: absolute;border-left: 1px solid gray;box-sizing: border-box;top: 0;bottom: 0;left: 50%;z-index: -1;}#sk-container-id-14 div.sk-parallel-item {display: flex;flex-direction: column;z-index: 1;position: relative;background-color: white;}#sk-container-id-14 div.sk-parallel-item:first-child::after {align-self: flex-end;width: 50%;}#sk-container-id-14 div.sk-parallel-item:last-child::after {align-self: flex-start;width: 50%;}#sk-container-id-14 div.sk-parallel-item:only-child::after {width: 0;}#sk-container-id-14 div.sk-dashed-wrapped {border: 1px dashed gray;margin: 0 0.4em 0.5em 0.4em;box-sizing: border-box;padding-bottom: 0.4em;background-color: white;}#sk-container-id-14 div.sk-label label {font-family: monospace;font-weight: bold;display: inline-block;line-height: 1.2em;}#sk-container-id-14 div.sk-label-container {text-align: center;}#sk-container-id-14 div.sk-container {/* jupyter's `normalize.less` sets `[hidden] { display: none; }` but bootstrap.min.css set `[hidden] { display: none !important; }` so we also need the `!important` here to be able to override the default hidden behavior on the sphinx rendered scikit-learn.org. See: https://github.com/scikit-learn/scikit-learn/issues/21755 */display: inline-block !important;position: relative;}#sk-container-id-14 div.sk-text-repr-fallback {display: none;}</style><div id=\"sk-container-id-14\" class=\"sk-top-container\"><div class=\"sk-text-repr-fallback\"><pre>Pipeline(steps=[(&#x27;tfidf&#x27;,\n",
       "                 TfidfVectorizer(max_df=0.95, min_df=2,\n",
       "                                 stop_words={&#x27;a&#x27;, &#x27;about&#x27;, &#x27;above&#x27;, &#x27;after&#x27;,\n",
       "                                             &#x27;again&#x27;, &#x27;against&#x27;, &#x27;ain&#x27;, &#x27;all&#x27;,\n",
       "                                             &#x27;am&#x27;, &#x27;an&#x27;, &#x27;and&#x27;, &#x27;any&#x27;, &#x27;are&#x27;,\n",
       "                                             &#x27;aren&#x27;, &quot;aren&#x27;t&quot;, &#x27;as&#x27;, &#x27;at&#x27;, &#x27;be&#x27;,\n",
       "                                             &#x27;because&#x27;, &#x27;been&#x27;, &#x27;before&#x27;,\n",
       "                                             &#x27;being&#x27;, &#x27;below&#x27;, &#x27;between&#x27;,\n",
       "                                             &#x27;both&#x27;, &#x27;but&#x27;, &#x27;by&#x27;, &#x27;can&#x27;,\n",
       "                                             &#x27;couldn&#x27;, &quot;couldn&#x27;t&quot;, ...})),\n",
       "                (&#x27;log&#x27;, MultiOutputClassifier(estimator=MultinomialNB()))])</pre><b>In a Jupyter environment, please rerun this cell to show the HTML representation or trust the notebook. <br />On GitHub, the HTML representation is unable to render, please try loading this page with nbviewer.org.</b></div><div class=\"sk-container\" hidden><div class=\"sk-item sk-dashed-wrapped\"><div class=\"sk-label-container\"><div class=\"sk-label sk-toggleable\"><input class=\"sk-toggleable__control sk-hidden--visually\" id=\"sk-estimator-id-54\" type=\"checkbox\" ><label for=\"sk-estimator-id-54\" class=\"sk-toggleable__label sk-toggleable__label-arrow\">Pipeline</label><div class=\"sk-toggleable__content\"><pre>Pipeline(steps=[(&#x27;tfidf&#x27;,\n",
       "                 TfidfVectorizer(max_df=0.95, min_df=2,\n",
       "                                 stop_words={&#x27;a&#x27;, &#x27;about&#x27;, &#x27;above&#x27;, &#x27;after&#x27;,\n",
       "                                             &#x27;again&#x27;, &#x27;against&#x27;, &#x27;ain&#x27;, &#x27;all&#x27;,\n",
       "                                             &#x27;am&#x27;, &#x27;an&#x27;, &#x27;and&#x27;, &#x27;any&#x27;, &#x27;are&#x27;,\n",
       "                                             &#x27;aren&#x27;, &quot;aren&#x27;t&quot;, &#x27;as&#x27;, &#x27;at&#x27;, &#x27;be&#x27;,\n",
       "                                             &#x27;because&#x27;, &#x27;been&#x27;, &#x27;before&#x27;,\n",
       "                                             &#x27;being&#x27;, &#x27;below&#x27;, &#x27;between&#x27;,\n",
       "                                             &#x27;both&#x27;, &#x27;but&#x27;, &#x27;by&#x27;, &#x27;can&#x27;,\n",
       "                                             &#x27;couldn&#x27;, &quot;couldn&#x27;t&quot;, ...})),\n",
       "                (&#x27;log&#x27;, MultiOutputClassifier(estimator=MultinomialNB()))])</pre></div></div></div><div class=\"sk-serial\"><div class=\"sk-item\"><div class=\"sk-estimator sk-toggleable\"><input class=\"sk-toggleable__control sk-hidden--visually\" id=\"sk-estimator-id-55\" type=\"checkbox\" ><label for=\"sk-estimator-id-55\" class=\"sk-toggleable__label sk-toggleable__label-arrow\">TfidfVectorizer</label><div class=\"sk-toggleable__content\"><pre>TfidfVectorizer(max_df=0.95, min_df=2,\n",
       "                stop_words={&#x27;a&#x27;, &#x27;about&#x27;, &#x27;above&#x27;, &#x27;after&#x27;, &#x27;again&#x27;, &#x27;against&#x27;,\n",
       "                            &#x27;ain&#x27;, &#x27;all&#x27;, &#x27;am&#x27;, &#x27;an&#x27;, &#x27;and&#x27;, &#x27;any&#x27;, &#x27;are&#x27;,\n",
       "                            &#x27;aren&#x27;, &quot;aren&#x27;t&quot;, &#x27;as&#x27;, &#x27;at&#x27;, &#x27;be&#x27;, &#x27;because&#x27;,\n",
       "                            &#x27;been&#x27;, &#x27;before&#x27;, &#x27;being&#x27;, &#x27;below&#x27;, &#x27;between&#x27;,\n",
       "                            &#x27;both&#x27;, &#x27;but&#x27;, &#x27;by&#x27;, &#x27;can&#x27;, &#x27;couldn&#x27;, &quot;couldn&#x27;t&quot;, ...})</pre></div></div></div><div class=\"sk-item sk-dashed-wrapped\"><div class=\"sk-label-container\"><div class=\"sk-label sk-toggleable\"><input class=\"sk-toggleable__control sk-hidden--visually\" id=\"sk-estimator-id-56\" type=\"checkbox\" ><label for=\"sk-estimator-id-56\" class=\"sk-toggleable__label sk-toggleable__label-arrow\">log: MultiOutputClassifier</label><div class=\"sk-toggleable__content\"><pre>MultiOutputClassifier(estimator=MultinomialNB())</pre></div></div></div><div class=\"sk-parallel\"><div class=\"sk-parallel-item\"><div class=\"sk-item\"><div class=\"sk-label-container\"><div class=\"sk-label sk-toggleable\"><input class=\"sk-toggleable__control sk-hidden--visually\" id=\"sk-estimator-id-57\" type=\"checkbox\" ><label for=\"sk-estimator-id-57\" class=\"sk-toggleable__label sk-toggleable__label-arrow\">estimator: MultinomialNB</label><div class=\"sk-toggleable__content\"><pre>MultinomialNB()</pre></div></div></div><div class=\"sk-serial\"><div class=\"sk-item\"><div class=\"sk-estimator sk-toggleable\"><input class=\"sk-toggleable__control sk-hidden--visually\" id=\"sk-estimator-id-58\" type=\"checkbox\" ><label for=\"sk-estimator-id-58\" class=\"sk-toggleable__label sk-toggleable__label-arrow\">MultinomialNB</label><div class=\"sk-toggleable__content\"><pre>MultinomialNB()</pre></div></div></div></div></div></div></div></div></div></div></div></div>"
      ],
      "text/plain": [
       "Pipeline(steps=[('tfidf',\n",
       "                 TfidfVectorizer(max_df=0.95, min_df=2,\n",
       "                                 stop_words={'a', 'about', 'above', 'after',\n",
       "                                             'again', 'against', 'ain', 'all',\n",
       "                                             'am', 'an', 'and', 'any', 'are',\n",
       "                                             'aren', \"aren't\", 'as', 'at', 'be',\n",
       "                                             'because', 'been', 'before',\n",
       "                                             'being', 'below', 'between',\n",
       "                                             'both', 'but', 'by', 'can',\n",
       "                                             'couldn', \"couldn't\", ...})),\n",
       "                ('log', MultiOutputClassifier(estimator=MultinomialNB()))])"
      ]
     },
     "execution_count": 53,
     "metadata": {},
     "output_type": "execute_result"
    }
   ],
   "source": [
    "pipe_nb = Pipeline([\n",
    "    ('tfidf', TfidfVectorizer(stop_words=stop_words, ngram_range=(1,1), min_df=2, max_df=0.95)),\n",
    "    ('log', MultiOutputClassifier(MultinomialNB())),\n",
    "])\n",
    "\n",
    "pipe_nb.fit(X_train.ravel(), y_train)"
   ]
  },
  {
   "cell_type": "code",
   "execution_count": 54,
   "metadata": {},
   "outputs": [
    {
     "data": {
      "text/plain": [
       "0.903555314171123"
      ]
     },
     "metadata": {},
     "output_type": "display_data"
    },
    {
     "data": {
      "text/plain": [
       "0.37037938011539645"
      ]
     },
     "metadata": {},
     "output_type": "display_data"
    }
   ],
   "source": [
    "y_pred = pipe_nb.predict(X_test.ravel())\n",
    "display(accuracy_score(y_test, y_pred))\n",
    "display(f1_score(y_test, y_pred, average='weighted'))"
   ]
  },
  {
   "cell_type": "code",
   "execution_count": 55,
   "metadata": {},
   "outputs": [
    {
     "data": {
      "text/html": [
       "<style>#sk-container-id-15 {color: black;background-color: white;}#sk-container-id-15 pre{padding: 0;}#sk-container-id-15 div.sk-toggleable {background-color: white;}#sk-container-id-15 label.sk-toggleable__label {cursor: pointer;display: block;width: 100%;margin-bottom: 0;padding: 0.3em;box-sizing: border-box;text-align: center;}#sk-container-id-15 label.sk-toggleable__label-arrow:before {content: \"▸\";float: left;margin-right: 0.25em;color: #696969;}#sk-container-id-15 label.sk-toggleable__label-arrow:hover:before {color: black;}#sk-container-id-15 div.sk-estimator:hover label.sk-toggleable__label-arrow:before {color: black;}#sk-container-id-15 div.sk-toggleable__content {max-height: 0;max-width: 0;overflow: hidden;text-align: left;background-color: #f0f8ff;}#sk-container-id-15 div.sk-toggleable__content pre {margin: 0.2em;color: black;border-radius: 0.25em;background-color: #f0f8ff;}#sk-container-id-15 input.sk-toggleable__control:checked~div.sk-toggleable__content {max-height: 200px;max-width: 100%;overflow: auto;}#sk-container-id-15 input.sk-toggleable__control:checked~label.sk-toggleable__label-arrow:before {content: \"▾\";}#sk-container-id-15 div.sk-estimator input.sk-toggleable__control:checked~label.sk-toggleable__label {background-color: #d4ebff;}#sk-container-id-15 div.sk-label input.sk-toggleable__control:checked~label.sk-toggleable__label {background-color: #d4ebff;}#sk-container-id-15 input.sk-hidden--visually {border: 0;clip: rect(1px 1px 1px 1px);clip: rect(1px, 1px, 1px, 1px);height: 1px;margin: -1px;overflow: hidden;padding: 0;position: absolute;width: 1px;}#sk-container-id-15 div.sk-estimator {font-family: monospace;background-color: #f0f8ff;border: 1px dotted black;border-radius: 0.25em;box-sizing: border-box;margin-bottom: 0.5em;}#sk-container-id-15 div.sk-estimator:hover {background-color: #d4ebff;}#sk-container-id-15 div.sk-parallel-item::after {content: \"\";width: 100%;border-bottom: 1px solid gray;flex-grow: 1;}#sk-container-id-15 div.sk-label:hover label.sk-toggleable__label {background-color: #d4ebff;}#sk-container-id-15 div.sk-serial::before {content: \"\";position: absolute;border-left: 1px solid gray;box-sizing: border-box;top: 0;bottom: 0;left: 50%;z-index: 0;}#sk-container-id-15 div.sk-serial {display: flex;flex-direction: column;align-items: center;background-color: white;padding-right: 0.2em;padding-left: 0.2em;position: relative;}#sk-container-id-15 div.sk-item {position: relative;z-index: 1;}#sk-container-id-15 div.sk-parallel {display: flex;align-items: stretch;justify-content: center;background-color: white;position: relative;}#sk-container-id-15 div.sk-item::before, #sk-container-id-15 div.sk-parallel-item::before {content: \"\";position: absolute;border-left: 1px solid gray;box-sizing: border-box;top: 0;bottom: 0;left: 50%;z-index: -1;}#sk-container-id-15 div.sk-parallel-item {display: flex;flex-direction: column;z-index: 1;position: relative;background-color: white;}#sk-container-id-15 div.sk-parallel-item:first-child::after {align-self: flex-end;width: 50%;}#sk-container-id-15 div.sk-parallel-item:last-child::after {align-self: flex-start;width: 50%;}#sk-container-id-15 div.sk-parallel-item:only-child::after {width: 0;}#sk-container-id-15 div.sk-dashed-wrapped {border: 1px dashed gray;margin: 0 0.4em 0.5em 0.4em;box-sizing: border-box;padding-bottom: 0.4em;background-color: white;}#sk-container-id-15 div.sk-label label {font-family: monospace;font-weight: bold;display: inline-block;line-height: 1.2em;}#sk-container-id-15 div.sk-label-container {text-align: center;}#sk-container-id-15 div.sk-container {/* jupyter's `normalize.less` sets `[hidden] { display: none; }` but bootstrap.min.css set `[hidden] { display: none !important; }` so we also need the `!important` here to be able to override the default hidden behavior on the sphinx rendered scikit-learn.org. See: https://github.com/scikit-learn/scikit-learn/issues/21755 */display: inline-block !important;position: relative;}#sk-container-id-15 div.sk-text-repr-fallback {display: none;}</style><div id=\"sk-container-id-15\" class=\"sk-top-container\"><div class=\"sk-text-repr-fallback\"><pre>Pipeline(steps=[(&#x27;tfidf&#x27;,\n",
       "                 TfidfVectorizer(max_df=0.95, min_df=2,\n",
       "                                 stop_words={&#x27;a&#x27;, &#x27;about&#x27;, &#x27;above&#x27;, &#x27;after&#x27;,\n",
       "                                             &#x27;again&#x27;, &#x27;against&#x27;, &#x27;ain&#x27;, &#x27;all&#x27;,\n",
       "                                             &#x27;am&#x27;, &#x27;an&#x27;, &#x27;and&#x27;, &#x27;any&#x27;, &#x27;are&#x27;,\n",
       "                                             &#x27;aren&#x27;, &quot;aren&#x27;t&quot;, &#x27;as&#x27;, &#x27;at&#x27;, &#x27;be&#x27;,\n",
       "                                             &#x27;because&#x27;, &#x27;been&#x27;, &#x27;before&#x27;,\n",
       "                                             &#x27;being&#x27;, &#x27;below&#x27;, &#x27;between&#x27;,\n",
       "                                             &#x27;both&#x27;, &#x27;but&#x27;, &#x27;by&#x27;, &#x27;can&#x27;,\n",
       "                                             &#x27;couldn&#x27;, &quot;couldn&#x27;t&quot;, ...})),\n",
       "                (&#x27;log&#x27;,\n",
       "                 MultiOutputClassifier(estimator=LinearSVC(class_weight=&#x27;balanced&#x27;,\n",
       "                                                           max_iter=10000)))])</pre><b>In a Jupyter environment, please rerun this cell to show the HTML representation or trust the notebook. <br />On GitHub, the HTML representation is unable to render, please try loading this page with nbviewer.org.</b></div><div class=\"sk-container\" hidden><div class=\"sk-item sk-dashed-wrapped\"><div class=\"sk-label-container\"><div class=\"sk-label sk-toggleable\"><input class=\"sk-toggleable__control sk-hidden--visually\" id=\"sk-estimator-id-59\" type=\"checkbox\" ><label for=\"sk-estimator-id-59\" class=\"sk-toggleable__label sk-toggleable__label-arrow\">Pipeline</label><div class=\"sk-toggleable__content\"><pre>Pipeline(steps=[(&#x27;tfidf&#x27;,\n",
       "                 TfidfVectorizer(max_df=0.95, min_df=2,\n",
       "                                 stop_words={&#x27;a&#x27;, &#x27;about&#x27;, &#x27;above&#x27;, &#x27;after&#x27;,\n",
       "                                             &#x27;again&#x27;, &#x27;against&#x27;, &#x27;ain&#x27;, &#x27;all&#x27;,\n",
       "                                             &#x27;am&#x27;, &#x27;an&#x27;, &#x27;and&#x27;, &#x27;any&#x27;, &#x27;are&#x27;,\n",
       "                                             &#x27;aren&#x27;, &quot;aren&#x27;t&quot;, &#x27;as&#x27;, &#x27;at&#x27;, &#x27;be&#x27;,\n",
       "                                             &#x27;because&#x27;, &#x27;been&#x27;, &#x27;before&#x27;,\n",
       "                                             &#x27;being&#x27;, &#x27;below&#x27;, &#x27;between&#x27;,\n",
       "                                             &#x27;both&#x27;, &#x27;but&#x27;, &#x27;by&#x27;, &#x27;can&#x27;,\n",
       "                                             &#x27;couldn&#x27;, &quot;couldn&#x27;t&quot;, ...})),\n",
       "                (&#x27;log&#x27;,\n",
       "                 MultiOutputClassifier(estimator=LinearSVC(class_weight=&#x27;balanced&#x27;,\n",
       "                                                           max_iter=10000)))])</pre></div></div></div><div class=\"sk-serial\"><div class=\"sk-item\"><div class=\"sk-estimator sk-toggleable\"><input class=\"sk-toggleable__control sk-hidden--visually\" id=\"sk-estimator-id-60\" type=\"checkbox\" ><label for=\"sk-estimator-id-60\" class=\"sk-toggleable__label sk-toggleable__label-arrow\">TfidfVectorizer</label><div class=\"sk-toggleable__content\"><pre>TfidfVectorizer(max_df=0.95, min_df=2,\n",
       "                stop_words={&#x27;a&#x27;, &#x27;about&#x27;, &#x27;above&#x27;, &#x27;after&#x27;, &#x27;again&#x27;, &#x27;against&#x27;,\n",
       "                            &#x27;ain&#x27;, &#x27;all&#x27;, &#x27;am&#x27;, &#x27;an&#x27;, &#x27;and&#x27;, &#x27;any&#x27;, &#x27;are&#x27;,\n",
       "                            &#x27;aren&#x27;, &quot;aren&#x27;t&quot;, &#x27;as&#x27;, &#x27;at&#x27;, &#x27;be&#x27;, &#x27;because&#x27;,\n",
       "                            &#x27;been&#x27;, &#x27;before&#x27;, &#x27;being&#x27;, &#x27;below&#x27;, &#x27;between&#x27;,\n",
       "                            &#x27;both&#x27;, &#x27;but&#x27;, &#x27;by&#x27;, &#x27;can&#x27;, &#x27;couldn&#x27;, &quot;couldn&#x27;t&quot;, ...})</pre></div></div></div><div class=\"sk-item sk-dashed-wrapped\"><div class=\"sk-label-container\"><div class=\"sk-label sk-toggleable\"><input class=\"sk-toggleable__control sk-hidden--visually\" id=\"sk-estimator-id-61\" type=\"checkbox\" ><label for=\"sk-estimator-id-61\" class=\"sk-toggleable__label sk-toggleable__label-arrow\">log: MultiOutputClassifier</label><div class=\"sk-toggleable__content\"><pre>MultiOutputClassifier(estimator=LinearSVC(class_weight=&#x27;balanced&#x27;,\n",
       "                                          max_iter=10000))</pre></div></div></div><div class=\"sk-parallel\"><div class=\"sk-parallel-item\"><div class=\"sk-item\"><div class=\"sk-label-container\"><div class=\"sk-label sk-toggleable\"><input class=\"sk-toggleable__control sk-hidden--visually\" id=\"sk-estimator-id-62\" type=\"checkbox\" ><label for=\"sk-estimator-id-62\" class=\"sk-toggleable__label sk-toggleable__label-arrow\">estimator: LinearSVC</label><div class=\"sk-toggleable__content\"><pre>LinearSVC(class_weight=&#x27;balanced&#x27;, max_iter=10000)</pre></div></div></div><div class=\"sk-serial\"><div class=\"sk-item\"><div class=\"sk-estimator sk-toggleable\"><input class=\"sk-toggleable__control sk-hidden--visually\" id=\"sk-estimator-id-63\" type=\"checkbox\" ><label for=\"sk-estimator-id-63\" class=\"sk-toggleable__label sk-toggleable__label-arrow\">LinearSVC</label><div class=\"sk-toggleable__content\"><pre>LinearSVC(class_weight=&#x27;balanced&#x27;, max_iter=10000)</pre></div></div></div></div></div></div></div></div></div></div></div></div>"
      ],
      "text/plain": [
       "Pipeline(steps=[('tfidf',\n",
       "                 TfidfVectorizer(max_df=0.95, min_df=2,\n",
       "                                 stop_words={'a', 'about', 'above', 'after',\n",
       "                                             'again', 'against', 'ain', 'all',\n",
       "                                             'am', 'an', 'and', 'any', 'are',\n",
       "                                             'aren', \"aren't\", 'as', 'at', 'be',\n",
       "                                             'because', 'been', 'before',\n",
       "                                             'being', 'below', 'between',\n",
       "                                             'both', 'but', 'by', 'can',\n",
       "                                             'couldn', \"couldn't\", ...})),\n",
       "                ('log',\n",
       "                 MultiOutputClassifier(estimator=LinearSVC(class_weight='balanced',\n",
       "                                                           max_iter=10000)))])"
      ]
     },
     "execution_count": 55,
     "metadata": {},
     "output_type": "execute_result"
    }
   ],
   "source": [
    "pipe_svc = Pipeline([\n",
    "    ('tfidf', TfidfVectorizer(stop_words=stop_words, ngram_range=(1,1), min_df=2, max_df=0.95)),\n",
    "    ('log', MultiOutputClassifier(LinearSVC(class_weight='balanced', max_iter=10_000))),\n",
    "])\n",
    "\n",
    "pipe_svc.fit(X_train.ravel(), y_train)"
   ]
  },
  {
   "cell_type": "code",
   "execution_count": 56,
   "metadata": {},
   "outputs": [
    {
     "data": {
      "text/plain": [
       "0.8818098262032086"
      ]
     },
     "metadata": {},
     "output_type": "display_data"
    },
    {
     "data": {
      "text/plain": [
       "0.6911559534288386"
      ]
     },
     "metadata": {},
     "output_type": "display_data"
    }
   ],
   "source": [
    "y_pred = pipe_svc.predict(X_test.ravel())\n",
    "display(accuracy_score(y_test, y_pred))\n",
    "display(f1_score(y_test, y_pred, average='weighted'))"
   ]
  },
  {
   "cell_type": "markdown",
   "metadata": {},
   "source": [
    "# ClassifierChain"
   ]
  },
  {
   "cell_type": "code",
   "execution_count": 17,
   "metadata": {},
   "outputs": [
    {
     "ename": "KeyboardInterrupt",
     "evalue": "",
     "output_type": "error",
     "traceback": [
      "\u001b[0;31m---------------------------------------------------------------------------\u001b[0m",
      "\u001b[0;31mKeyboardInterrupt\u001b[0m                         Traceback (most recent call last)",
      "\u001b[1;32m/home/bryan/my_personal_github/projects/Toxic_Comments_Classification/code/model1.ipynb Cell 34\u001b[0m in \u001b[0;36m<cell line: 6>\u001b[0;34m()\u001b[0m\n\u001b[1;32m      <a href='vscode-notebook-cell:/home/bryan/my_personal_github/projects/Toxic_Comments_Classification/code/model1.ipynb#X45sZmlsZQ%3D%3D?line=0'>1</a>\u001b[0m pipe_log \u001b[39m=\u001b[39m Pipeline([\n\u001b[1;32m      <a href='vscode-notebook-cell:/home/bryan/my_personal_github/projects/Toxic_Comments_Classification/code/model1.ipynb#X45sZmlsZQ%3D%3D?line=1'>2</a>\u001b[0m     (\u001b[39m'\u001b[39m\u001b[39mtfidf\u001b[39m\u001b[39m'\u001b[39m, TfidfVectorizer(stop_words\u001b[39m=\u001b[39mstop_words, ngram_range\u001b[39m=\u001b[39m(\u001b[39m1\u001b[39m,\u001b[39m1\u001b[39m), min_df\u001b[39m=\u001b[39m\u001b[39m2\u001b[39m, max_df\u001b[39m=\u001b[39m\u001b[39m0.95\u001b[39m,max_features\u001b[39m=\u001b[39m\u001b[39m3000\u001b[39m)),\n\u001b[1;32m      <a href='vscode-notebook-cell:/home/bryan/my_personal_github/projects/Toxic_Comments_Classification/code/model1.ipynb#X45sZmlsZQ%3D%3D?line=2'>3</a>\u001b[0m     (\u001b[39m'\u001b[39m\u001b[39mlog\u001b[39m\u001b[39m'\u001b[39m, ClassifierChain(LogisticRegression(class_weight\u001b[39m=\u001b[39m\u001b[39m'\u001b[39m\u001b[39mbalanced\u001b[39m\u001b[39m'\u001b[39m, max_iter\u001b[39m=\u001b[39m\u001b[39m10_000\u001b[39m, n_jobs\u001b[39m=\u001b[39m\u001b[39m-\u001b[39m\u001b[39m1\u001b[39m))),\n\u001b[1;32m      <a href='vscode-notebook-cell:/home/bryan/my_personal_github/projects/Toxic_Comments_Classification/code/model1.ipynb#X45sZmlsZQ%3D%3D?line=3'>4</a>\u001b[0m ])\n\u001b[0;32m----> <a href='vscode-notebook-cell:/home/bryan/my_personal_github/projects/Toxic_Comments_Classification/code/model1.ipynb#X45sZmlsZQ%3D%3D?line=5'>6</a>\u001b[0m pipe_log\u001b[39m.\u001b[39;49mfit(X_train\u001b[39m.\u001b[39;49mravel(), y_train)\n",
      "File \u001b[0;32m~/.local/lib/python3.10/site-packages/sklearn/pipeline.py:382\u001b[0m, in \u001b[0;36mPipeline.fit\u001b[0;34m(self, X, y, **fit_params)\u001b[0m\n\u001b[1;32m    380\u001b[0m     \u001b[39mif\u001b[39;00m \u001b[39mself\u001b[39m\u001b[39m.\u001b[39m_final_estimator \u001b[39m!=\u001b[39m \u001b[39m\"\u001b[39m\u001b[39mpassthrough\u001b[39m\u001b[39m\"\u001b[39m:\n\u001b[1;32m    381\u001b[0m         fit_params_last_step \u001b[39m=\u001b[39m fit_params_steps[\u001b[39mself\u001b[39m\u001b[39m.\u001b[39msteps[\u001b[39m-\u001b[39m\u001b[39m1\u001b[39m][\u001b[39m0\u001b[39m]]\n\u001b[0;32m--> 382\u001b[0m         \u001b[39mself\u001b[39;49m\u001b[39m.\u001b[39;49m_final_estimator\u001b[39m.\u001b[39;49mfit(Xt, y, \u001b[39m*\u001b[39;49m\u001b[39m*\u001b[39;49mfit_params_last_step)\n\u001b[1;32m    384\u001b[0m \u001b[39mreturn\u001b[39;00m \u001b[39mself\u001b[39m\n",
      "File \u001b[0;32m~/miniconda3/envs/cap/lib/python3.10/site-packages/skmultilearn/problem_transform/cc.py:154\u001b[0m, in \u001b[0;36mClassifierChain.fit\u001b[0;34m(self, X, y, order)\u001b[0m\n\u001b[1;32m    151\u001b[0m     \u001b[39mself\u001b[39m\u001b[39m.\u001b[39mclassifier \u001b[39m=\u001b[39m copy\u001b[39m.\u001b[39mdeepcopy(\u001b[39mself\u001b[39m\u001b[39m.\u001b[39mclassifier)\n\u001b[1;32m    152\u001b[0m     y_subset \u001b[39m=\u001b[39m \u001b[39mself\u001b[39m\u001b[39m.\u001b[39m_generate_data_subset(y, label, axis\u001b[39m=\u001b[39m\u001b[39m1\u001b[39m)\n\u001b[0;32m--> 154\u001b[0m     \u001b[39mself\u001b[39m\u001b[39m.\u001b[39mclassifiers_[label] \u001b[39m=\u001b[39m \u001b[39mself\u001b[39;49m\u001b[39m.\u001b[39;49mclassifier\u001b[39m.\u001b[39;49mfit(\u001b[39mself\u001b[39;49m\u001b[39m.\u001b[39;49m_ensure_input_format(\n\u001b[1;32m    155\u001b[0m         X_extended), \u001b[39mself\u001b[39;49m\u001b[39m.\u001b[39;49m_ensure_output_format(y_subset))\n\u001b[1;32m    156\u001b[0m     X_extended \u001b[39m=\u001b[39m hstack([X_extended, y_subset])\n\u001b[1;32m    158\u001b[0m \u001b[39mreturn\u001b[39;00m \u001b[39mself\u001b[39m\n",
      "File \u001b[0;32m~/.local/lib/python3.10/site-packages/sklearn/linear_model/_logistic.py:1233\u001b[0m, in \u001b[0;36mLogisticRegression.fit\u001b[0;34m(self, X, y, sample_weight)\u001b[0m\n\u001b[1;32m   1230\u001b[0m \u001b[39melse\u001b[39;00m:\n\u001b[1;32m   1231\u001b[0m     n_threads \u001b[39m=\u001b[39m \u001b[39m1\u001b[39m\n\u001b[0;32m-> 1233\u001b[0m fold_coefs_ \u001b[39m=\u001b[39m Parallel(n_jobs\u001b[39m=\u001b[39;49m\u001b[39mself\u001b[39;49m\u001b[39m.\u001b[39;49mn_jobs, verbose\u001b[39m=\u001b[39;49m\u001b[39mself\u001b[39;49m\u001b[39m.\u001b[39;49mverbose, prefer\u001b[39m=\u001b[39;49mprefer)(\n\u001b[1;32m   1234\u001b[0m     path_func(\n\u001b[1;32m   1235\u001b[0m         X,\n\u001b[1;32m   1236\u001b[0m         y,\n\u001b[1;32m   1237\u001b[0m         pos_class\u001b[39m=\u001b[39;49mclass_,\n\u001b[1;32m   1238\u001b[0m         Cs\u001b[39m=\u001b[39;49m[C_],\n\u001b[1;32m   1239\u001b[0m         l1_ratio\u001b[39m=\u001b[39;49m\u001b[39mself\u001b[39;49m\u001b[39m.\u001b[39;49ml1_ratio,\n\u001b[1;32m   1240\u001b[0m         fit_intercept\u001b[39m=\u001b[39;49m\u001b[39mself\u001b[39;49m\u001b[39m.\u001b[39;49mfit_intercept,\n\u001b[1;32m   1241\u001b[0m         tol\u001b[39m=\u001b[39;49m\u001b[39mself\u001b[39;49m\u001b[39m.\u001b[39;49mtol,\n\u001b[1;32m   1242\u001b[0m         verbose\u001b[39m=\u001b[39;49m\u001b[39mself\u001b[39;49m\u001b[39m.\u001b[39;49mverbose,\n\u001b[1;32m   1243\u001b[0m         solver\u001b[39m=\u001b[39;49msolver,\n\u001b[1;32m   1244\u001b[0m         multi_class\u001b[39m=\u001b[39;49mmulti_class,\n\u001b[1;32m   1245\u001b[0m         max_iter\u001b[39m=\u001b[39;49m\u001b[39mself\u001b[39;49m\u001b[39m.\u001b[39;49mmax_iter,\n\u001b[1;32m   1246\u001b[0m         class_weight\u001b[39m=\u001b[39;49m\u001b[39mself\u001b[39;49m\u001b[39m.\u001b[39;49mclass_weight,\n\u001b[1;32m   1247\u001b[0m         check_input\u001b[39m=\u001b[39;49m\u001b[39mFalse\u001b[39;49;00m,\n\u001b[1;32m   1248\u001b[0m         random_state\u001b[39m=\u001b[39;49m\u001b[39mself\u001b[39;49m\u001b[39m.\u001b[39;49mrandom_state,\n\u001b[1;32m   1249\u001b[0m         coef\u001b[39m=\u001b[39;49mwarm_start_coef_,\n\u001b[1;32m   1250\u001b[0m         penalty\u001b[39m=\u001b[39;49mpenalty,\n\u001b[1;32m   1251\u001b[0m         max_squared_sum\u001b[39m=\u001b[39;49mmax_squared_sum,\n\u001b[1;32m   1252\u001b[0m         sample_weight\u001b[39m=\u001b[39;49msample_weight,\n\u001b[1;32m   1253\u001b[0m         n_threads\u001b[39m=\u001b[39;49mn_threads,\n\u001b[1;32m   1254\u001b[0m     )\n\u001b[1;32m   1255\u001b[0m     \u001b[39mfor\u001b[39;49;00m class_, warm_start_coef_ \u001b[39min\u001b[39;49;00m \u001b[39mzip\u001b[39;49m(classes_, warm_start_coef)\n\u001b[1;32m   1256\u001b[0m )\n\u001b[1;32m   1258\u001b[0m fold_coefs_, _, n_iter_ \u001b[39m=\u001b[39m \u001b[39mzip\u001b[39m(\u001b[39m*\u001b[39mfold_coefs_)\n\u001b[1;32m   1259\u001b[0m \u001b[39mself\u001b[39m\u001b[39m.\u001b[39mn_iter_ \u001b[39m=\u001b[39m np\u001b[39m.\u001b[39masarray(n_iter_, dtype\u001b[39m=\u001b[39mnp\u001b[39m.\u001b[39mint32)[:, \u001b[39m0\u001b[39m]\n",
      "File \u001b[0;32m~/.local/lib/python3.10/site-packages/joblib/parallel.py:1056\u001b[0m, in \u001b[0;36mParallel.__call__\u001b[0;34m(self, iterable)\u001b[0m\n\u001b[1;32m   1053\u001b[0m     \u001b[39mself\u001b[39m\u001b[39m.\u001b[39m_iterating \u001b[39m=\u001b[39m \u001b[39mFalse\u001b[39;00m\n\u001b[1;32m   1055\u001b[0m \u001b[39mwith\u001b[39;00m \u001b[39mself\u001b[39m\u001b[39m.\u001b[39m_backend\u001b[39m.\u001b[39mretrieval_context():\n\u001b[0;32m-> 1056\u001b[0m     \u001b[39mself\u001b[39;49m\u001b[39m.\u001b[39;49mretrieve()\n\u001b[1;32m   1057\u001b[0m \u001b[39m# Make sure that we get a last message telling us we are done\u001b[39;00m\n\u001b[1;32m   1058\u001b[0m elapsed_time \u001b[39m=\u001b[39m time\u001b[39m.\u001b[39mtime() \u001b[39m-\u001b[39m \u001b[39mself\u001b[39m\u001b[39m.\u001b[39m_start_time\n",
      "File \u001b[0;32m~/.local/lib/python3.10/site-packages/joblib/parallel.py:935\u001b[0m, in \u001b[0;36mParallel.retrieve\u001b[0;34m(self)\u001b[0m\n\u001b[1;32m    933\u001b[0m \u001b[39mtry\u001b[39;00m:\n\u001b[1;32m    934\u001b[0m     \u001b[39mif\u001b[39;00m \u001b[39mgetattr\u001b[39m(\u001b[39mself\u001b[39m\u001b[39m.\u001b[39m_backend, \u001b[39m'\u001b[39m\u001b[39msupports_timeout\u001b[39m\u001b[39m'\u001b[39m, \u001b[39mFalse\u001b[39;00m):\n\u001b[0;32m--> 935\u001b[0m         \u001b[39mself\u001b[39m\u001b[39m.\u001b[39m_output\u001b[39m.\u001b[39mextend(job\u001b[39m.\u001b[39;49mget(timeout\u001b[39m=\u001b[39;49m\u001b[39mself\u001b[39;49m\u001b[39m.\u001b[39;49mtimeout))\n\u001b[1;32m    936\u001b[0m     \u001b[39melse\u001b[39;00m:\n\u001b[1;32m    937\u001b[0m         \u001b[39mself\u001b[39m\u001b[39m.\u001b[39m_output\u001b[39m.\u001b[39mextend(job\u001b[39m.\u001b[39mget())\n",
      "File \u001b[0;32m~/.local/lib/python3.10/site-packages/joblib/_parallel_backends.py:542\u001b[0m, in \u001b[0;36mLokyBackend.wrap_future_result\u001b[0;34m(future, timeout)\u001b[0m\n\u001b[1;32m    539\u001b[0m \u001b[39m\"\"\"Wrapper for Future.result to implement the same behaviour as\u001b[39;00m\n\u001b[1;32m    540\u001b[0m \u001b[39mAsyncResults.get from multiprocessing.\"\"\"\u001b[39;00m\n\u001b[1;32m    541\u001b[0m \u001b[39mtry\u001b[39;00m:\n\u001b[0;32m--> 542\u001b[0m     \u001b[39mreturn\u001b[39;00m future\u001b[39m.\u001b[39;49mresult(timeout\u001b[39m=\u001b[39;49mtimeout)\n\u001b[1;32m    543\u001b[0m \u001b[39mexcept\u001b[39;00m CfTimeoutError \u001b[39mas\u001b[39;00m e:\n\u001b[1;32m    544\u001b[0m     \u001b[39mraise\u001b[39;00m \u001b[39mTimeoutError\u001b[39;00m \u001b[39mfrom\u001b[39;00m \u001b[39me\u001b[39;00m\n",
      "File \u001b[0;32m~/miniconda3/envs/cap/lib/python3.10/concurrent/futures/_base.py:441\u001b[0m, in \u001b[0;36mFuture.result\u001b[0;34m(self, timeout)\u001b[0m\n\u001b[1;32m    438\u001b[0m \u001b[39melif\u001b[39;00m \u001b[39mself\u001b[39m\u001b[39m.\u001b[39m_state \u001b[39m==\u001b[39m FINISHED:\n\u001b[1;32m    439\u001b[0m     \u001b[39mreturn\u001b[39;00m \u001b[39mself\u001b[39m\u001b[39m.\u001b[39m__get_result()\n\u001b[0;32m--> 441\u001b[0m \u001b[39mself\u001b[39;49m\u001b[39m.\u001b[39;49m_condition\u001b[39m.\u001b[39;49mwait(timeout)\n\u001b[1;32m    443\u001b[0m \u001b[39mif\u001b[39;00m \u001b[39mself\u001b[39m\u001b[39m.\u001b[39m_state \u001b[39min\u001b[39;00m [CANCELLED, CANCELLED_AND_NOTIFIED]:\n\u001b[1;32m    444\u001b[0m     \u001b[39mraise\u001b[39;00m CancelledError()\n",
      "File \u001b[0;32m~/miniconda3/envs/cap/lib/python3.10/threading.py:320\u001b[0m, in \u001b[0;36mCondition.wait\u001b[0;34m(self, timeout)\u001b[0m\n\u001b[1;32m    318\u001b[0m \u001b[39mtry\u001b[39;00m:    \u001b[39m# restore state no matter what (e.g., KeyboardInterrupt)\u001b[39;00m\n\u001b[1;32m    319\u001b[0m     \u001b[39mif\u001b[39;00m timeout \u001b[39mis\u001b[39;00m \u001b[39mNone\u001b[39;00m:\n\u001b[0;32m--> 320\u001b[0m         waiter\u001b[39m.\u001b[39;49macquire()\n\u001b[1;32m    321\u001b[0m         gotit \u001b[39m=\u001b[39m \u001b[39mTrue\u001b[39;00m\n\u001b[1;32m    322\u001b[0m     \u001b[39melse\u001b[39;00m:\n",
      "\u001b[0;31mKeyboardInterrupt\u001b[0m: "
     ]
    }
   ],
   "source": [
    "pipe_log = Pipeline([\n",
    "    ('tfidf', TfidfVectorizer(stop_words=stop_words, ngram_range=(1,1), min_df=2, max_df=0.95,max_features=3000)),\n",
    "    ('log', ClassifierChain(LogisticRegression(class_weight='balanced', max_iter=10_000, n_jobs=-1))),\n",
    "])\n",
    "\n",
    "pipe_log.fit(X_train.ravel(), y_train)"
   ]
  },
  {
   "cell_type": "code",
   "execution_count": 60,
   "metadata": {},
   "outputs": [
    {
     "data": {
      "text/plain": [
       "0.862863469251337"
      ]
     },
     "metadata": {},
     "output_type": "display_data"
    },
    {
     "data": {
      "text/plain": [
       "0.6139030550824732"
      ]
     },
     "metadata": {},
     "output_type": "display_data"
    }
   ],
   "source": [
    "y_pred = pipe_log.predict(X_test.ravel())\n",
    "display(accuracy_score(y_test, y_pred))\n",
    "display(f1_score(y_test, y_pred, average='weighted'))"
   ]
  },
  {
   "cell_type": "code",
   "execution_count": 61,
   "metadata": {},
   "outputs": [
    {
     "data": {
      "text/html": [
       "<style>#sk-container-id-17 {color: black;background-color: white;}#sk-container-id-17 pre{padding: 0;}#sk-container-id-17 div.sk-toggleable {background-color: white;}#sk-container-id-17 label.sk-toggleable__label {cursor: pointer;display: block;width: 100%;margin-bottom: 0;padding: 0.3em;box-sizing: border-box;text-align: center;}#sk-container-id-17 label.sk-toggleable__label-arrow:before {content: \"▸\";float: left;margin-right: 0.25em;color: #696969;}#sk-container-id-17 label.sk-toggleable__label-arrow:hover:before {color: black;}#sk-container-id-17 div.sk-estimator:hover label.sk-toggleable__label-arrow:before {color: black;}#sk-container-id-17 div.sk-toggleable__content {max-height: 0;max-width: 0;overflow: hidden;text-align: left;background-color: #f0f8ff;}#sk-container-id-17 div.sk-toggleable__content pre {margin: 0.2em;color: black;border-radius: 0.25em;background-color: #f0f8ff;}#sk-container-id-17 input.sk-toggleable__control:checked~div.sk-toggleable__content {max-height: 200px;max-width: 100%;overflow: auto;}#sk-container-id-17 input.sk-toggleable__control:checked~label.sk-toggleable__label-arrow:before {content: \"▾\";}#sk-container-id-17 div.sk-estimator input.sk-toggleable__control:checked~label.sk-toggleable__label {background-color: #d4ebff;}#sk-container-id-17 div.sk-label input.sk-toggleable__control:checked~label.sk-toggleable__label {background-color: #d4ebff;}#sk-container-id-17 input.sk-hidden--visually {border: 0;clip: rect(1px 1px 1px 1px);clip: rect(1px, 1px, 1px, 1px);height: 1px;margin: -1px;overflow: hidden;padding: 0;position: absolute;width: 1px;}#sk-container-id-17 div.sk-estimator {font-family: monospace;background-color: #f0f8ff;border: 1px dotted black;border-radius: 0.25em;box-sizing: border-box;margin-bottom: 0.5em;}#sk-container-id-17 div.sk-estimator:hover {background-color: #d4ebff;}#sk-container-id-17 div.sk-parallel-item::after {content: \"\";width: 100%;border-bottom: 1px solid gray;flex-grow: 1;}#sk-container-id-17 div.sk-label:hover label.sk-toggleable__label {background-color: #d4ebff;}#sk-container-id-17 div.sk-serial::before {content: \"\";position: absolute;border-left: 1px solid gray;box-sizing: border-box;top: 0;bottom: 0;left: 50%;z-index: 0;}#sk-container-id-17 div.sk-serial {display: flex;flex-direction: column;align-items: center;background-color: white;padding-right: 0.2em;padding-left: 0.2em;position: relative;}#sk-container-id-17 div.sk-item {position: relative;z-index: 1;}#sk-container-id-17 div.sk-parallel {display: flex;align-items: stretch;justify-content: center;background-color: white;position: relative;}#sk-container-id-17 div.sk-item::before, #sk-container-id-17 div.sk-parallel-item::before {content: \"\";position: absolute;border-left: 1px solid gray;box-sizing: border-box;top: 0;bottom: 0;left: 50%;z-index: -1;}#sk-container-id-17 div.sk-parallel-item {display: flex;flex-direction: column;z-index: 1;position: relative;background-color: white;}#sk-container-id-17 div.sk-parallel-item:first-child::after {align-self: flex-end;width: 50%;}#sk-container-id-17 div.sk-parallel-item:last-child::after {align-self: flex-start;width: 50%;}#sk-container-id-17 div.sk-parallel-item:only-child::after {width: 0;}#sk-container-id-17 div.sk-dashed-wrapped {border: 1px dashed gray;margin: 0 0.4em 0.5em 0.4em;box-sizing: border-box;padding-bottom: 0.4em;background-color: white;}#sk-container-id-17 div.sk-label label {font-family: monospace;font-weight: bold;display: inline-block;line-height: 1.2em;}#sk-container-id-17 div.sk-label-container {text-align: center;}#sk-container-id-17 div.sk-container {/* jupyter's `normalize.less` sets `[hidden] { display: none; }` but bootstrap.min.css set `[hidden] { display: none !important; }` so we also need the `!important` here to be able to override the default hidden behavior on the sphinx rendered scikit-learn.org. See: https://github.com/scikit-learn/scikit-learn/issues/21755 */display: inline-block !important;position: relative;}#sk-container-id-17 div.sk-text-repr-fallback {display: none;}</style><div id=\"sk-container-id-17\" class=\"sk-top-container\"><div class=\"sk-text-repr-fallback\"><pre>Pipeline(steps=[(&#x27;tfidf&#x27;,\n",
       "                 TfidfVectorizer(max_df=0.95, min_df=2,\n",
       "                                 stop_words={&#x27;a&#x27;, &#x27;about&#x27;, &#x27;above&#x27;, &#x27;after&#x27;,\n",
       "                                             &#x27;again&#x27;, &#x27;against&#x27;, &#x27;ain&#x27;, &#x27;all&#x27;,\n",
       "                                             &#x27;am&#x27;, &#x27;an&#x27;, &#x27;and&#x27;, &#x27;any&#x27;, &#x27;are&#x27;,\n",
       "                                             &#x27;aren&#x27;, &quot;aren&#x27;t&quot;, &#x27;as&#x27;, &#x27;at&#x27;, &#x27;be&#x27;,\n",
       "                                             &#x27;because&#x27;, &#x27;been&#x27;, &#x27;before&#x27;,\n",
       "                                             &#x27;being&#x27;, &#x27;below&#x27;, &#x27;between&#x27;,\n",
       "                                             &#x27;both&#x27;, &#x27;but&#x27;, &#x27;by&#x27;, &#x27;can&#x27;,\n",
       "                                             &#x27;couldn&#x27;, &quot;couldn&#x27;t&quot;, ...})),\n",
       "                (&#x27;log&#x27;, ClassifierChain(base_estimator=MultinomialNB()))])</pre><b>In a Jupyter environment, please rerun this cell to show the HTML representation or trust the notebook. <br />On GitHub, the HTML representation is unable to render, please try loading this page with nbviewer.org.</b></div><div class=\"sk-container\" hidden><div class=\"sk-item sk-dashed-wrapped\"><div class=\"sk-label-container\"><div class=\"sk-label sk-toggleable\"><input class=\"sk-toggleable__control sk-hidden--visually\" id=\"sk-estimator-id-69\" type=\"checkbox\" ><label for=\"sk-estimator-id-69\" class=\"sk-toggleable__label sk-toggleable__label-arrow\">Pipeline</label><div class=\"sk-toggleable__content\"><pre>Pipeline(steps=[(&#x27;tfidf&#x27;,\n",
       "                 TfidfVectorizer(max_df=0.95, min_df=2,\n",
       "                                 stop_words={&#x27;a&#x27;, &#x27;about&#x27;, &#x27;above&#x27;, &#x27;after&#x27;,\n",
       "                                             &#x27;again&#x27;, &#x27;against&#x27;, &#x27;ain&#x27;, &#x27;all&#x27;,\n",
       "                                             &#x27;am&#x27;, &#x27;an&#x27;, &#x27;and&#x27;, &#x27;any&#x27;, &#x27;are&#x27;,\n",
       "                                             &#x27;aren&#x27;, &quot;aren&#x27;t&quot;, &#x27;as&#x27;, &#x27;at&#x27;, &#x27;be&#x27;,\n",
       "                                             &#x27;because&#x27;, &#x27;been&#x27;, &#x27;before&#x27;,\n",
       "                                             &#x27;being&#x27;, &#x27;below&#x27;, &#x27;between&#x27;,\n",
       "                                             &#x27;both&#x27;, &#x27;but&#x27;, &#x27;by&#x27;, &#x27;can&#x27;,\n",
       "                                             &#x27;couldn&#x27;, &quot;couldn&#x27;t&quot;, ...})),\n",
       "                (&#x27;log&#x27;, ClassifierChain(base_estimator=MultinomialNB()))])</pre></div></div></div><div class=\"sk-serial\"><div class=\"sk-item\"><div class=\"sk-estimator sk-toggleable\"><input class=\"sk-toggleable__control sk-hidden--visually\" id=\"sk-estimator-id-70\" type=\"checkbox\" ><label for=\"sk-estimator-id-70\" class=\"sk-toggleable__label sk-toggleable__label-arrow\">TfidfVectorizer</label><div class=\"sk-toggleable__content\"><pre>TfidfVectorizer(max_df=0.95, min_df=2,\n",
       "                stop_words={&#x27;a&#x27;, &#x27;about&#x27;, &#x27;above&#x27;, &#x27;after&#x27;, &#x27;again&#x27;, &#x27;against&#x27;,\n",
       "                            &#x27;ain&#x27;, &#x27;all&#x27;, &#x27;am&#x27;, &#x27;an&#x27;, &#x27;and&#x27;, &#x27;any&#x27;, &#x27;are&#x27;,\n",
       "                            &#x27;aren&#x27;, &quot;aren&#x27;t&quot;, &#x27;as&#x27;, &#x27;at&#x27;, &#x27;be&#x27;, &#x27;because&#x27;,\n",
       "                            &#x27;been&#x27;, &#x27;before&#x27;, &#x27;being&#x27;, &#x27;below&#x27;, &#x27;between&#x27;,\n",
       "                            &#x27;both&#x27;, &#x27;but&#x27;, &#x27;by&#x27;, &#x27;can&#x27;, &#x27;couldn&#x27;, &quot;couldn&#x27;t&quot;, ...})</pre></div></div></div><div class=\"sk-item sk-dashed-wrapped\"><div class=\"sk-label-container\"><div class=\"sk-label sk-toggleable\"><input class=\"sk-toggleable__control sk-hidden--visually\" id=\"sk-estimator-id-71\" type=\"checkbox\" ><label for=\"sk-estimator-id-71\" class=\"sk-toggleable__label sk-toggleable__label-arrow\">log: ClassifierChain</label><div class=\"sk-toggleable__content\"><pre>ClassifierChain(base_estimator=MultinomialNB())</pre></div></div></div><div class=\"sk-parallel\"><div class=\"sk-parallel-item\"><div class=\"sk-item\"><div class=\"sk-label-container\"><div class=\"sk-label sk-toggleable\"><input class=\"sk-toggleable__control sk-hidden--visually\" id=\"sk-estimator-id-72\" type=\"checkbox\" ><label for=\"sk-estimator-id-72\" class=\"sk-toggleable__label sk-toggleable__label-arrow\">base_estimator: MultinomialNB</label><div class=\"sk-toggleable__content\"><pre>MultinomialNB()</pre></div></div></div><div class=\"sk-serial\"><div class=\"sk-item\"><div class=\"sk-estimator sk-toggleable\"><input class=\"sk-toggleable__control sk-hidden--visually\" id=\"sk-estimator-id-73\" type=\"checkbox\" ><label for=\"sk-estimator-id-73\" class=\"sk-toggleable__label sk-toggleable__label-arrow\">MultinomialNB</label><div class=\"sk-toggleable__content\"><pre>MultinomialNB()</pre></div></div></div></div></div></div></div></div></div></div></div></div>"
      ],
      "text/plain": [
       "Pipeline(steps=[('tfidf',\n",
       "                 TfidfVectorizer(max_df=0.95, min_df=2,\n",
       "                                 stop_words={'a', 'about', 'above', 'after',\n",
       "                                             'again', 'against', 'ain', 'all',\n",
       "                                             'am', 'an', 'and', 'any', 'are',\n",
       "                                             'aren', \"aren't\", 'as', 'at', 'be',\n",
       "                                             'because', 'been', 'before',\n",
       "                                             'being', 'below', 'between',\n",
       "                                             'both', 'but', 'by', 'can',\n",
       "                                             'couldn', \"couldn't\", ...})),\n",
       "                ('log', ClassifierChain(base_estimator=MultinomialNB()))])"
      ]
     },
     "execution_count": 61,
     "metadata": {},
     "output_type": "execute_result"
    }
   ],
   "source": [
    "pipe_nb = Pipeline([\n",
    "    ('tfidf', TfidfVectorizer(stop_words=stop_words, ngram_range=(1,1), min_df=2, max_df=0.95)),\n",
    "    ('log', ClassifierChain(MultinomialNB())),\n",
    "])\n",
    "\n",
    "pipe_nb.fit(X_train.ravel(), y_train)"
   ]
  },
  {
   "cell_type": "code",
   "execution_count": 62,
   "metadata": {},
   "outputs": [
    {
     "data": {
      "text/plain": [
       "0.9095086898395722"
      ]
     },
     "metadata": {},
     "output_type": "display_data"
    },
    {
     "data": {
      "text/plain": [
       "0.4871984457196693"
      ]
     },
     "metadata": {},
     "output_type": "display_data"
    }
   ],
   "source": [
    "y_pred = pipe_nb.predict(X_test.ravel())\n",
    "display(accuracy_score(y_test, y_pred))\n",
    "display(f1_score(y_test, y_pred, average='weighted'))"
   ]
  },
  {
   "cell_type": "code",
   "execution_count": 63,
   "metadata": {},
   "outputs": [
    {
     "data": {
      "text/html": [
       "<style>#sk-container-id-18 {color: black;background-color: white;}#sk-container-id-18 pre{padding: 0;}#sk-container-id-18 div.sk-toggleable {background-color: white;}#sk-container-id-18 label.sk-toggleable__label {cursor: pointer;display: block;width: 100%;margin-bottom: 0;padding: 0.3em;box-sizing: border-box;text-align: center;}#sk-container-id-18 label.sk-toggleable__label-arrow:before {content: \"▸\";float: left;margin-right: 0.25em;color: #696969;}#sk-container-id-18 label.sk-toggleable__label-arrow:hover:before {color: black;}#sk-container-id-18 div.sk-estimator:hover label.sk-toggleable__label-arrow:before {color: black;}#sk-container-id-18 div.sk-toggleable__content {max-height: 0;max-width: 0;overflow: hidden;text-align: left;background-color: #f0f8ff;}#sk-container-id-18 div.sk-toggleable__content pre {margin: 0.2em;color: black;border-radius: 0.25em;background-color: #f0f8ff;}#sk-container-id-18 input.sk-toggleable__control:checked~div.sk-toggleable__content {max-height: 200px;max-width: 100%;overflow: auto;}#sk-container-id-18 input.sk-toggleable__control:checked~label.sk-toggleable__label-arrow:before {content: \"▾\";}#sk-container-id-18 div.sk-estimator input.sk-toggleable__control:checked~label.sk-toggleable__label {background-color: #d4ebff;}#sk-container-id-18 div.sk-label input.sk-toggleable__control:checked~label.sk-toggleable__label {background-color: #d4ebff;}#sk-container-id-18 input.sk-hidden--visually {border: 0;clip: rect(1px 1px 1px 1px);clip: rect(1px, 1px, 1px, 1px);height: 1px;margin: -1px;overflow: hidden;padding: 0;position: absolute;width: 1px;}#sk-container-id-18 div.sk-estimator {font-family: monospace;background-color: #f0f8ff;border: 1px dotted black;border-radius: 0.25em;box-sizing: border-box;margin-bottom: 0.5em;}#sk-container-id-18 div.sk-estimator:hover {background-color: #d4ebff;}#sk-container-id-18 div.sk-parallel-item::after {content: \"\";width: 100%;border-bottom: 1px solid gray;flex-grow: 1;}#sk-container-id-18 div.sk-label:hover label.sk-toggleable__label {background-color: #d4ebff;}#sk-container-id-18 div.sk-serial::before {content: \"\";position: absolute;border-left: 1px solid gray;box-sizing: border-box;top: 0;bottom: 0;left: 50%;z-index: 0;}#sk-container-id-18 div.sk-serial {display: flex;flex-direction: column;align-items: center;background-color: white;padding-right: 0.2em;padding-left: 0.2em;position: relative;}#sk-container-id-18 div.sk-item {position: relative;z-index: 1;}#sk-container-id-18 div.sk-parallel {display: flex;align-items: stretch;justify-content: center;background-color: white;position: relative;}#sk-container-id-18 div.sk-item::before, #sk-container-id-18 div.sk-parallel-item::before {content: \"\";position: absolute;border-left: 1px solid gray;box-sizing: border-box;top: 0;bottom: 0;left: 50%;z-index: -1;}#sk-container-id-18 div.sk-parallel-item {display: flex;flex-direction: column;z-index: 1;position: relative;background-color: white;}#sk-container-id-18 div.sk-parallel-item:first-child::after {align-self: flex-end;width: 50%;}#sk-container-id-18 div.sk-parallel-item:last-child::after {align-self: flex-start;width: 50%;}#sk-container-id-18 div.sk-parallel-item:only-child::after {width: 0;}#sk-container-id-18 div.sk-dashed-wrapped {border: 1px dashed gray;margin: 0 0.4em 0.5em 0.4em;box-sizing: border-box;padding-bottom: 0.4em;background-color: white;}#sk-container-id-18 div.sk-label label {font-family: monospace;font-weight: bold;display: inline-block;line-height: 1.2em;}#sk-container-id-18 div.sk-label-container {text-align: center;}#sk-container-id-18 div.sk-container {/* jupyter's `normalize.less` sets `[hidden] { display: none; }` but bootstrap.min.css set `[hidden] { display: none !important; }` so we also need the `!important` here to be able to override the default hidden behavior on the sphinx rendered scikit-learn.org. See: https://github.com/scikit-learn/scikit-learn/issues/21755 */display: inline-block !important;position: relative;}#sk-container-id-18 div.sk-text-repr-fallback {display: none;}</style><div id=\"sk-container-id-18\" class=\"sk-top-container\"><div class=\"sk-text-repr-fallback\"><pre>Pipeline(steps=[(&#x27;tfidf&#x27;,\n",
       "                 TfidfVectorizer(max_df=0.95, min_df=2,\n",
       "                                 stop_words={&#x27;a&#x27;, &#x27;about&#x27;, &#x27;above&#x27;, &#x27;after&#x27;,\n",
       "                                             &#x27;again&#x27;, &#x27;against&#x27;, &#x27;ain&#x27;, &#x27;all&#x27;,\n",
       "                                             &#x27;am&#x27;, &#x27;an&#x27;, &#x27;and&#x27;, &#x27;any&#x27;, &#x27;are&#x27;,\n",
       "                                             &#x27;aren&#x27;, &quot;aren&#x27;t&quot;, &#x27;as&#x27;, &#x27;at&#x27;, &#x27;be&#x27;,\n",
       "                                             &#x27;because&#x27;, &#x27;been&#x27;, &#x27;before&#x27;,\n",
       "                                             &#x27;being&#x27;, &#x27;below&#x27;, &#x27;between&#x27;,\n",
       "                                             &#x27;both&#x27;, &#x27;but&#x27;, &#x27;by&#x27;, &#x27;can&#x27;,\n",
       "                                             &#x27;couldn&#x27;, &quot;couldn&#x27;t&quot;, ...})),\n",
       "                (&#x27;log&#x27;,\n",
       "                 ClassifierChain(base_estimator=LinearSVC(class_weight=&#x27;balanced&#x27;,\n",
       "                                                          max_iter=10000)))])</pre><b>In a Jupyter environment, please rerun this cell to show the HTML representation or trust the notebook. <br />On GitHub, the HTML representation is unable to render, please try loading this page with nbviewer.org.</b></div><div class=\"sk-container\" hidden><div class=\"sk-item sk-dashed-wrapped\"><div class=\"sk-label-container\"><div class=\"sk-label sk-toggleable\"><input class=\"sk-toggleable__control sk-hidden--visually\" id=\"sk-estimator-id-74\" type=\"checkbox\" ><label for=\"sk-estimator-id-74\" class=\"sk-toggleable__label sk-toggleable__label-arrow\">Pipeline</label><div class=\"sk-toggleable__content\"><pre>Pipeline(steps=[(&#x27;tfidf&#x27;,\n",
       "                 TfidfVectorizer(max_df=0.95, min_df=2,\n",
       "                                 stop_words={&#x27;a&#x27;, &#x27;about&#x27;, &#x27;above&#x27;, &#x27;after&#x27;,\n",
       "                                             &#x27;again&#x27;, &#x27;against&#x27;, &#x27;ain&#x27;, &#x27;all&#x27;,\n",
       "                                             &#x27;am&#x27;, &#x27;an&#x27;, &#x27;and&#x27;, &#x27;any&#x27;, &#x27;are&#x27;,\n",
       "                                             &#x27;aren&#x27;, &quot;aren&#x27;t&quot;, &#x27;as&#x27;, &#x27;at&#x27;, &#x27;be&#x27;,\n",
       "                                             &#x27;because&#x27;, &#x27;been&#x27;, &#x27;before&#x27;,\n",
       "                                             &#x27;being&#x27;, &#x27;below&#x27;, &#x27;between&#x27;,\n",
       "                                             &#x27;both&#x27;, &#x27;but&#x27;, &#x27;by&#x27;, &#x27;can&#x27;,\n",
       "                                             &#x27;couldn&#x27;, &quot;couldn&#x27;t&quot;, ...})),\n",
       "                (&#x27;log&#x27;,\n",
       "                 ClassifierChain(base_estimator=LinearSVC(class_weight=&#x27;balanced&#x27;,\n",
       "                                                          max_iter=10000)))])</pre></div></div></div><div class=\"sk-serial\"><div class=\"sk-item\"><div class=\"sk-estimator sk-toggleable\"><input class=\"sk-toggleable__control sk-hidden--visually\" id=\"sk-estimator-id-75\" type=\"checkbox\" ><label for=\"sk-estimator-id-75\" class=\"sk-toggleable__label sk-toggleable__label-arrow\">TfidfVectorizer</label><div class=\"sk-toggleable__content\"><pre>TfidfVectorizer(max_df=0.95, min_df=2,\n",
       "                stop_words={&#x27;a&#x27;, &#x27;about&#x27;, &#x27;above&#x27;, &#x27;after&#x27;, &#x27;again&#x27;, &#x27;against&#x27;,\n",
       "                            &#x27;ain&#x27;, &#x27;all&#x27;, &#x27;am&#x27;, &#x27;an&#x27;, &#x27;and&#x27;, &#x27;any&#x27;, &#x27;are&#x27;,\n",
       "                            &#x27;aren&#x27;, &quot;aren&#x27;t&quot;, &#x27;as&#x27;, &#x27;at&#x27;, &#x27;be&#x27;, &#x27;because&#x27;,\n",
       "                            &#x27;been&#x27;, &#x27;before&#x27;, &#x27;being&#x27;, &#x27;below&#x27;, &#x27;between&#x27;,\n",
       "                            &#x27;both&#x27;, &#x27;but&#x27;, &#x27;by&#x27;, &#x27;can&#x27;, &#x27;couldn&#x27;, &quot;couldn&#x27;t&quot;, ...})</pre></div></div></div><div class=\"sk-item sk-dashed-wrapped\"><div class=\"sk-label-container\"><div class=\"sk-label sk-toggleable\"><input class=\"sk-toggleable__control sk-hidden--visually\" id=\"sk-estimator-id-76\" type=\"checkbox\" ><label for=\"sk-estimator-id-76\" class=\"sk-toggleable__label sk-toggleable__label-arrow\">log: ClassifierChain</label><div class=\"sk-toggleable__content\"><pre>ClassifierChain(base_estimator=LinearSVC(class_weight=&#x27;balanced&#x27;,\n",
       "                                         max_iter=10000))</pre></div></div></div><div class=\"sk-parallel\"><div class=\"sk-parallel-item\"><div class=\"sk-item\"><div class=\"sk-label-container\"><div class=\"sk-label sk-toggleable\"><input class=\"sk-toggleable__control sk-hidden--visually\" id=\"sk-estimator-id-77\" type=\"checkbox\" ><label for=\"sk-estimator-id-77\" class=\"sk-toggleable__label sk-toggleable__label-arrow\">base_estimator: LinearSVC</label><div class=\"sk-toggleable__content\"><pre>LinearSVC(class_weight=&#x27;balanced&#x27;, max_iter=10000)</pre></div></div></div><div class=\"sk-serial\"><div class=\"sk-item\"><div class=\"sk-estimator sk-toggleable\"><input class=\"sk-toggleable__control sk-hidden--visually\" id=\"sk-estimator-id-78\" type=\"checkbox\" ><label for=\"sk-estimator-id-78\" class=\"sk-toggleable__label sk-toggleable__label-arrow\">LinearSVC</label><div class=\"sk-toggleable__content\"><pre>LinearSVC(class_weight=&#x27;balanced&#x27;, max_iter=10000)</pre></div></div></div></div></div></div></div></div></div></div></div></div>"
      ],
      "text/plain": [
       "Pipeline(steps=[('tfidf',\n",
       "                 TfidfVectorizer(max_df=0.95, min_df=2,\n",
       "                                 stop_words={'a', 'about', 'above', 'after',\n",
       "                                             'again', 'against', 'ain', 'all',\n",
       "                                             'am', 'an', 'and', 'any', 'are',\n",
       "                                             'aren', \"aren't\", 'as', 'at', 'be',\n",
       "                                             'because', 'been', 'before',\n",
       "                                             'being', 'below', 'between',\n",
       "                                             'both', 'but', 'by', 'can',\n",
       "                                             'couldn', \"couldn't\", ...})),\n",
       "                ('log',\n",
       "                 ClassifierChain(base_estimator=LinearSVC(class_weight='balanced',\n",
       "                                                          max_iter=10000)))])"
      ]
     },
     "execution_count": 63,
     "metadata": {},
     "output_type": "execute_result"
    }
   ],
   "source": [
    "pipe_svc = Pipeline([\n",
    "    ('tfidf', TfidfVectorizer(stop_words=stop_words, ngram_range=(1,1), min_df=2, max_df=0.95)),\n",
    "    ('log', ClassifierChain(LinearSVC(class_weight='balanced', max_iter=10_000))),\n",
    "])\n",
    "\n",
    "pipe_svc.fit(X_train.ravel(), y_train)"
   ]
  },
  {
   "cell_type": "code",
   "execution_count": 64,
   "metadata": {},
   "outputs": [
    {
     "data": {
      "text/plain": [
       "0.8839613970588235"
      ]
     },
     "metadata": {},
     "output_type": "display_data"
    },
    {
     "data": {
      "text/plain": [
       "0.6748073526295787"
      ]
     },
     "metadata": {},
     "output_type": "display_data"
    }
   ],
   "source": [
    "y_pred = pipe_svc.predict(X_test.ravel())\n",
    "display(accuracy_score(y_test, y_pred))\n",
    "display(f1_score(y_test, y_pred, average='weighted'))"
   ]
  },
  {
   "cell_type": "markdown",
   "metadata": {},
   "source": [
    "# Trying out the adapted algorithm"
   ]
  },
  {
   "cell_type": "markdown",
   "metadata": {},
   "source": [
    "## Label Powerset"
   ]
  },
  {
   "cell_type": "code",
   "execution_count": 6,
   "metadata": {},
   "outputs": [
    {
     "data": {
      "text/html": [
       "<style>#sk-container-id-1 {color: black;background-color: white;}#sk-container-id-1 pre{padding: 0;}#sk-container-id-1 div.sk-toggleable {background-color: white;}#sk-container-id-1 label.sk-toggleable__label {cursor: pointer;display: block;width: 100%;margin-bottom: 0;padding: 0.3em;box-sizing: border-box;text-align: center;}#sk-container-id-1 label.sk-toggleable__label-arrow:before {content: \"▸\";float: left;margin-right: 0.25em;color: #696969;}#sk-container-id-1 label.sk-toggleable__label-arrow:hover:before {color: black;}#sk-container-id-1 div.sk-estimator:hover label.sk-toggleable__label-arrow:before {color: black;}#sk-container-id-1 div.sk-toggleable__content {max-height: 0;max-width: 0;overflow: hidden;text-align: left;background-color: #f0f8ff;}#sk-container-id-1 div.sk-toggleable__content pre {margin: 0.2em;color: black;border-radius: 0.25em;background-color: #f0f8ff;}#sk-container-id-1 input.sk-toggleable__control:checked~div.sk-toggleable__content {max-height: 200px;max-width: 100%;overflow: auto;}#sk-container-id-1 input.sk-toggleable__control:checked~label.sk-toggleable__label-arrow:before {content: \"▾\";}#sk-container-id-1 div.sk-estimator input.sk-toggleable__control:checked~label.sk-toggleable__label {background-color: #d4ebff;}#sk-container-id-1 div.sk-label input.sk-toggleable__control:checked~label.sk-toggleable__label {background-color: #d4ebff;}#sk-container-id-1 input.sk-hidden--visually {border: 0;clip: rect(1px 1px 1px 1px);clip: rect(1px, 1px, 1px, 1px);height: 1px;margin: -1px;overflow: hidden;padding: 0;position: absolute;width: 1px;}#sk-container-id-1 div.sk-estimator {font-family: monospace;background-color: #f0f8ff;border: 1px dotted black;border-radius: 0.25em;box-sizing: border-box;margin-bottom: 0.5em;}#sk-container-id-1 div.sk-estimator:hover {background-color: #d4ebff;}#sk-container-id-1 div.sk-parallel-item::after {content: \"\";width: 100%;border-bottom: 1px solid gray;flex-grow: 1;}#sk-container-id-1 div.sk-label:hover label.sk-toggleable__label {background-color: #d4ebff;}#sk-container-id-1 div.sk-serial::before {content: \"\";position: absolute;border-left: 1px solid gray;box-sizing: border-box;top: 0;bottom: 0;left: 50%;z-index: 0;}#sk-container-id-1 div.sk-serial {display: flex;flex-direction: column;align-items: center;background-color: white;padding-right: 0.2em;padding-left: 0.2em;position: relative;}#sk-container-id-1 div.sk-item {position: relative;z-index: 1;}#sk-container-id-1 div.sk-parallel {display: flex;align-items: stretch;justify-content: center;background-color: white;position: relative;}#sk-container-id-1 div.sk-item::before, #sk-container-id-1 div.sk-parallel-item::before {content: \"\";position: absolute;border-left: 1px solid gray;box-sizing: border-box;top: 0;bottom: 0;left: 50%;z-index: -1;}#sk-container-id-1 div.sk-parallel-item {display: flex;flex-direction: column;z-index: 1;position: relative;background-color: white;}#sk-container-id-1 div.sk-parallel-item:first-child::after {align-self: flex-end;width: 50%;}#sk-container-id-1 div.sk-parallel-item:last-child::after {align-self: flex-start;width: 50%;}#sk-container-id-1 div.sk-parallel-item:only-child::after {width: 0;}#sk-container-id-1 div.sk-dashed-wrapped {border: 1px dashed gray;margin: 0 0.4em 0.5em 0.4em;box-sizing: border-box;padding-bottom: 0.4em;background-color: white;}#sk-container-id-1 div.sk-label label {font-family: monospace;font-weight: bold;display: inline-block;line-height: 1.2em;}#sk-container-id-1 div.sk-label-container {text-align: center;}#sk-container-id-1 div.sk-container {/* jupyter's `normalize.less` sets `[hidden] { display: none; }` but bootstrap.min.css set `[hidden] { display: none !important; }` so we also need the `!important` here to be able to override the default hidden behavior on the sphinx rendered scikit-learn.org. See: https://github.com/scikit-learn/scikit-learn/issues/21755 */display: inline-block !important;position: relative;}#sk-container-id-1 div.sk-text-repr-fallback {display: none;}</style><div id=\"sk-container-id-1\" class=\"sk-top-container\"><div class=\"sk-text-repr-fallback\"><pre>Pipeline(steps=[(&#x27;tfidf&#x27;,\n",
       "                 TfidfVectorizer(max_df=0.95, max_features=3000, min_df=2,\n",
       "                                 stop_words={&#x27;a&#x27;, &#x27;about&#x27;, &#x27;above&#x27;, &#x27;after&#x27;,\n",
       "                                             &#x27;again&#x27;, &#x27;against&#x27;, &#x27;ain&#x27;, &#x27;all&#x27;,\n",
       "                                             &#x27;am&#x27;, &#x27;an&#x27;, &#x27;and&#x27;, &#x27;any&#x27;, &#x27;are&#x27;,\n",
       "                                             &#x27;aren&#x27;, &quot;aren&#x27;t&quot;, &#x27;as&#x27;, &#x27;at&#x27;, &#x27;be&#x27;,\n",
       "                                             &#x27;because&#x27;, &#x27;been&#x27;, &#x27;before&#x27;,\n",
       "                                             &#x27;being&#x27;, &#x27;below&#x27;, &#x27;between&#x27;,\n",
       "                                             &#x27;both&#x27;, &#x27;but&#x27;, &#x27;by&#x27;, &#x27;can&#x27;,\n",
       "                                             &#x27;couldn&#x27;, &quot;couldn&#x27;t&quot;, ...})),\n",
       "                (&#x27;log&#x27;,\n",
       "                 LabelPowerset(classifier=LogisticRegression(class_weight=&#x27;balanced&#x27;,\n",
       "                                                             max_iter=10000),\n",
       "                               require_dense=[True, True]))])</pre><b>In a Jupyter environment, please rerun this cell to show the HTML representation or trust the notebook. <br />On GitHub, the HTML representation is unable to render, please try loading this page with nbviewer.org.</b></div><div class=\"sk-container\" hidden><div class=\"sk-item sk-dashed-wrapped\"><div class=\"sk-label-container\"><div class=\"sk-label sk-toggleable\"><input class=\"sk-toggleable__control sk-hidden--visually\" id=\"sk-estimator-id-1\" type=\"checkbox\" ><label for=\"sk-estimator-id-1\" class=\"sk-toggleable__label sk-toggleable__label-arrow\">Pipeline</label><div class=\"sk-toggleable__content\"><pre>Pipeline(steps=[(&#x27;tfidf&#x27;,\n",
       "                 TfidfVectorizer(max_df=0.95, max_features=3000, min_df=2,\n",
       "                                 stop_words={&#x27;a&#x27;, &#x27;about&#x27;, &#x27;above&#x27;, &#x27;after&#x27;,\n",
       "                                             &#x27;again&#x27;, &#x27;against&#x27;, &#x27;ain&#x27;, &#x27;all&#x27;,\n",
       "                                             &#x27;am&#x27;, &#x27;an&#x27;, &#x27;and&#x27;, &#x27;any&#x27;, &#x27;are&#x27;,\n",
       "                                             &#x27;aren&#x27;, &quot;aren&#x27;t&quot;, &#x27;as&#x27;, &#x27;at&#x27;, &#x27;be&#x27;,\n",
       "                                             &#x27;because&#x27;, &#x27;been&#x27;, &#x27;before&#x27;,\n",
       "                                             &#x27;being&#x27;, &#x27;below&#x27;, &#x27;between&#x27;,\n",
       "                                             &#x27;both&#x27;, &#x27;but&#x27;, &#x27;by&#x27;, &#x27;can&#x27;,\n",
       "                                             &#x27;couldn&#x27;, &quot;couldn&#x27;t&quot;, ...})),\n",
       "                (&#x27;log&#x27;,\n",
       "                 LabelPowerset(classifier=LogisticRegression(class_weight=&#x27;balanced&#x27;,\n",
       "                                                             max_iter=10000),\n",
       "                               require_dense=[True, True]))])</pre></div></div></div><div class=\"sk-serial\"><div class=\"sk-item\"><div class=\"sk-estimator sk-toggleable\"><input class=\"sk-toggleable__control sk-hidden--visually\" id=\"sk-estimator-id-2\" type=\"checkbox\" ><label for=\"sk-estimator-id-2\" class=\"sk-toggleable__label sk-toggleable__label-arrow\">TfidfVectorizer</label><div class=\"sk-toggleable__content\"><pre>TfidfVectorizer(max_df=0.95, max_features=3000, min_df=2,\n",
       "                stop_words={&#x27;a&#x27;, &#x27;about&#x27;, &#x27;above&#x27;, &#x27;after&#x27;, &#x27;again&#x27;, &#x27;against&#x27;,\n",
       "                            &#x27;ain&#x27;, &#x27;all&#x27;, &#x27;am&#x27;, &#x27;an&#x27;, &#x27;and&#x27;, &#x27;any&#x27;, &#x27;are&#x27;,\n",
       "                            &#x27;aren&#x27;, &quot;aren&#x27;t&quot;, &#x27;as&#x27;, &#x27;at&#x27;, &#x27;be&#x27;, &#x27;because&#x27;,\n",
       "                            &#x27;been&#x27;, &#x27;before&#x27;, &#x27;being&#x27;, &#x27;below&#x27;, &#x27;between&#x27;,\n",
       "                            &#x27;both&#x27;, &#x27;but&#x27;, &#x27;by&#x27;, &#x27;can&#x27;, &#x27;couldn&#x27;, &quot;couldn&#x27;t&quot;, ...})</pre></div></div></div><div class=\"sk-item sk-dashed-wrapped\"><div class=\"sk-label-container\"><div class=\"sk-label sk-toggleable\"><input class=\"sk-toggleable__control sk-hidden--visually\" id=\"sk-estimator-id-3\" type=\"checkbox\" ><label for=\"sk-estimator-id-3\" class=\"sk-toggleable__label sk-toggleable__label-arrow\">log: LabelPowerset</label><div class=\"sk-toggleable__content\"><pre>LabelPowerset(classifier=LogisticRegression(class_weight=&#x27;balanced&#x27;,\n",
       "                                            max_iter=10000),\n",
       "              require_dense=[True, True])</pre></div></div></div><div class=\"sk-parallel\"><div class=\"sk-parallel-item\"><div class=\"sk-item\"><div class=\"sk-label-container\"><div class=\"sk-label sk-toggleable\"><input class=\"sk-toggleable__control sk-hidden--visually\" id=\"sk-estimator-id-4\" type=\"checkbox\" ><label for=\"sk-estimator-id-4\" class=\"sk-toggleable__label sk-toggleable__label-arrow\">classifier: LogisticRegression</label><div class=\"sk-toggleable__content\"><pre>LogisticRegression(class_weight=&#x27;balanced&#x27;, max_iter=10000)</pre></div></div></div><div class=\"sk-serial\"><div class=\"sk-item\"><div class=\"sk-estimator sk-toggleable\"><input class=\"sk-toggleable__control sk-hidden--visually\" id=\"sk-estimator-id-5\" type=\"checkbox\" ><label for=\"sk-estimator-id-5\" class=\"sk-toggleable__label sk-toggleable__label-arrow\">LogisticRegression</label><div class=\"sk-toggleable__content\"><pre>LogisticRegression(class_weight=&#x27;balanced&#x27;, max_iter=10000)</pre></div></div></div></div></div></div></div></div></div></div></div></div>"
      ],
      "text/plain": [
       "Pipeline(steps=[('tfidf',\n",
       "                 TfidfVectorizer(max_df=0.95, max_features=3000, min_df=2,\n",
       "                                 stop_words={'a', 'about', 'above', 'after',\n",
       "                                             'again', 'against', 'ain', 'all',\n",
       "                                             'am', 'an', 'and', 'any', 'are',\n",
       "                                             'aren', \"aren't\", 'as', 'at', 'be',\n",
       "                                             'because', 'been', 'before',\n",
       "                                             'being', 'below', 'between',\n",
       "                                             'both', 'but', 'by', 'can',\n",
       "                                             'couldn', \"couldn't\", ...})),\n",
       "                ('log',\n",
       "                 LabelPowerset(classifier=LogisticRegression(class_weight='balanced',\n",
       "                                                             max_iter=10000),\n",
       "                               require_dense=[True, True]))])"
      ]
     },
     "execution_count": 6,
     "metadata": {},
     "output_type": "execute_result"
    }
   ],
   "source": [
    "pipe_log = Pipeline([\n",
    "    ('tfidf', TfidfVectorizer(stop_words=stop_words, ngram_range=(1,1), min_df=2, max_df=0.95, max_features=3000)),\n",
    "    ('log', LabelPowerset(LogisticRegression(class_weight='balanced', max_iter=10_000))),\n",
    "])\n",
    "\n",
    "pipe_log.fit(X_train.ravel(), y_train)"
   ]
  },
  {
   "cell_type": "code",
   "execution_count": 8,
   "metadata": {},
   "outputs": [
    {
     "data": {
      "text/plain": [
       "0.7514622326203209"
      ]
     },
     "metadata": {},
     "output_type": "display_data"
    },
    {
     "data": {
      "text/plain": [
       "0.47729799265999495"
      ]
     },
     "metadata": {},
     "output_type": "display_data"
    }
   ],
   "source": [
    "y_pred = pipe_log.predict(X_test.ravel())\n",
    "display(accuracy_score(y_test, y_pred))\n",
    "display(f1_score(y_test, y_pred, average='weighted'))"
   ]
  },
  {
   "cell_type": "code",
   "execution_count": 8,
   "metadata": {},
   "outputs": [
    {
     "data": {
      "text/html": [
       "<style>#sk-container-id-1 {color: black;background-color: white;}#sk-container-id-1 pre{padding: 0;}#sk-container-id-1 div.sk-toggleable {background-color: white;}#sk-container-id-1 label.sk-toggleable__label {cursor: pointer;display: block;width: 100%;margin-bottom: 0;padding: 0.3em;box-sizing: border-box;text-align: center;}#sk-container-id-1 label.sk-toggleable__label-arrow:before {content: \"▸\";float: left;margin-right: 0.25em;color: #696969;}#sk-container-id-1 label.sk-toggleable__label-arrow:hover:before {color: black;}#sk-container-id-1 div.sk-estimator:hover label.sk-toggleable__label-arrow:before {color: black;}#sk-container-id-1 div.sk-toggleable__content {max-height: 0;max-width: 0;overflow: hidden;text-align: left;background-color: #f0f8ff;}#sk-container-id-1 div.sk-toggleable__content pre {margin: 0.2em;color: black;border-radius: 0.25em;background-color: #f0f8ff;}#sk-container-id-1 input.sk-toggleable__control:checked~div.sk-toggleable__content {max-height: 200px;max-width: 100%;overflow: auto;}#sk-container-id-1 input.sk-toggleable__control:checked~label.sk-toggleable__label-arrow:before {content: \"▾\";}#sk-container-id-1 div.sk-estimator input.sk-toggleable__control:checked~label.sk-toggleable__label {background-color: #d4ebff;}#sk-container-id-1 div.sk-label input.sk-toggleable__control:checked~label.sk-toggleable__label {background-color: #d4ebff;}#sk-container-id-1 input.sk-hidden--visually {border: 0;clip: rect(1px 1px 1px 1px);clip: rect(1px, 1px, 1px, 1px);height: 1px;margin: -1px;overflow: hidden;padding: 0;position: absolute;width: 1px;}#sk-container-id-1 div.sk-estimator {font-family: monospace;background-color: #f0f8ff;border: 1px dotted black;border-radius: 0.25em;box-sizing: border-box;margin-bottom: 0.5em;}#sk-container-id-1 div.sk-estimator:hover {background-color: #d4ebff;}#sk-container-id-1 div.sk-parallel-item::after {content: \"\";width: 100%;border-bottom: 1px solid gray;flex-grow: 1;}#sk-container-id-1 div.sk-label:hover label.sk-toggleable__label {background-color: #d4ebff;}#sk-container-id-1 div.sk-serial::before {content: \"\";position: absolute;border-left: 1px solid gray;box-sizing: border-box;top: 0;bottom: 0;left: 50%;z-index: 0;}#sk-container-id-1 div.sk-serial {display: flex;flex-direction: column;align-items: center;background-color: white;padding-right: 0.2em;padding-left: 0.2em;position: relative;}#sk-container-id-1 div.sk-item {position: relative;z-index: 1;}#sk-container-id-1 div.sk-parallel {display: flex;align-items: stretch;justify-content: center;background-color: white;position: relative;}#sk-container-id-1 div.sk-item::before, #sk-container-id-1 div.sk-parallel-item::before {content: \"\";position: absolute;border-left: 1px solid gray;box-sizing: border-box;top: 0;bottom: 0;left: 50%;z-index: -1;}#sk-container-id-1 div.sk-parallel-item {display: flex;flex-direction: column;z-index: 1;position: relative;background-color: white;}#sk-container-id-1 div.sk-parallel-item:first-child::after {align-self: flex-end;width: 50%;}#sk-container-id-1 div.sk-parallel-item:last-child::after {align-self: flex-start;width: 50%;}#sk-container-id-1 div.sk-parallel-item:only-child::after {width: 0;}#sk-container-id-1 div.sk-dashed-wrapped {border: 1px dashed gray;margin: 0 0.4em 0.5em 0.4em;box-sizing: border-box;padding-bottom: 0.4em;background-color: white;}#sk-container-id-1 div.sk-label label {font-family: monospace;font-weight: bold;display: inline-block;line-height: 1.2em;}#sk-container-id-1 div.sk-label-container {text-align: center;}#sk-container-id-1 div.sk-container {/* jupyter's `normalize.less` sets `[hidden] { display: none; }` but bootstrap.min.css set `[hidden] { display: none !important; }` so we also need the `!important` here to be able to override the default hidden behavior on the sphinx rendered scikit-learn.org. See: https://github.com/scikit-learn/scikit-learn/issues/21755 */display: inline-block !important;position: relative;}#sk-container-id-1 div.sk-text-repr-fallback {display: none;}</style><div id=\"sk-container-id-1\" class=\"sk-top-container\"><div class=\"sk-text-repr-fallback\"><pre>Pipeline(steps=[(&#x27;tfidf&#x27;,\n",
       "                 TfidfVectorizer(max_df=0.95, max_features=3000, min_df=2,\n",
       "                                 stop_words={&#x27;a&#x27;, &#x27;about&#x27;, &#x27;above&#x27;, &#x27;after&#x27;,\n",
       "                                             &#x27;again&#x27;, &#x27;against&#x27;, &#x27;ain&#x27;, &#x27;all&#x27;,\n",
       "                                             &#x27;am&#x27;, &#x27;an&#x27;, &#x27;and&#x27;, &#x27;any&#x27;, &#x27;are&#x27;,\n",
       "                                             &#x27;aren&#x27;, &quot;aren&#x27;t&quot;, &#x27;as&#x27;, &#x27;at&#x27;, &#x27;be&#x27;,\n",
       "                                             &#x27;because&#x27;, &#x27;been&#x27;, &#x27;before&#x27;,\n",
       "                                             &#x27;being&#x27;, &#x27;below&#x27;, &#x27;between&#x27;,\n",
       "                                             &#x27;both&#x27;, &#x27;but&#x27;, &#x27;by&#x27;, &#x27;can&#x27;,\n",
       "                                             &#x27;couldn&#x27;, &quot;couldn&#x27;t&quot;, ...})),\n",
       "                (&#x27;log&#x27;,\n",
       "                 LabelPowerset(classifier=MultinomialNB(),\n",
       "                               require_dense=[True, True]))])</pre><b>In a Jupyter environment, please rerun this cell to show the HTML representation or trust the notebook. <br />On GitHub, the HTML representation is unable to render, please try loading this page with nbviewer.org.</b></div><div class=\"sk-container\" hidden><div class=\"sk-item sk-dashed-wrapped\"><div class=\"sk-label-container\"><div class=\"sk-label sk-toggleable\"><input class=\"sk-toggleable__control sk-hidden--visually\" id=\"sk-estimator-id-1\" type=\"checkbox\" ><label for=\"sk-estimator-id-1\" class=\"sk-toggleable__label sk-toggleable__label-arrow\">Pipeline</label><div class=\"sk-toggleable__content\"><pre>Pipeline(steps=[(&#x27;tfidf&#x27;,\n",
       "                 TfidfVectorizer(max_df=0.95, max_features=3000, min_df=2,\n",
       "                                 stop_words={&#x27;a&#x27;, &#x27;about&#x27;, &#x27;above&#x27;, &#x27;after&#x27;,\n",
       "                                             &#x27;again&#x27;, &#x27;against&#x27;, &#x27;ain&#x27;, &#x27;all&#x27;,\n",
       "                                             &#x27;am&#x27;, &#x27;an&#x27;, &#x27;and&#x27;, &#x27;any&#x27;, &#x27;are&#x27;,\n",
       "                                             &#x27;aren&#x27;, &quot;aren&#x27;t&quot;, &#x27;as&#x27;, &#x27;at&#x27;, &#x27;be&#x27;,\n",
       "                                             &#x27;because&#x27;, &#x27;been&#x27;, &#x27;before&#x27;,\n",
       "                                             &#x27;being&#x27;, &#x27;below&#x27;, &#x27;between&#x27;,\n",
       "                                             &#x27;both&#x27;, &#x27;but&#x27;, &#x27;by&#x27;, &#x27;can&#x27;,\n",
       "                                             &#x27;couldn&#x27;, &quot;couldn&#x27;t&quot;, ...})),\n",
       "                (&#x27;log&#x27;,\n",
       "                 LabelPowerset(classifier=MultinomialNB(),\n",
       "                               require_dense=[True, True]))])</pre></div></div></div><div class=\"sk-serial\"><div class=\"sk-item\"><div class=\"sk-estimator sk-toggleable\"><input class=\"sk-toggleable__control sk-hidden--visually\" id=\"sk-estimator-id-2\" type=\"checkbox\" ><label for=\"sk-estimator-id-2\" class=\"sk-toggleable__label sk-toggleable__label-arrow\">TfidfVectorizer</label><div class=\"sk-toggleable__content\"><pre>TfidfVectorizer(max_df=0.95, max_features=3000, min_df=2,\n",
       "                stop_words={&#x27;a&#x27;, &#x27;about&#x27;, &#x27;above&#x27;, &#x27;after&#x27;, &#x27;again&#x27;, &#x27;against&#x27;,\n",
       "                            &#x27;ain&#x27;, &#x27;all&#x27;, &#x27;am&#x27;, &#x27;an&#x27;, &#x27;and&#x27;, &#x27;any&#x27;, &#x27;are&#x27;,\n",
       "                            &#x27;aren&#x27;, &quot;aren&#x27;t&quot;, &#x27;as&#x27;, &#x27;at&#x27;, &#x27;be&#x27;, &#x27;because&#x27;,\n",
       "                            &#x27;been&#x27;, &#x27;before&#x27;, &#x27;being&#x27;, &#x27;below&#x27;, &#x27;between&#x27;,\n",
       "                            &#x27;both&#x27;, &#x27;but&#x27;, &#x27;by&#x27;, &#x27;can&#x27;, &#x27;couldn&#x27;, &quot;couldn&#x27;t&quot;, ...})</pre></div></div></div><div class=\"sk-item sk-dashed-wrapped\"><div class=\"sk-label-container\"><div class=\"sk-label sk-toggleable\"><input class=\"sk-toggleable__control sk-hidden--visually\" id=\"sk-estimator-id-3\" type=\"checkbox\" ><label for=\"sk-estimator-id-3\" class=\"sk-toggleable__label sk-toggleable__label-arrow\">log: LabelPowerset</label><div class=\"sk-toggleable__content\"><pre>LabelPowerset(classifier=MultinomialNB(), require_dense=[True, True])</pre></div></div></div><div class=\"sk-parallel\"><div class=\"sk-parallel-item\"><div class=\"sk-item\"><div class=\"sk-label-container\"><div class=\"sk-label sk-toggleable\"><input class=\"sk-toggleable__control sk-hidden--visually\" id=\"sk-estimator-id-4\" type=\"checkbox\" ><label for=\"sk-estimator-id-4\" class=\"sk-toggleable__label sk-toggleable__label-arrow\">classifier: MultinomialNB</label><div class=\"sk-toggleable__content\"><pre>MultinomialNB()</pre></div></div></div><div class=\"sk-serial\"><div class=\"sk-item\"><div class=\"sk-estimator sk-toggleable\"><input class=\"sk-toggleable__control sk-hidden--visually\" id=\"sk-estimator-id-5\" type=\"checkbox\" ><label for=\"sk-estimator-id-5\" class=\"sk-toggleable__label sk-toggleable__label-arrow\">MultinomialNB</label><div class=\"sk-toggleable__content\"><pre>MultinomialNB()</pre></div></div></div></div></div></div></div></div></div></div></div></div>"
      ],
      "text/plain": [
       "Pipeline(steps=[('tfidf',\n",
       "                 TfidfVectorizer(max_df=0.95, max_features=3000, min_df=2,\n",
       "                                 stop_words={'a', 'about', 'above', 'after',\n",
       "                                             'again', 'against', 'ain', 'all',\n",
       "                                             'am', 'an', 'and', 'any', 'are',\n",
       "                                             'aren', \"aren't\", 'as', 'at', 'be',\n",
       "                                             'because', 'been', 'before',\n",
       "                                             'being', 'below', 'between',\n",
       "                                             'both', 'but', 'by', 'can',\n",
       "                                             'couldn', \"couldn't\", ...})),\n",
       "                ('log',\n",
       "                 LabelPowerset(classifier=MultinomialNB(),\n",
       "                               require_dense=[True, True]))])"
      ]
     },
     "execution_count": 8,
     "metadata": {},
     "output_type": "execute_result"
    }
   ],
   "source": [
    "pipe_nb = Pipeline([\n",
    "    ('tfidf', TfidfVectorizer(stop_words=stop_words, ngram_range=(1,1), min_df=2, max_df=0.95, max_features=3000)),\n",
    "    ('log', LabelPowerset(MultinomialNB())),\n",
    "])\n",
    "\n",
    "pipe_nb.fit(X_train.ravel(), y_train)"
   ]
  },
  {
   "cell_type": "code",
   "execution_count": 9,
   "metadata": {},
   "outputs": [
    {
     "data": {
      "text/plain": [
       "0.9106366978609626"
      ]
     },
     "metadata": {},
     "output_type": "display_data"
    },
    {
     "data": {
      "text/plain": [
       "0.49536072546951543"
      ]
     },
     "metadata": {},
     "output_type": "display_data"
    }
   ],
   "source": [
    "y_pred = pipe_nb.predict(X_test.ravel())\n",
    "display(accuracy_score(y_test, y_pred))\n",
    "display(f1_score(y_test, y_pred, average='weighted'))"
   ]
  },
  {
   "cell_type": "code",
   "execution_count": 12,
   "metadata": {},
   "outputs": [
    {
     "data": {
      "text/html": [
       "<style>#sk-container-id-3 {color: black;background-color: white;}#sk-container-id-3 pre{padding: 0;}#sk-container-id-3 div.sk-toggleable {background-color: white;}#sk-container-id-3 label.sk-toggleable__label {cursor: pointer;display: block;width: 100%;margin-bottom: 0;padding: 0.3em;box-sizing: border-box;text-align: center;}#sk-container-id-3 label.sk-toggleable__label-arrow:before {content: \"▸\";float: left;margin-right: 0.25em;color: #696969;}#sk-container-id-3 label.sk-toggleable__label-arrow:hover:before {color: black;}#sk-container-id-3 div.sk-estimator:hover label.sk-toggleable__label-arrow:before {color: black;}#sk-container-id-3 div.sk-toggleable__content {max-height: 0;max-width: 0;overflow: hidden;text-align: left;background-color: #f0f8ff;}#sk-container-id-3 div.sk-toggleable__content pre {margin: 0.2em;color: black;border-radius: 0.25em;background-color: #f0f8ff;}#sk-container-id-3 input.sk-toggleable__control:checked~div.sk-toggleable__content {max-height: 200px;max-width: 100%;overflow: auto;}#sk-container-id-3 input.sk-toggleable__control:checked~label.sk-toggleable__label-arrow:before {content: \"▾\";}#sk-container-id-3 div.sk-estimator input.sk-toggleable__control:checked~label.sk-toggleable__label {background-color: #d4ebff;}#sk-container-id-3 div.sk-label input.sk-toggleable__control:checked~label.sk-toggleable__label {background-color: #d4ebff;}#sk-container-id-3 input.sk-hidden--visually {border: 0;clip: rect(1px 1px 1px 1px);clip: rect(1px, 1px, 1px, 1px);height: 1px;margin: -1px;overflow: hidden;padding: 0;position: absolute;width: 1px;}#sk-container-id-3 div.sk-estimator {font-family: monospace;background-color: #f0f8ff;border: 1px dotted black;border-radius: 0.25em;box-sizing: border-box;margin-bottom: 0.5em;}#sk-container-id-3 div.sk-estimator:hover {background-color: #d4ebff;}#sk-container-id-3 div.sk-parallel-item::after {content: \"\";width: 100%;border-bottom: 1px solid gray;flex-grow: 1;}#sk-container-id-3 div.sk-label:hover label.sk-toggleable__label {background-color: #d4ebff;}#sk-container-id-3 div.sk-serial::before {content: \"\";position: absolute;border-left: 1px solid gray;box-sizing: border-box;top: 0;bottom: 0;left: 50%;z-index: 0;}#sk-container-id-3 div.sk-serial {display: flex;flex-direction: column;align-items: center;background-color: white;padding-right: 0.2em;padding-left: 0.2em;position: relative;}#sk-container-id-3 div.sk-item {position: relative;z-index: 1;}#sk-container-id-3 div.sk-parallel {display: flex;align-items: stretch;justify-content: center;background-color: white;position: relative;}#sk-container-id-3 div.sk-item::before, #sk-container-id-3 div.sk-parallel-item::before {content: \"\";position: absolute;border-left: 1px solid gray;box-sizing: border-box;top: 0;bottom: 0;left: 50%;z-index: -1;}#sk-container-id-3 div.sk-parallel-item {display: flex;flex-direction: column;z-index: 1;position: relative;background-color: white;}#sk-container-id-3 div.sk-parallel-item:first-child::after {align-self: flex-end;width: 50%;}#sk-container-id-3 div.sk-parallel-item:last-child::after {align-self: flex-start;width: 50%;}#sk-container-id-3 div.sk-parallel-item:only-child::after {width: 0;}#sk-container-id-3 div.sk-dashed-wrapped {border: 1px dashed gray;margin: 0 0.4em 0.5em 0.4em;box-sizing: border-box;padding-bottom: 0.4em;background-color: white;}#sk-container-id-3 div.sk-label label {font-family: monospace;font-weight: bold;display: inline-block;line-height: 1.2em;}#sk-container-id-3 div.sk-label-container {text-align: center;}#sk-container-id-3 div.sk-container {/* jupyter's `normalize.less` sets `[hidden] { display: none; }` but bootstrap.min.css set `[hidden] { display: none !important; }` so we also need the `!important` here to be able to override the default hidden behavior on the sphinx rendered scikit-learn.org. See: https://github.com/scikit-learn/scikit-learn/issues/21755 */display: inline-block !important;position: relative;}#sk-container-id-3 div.sk-text-repr-fallback {display: none;}</style><div id=\"sk-container-id-3\" class=\"sk-top-container\"><div class=\"sk-text-repr-fallback\"><pre>Pipeline(steps=[(&#x27;tfidf&#x27;,\n",
       "                 TfidfVectorizer(max_df=0.95, max_features=3000, min_df=2,\n",
       "                                 stop_words={&#x27;a&#x27;, &#x27;about&#x27;, &#x27;above&#x27;, &#x27;after&#x27;,\n",
       "                                             &#x27;again&#x27;, &#x27;against&#x27;, &#x27;ain&#x27;, &#x27;all&#x27;,\n",
       "                                             &#x27;am&#x27;, &#x27;an&#x27;, &#x27;and&#x27;, &#x27;any&#x27;, &#x27;are&#x27;,\n",
       "                                             &#x27;aren&#x27;, &quot;aren&#x27;t&quot;, &#x27;as&#x27;, &#x27;at&#x27;, &#x27;be&#x27;,\n",
       "                                             &#x27;because&#x27;, &#x27;been&#x27;, &#x27;before&#x27;,\n",
       "                                             &#x27;being&#x27;, &#x27;below&#x27;, &#x27;between&#x27;,\n",
       "                                             &#x27;both&#x27;, &#x27;but&#x27;, &#x27;by&#x27;, &#x27;can&#x27;,\n",
       "                                             &#x27;couldn&#x27;, &quot;couldn&#x27;t&quot;, ...})),\n",
       "                (&#x27;svc&#x27;,\n",
       "                 LabelPowerset(classifier=LinearSVC(C=0.1,\n",
       "                                                    class_weight=&#x27;balanced&#x27;,\n",
       "                                                    max_iter=10000),\n",
       "                               require_dense=[True, True]))])</pre><b>In a Jupyter environment, please rerun this cell to show the HTML representation or trust the notebook. <br />On GitHub, the HTML representation is unable to render, please try loading this page with nbviewer.org.</b></div><div class=\"sk-container\" hidden><div class=\"sk-item sk-dashed-wrapped\"><div class=\"sk-label-container\"><div class=\"sk-label sk-toggleable\"><input class=\"sk-toggleable__control sk-hidden--visually\" id=\"sk-estimator-id-11\" type=\"checkbox\" ><label for=\"sk-estimator-id-11\" class=\"sk-toggleable__label sk-toggleable__label-arrow\">Pipeline</label><div class=\"sk-toggleable__content\"><pre>Pipeline(steps=[(&#x27;tfidf&#x27;,\n",
       "                 TfidfVectorizer(max_df=0.95, max_features=3000, min_df=2,\n",
       "                                 stop_words={&#x27;a&#x27;, &#x27;about&#x27;, &#x27;above&#x27;, &#x27;after&#x27;,\n",
       "                                             &#x27;again&#x27;, &#x27;against&#x27;, &#x27;ain&#x27;, &#x27;all&#x27;,\n",
       "                                             &#x27;am&#x27;, &#x27;an&#x27;, &#x27;and&#x27;, &#x27;any&#x27;, &#x27;are&#x27;,\n",
       "                                             &#x27;aren&#x27;, &quot;aren&#x27;t&quot;, &#x27;as&#x27;, &#x27;at&#x27;, &#x27;be&#x27;,\n",
       "                                             &#x27;because&#x27;, &#x27;been&#x27;, &#x27;before&#x27;,\n",
       "                                             &#x27;being&#x27;, &#x27;below&#x27;, &#x27;between&#x27;,\n",
       "                                             &#x27;both&#x27;, &#x27;but&#x27;, &#x27;by&#x27;, &#x27;can&#x27;,\n",
       "                                             &#x27;couldn&#x27;, &quot;couldn&#x27;t&quot;, ...})),\n",
       "                (&#x27;svc&#x27;,\n",
       "                 LabelPowerset(classifier=LinearSVC(C=0.1,\n",
       "                                                    class_weight=&#x27;balanced&#x27;,\n",
       "                                                    max_iter=10000),\n",
       "                               require_dense=[True, True]))])</pre></div></div></div><div class=\"sk-serial\"><div class=\"sk-item\"><div class=\"sk-estimator sk-toggleable\"><input class=\"sk-toggleable__control sk-hidden--visually\" id=\"sk-estimator-id-12\" type=\"checkbox\" ><label for=\"sk-estimator-id-12\" class=\"sk-toggleable__label sk-toggleable__label-arrow\">TfidfVectorizer</label><div class=\"sk-toggleable__content\"><pre>TfidfVectorizer(max_df=0.95, max_features=3000, min_df=2,\n",
       "                stop_words={&#x27;a&#x27;, &#x27;about&#x27;, &#x27;above&#x27;, &#x27;after&#x27;, &#x27;again&#x27;, &#x27;against&#x27;,\n",
       "                            &#x27;ain&#x27;, &#x27;all&#x27;, &#x27;am&#x27;, &#x27;an&#x27;, &#x27;and&#x27;, &#x27;any&#x27;, &#x27;are&#x27;,\n",
       "                            &#x27;aren&#x27;, &quot;aren&#x27;t&quot;, &#x27;as&#x27;, &#x27;at&#x27;, &#x27;be&#x27;, &#x27;because&#x27;,\n",
       "                            &#x27;been&#x27;, &#x27;before&#x27;, &#x27;being&#x27;, &#x27;below&#x27;, &#x27;between&#x27;,\n",
       "                            &#x27;both&#x27;, &#x27;but&#x27;, &#x27;by&#x27;, &#x27;can&#x27;, &#x27;couldn&#x27;, &quot;couldn&#x27;t&quot;, ...})</pre></div></div></div><div class=\"sk-item sk-dashed-wrapped\"><div class=\"sk-label-container\"><div class=\"sk-label sk-toggleable\"><input class=\"sk-toggleable__control sk-hidden--visually\" id=\"sk-estimator-id-13\" type=\"checkbox\" ><label for=\"sk-estimator-id-13\" class=\"sk-toggleable__label sk-toggleable__label-arrow\">svc: LabelPowerset</label><div class=\"sk-toggleable__content\"><pre>LabelPowerset(classifier=LinearSVC(C=0.1, class_weight=&#x27;balanced&#x27;,\n",
       "                                   max_iter=10000),\n",
       "              require_dense=[True, True])</pre></div></div></div><div class=\"sk-parallel\"><div class=\"sk-parallel-item\"><div class=\"sk-item\"><div class=\"sk-label-container\"><div class=\"sk-label sk-toggleable\"><input class=\"sk-toggleable__control sk-hidden--visually\" id=\"sk-estimator-id-14\" type=\"checkbox\" ><label for=\"sk-estimator-id-14\" class=\"sk-toggleable__label sk-toggleable__label-arrow\">classifier: LinearSVC</label><div class=\"sk-toggleable__content\"><pre>LinearSVC(C=0.1, class_weight=&#x27;balanced&#x27;, max_iter=10000)</pre></div></div></div><div class=\"sk-serial\"><div class=\"sk-item\"><div class=\"sk-estimator sk-toggleable\"><input class=\"sk-toggleable__control sk-hidden--visually\" id=\"sk-estimator-id-15\" type=\"checkbox\" ><label for=\"sk-estimator-id-15\" class=\"sk-toggleable__label sk-toggleable__label-arrow\">LinearSVC</label><div class=\"sk-toggleable__content\"><pre>LinearSVC(C=0.1, class_weight=&#x27;balanced&#x27;, max_iter=10000)</pre></div></div></div></div></div></div></div></div></div></div></div></div>"
      ],
      "text/plain": [
       "Pipeline(steps=[('tfidf',\n",
       "                 TfidfVectorizer(max_df=0.95, max_features=3000, min_df=2,\n",
       "                                 stop_words={'a', 'about', 'above', 'after',\n",
       "                                             'again', 'against', 'ain', 'all',\n",
       "                                             'am', 'an', 'and', 'any', 'are',\n",
       "                                             'aren', \"aren't\", 'as', 'at', 'be',\n",
       "                                             'because', 'been', 'before',\n",
       "                                             'being', 'below', 'between',\n",
       "                                             'both', 'but', 'by', 'can',\n",
       "                                             'couldn', \"couldn't\", ...})),\n",
       "                ('svc',\n",
       "                 LabelPowerset(classifier=LinearSVC(C=0.1,\n",
       "                                                    class_weight='balanced',\n",
       "                                                    max_iter=10000),\n",
       "                               require_dense=[True, True]))])"
      ]
     },
     "execution_count": 12,
     "metadata": {},
     "output_type": "execute_result"
    }
   ],
   "source": [
    "pipe_svc = Pipeline([\n",
    "    ('tfidf', TfidfVectorizer(stop_words=stop_words, ngram_range=(1,1), min_df=2, max_df=0.95, max_features=3000)),\n",
    "    ('svc', LabelPowerset(LinearSVC(class_weight='balanced', max_iter=10_000, C=0.1)))\n",
    "])\n",
    "\n",
    "pipe_svc.fit(X_train.ravel(), y_train)"
   ]
  },
  {
   "cell_type": "code",
   "execution_count": 13,
   "metadata": {},
   "outputs": [
    {
     "data": {
      "text/plain": [
       "0.8792404745989305"
      ]
     },
     "metadata": {},
     "output_type": "display_data"
    },
    {
     "data": {
      "text/plain": [
       "0.6187202274476172"
      ]
     },
     "metadata": {},
     "output_type": "display_data"
    }
   ],
   "source": [
    "y_pred = pipe_svc.predict(X_test.ravel())\n",
    "display(accuracy_score(y_test, y_pred))\n",
    "display(f1_score(y_test, y_pred, average='weighted'))"
   ]
  },
  {
   "cell_type": "markdown",
   "metadata": {},
   "source": [
    "# Neural Network"
   ]
  },
  {
   "cell_type": "code",
   "execution_count": 45,
   "metadata": {},
   "outputs": [],
   "source": [
    "# Configuration for gpu\n",
    "gpus = tf.config.experimental.list_physical_devices('GPU')\n",
    "for gpu in gpus:\n",
    "    tf.config.experimental.set_memory_growth(gpu, True)"
   ]
  },
  {
   "cell_type": "code",
   "execution_count": 46,
   "metadata": {},
   "outputs": [],
   "source": [
    "# Text vectorization - similar to vectoriser in sklearn for text, placing max features to be 20000 and the max length of each text to be 100\n",
    "max_features = 20000\n",
    "vectorizer = TextVectorization(max_tokens=max_features, output_mode='int', output_sequence_length=100)"
   ]
  },
  {
   "cell_type": "code",
   "execution_count": 47,
   "metadata": {},
   "outputs": [],
   "source": [
    "# adapt the vectorizer to the text like fit in sklearn\n",
    "vectorizer.adapt(X_train.ravel())"
   ]
  },
  {
   "cell_type": "code",
   "execution_count": 48,
   "metadata": {},
   "outputs": [],
   "source": [
    "# transforming the text to vectors like transform in sklearn\n",
    "vectorized_X_train = vectorizer(X_train.ravel())\n",
    "vectorized_X_test = vectorizer(X_test.ravel())"
   ]
  },
  {
   "cell_type": "markdown",
   "metadata": {},
   "source": [
    "## Deep learning"
   ]
  },
  {
   "cell_type": "code",
   "execution_count": 49,
   "metadata": {},
   "outputs": [],
   "source": [
    "# Neural network creation\n",
    "model = Sequential()\n",
    "# Create the emedding layer\n",
    "model.add(Embedding(max_features+1, 128))\n",
    "# Create the LSTM layer\n",
    "model.add(Bidirectional(LSTM(60, return_sequences=True, dropout=0.1)))\n",
    "model.add(GlobalMaxPool1D())\n",
    "model.add(Dropout(0.2))\n",
    "\n",
    "model.add(Dense(128, activation='relu'))\n",
    "model.add(Dropout(0.2))\n",
    "model.add(Dense(50, activation='relu'))\n",
    "model.add(Dropout(0.2))\n",
    "# Final layer\n",
    "model.add(Dense(6, activation='sigmoid'))"
   ]
  },
  {
   "cell_type": "code",
   "execution_count": 50,
   "metadata": {},
   "outputs": [],
   "source": [
    "# Define the metrics\n",
    "METRICS = [\n",
    "      keras.metrics.TruePositives(name='tp'),\n",
    "      keras.metrics.FalsePositives(name='fp'),\n",
    "      keras.metrics.TrueNegatives(name='tn'),\n",
    "      keras.metrics.FalseNegatives(name='fn'), \n",
    "      keras.metrics.BinaryAccuracy(name='accuracy'),\n",
    "      keras.metrics.Precision(name='precision'),\n",
    "      keras.metrics.Recall(name='recall'),\n",
    "      keras.metrics.AUC(name='auc'),\n",
    "      keras.metrics.AUC(name='prc', curve='PR'), # precision-recall curve\n",
    "]\n"
   ]
  },
  {
   "cell_type": "code",
   "execution_count": 51,
   "metadata": {},
   "outputs": [],
   "source": [
    "model.compile(loss='binary_crossentropy', optimizer='adam', metrics=METRICS)\n",
    "# f1 score, average precision"
   ]
  },
  {
   "cell_type": "code",
   "execution_count": 52,
   "metadata": {},
   "outputs": [
    {
     "name": "stdout",
     "output_type": "stream",
     "text": [
      "Model: \"sequential_1\"\n",
      "_________________________________________________________________\n",
      " Layer (type)                Output Shape              Param #   \n",
      "=================================================================\n",
      " embedding_1 (Embedding)     (None, None, 128)         2560128   \n",
      "                                                                 \n",
      " bidirectional_1 (Bidirectio  (None, None, 120)        90720     \n",
      " nal)                                                            \n",
      "                                                                 \n",
      " global_max_pooling1d_1 (Glo  (None, 120)              0         \n",
      " balMaxPooling1D)                                                \n",
      "                                                                 \n",
      " dropout_3 (Dropout)         (None, 120)               0         \n",
      "                                                                 \n",
      " dense_3 (Dense)             (None, 128)               15488     \n",
      "                                                                 \n",
      " dropout_4 (Dropout)         (None, 128)               0         \n",
      "                                                                 \n",
      " dense_4 (Dense)             (None, 50)                6450      \n",
      "                                                                 \n",
      " dropout_5 (Dropout)         (None, 50)                0         \n",
      "                                                                 \n",
      " dense_5 (Dense)             (None, 6)                 306       \n",
      "                                                                 \n",
      "=================================================================\n",
      "Total params: 2,673,092\n",
      "Trainable params: 2,673,092\n",
      "Non-trainable params: 0\n",
      "_________________________________________________________________\n"
     ]
    }
   ],
   "source": [
    "model.summary()"
   ]
  },
  {
   "cell_type": "code",
   "execution_count": 53,
   "metadata": {},
   "outputs": [
    {
     "name": "stdout",
     "output_type": "stream",
     "text": [
      "/device:GPU:0\n"
     ]
    },
    {
     "name": "stderr",
     "output_type": "stream",
     "text": [
      "2022-10-13 15:09:59.416183: I tensorflow/stream_executor/cuda/cuda_gpu_executor.cc:980] successful NUMA node read from SysFS had negative value (-1), but there must be at least one NUMA node, so returning NUMA node zero\n",
      "2022-10-13 15:09:59.416470: I tensorflow/stream_executor/cuda/cuda_gpu_executor.cc:980] successful NUMA node read from SysFS had negative value (-1), but there must be at least one NUMA node, so returning NUMA node zero\n",
      "2022-10-13 15:09:59.416667: I tensorflow/stream_executor/cuda/cuda_gpu_executor.cc:980] successful NUMA node read from SysFS had negative value (-1), but there must be at least one NUMA node, so returning NUMA node zero\n",
      "2022-10-13 15:09:59.416966: I tensorflow/stream_executor/cuda/cuda_gpu_executor.cc:980] successful NUMA node read from SysFS had negative value (-1), but there must be at least one NUMA node, so returning NUMA node zero\n",
      "2022-10-13 15:09:59.417289: I tensorflow/stream_executor/cuda/cuda_gpu_executor.cc:980] successful NUMA node read from SysFS had negative value (-1), but there must be at least one NUMA node, so returning NUMA node zero\n",
      "2022-10-13 15:09:59.417473: I tensorflow/core/common_runtime/gpu/gpu_device.cc:1616] Created device /device:GPU:0 with 4642 MB memory:  -> device: 0, name: NVIDIA GeForce GTX 1660 Ti, pci bus id: 0000:01:00.0, compute capability: 7.5\n"
     ]
    }
   ],
   "source": [
    "print(tf.test.gpu_device_name())"
   ]
  },
  {
   "cell_type": "markdown",
   "metadata": {},
   "source": [
    "## Tensorboard extension configuration"
   ]
  },
  {
   "cell_type": "code",
   "execution_count": 54,
   "metadata": {},
   "outputs": [
    {
     "name": "stdout",
     "output_type": "stream",
     "text": [
      "The tensorboard extension is already loaded. To reload it, use:\n",
      "  %reload_ext tensorboard\n"
     ]
    }
   ],
   "source": [
    "%load_ext tensorboard"
   ]
  },
  {
   "cell_type": "code",
   "execution_count": 58,
   "metadata": {},
   "outputs": [],
   "source": [
    "log_dir = \"logs/fit/base_model\" + datetime.datetime.now().strftime(\"%Y%m%d-%H%M%S\")\n",
    "tensorboard_callback = tf.keras.callbacks.TensorBoard(log_dir=log_dir, histogram_freq=1)"
   ]
  },
  {
   "cell_type": "code",
   "execution_count": 59,
   "metadata": {},
   "outputs": [
    {
     "name": "stdout",
     "output_type": "stream",
     "text": [
      "Epoch 1/100\n",
      "55/55 [==============================] - ETA: 0s - loss: 0.0813 - tp: 9472.0000 - fp: 3163.0000 - tn: 642463.0000 - fn: 15096.0000 - accuracy: 0.9728 - precision: 0.7497 - recall: 0.3855 - auc: 0.9408 - prc: 0.5982"
     ]
    },
    {
     "name": "stderr",
     "output_type": "stream",
     "text": [
      "2022-10-13 15:11:24.254539: W tensorflow/core/framework/cpu_allocator_impl.cc:82] Allocation of 614430720 exceeds 10% of free system memory.\n"
     ]
    },
    {
     "name": "stdout",
     "output_type": "stream",
     "text": [
      "55/55 [==============================] - 6s 113ms/step - loss: 0.0813 - tp: 9472.0000 - fp: 3163.0000 - tn: 642463.0000 - fn: 15096.0000 - accuracy: 0.9728 - precision: 0.7497 - recall: 0.3855 - auc: 0.9408 - prc: 0.5982 - val_loss: 0.0596 - val_tp: 6815.0000 - val_fp: 2442.0000 - val_tn: 274260.0000 - val_fn: 3715.0000 - val_accuracy: 0.9786 - val_precision: 0.7362 - val_recall: 0.6472 - val_auc: 0.9750 - val_prc: 0.7600\n",
      "Epoch 2/100\n",
      "55/55 [==============================] - ETA: 0s - loss: 0.0550 - tp: 15968.0000 - fp: 4457.0000 - tn: 641169.0000 - fn: 8600.0000 - accuracy: 0.9805 - precision: 0.7818 - recall: 0.6500 - auc: 0.9756 - prc: 0.7734"
     ]
    },
    {
     "name": "stderr",
     "output_type": "stream",
     "text": [
      "2022-10-13 15:11:30.488901: W tensorflow/core/framework/cpu_allocator_impl.cc:82] Allocation of 614430720 exceeds 10% of free system memory.\n"
     ]
    },
    {
     "name": "stdout",
     "output_type": "stream",
     "text": [
      "55/55 [==============================] - 6s 111ms/step - loss: 0.0550 - tp: 15968.0000 - fp: 4457.0000 - tn: 641169.0000 - fn: 8600.0000 - accuracy: 0.9805 - precision: 0.7818 - recall: 0.6500 - auc: 0.9756 - prc: 0.7734 - val_loss: 0.0533 - val_tp: 6921.0000 - val_fp: 1829.0000 - val_tn: 274873.0000 - val_fn: 3609.0000 - val_accuracy: 0.9811 - val_precision: 0.7910 - val_recall: 0.6573 - val_auc: 0.9743 - val_prc: 0.7945\n",
      "Epoch 3/100\n",
      "55/55 [==============================] - ETA: 0s - loss: 0.0493 - tp: 16502.0000 - fp: 4012.0000 - tn: 641614.0000 - fn: 8066.0000 - accuracy: 0.9820 - precision: 0.8044 - recall: 0.6717 - auc: 0.9800 - prc: 0.8102"
     ]
    },
    {
     "name": "stderr",
     "output_type": "stream",
     "text": [
      "2022-10-13 15:11:36.609512: W tensorflow/core/framework/cpu_allocator_impl.cc:82] Allocation of 614430720 exceeds 10% of free system memory.\n"
     ]
    },
    {
     "name": "stdout",
     "output_type": "stream",
     "text": [
      "55/55 [==============================] - 6s 112ms/step - loss: 0.0493 - tp: 16502.0000 - fp: 4012.0000 - tn: 641614.0000 - fn: 8066.0000 - accuracy: 0.9820 - precision: 0.8044 - recall: 0.6717 - auc: 0.9800 - prc: 0.8102 - val_loss: 0.0519 - val_tp: 7174.0000 - val_fp: 2010.0000 - val_tn: 274692.0000 - val_fn: 3356.0000 - val_accuracy: 0.9813 - val_precision: 0.7811 - val_recall: 0.6813 - val_auc: 0.9759 - val_prc: 0.8070\n",
      "Epoch 4/100\n",
      "55/55 [==============================] - ETA: 0s - loss: 0.0456 - tp: 17157.0000 - fp: 4004.0000 - tn: 641622.0000 - fn: 7411.0000 - accuracy: 0.9830 - precision: 0.8108 - recall: 0.6983 - auc: 0.9842 - prc: 0.8294"
     ]
    },
    {
     "name": "stderr",
     "output_type": "stream",
     "text": [
      "2022-10-13 15:11:42.718410: W tensorflow/core/framework/cpu_allocator_impl.cc:82] Allocation of 614430720 exceeds 10% of free system memory.\n"
     ]
    },
    {
     "name": "stdout",
     "output_type": "stream",
     "text": [
      "55/55 [==============================] - 6s 111ms/step - loss: 0.0456 - tp: 17157.0000 - fp: 4004.0000 - tn: 641622.0000 - fn: 7411.0000 - accuracy: 0.9830 - precision: 0.8108 - recall: 0.6983 - auc: 0.9842 - prc: 0.8294 - val_loss: 0.0543 - val_tp: 6903.0000 - val_fp: 1626.0000 - val_tn: 275076.0000 - val_fn: 3627.0000 - val_accuracy: 0.9817 - val_precision: 0.8094 - val_recall: 0.6556 - val_auc: 0.9669 - val_prc: 0.8032\n",
      "Epoch 5/100\n",
      "55/55 [==============================] - ETA: 0s - loss: 0.0436 - tp: 17579.0000 - fp: 4029.0000 - tn: 641597.0000 - fn: 6989.0000 - accuracy: 0.9836 - precision: 0.8135 - recall: 0.7155 - auc: 0.9859 - prc: 0.8407"
     ]
    },
    {
     "name": "stderr",
     "output_type": "stream",
     "text": [
      "2022-10-13 15:11:48.858447: W tensorflow/core/framework/cpu_allocator_impl.cc:82] Allocation of 614430720 exceeds 10% of free system memory.\n"
     ]
    },
    {
     "name": "stdout",
     "output_type": "stream",
     "text": [
      "55/55 [==============================] - 6s 112ms/step - loss: 0.0436 - tp: 17579.0000 - fp: 4029.0000 - tn: 641597.0000 - fn: 6989.0000 - accuracy: 0.9836 - precision: 0.8135 - recall: 0.7155 - auc: 0.9859 - prc: 0.8407 - val_loss: 0.0553 - val_tp: 7247.0000 - val_fp: 2156.0000 - val_tn: 274546.0000 - val_fn: 3283.0000 - val_accuracy: 0.9811 - val_precision: 0.7707 - val_recall: 0.6882 - val_auc: 0.9660 - val_prc: 0.7987\n",
      "Epoch 6/100\n",
      "55/55 [==============================] - 6s 111ms/step - loss: 0.0424 - tp: 17680.0000 - fp: 3974.0000 - tn: 641652.0000 - fn: 6888.0000 - accuracy: 0.9838 - precision: 0.8165 - recall: 0.7196 - auc: 0.9872 - prc: 0.8476 - val_loss: 0.0577 - val_tp: 7063.0000 - val_fp: 1864.0000 - val_tn: 274838.0000 - val_fn: 3467.0000 - val_accuracy: 0.9814 - val_precision: 0.7912 - val_recall: 0.6708 - val_auc: 0.9587 - val_prc: 0.7962\n",
      "Epoch 7/100\n",
      "55/55 [==============================] - 6s 111ms/step - loss: 0.0413 - tp: 17933.0000 - fp: 4004.0000 - tn: 641622.0000 - fn: 6635.0000 - accuracy: 0.9841 - precision: 0.8175 - recall: 0.7299 - auc: 0.9876 - prc: 0.8536 - val_loss: 0.0583 - val_tp: 7221.0000 - val_fp: 2065.0000 - val_tn: 274637.0000 - val_fn: 3309.0000 - val_accuracy: 0.9813 - val_precision: 0.7776 - val_recall: 0.6858 - val_auc: 0.9588 - val_prc: 0.7961\n",
      "Epoch 8/100\n",
      "55/55 [==============================] - 6s 112ms/step - loss: 0.0396 - tp: 18195.0000 - fp: 3923.0000 - tn: 641703.0000 - fn: 6373.0000 - accuracy: 0.9846 - precision: 0.8226 - recall: 0.7406 - auc: 0.9891 - prc: 0.8620 - val_loss: 0.0602 - val_tp: 7243.0000 - val_fp: 2259.0000 - val_tn: 274443.0000 - val_fn: 3287.0000 - val_accuracy: 0.9807 - val_precision: 0.7623 - val_recall: 0.6878 - val_auc: 0.9578 - val_prc: 0.7936\n",
      "Epoch 9/100\n",
      "55/55 [==============================] - 6s 112ms/step - loss: 0.0387 - tp: 18396.0000 - fp: 3851.0000 - tn: 641775.0000 - fn: 6172.0000 - accuracy: 0.9850 - precision: 0.8269 - recall: 0.7488 - auc: 0.9900 - prc: 0.8673 - val_loss: 0.0586 - val_tp: 7433.0000 - val_fp: 2696.0000 - val_tn: 274006.0000 - val_fn: 3097.0000 - val_accuracy: 0.9798 - val_precision: 0.7338 - val_recall: 0.7059 - val_auc: 0.9634 - val_prc: 0.7917\n",
      "Epoch 10/100\n",
      "55/55 [==============================] - 6s 112ms/step - loss: 0.0383 - tp: 18433.0000 - fp: 3757.0000 - tn: 641869.0000 - fn: 6135.0000 - accuracy: 0.9852 - precision: 0.8307 - recall: 0.7503 - auc: 0.9899 - prc: 0.8705 - val_loss: 0.0613 - val_tp: 7373.0000 - val_fp: 2397.0000 - val_tn: 274305.0000 - val_fn: 3157.0000 - val_accuracy: 0.9807 - val_precision: 0.7547 - val_recall: 0.7002 - val_auc: 0.9548 - val_prc: 0.7922\n",
      "Epoch 11/100\n",
      "55/55 [==============================] - 6s 112ms/step - loss: 0.0379 - tp: 18561.0000 - fp: 3861.0000 - tn: 641765.0000 - fn: 6007.0000 - accuracy: 0.9853 - precision: 0.8278 - recall: 0.7555 - auc: 0.9902 - prc: 0.8728 - val_loss: 0.0628 - val_tp: 7388.0000 - val_fp: 2403.0000 - val_tn: 274299.0000 - val_fn: 3142.0000 - val_accuracy: 0.9807 - val_precision: 0.7546 - val_recall: 0.7016 - val_auc: 0.9530 - val_prc: 0.7896\n",
      "Epoch 12/100\n",
      "55/55 [==============================] - 6s 112ms/step - loss: 0.0368 - tp: 18795.0000 - fp: 3765.0000 - tn: 641861.0000 - fn: 5773.0000 - accuracy: 0.9858 - precision: 0.8331 - recall: 0.7650 - auc: 0.9907 - prc: 0.8781 - val_loss: 0.0627 - val_tp: 7499.0000 - val_fp: 2725.0000 - val_tn: 273977.0000 - val_fn: 3031.0000 - val_accuracy: 0.9800 - val_precision: 0.7335 - val_recall: 0.7122 - val_auc: 0.9561 - val_prc: 0.7898\n",
      "Epoch 13/100\n",
      "55/55 [==============================] - 6s 112ms/step - loss: 0.0356 - tp: 19003.0000 - fp: 3684.0000 - tn: 641942.0000 - fn: 5565.0000 - accuracy: 0.9862 - precision: 0.8376 - recall: 0.7735 - auc: 0.9916 - prc: 0.8848 - val_loss: 0.0696 - val_tp: 7226.0000 - val_fp: 2163.0000 - val_tn: 274539.0000 - val_fn: 3304.0000 - val_accuracy: 0.9810 - val_precision: 0.7696 - val_recall: 0.6862 - val_auc: 0.9421 - val_prc: 0.7784\n",
      "Epoch 14/100\n",
      "55/55 [==============================] - 6s 113ms/step - loss: 0.0345 - tp: 19216.0000 - fp: 3568.0000 - tn: 642058.0000 - fn: 5352.0000 - accuracy: 0.9867 - precision: 0.8434 - recall: 0.7822 - auc: 0.9921 - prc: 0.8899 - val_loss: 0.0701 - val_tp: 7097.0000 - val_fp: 2103.0000 - val_tn: 274599.0000 - val_fn: 3433.0000 - val_accuracy: 0.9807 - val_precision: 0.7714 - val_recall: 0.6740 - val_auc: 0.9422 - val_prc: 0.7776\n",
      "Epoch 15/100\n",
      "55/55 [==============================] - 6s 113ms/step - loss: 0.0339 - tp: 19353.0000 - fp: 3576.0000 - tn: 642050.0000 - fn: 5215.0000 - accuracy: 0.9869 - precision: 0.8440 - recall: 0.7877 - auc: 0.9922 - prc: 0.8932 - val_loss: 0.0662 - val_tp: 7265.0000 - val_fp: 2433.0000 - val_tn: 274269.0000 - val_fn: 3265.0000 - val_accuracy: 0.9802 - val_precision: 0.7491 - val_recall: 0.6899 - val_auc: 0.9490 - val_prc: 0.7817\n",
      "Epoch 16/100\n",
      "55/55 [==============================] - 6s 113ms/step - loss: 0.0330 - tp: 19501.0000 - fp: 3453.0000 - tn: 642173.0000 - fn: 5067.0000 - accuracy: 0.9873 - precision: 0.8496 - recall: 0.7938 - auc: 0.9929 - prc: 0.8972 - val_loss: 0.0673 - val_tp: 7409.0000 - val_fp: 2912.0000 - val_tn: 273790.0000 - val_fn: 3121.0000 - val_accuracy: 0.9790 - val_precision: 0.7179 - val_recall: 0.7036 - val_auc: 0.9522 - val_prc: 0.7764\n",
      "Epoch 17/100\n",
      "55/55 [==============================] - 6s 113ms/step - loss: 0.0326 - tp: 19549.0000 - fp: 3414.0000 - tn: 642212.0000 - fn: 5019.0000 - accuracy: 0.9874 - precision: 0.8513 - recall: 0.7957 - auc: 0.9929 - prc: 0.8994 - val_loss: 0.0693 - val_tp: 7486.0000 - val_fp: 2862.0000 - val_tn: 273840.0000 - val_fn: 3044.0000 - val_accuracy: 0.9794 - val_precision: 0.7234 - val_recall: 0.7109 - val_auc: 0.9482 - val_prc: 0.7779\n",
      "Epoch 18/100\n",
      "55/55 [==============================] - 6s 113ms/step - loss: 0.0319 - tp: 19655.0000 - fp: 3375.0000 - tn: 642251.0000 - fn: 4913.0000 - accuracy: 0.9876 - precision: 0.8535 - recall: 0.8000 - auc: 0.9933 - prc: 0.9031 - val_loss: 0.0694 - val_tp: 7176.0000 - val_fp: 2304.0000 - val_tn: 274398.0000 - val_fn: 3354.0000 - val_accuracy: 0.9803 - val_precision: 0.7570 - val_recall: 0.6815 - val_auc: 0.9445 - val_prc: 0.7785\n",
      "Epoch 19/100\n",
      "55/55 [==============================] - 6s 113ms/step - loss: 0.0308 - tp: 19843.0000 - fp: 3261.0000 - tn: 642365.0000 - fn: 4725.0000 - accuracy: 0.9881 - precision: 0.8589 - recall: 0.8077 - auc: 0.9939 - prc: 0.9084 - val_loss: 0.0699 - val_tp: 7487.0000 - val_fp: 3022.0000 - val_tn: 273680.0000 - val_fn: 3043.0000 - val_accuracy: 0.9789 - val_precision: 0.7124 - val_recall: 0.7110 - val_auc: 0.9483 - val_prc: 0.7768\n",
      "Epoch 20/100\n",
      "55/55 [==============================] - 6s 113ms/step - loss: 0.0299 - tp: 20009.0000 - fp: 3199.0000 - tn: 642427.0000 - fn: 4559.0000 - accuracy: 0.9884 - precision: 0.8622 - recall: 0.8144 - auc: 0.9942 - prc: 0.9118 - val_loss: 0.0690 - val_tp: 7446.0000 - val_fp: 2955.0000 - val_tn: 273747.0000 - val_fn: 3084.0000 - val_accuracy: 0.9790 - val_precision: 0.7159 - val_recall: 0.7071 - val_auc: 0.9485 - val_prc: 0.7758\n",
      "Epoch 21/100\n",
      "55/55 [==============================] - 6s 113ms/step - loss: 0.0290 - tp: 20218.0000 - fp: 3218.0000 - tn: 642408.0000 - fn: 4350.0000 - accuracy: 0.9887 - precision: 0.8627 - recall: 0.8229 - auc: 0.9945 - prc: 0.9169 - val_loss: 0.0794 - val_tp: 7170.0000 - val_fp: 2506.0000 - val_tn: 274196.0000 - val_fn: 3360.0000 - val_accuracy: 0.9796 - val_precision: 0.7410 - val_recall: 0.6809 - val_auc: 0.9335 - val_prc: 0.7621\n",
      "Epoch 22/100\n",
      "55/55 [==============================] - 6s 114ms/step - loss: 0.0282 - tp: 20296.0000 - fp: 3110.0000 - tn: 642516.0000 - fn: 4272.0000 - accuracy: 0.9890 - precision: 0.8671 - recall: 0.8261 - auc: 0.9947 - prc: 0.9206 - val_loss: 0.0747 - val_tp: 7223.0000 - val_fp: 2662.0000 - val_tn: 274040.0000 - val_fn: 3307.0000 - val_accuracy: 0.9792 - val_precision: 0.7307 - val_recall: 0.6859 - val_auc: 0.9393 - val_prc: 0.7649\n",
      "Epoch 23/100\n",
      "55/55 [==============================] - 6s 113ms/step - loss: 0.0272 - tp: 20449.0000 - fp: 3033.0000 - tn: 642593.0000 - fn: 4119.0000 - accuracy: 0.9893 - precision: 0.8708 - recall: 0.8323 - auc: 0.9947 - prc: 0.9252 - val_loss: 0.0753 - val_tp: 7116.0000 - val_fp: 2449.0000 - val_tn: 274253.0000 - val_fn: 3414.0000 - val_accuracy: 0.9796 - val_precision: 0.7440 - val_recall: 0.6758 - val_auc: 0.9369 - val_prc: 0.7639\n",
      "Epoch 24/100\n",
      "55/55 [==============================] - 6s 113ms/step - loss: 0.0267 - tp: 20555.0000 - fp: 3019.0000 - tn: 642607.0000 - fn: 4013.0000 - accuracy: 0.9895 - precision: 0.8719 - recall: 0.8367 - auc: 0.9952 - prc: 0.9279 - val_loss: 0.0785 - val_tp: 7006.0000 - val_fp: 2254.0000 - val_tn: 274448.0000 - val_fn: 3524.0000 - val_accuracy: 0.9799 - val_precision: 0.7566 - val_recall: 0.6653 - val_auc: 0.9340 - val_prc: 0.7617\n",
      "Epoch 25/100\n",
      "55/55 [==============================] - 6s 113ms/step - loss: 0.0263 - tp: 20503.0000 - fp: 2920.0000 - tn: 642706.0000 - fn: 4065.0000 - accuracy: 0.9896 - precision: 0.8753 - recall: 0.8345 - auc: 0.9951 - prc: 0.9297 - val_loss: 0.0774 - val_tp: 7464.0000 - val_fp: 3014.0000 - val_tn: 273688.0000 - val_fn: 3066.0000 - val_accuracy: 0.9788 - val_precision: 0.7123 - val_recall: 0.7088 - val_auc: 0.9408 - val_prc: 0.7655\n",
      "Epoch 26/100\n",
      "55/55 [==============================] - 6s 114ms/step - loss: 0.0251 - tp: 20817.0000 - fp: 2995.0000 - tn: 642631.0000 - fn: 3751.0000 - accuracy: 0.9899 - precision: 0.8742 - recall: 0.8473 - auc: 0.9957 - prc: 0.9349 - val_loss: 0.0794 - val_tp: 7252.0000 - val_fp: 2608.0000 - val_tn: 274094.0000 - val_fn: 3278.0000 - val_accuracy: 0.9795 - val_precision: 0.7355 - val_recall: 0.6887 - val_auc: 0.9355 - val_prc: 0.7589\n",
      "Epoch 27/100\n",
      "55/55 [==============================] - 6s 114ms/step - loss: 0.0241 - tp: 20955.0000 - fp: 2809.0000 - tn: 642817.0000 - fn: 3613.0000 - accuracy: 0.9904 - precision: 0.8818 - recall: 0.8529 - auc: 0.9958 - prc: 0.9398 - val_loss: 0.0841 - val_tp: 7101.0000 - val_fp: 2323.0000 - val_tn: 274379.0000 - val_fn: 3429.0000 - val_accuracy: 0.9800 - val_precision: 0.7535 - val_recall: 0.6744 - val_auc: 0.9269 - val_prc: 0.7519\n",
      "Epoch 28/100\n",
      "55/55 [==============================] - 6s 114ms/step - loss: 0.0234 - tp: 21091.0000 - fp: 2777.0000 - tn: 642849.0000 - fn: 3477.0000 - accuracy: 0.9907 - precision: 0.8837 - recall: 0.8585 - auc: 0.9960 - prc: 0.9437 - val_loss: 0.0873 - val_tp: 7238.0000 - val_fp: 2696.0000 - val_tn: 274006.0000 - val_fn: 3292.0000 - val_accuracy: 0.9792 - val_precision: 0.7286 - val_recall: 0.6874 - val_auc: 0.9276 - val_prc: 0.7445\n",
      "Epoch 29/100\n",
      "55/55 [==============================] - 6s 114ms/step - loss: 0.0229 - tp: 21181.0000 - fp: 2740.0000 - tn: 642886.0000 - fn: 3387.0000 - accuracy: 0.9909 - precision: 0.8855 - recall: 0.8621 - auc: 0.9962 - prc: 0.9461 - val_loss: 0.0929 - val_tp: 7075.0000 - val_fp: 2341.0000 - val_tn: 274361.0000 - val_fn: 3455.0000 - val_accuracy: 0.9798 - val_precision: 0.7514 - val_recall: 0.6719 - val_auc: 0.9192 - val_prc: 0.7389\n",
      "Epoch 30/100\n",
      "55/55 [==============================] - 6s 114ms/step - loss: 0.0221 - tp: 21312.0000 - fp: 2623.0000 - tn: 643003.0000 - fn: 3256.0000 - accuracy: 0.9912 - precision: 0.8904 - recall: 0.8675 - auc: 0.9964 - prc: 0.9493 - val_loss: 0.0880 - val_tp: 7381.0000 - val_fp: 3007.0000 - val_tn: 273695.0000 - val_fn: 3149.0000 - val_accuracy: 0.9786 - val_precision: 0.7105 - val_recall: 0.7009 - val_auc: 0.9304 - val_prc: 0.7377\n",
      "Epoch 31/100\n",
      "55/55 [==============================] - 6s 116ms/step - loss: 0.0214 - tp: 21423.0000 - fp: 2562.0000 - tn: 643064.0000 - fn: 3145.0000 - accuracy: 0.9915 - precision: 0.8932 - recall: 0.8720 - auc: 0.9966 - prc: 0.9530 - val_loss: 0.0918 - val_tp: 7054.0000 - val_fp: 2420.0000 - val_tn: 274282.0000 - val_fn: 3476.0000 - val_accuracy: 0.9795 - val_precision: 0.7446 - val_recall: 0.6699 - val_auc: 0.9230 - val_prc: 0.7406\n",
      "Epoch 32/100\n",
      "55/55 [==============================] - 6s 114ms/step - loss: 0.0211 - tp: 21416.0000 - fp: 2489.0000 - tn: 643137.0000 - fn: 3152.0000 - accuracy: 0.9916 - precision: 0.8959 - recall: 0.8717 - auc: 0.9963 - prc: 0.9538 - val_loss: 0.0878 - val_tp: 7452.0000 - val_fp: 3170.0000 - val_tn: 273532.0000 - val_fn: 3078.0000 - val_accuracy: 0.9782 - val_precision: 0.7016 - val_recall: 0.7077 - val_auc: 0.9325 - val_prc: 0.7352\n",
      "Epoch 33/100\n",
      "55/55 [==============================] - 6s 115ms/step - loss: 0.0209 - tp: 21547.0000 - fp: 2530.0000 - tn: 643096.0000 - fn: 3021.0000 - accuracy: 0.9917 - precision: 0.8949 - recall: 0.8770 - auc: 0.9963 - prc: 0.9549 - val_loss: 0.0890 - val_tp: 7150.0000 - val_fp: 2568.0000 - val_tn: 274134.0000 - val_fn: 3380.0000 - val_accuracy: 0.9793 - val_precision: 0.7357 - val_recall: 0.6790 - val_auc: 0.9254 - val_prc: 0.7342\n",
      "Epoch 34/100\n",
      "55/55 [==============================] - 6s 114ms/step - loss: 0.0203 - tp: 21532.0000 - fp: 2348.0000 - tn: 643278.0000 - fn: 3036.0000 - accuracy: 0.9920 - precision: 0.9017 - recall: 0.8764 - auc: 0.9969 - prc: 0.9577 - val_loss: 0.0951 - val_tp: 7386.0000 - val_fp: 3252.0000 - val_tn: 273450.0000 - val_fn: 3144.0000 - val_accuracy: 0.9777 - val_precision: 0.6943 - val_recall: 0.7014 - val_auc: 0.9279 - val_prc: 0.7245\n",
      "Epoch 35/100\n",
      "55/55 [==============================] - 6s 114ms/step - loss: 0.0191 - tp: 21779.0000 - fp: 2303.0000 - tn: 643323.0000 - fn: 2789.0000 - accuracy: 0.9924 - precision: 0.9044 - recall: 0.8865 - auc: 0.9971 - prc: 0.9623 - val_loss: 0.0965 - val_tp: 7292.0000 - val_fp: 3021.0000 - val_tn: 273681.0000 - val_fn: 3238.0000 - val_accuracy: 0.9782 - val_precision: 0.7071 - val_recall: 0.6925 - val_auc: 0.9247 - val_prc: 0.7166\n",
      "Epoch 36/100\n",
      "55/55 [==============================] - 6s 114ms/step - loss: 0.0184 - tp: 21869.0000 - fp: 2239.0000 - tn: 643387.0000 - fn: 2699.0000 - accuracy: 0.9926 - precision: 0.9071 - recall: 0.8901 - auc: 0.9969 - prc: 0.9646 - val_loss: 0.1014 - val_tp: 7246.0000 - val_fp: 2827.0000 - val_tn: 273875.0000 - val_fn: 3284.0000 - val_accuracy: 0.9787 - val_precision: 0.7193 - val_recall: 0.6881 - val_auc: 0.9194 - val_prc: 0.7166\n",
      "Epoch 37/100\n",
      "55/55 [==============================] - 6s 115ms/step - loss: 0.0180 - tp: 21879.0000 - fp: 2147.0000 - tn: 643479.0000 - fn: 2689.0000 - accuracy: 0.9928 - precision: 0.9106 - recall: 0.8905 - auc: 0.9973 - prc: 0.9662 - val_loss: 0.1014 - val_tp: 7176.0000 - val_fp: 2993.0000 - val_tn: 273709.0000 - val_fn: 3354.0000 - val_accuracy: 0.9779 - val_precision: 0.7057 - val_recall: 0.6815 - val_auc: 0.9204 - val_prc: 0.7079\n",
      "Epoch 38/100\n",
      "55/55 [==============================] - 6s 114ms/step - loss: 0.0174 - tp: 22023.0000 - fp: 2096.0000 - tn: 643530.0000 - fn: 2545.0000 - accuracy: 0.9931 - precision: 0.9131 - recall: 0.8964 - auc: 0.9972 - prc: 0.9679 - val_loss: 0.1018 - val_tp: 7280.0000 - val_fp: 3050.0000 - val_tn: 273652.0000 - val_fn: 3250.0000 - val_accuracy: 0.9781 - val_precision: 0.7047 - val_recall: 0.6914 - val_auc: 0.9215 - val_prc: 0.7041\n",
      "Epoch 39/100\n",
      "55/55 [==============================] - 6s 115ms/step - loss: 0.0172 - tp: 22056.0000 - fp: 2008.0000 - tn: 643618.0000 - fn: 2512.0000 - accuracy: 0.9933 - precision: 0.9166 - recall: 0.8978 - auc: 0.9972 - prc: 0.9687 - val_loss: 0.1050 - val_tp: 7138.0000 - val_fp: 2907.0000 - val_tn: 273795.0000 - val_fn: 3392.0000 - val_accuracy: 0.9781 - val_precision: 0.7106 - val_recall: 0.6779 - val_auc: 0.9180 - val_prc: 0.7008\n",
      "Epoch 40/100\n",
      "55/55 [==============================] - 6s 116ms/step - loss: 0.0165 - tp: 22143.0000 - fp: 1947.0000 - tn: 643679.0000 - fn: 2425.0000 - accuracy: 0.9935 - precision: 0.9192 - recall: 0.9013 - auc: 0.9974 - prc: 0.9711 - val_loss: 0.1080 - val_tp: 7140.0000 - val_fp: 3017.0000 - val_tn: 273685.0000 - val_fn: 3390.0000 - val_accuracy: 0.9777 - val_precision: 0.7030 - val_recall: 0.6781 - val_auc: 0.9163 - val_prc: 0.6972\n",
      "Epoch 41/100\n",
      "55/55 [==============================] - 6s 115ms/step - loss: 0.0164 - tp: 22200.0000 - fp: 2024.0000 - tn: 643602.0000 - fn: 2368.0000 - accuracy: 0.9934 - precision: 0.9164 - recall: 0.9036 - auc: 0.9975 - prc: 0.9710 - val_loss: 0.1162 - val_tp: 6567.0000 - val_fp: 2036.0000 - val_tn: 274666.0000 - val_fn: 3963.0000 - val_accuracy: 0.9791 - val_precision: 0.7633 - val_recall: 0.6236 - val_auc: 0.9026 - val_prc: 0.7064\n",
      "Epoch 42/100\n",
      "55/55 [==============================] - 6s 115ms/step - loss: 0.0183 - tp: 21901.0000 - fp: 2116.0000 - tn: 643510.0000 - fn: 2667.0000 - accuracy: 0.9929 - precision: 0.9119 - recall: 0.8914 - auc: 0.9969 - prc: 0.9651 - val_loss: 0.1084 - val_tp: 7355.0000 - val_fp: 3112.0000 - val_tn: 273590.0000 - val_fn: 3175.0000 - val_accuracy: 0.9781 - val_precision: 0.7027 - val_recall: 0.6985 - val_auc: 0.9174 - val_prc: 0.7001\n",
      "Epoch 43/100\n",
      "55/55 [==============================] - 6s 115ms/step - loss: 0.0155 - tp: 22334.0000 - fp: 1860.0000 - tn: 643766.0000 - fn: 2234.0000 - accuracy: 0.9939 - precision: 0.9231 - recall: 0.9091 - auc: 0.9976 - prc: 0.9745 - val_loss: 0.1132 - val_tp: 7103.0000 - val_fp: 2768.0000 - val_tn: 273934.0000 - val_fn: 3427.0000 - val_accuracy: 0.9784 - val_precision: 0.7196 - val_recall: 0.6745 - val_auc: 0.9097 - val_prc: 0.6901\n",
      "Epoch 44/100\n",
      "55/55 [==============================] - 6s 115ms/step - loss: 0.0150 - tp: 22408.0000 - fp: 1787.0000 - tn: 643839.0000 - fn: 2160.0000 - accuracy: 0.9941 - precision: 0.9261 - recall: 0.9121 - auc: 0.9977 - prc: 0.9757 - val_loss: 0.1141 - val_tp: 7153.0000 - val_fp: 2818.0000 - val_tn: 273884.0000 - val_fn: 3377.0000 - val_accuracy: 0.9784 - val_precision: 0.7174 - val_recall: 0.6793 - val_auc: 0.9119 - val_prc: 0.6901\n",
      "Epoch 45/100\n",
      "55/55 [==============================] - 6s 115ms/step - loss: 0.0147 - tp: 22439.0000 - fp: 1767.0000 - tn: 643859.0000 - fn: 2129.0000 - accuracy: 0.9942 - precision: 0.9270 - recall: 0.9133 - auc: 0.9976 - prc: 0.9768 - val_loss: 0.1163 - val_tp: 7028.0000 - val_fp: 2708.0000 - val_tn: 273994.0000 - val_fn: 3502.0000 - val_accuracy: 0.9784 - val_precision: 0.7219 - val_recall: 0.6674 - val_auc: 0.9088 - val_prc: 0.6861\n",
      "Epoch 46/100\n",
      "55/55 [==============================] - 6s 116ms/step - loss: 0.0143 - tp: 22480.0000 - fp: 1704.0000 - tn: 643922.0000 - fn: 2088.0000 - accuracy: 0.9943 - precision: 0.9295 - recall: 0.9150 - auc: 0.9979 - prc: 0.9779 - val_loss: 0.1206 - val_tp: 7147.0000 - val_fp: 2898.0000 - val_tn: 273804.0000 - val_fn: 3383.0000 - val_accuracy: 0.9781 - val_precision: 0.7115 - val_recall: 0.6787 - val_auc: 0.9073 - val_prc: 0.6826\n",
      "Epoch 47/100\n",
      "55/55 [==============================] - 6s 115ms/step - loss: 0.0140 - tp: 22574.0000 - fp: 1653.0000 - tn: 643973.0000 - fn: 1994.0000 - accuracy: 0.9946 - precision: 0.9318 - recall: 0.9188 - auc: 0.9978 - prc: 0.9785 - val_loss: 0.1221 - val_tp: 7090.0000 - val_fp: 2806.0000 - val_tn: 273896.0000 - val_fn: 3440.0000 - val_accuracy: 0.9783 - val_precision: 0.7165 - val_recall: 0.6733 - val_auc: 0.9076 - val_prc: 0.6786\n",
      "Epoch 48/100\n",
      "55/55 [==============================] - 6s 116ms/step - loss: 0.0135 - tp: 22628.0000 - fp: 1641.0000 - tn: 643985.0000 - fn: 1940.0000 - accuracy: 0.9947 - precision: 0.9324 - recall: 0.9210 - auc: 0.9982 - prc: 0.9800 - val_loss: 0.1278 - val_tp: 7173.0000 - val_fp: 3071.0000 - val_tn: 273631.0000 - val_fn: 3357.0000 - val_accuracy: 0.9776 - val_precision: 0.7002 - val_recall: 0.6812 - val_auc: 0.9072 - val_prc: 0.6679\n",
      "Epoch 49/100\n",
      "55/55 [==============================] - 6s 115ms/step - loss: 0.0130 - tp: 22726.0000 - fp: 1642.0000 - tn: 643984.0000 - fn: 1842.0000 - accuracy: 0.9948 - precision: 0.9326 - recall: 0.9250 - auc: 0.9982 - prc: 0.9811 - val_loss: 0.1319 - val_tp: 7108.0000 - val_fp: 2915.0000 - val_tn: 273787.0000 - val_fn: 3422.0000 - val_accuracy: 0.9779 - val_precision: 0.7092 - val_recall: 0.6750 - val_auc: 0.9028 - val_prc: 0.6641\n",
      "Epoch 50/100\n",
      "55/55 [==============================] - 6s 116ms/step - loss: 0.0129 - tp: 22716.0000 - fp: 1528.0000 - tn: 644098.0000 - fn: 1852.0000 - accuracy: 0.9950 - precision: 0.9370 - recall: 0.9246 - auc: 0.9981 - prc: 0.9814 - val_loss: 0.1246 - val_tp: 7509.0000 - val_fp: 3688.0000 - val_tn: 273014.0000 - val_fn: 3021.0000 - val_accuracy: 0.9766 - val_precision: 0.6706 - val_recall: 0.7131 - val_auc: 0.9179 - val_prc: 0.6735\n",
      "Epoch 51/100\n",
      "55/55 [==============================] - 6s 115ms/step - loss: 0.0132 - tp: 22742.0000 - fp: 1606.0000 - tn: 644020.0000 - fn: 1826.0000 - accuracy: 0.9949 - precision: 0.9340 - recall: 0.9257 - auc: 0.9980 - prc: 0.9810 - val_loss: 0.1351 - val_tp: 7129.0000 - val_fp: 2940.0000 - val_tn: 273762.0000 - val_fn: 3401.0000 - val_accuracy: 0.9779 - val_precision: 0.7080 - val_recall: 0.6770 - val_auc: 0.9013 - val_prc: 0.6644\n",
      "Epoch 52/100\n",
      "55/55 [==============================] - 6s 115ms/step - loss: 0.0124 - tp: 22843.0000 - fp: 1465.0000 - tn: 644161.0000 - fn: 1725.0000 - accuracy: 0.9952 - precision: 0.9397 - recall: 0.9298 - auc: 0.9979 - prc: 0.9826 - val_loss: 0.1313 - val_tp: 7191.0000 - val_fp: 2971.0000 - val_tn: 273731.0000 - val_fn: 3339.0000 - val_accuracy: 0.9780 - val_precision: 0.7076 - val_recall: 0.6829 - val_auc: 0.9040 - val_prc: 0.6664\n",
      "Epoch 53/100\n",
      "55/55 [==============================] - 6s 116ms/step - loss: 0.0121 - tp: 22891.0000 - fp: 1497.0000 - tn: 644129.0000 - fn: 1677.0000 - accuracy: 0.9953 - precision: 0.9386 - recall: 0.9317 - auc: 0.9981 - prc: 0.9835 - val_loss: 0.1386 - val_tp: 7157.0000 - val_fp: 2925.0000 - val_tn: 273777.0000 - val_fn: 3373.0000 - val_accuracy: 0.9781 - val_precision: 0.7099 - val_recall: 0.6797 - val_auc: 0.9010 - val_prc: 0.6631\n",
      "Epoch 54/100\n",
      "55/55 [==============================] - 6s 115ms/step - loss: 0.0130 - tp: 22760.0000 - fp: 1592.0000 - tn: 644034.0000 - fn: 1808.0000 - accuracy: 0.9949 - precision: 0.9346 - recall: 0.9264 - auc: 0.9978 - prc: 0.9808 - val_loss: 0.1305 - val_tp: 7000.0000 - val_fp: 2645.0000 - val_tn: 274057.0000 - val_fn: 3530.0000 - val_accuracy: 0.9785 - val_precision: 0.7258 - val_recall: 0.6648 - val_auc: 0.9009 - val_prc: 0.6700\n",
      "Epoch 55/100\n",
      "55/55 [==============================] - 6s 115ms/step - loss: 0.0120 - tp: 22918.0000 - fp: 1502.0000 - tn: 644124.0000 - fn: 1650.0000 - accuracy: 0.9953 - precision: 0.9385 - recall: 0.9328 - auc: 0.9981 - prc: 0.9833 - val_loss: 0.1327 - val_tp: 7242.0000 - val_fp: 3224.0000 - val_tn: 273478.0000 - val_fn: 3288.0000 - val_accuracy: 0.9773 - val_precision: 0.6920 - val_recall: 0.6877 - val_auc: 0.9076 - val_prc: 0.6594\n",
      "Epoch 56/100\n",
      "55/55 [==============================] - 6s 115ms/step - loss: 0.0114 - tp: 23009.0000 - fp: 1441.0000 - tn: 644185.0000 - fn: 1559.0000 - accuracy: 0.9955 - precision: 0.9411 - recall: 0.9365 - auc: 0.9982 - prc: 0.9849 - val_loss: 0.1366 - val_tp: 7227.0000 - val_fp: 3185.0000 - val_tn: 273517.0000 - val_fn: 3303.0000 - val_accuracy: 0.9774 - val_precision: 0.6941 - val_recall: 0.6863 - val_auc: 0.9058 - val_prc: 0.6595\n",
      "Epoch 57/100\n",
      "55/55 [==============================] - 6s 116ms/step - loss: 0.0114 - tp: 23025.0000 - fp: 1403.0000 - tn: 644223.0000 - fn: 1543.0000 - accuracy: 0.9956 - precision: 0.9426 - recall: 0.9372 - auc: 0.9981 - prc: 0.9848 - val_loss: 0.1317 - val_tp: 7124.0000 - val_fp: 3062.0000 - val_tn: 273640.0000 - val_fn: 3406.0000 - val_accuracy: 0.9775 - val_precision: 0.6994 - val_recall: 0.6765 - val_auc: 0.9057 - val_prc: 0.6597\n",
      "Epoch 58/100\n",
      "55/55 [==============================] - 6s 116ms/step - loss: 0.0115 - tp: 23025.0000 - fp: 1380.0000 - tn: 644246.0000 - fn: 1543.0000 - accuracy: 0.9956 - precision: 0.9435 - recall: 0.9372 - auc: 0.9983 - prc: 0.9850 - val_loss: 0.1375 - val_tp: 7140.0000 - val_fp: 2994.0000 - val_tn: 273708.0000 - val_fn: 3390.0000 - val_accuracy: 0.9778 - val_precision: 0.7046 - val_recall: 0.6781 - val_auc: 0.9026 - val_prc: 0.6603\n",
      "Epoch 59/100\n",
      "55/55 [==============================] - 6s 116ms/step - loss: 0.0112 - tp: 23056.0000 - fp: 1388.0000 - tn: 644238.0000 - fn: 1512.0000 - accuracy: 0.9957 - precision: 0.9432 - recall: 0.9385 - auc: 0.9983 - prc: 0.9850 - val_loss: 0.1337 - val_tp: 7151.0000 - val_fp: 3165.0000 - val_tn: 273537.0000 - val_fn: 3379.0000 - val_accuracy: 0.9772 - val_precision: 0.6932 - val_recall: 0.6791 - val_auc: 0.9050 - val_prc: 0.6628\n",
      "Epoch 60/100\n",
      "55/55 [==============================] - 6s 116ms/step - loss: 0.0122 - tp: 22914.0000 - fp: 1429.0000 - tn: 644197.0000 - fn: 1654.0000 - accuracy: 0.9954 - precision: 0.9413 - recall: 0.9327 - auc: 0.9981 - prc: 0.9829 - val_loss: 0.1310 - val_tp: 7258.0000 - val_fp: 3316.0000 - val_tn: 273386.0000 - val_fn: 3272.0000 - val_accuracy: 0.9771 - val_precision: 0.6864 - val_recall: 0.6893 - val_auc: 0.9095 - val_prc: 0.6655\n",
      "Epoch 61/100\n",
      "55/55 [==============================] - 6s 116ms/step - loss: 0.0107 - tp: 23153.0000 - fp: 1326.0000 - tn: 644300.0000 - fn: 1415.0000 - accuracy: 0.9959 - precision: 0.9458 - recall: 0.9424 - auc: 0.9985 - prc: 0.9870 - val_loss: 0.1333 - val_tp: 6964.0000 - val_fp: 2683.0000 - val_tn: 274019.0000 - val_fn: 3566.0000 - val_accuracy: 0.9782 - val_precision: 0.7219 - val_recall: 0.6613 - val_auc: 0.8994 - val_prc: 0.6702\n",
      "Epoch 62/100\n",
      "55/55 [==============================] - 6s 116ms/step - loss: 0.0103 - tp: 23174.0000 - fp: 1262.0000 - tn: 644364.0000 - fn: 1394.0000 - accuracy: 0.9960 - precision: 0.9484 - recall: 0.9433 - auc: 0.9985 - prc: 0.9876 - val_loss: 0.1405 - val_tp: 6945.0000 - val_fp: 2819.0000 - val_tn: 273883.0000 - val_fn: 3585.0000 - val_accuracy: 0.9777 - val_precision: 0.7113 - val_recall: 0.6595 - val_auc: 0.8979 - val_prc: 0.6583\n",
      "Epoch 63/100\n",
      "55/55 [==============================] - 6s 116ms/step - loss: 0.0105 - tp: 23217.0000 - fp: 1302.0000 - tn: 644324.0000 - fn: 1351.0000 - accuracy: 0.9960 - precision: 0.9469 - recall: 0.9450 - auc: 0.9983 - prc: 0.9869 - val_loss: 0.1369 - val_tp: 7144.0000 - val_fp: 2968.0000 - val_tn: 273734.0000 - val_fn: 3386.0000 - val_accuracy: 0.9779 - val_precision: 0.7065 - val_recall: 0.6784 - val_auc: 0.9038 - val_prc: 0.6619\n",
      "Epoch 64/100\n",
      "55/55 [==============================] - 6s 116ms/step - loss: 0.0102 - tp: 23158.0000 - fp: 1232.0000 - tn: 644394.0000 - fn: 1410.0000 - accuracy: 0.9961 - precision: 0.9495 - recall: 0.9426 - auc: 0.9985 - prc: 0.9875 - val_loss: 0.1446 - val_tp: 7088.0000 - val_fp: 2988.0000 - val_tn: 273714.0000 - val_fn: 3442.0000 - val_accuracy: 0.9776 - val_precision: 0.7035 - val_recall: 0.6731 - val_auc: 0.8991 - val_prc: 0.6514\n",
      "Epoch 65/100\n",
      "55/55 [==============================] - 6s 116ms/step - loss: 0.0099 - tp: 23252.0000 - fp: 1205.0000 - tn: 644421.0000 - fn: 1316.0000 - accuracy: 0.9962 - precision: 0.9507 - recall: 0.9464 - auc: 0.9985 - prc: 0.9884 - val_loss: 0.1420 - val_tp: 7320.0000 - val_fp: 3434.0000 - val_tn: 273268.0000 - val_fn: 3210.0000 - val_accuracy: 0.9769 - val_precision: 0.6807 - val_recall: 0.6952 - val_auc: 0.9062 - val_prc: 0.6519\n",
      "Epoch 66/100\n",
      "55/55 [==============================] - 6s 116ms/step - loss: 0.0101 - tp: 23232.0000 - fp: 1230.0000 - tn: 644396.0000 - fn: 1336.0000 - accuracy: 0.9962 - precision: 0.9497 - recall: 0.9456 - auc: 0.9983 - prc: 0.9871 - val_loss: 0.1424 - val_tp: 7055.0000 - val_fp: 2857.0000 - val_tn: 273845.0000 - val_fn: 3475.0000 - val_accuracy: 0.9780 - val_precision: 0.7118 - val_recall: 0.6700 - val_auc: 0.9000 - val_prc: 0.6553\n",
      "Epoch 67/100\n",
      "55/55 [==============================] - 6s 116ms/step - loss: 0.0100 - tp: 23209.0000 - fp: 1160.0000 - tn: 644466.0000 - fn: 1359.0000 - accuracy: 0.9962 - precision: 0.9524 - recall: 0.9447 - auc: 0.9985 - prc: 0.9876 - val_loss: 0.1402 - val_tp: 6957.0000 - val_fp: 2707.0000 - val_tn: 273995.0000 - val_fn: 3573.0000 - val_accuracy: 0.9781 - val_precision: 0.7199 - val_recall: 0.6607 - val_auc: 0.8963 - val_prc: 0.6650\n",
      "Epoch 68/100\n",
      "55/55 [==============================] - 6s 116ms/step - loss: 0.0095 - tp: 23306.0000 - fp: 1151.0000 - tn: 644475.0000 - fn: 1262.0000 - accuracy: 0.9964 - precision: 0.9529 - recall: 0.9486 - auc: 0.9986 - prc: 0.9890 - val_loss: 0.1483 - val_tp: 7066.0000 - val_fp: 2753.0000 - val_tn: 273949.0000 - val_fn: 3464.0000 - val_accuracy: 0.9784 - val_precision: 0.7196 - val_recall: 0.6710 - val_auc: 0.8962 - val_prc: 0.6522\n",
      "Epoch 69/100\n",
      "55/55 [==============================] - 6s 116ms/step - loss: 0.0091 - tp: 23394.0000 - fp: 1156.0000 - tn: 644470.0000 - fn: 1174.0000 - accuracy: 0.9965 - precision: 0.9529 - recall: 0.9522 - auc: 0.9987 - prc: 0.9897 - val_loss: 0.1502 - val_tp: 7012.0000 - val_fp: 2861.0000 - val_tn: 273841.0000 - val_fn: 3518.0000 - val_accuracy: 0.9778 - val_precision: 0.7102 - val_recall: 0.6659 - val_auc: 0.8938 - val_prc: 0.6531\n",
      "Epoch 70/100\n",
      "55/55 [==============================] - 6s 116ms/step - loss: 0.0088 - tp: 23426.0000 - fp: 1097.0000 - tn: 644529.0000 - fn: 1142.0000 - accuracy: 0.9967 - precision: 0.9553 - recall: 0.9535 - auc: 0.9988 - prc: 0.9904 - val_loss: 0.1542 - val_tp: 6996.0000 - val_fp: 2733.0000 - val_tn: 273969.0000 - val_fn: 3534.0000 - val_accuracy: 0.9782 - val_precision: 0.7191 - val_recall: 0.6644 - val_auc: 0.8906 - val_prc: 0.6489\n",
      "Epoch 71/100\n",
      "55/55 [==============================] - 6s 116ms/step - loss: 0.0088 - tp: 23430.0000 - fp: 1078.0000 - tn: 644548.0000 - fn: 1138.0000 - accuracy: 0.9967 - precision: 0.9560 - recall: 0.9537 - auc: 0.9984 - prc: 0.9902 - val_loss: 0.1548 - val_tp: 7010.0000 - val_fp: 2758.0000 - val_tn: 273944.0000 - val_fn: 3520.0000 - val_accuracy: 0.9781 - val_precision: 0.7176 - val_recall: 0.6657 - val_auc: 0.8922 - val_prc: 0.6463\n",
      "Epoch 72/100\n",
      "55/55 [==============================] - 6s 116ms/step - loss: 0.0087 - tp: 23425.0000 - fp: 1052.0000 - tn: 644574.0000 - fn: 1143.0000 - accuracy: 0.9967 - precision: 0.9570 - recall: 0.9535 - auc: 0.9986 - prc: 0.9903 - val_loss: 0.1567 - val_tp: 6808.0000 - val_fp: 2478.0000 - val_tn: 274224.0000 - val_fn: 3722.0000 - val_accuracy: 0.9784 - val_precision: 0.7331 - val_recall: 0.6465 - val_auc: 0.8850 - val_prc: 0.6530\n",
      "Epoch 73/100\n",
      "55/55 [==============================] - 6s 116ms/step - loss: 0.0087 - tp: 23415.0000 - fp: 1033.0000 - tn: 644593.0000 - fn: 1153.0000 - accuracy: 0.9967 - precision: 0.9577 - recall: 0.9531 - auc: 0.9987 - prc: 0.9907 - val_loss: 0.1575 - val_tp: 7200.0000 - val_fp: 3107.0000 - val_tn: 273595.0000 - val_fn: 3330.0000 - val_accuracy: 0.9776 - val_precision: 0.6986 - val_recall: 0.6838 - val_auc: 0.8962 - val_prc: 0.6400\n",
      "Epoch 74/100\n",
      "55/55 [==============================] - 6s 116ms/step - loss: 0.0085 - tp: 23497.0000 - fp: 1093.0000 - tn: 644533.0000 - fn: 1071.0000 - accuracy: 0.9968 - precision: 0.9556 - recall: 0.9564 - auc: 0.9986 - prc: 0.9906 - val_loss: 0.1577 - val_tp: 6950.0000 - val_fp: 2577.0000 - val_tn: 274125.0000 - val_fn: 3580.0000 - val_accuracy: 0.9786 - val_precision: 0.7295 - val_recall: 0.6600 - val_auc: 0.8883 - val_prc: 0.6482\n",
      "Epoch 75/100\n",
      "55/55 [==============================] - 6s 116ms/step - loss: 0.0087 - tp: 23408.0000 - fp: 1053.0000 - tn: 644573.0000 - fn: 1160.0000 - accuracy: 0.9967 - precision: 0.9570 - recall: 0.9528 - auc: 0.9986 - prc: 0.9904 - val_loss: 0.1513 - val_tp: 7050.0000 - val_fp: 2801.0000 - val_tn: 273901.0000 - val_fn: 3480.0000 - val_accuracy: 0.9781 - val_precision: 0.7157 - val_recall: 0.6695 - val_auc: 0.8940 - val_prc: 0.6505\n",
      "Epoch 76/100\n",
      "55/55 [==============================] - 6s 116ms/step - loss: 0.0089 - tp: 23392.0000 - fp: 1072.0000 - tn: 644554.0000 - fn: 1176.0000 - accuracy: 0.9966 - precision: 0.9562 - recall: 0.9521 - auc: 0.9986 - prc: 0.9902 - val_loss: 0.1578 - val_tp: 7057.0000 - val_fp: 2937.0000 - val_tn: 273765.0000 - val_fn: 3473.0000 - val_accuracy: 0.9777 - val_precision: 0.7061 - val_recall: 0.6702 - val_auc: 0.8953 - val_prc: 0.6375\n",
      "Epoch 77/100\n",
      "55/55 [==============================] - 6s 116ms/step - loss: 0.0082 - tp: 23475.0000 - fp: 995.0000 - tn: 644631.0000 - fn: 1093.0000 - accuracy: 0.9969 - precision: 0.9593 - recall: 0.9555 - auc: 0.9988 - prc: 0.9914 - val_loss: 0.1625 - val_tp: 6971.0000 - val_fp: 2747.0000 - val_tn: 273955.0000 - val_fn: 3559.0000 - val_accuracy: 0.9780 - val_precision: 0.7173 - val_recall: 0.6620 - val_auc: 0.8876 - val_prc: 0.6416\n",
      "Epoch 78/100\n",
      "55/55 [==============================] - 6s 117ms/step - loss: 0.0082 - tp: 23482.0000 - fp: 997.0000 - tn: 644629.0000 - fn: 1086.0000 - accuracy: 0.9969 - precision: 0.9593 - recall: 0.9558 - auc: 0.9988 - prc: 0.9915 - val_loss: 0.1594 - val_tp: 6988.0000 - val_fp: 2839.0000 - val_tn: 273863.0000 - val_fn: 3542.0000 - val_accuracy: 0.9778 - val_precision: 0.7111 - val_recall: 0.6636 - val_auc: 0.8900 - val_prc: 0.6414\n",
      "Epoch 79/100\n",
      "55/55 [==============================] - 6s 116ms/step - loss: 0.0081 - tp: 23524.0000 - fp: 960.0000 - tn: 644666.0000 - fn: 1044.0000 - accuracy: 0.9970 - precision: 0.9608 - recall: 0.9575 - auc: 0.9988 - prc: 0.9918 - val_loss: 0.1607 - val_tp: 6854.0000 - val_fp: 2512.0000 - val_tn: 274190.0000 - val_fn: 3676.0000 - val_accuracy: 0.9785 - val_precision: 0.7318 - val_recall: 0.6509 - val_auc: 0.8841 - val_prc: 0.6446\n",
      "Epoch 80/100\n",
      "55/55 [==============================] - 6s 116ms/step - loss: 0.0105 - tp: 23231.0000 - fp: 1091.0000 - tn: 644535.0000 - fn: 1337.0000 - accuracy: 0.9964 - precision: 0.9551 - recall: 0.9456 - auc: 0.9974 - prc: 0.9860 - val_loss: 0.1430 - val_tp: 6941.0000 - val_fp: 2786.0000 - val_tn: 273916.0000 - val_fn: 3589.0000 - val_accuracy: 0.9778 - val_precision: 0.7136 - val_recall: 0.6592 - val_auc: 0.8984 - val_prc: 0.6546\n",
      "Epoch 81/100\n",
      "55/55 [==============================] - 6s 116ms/step - loss: 0.0094 - tp: 23377.0000 - fp: 988.0000 - tn: 644638.0000 - fn: 1191.0000 - accuracy: 0.9967 - precision: 0.9595 - recall: 0.9515 - auc: 0.9979 - prc: 0.9887 - val_loss: 0.1548 - val_tp: 6880.0000 - val_fp: 2551.0000 - val_tn: 274151.0000 - val_fn: 3650.0000 - val_accuracy: 0.9784 - val_precision: 0.7295 - val_recall: 0.6534 - val_auc: 0.8886 - val_prc: 0.6585\n",
      "Epoch 82/100\n",
      "55/55 [==============================] - 6s 116ms/step - loss: 0.0085 - tp: 23433.0000 - fp: 951.0000 - tn: 644675.0000 - fn: 1135.0000 - accuracy: 0.9969 - precision: 0.9610 - recall: 0.9538 - auc: 0.9985 - prc: 0.9906 - val_loss: 0.1562 - val_tp: 6929.0000 - val_fp: 2786.0000 - val_tn: 273916.0000 - val_fn: 3601.0000 - val_accuracy: 0.9778 - val_precision: 0.7132 - val_recall: 0.6580 - val_auc: 0.8908 - val_prc: 0.6471\n",
      "Epoch 83/100\n",
      "55/55 [==============================] - 6s 116ms/step - loss: 0.0076 - tp: 23592.0000 - fp: 912.0000 - tn: 644714.0000 - fn: 976.0000 - accuracy: 0.9972 - precision: 0.9628 - recall: 0.9603 - auc: 0.9988 - prc: 0.9922 - val_loss: 0.1667 - val_tp: 7164.0000 - val_fp: 3260.0000 - val_tn: 273442.0000 - val_fn: 3366.0000 - val_accuracy: 0.9769 - val_precision: 0.6873 - val_recall: 0.6803 - val_auc: 0.8944 - val_prc: 0.6270\n",
      "Epoch 84/100\n",
      "55/55 [==============================] - 6s 116ms/step - loss: 0.0077 - tp: 23568.0000 - fp: 931.0000 - tn: 644695.0000 - fn: 1000.0000 - accuracy: 0.9971 - precision: 0.9620 - recall: 0.9593 - auc: 0.9989 - prc: 0.9924 - val_loss: 0.1646 - val_tp: 7081.0000 - val_fp: 3145.0000 - val_tn: 273557.0000 - val_fn: 3449.0000 - val_accuracy: 0.9770 - val_precision: 0.6925 - val_recall: 0.6725 - val_auc: 0.8927 - val_prc: 0.6291\n",
      "Epoch 85/100\n",
      "55/55 [==============================] - 6s 116ms/step - loss: 0.0077 - tp: 23580.0000 - fp: 877.0000 - tn: 644749.0000 - fn: 988.0000 - accuracy: 0.9972 - precision: 0.9641 - recall: 0.9598 - auc: 0.9987 - prc: 0.9920 - val_loss: 0.1665 - val_tp: 6900.0000 - val_fp: 2624.0000 - val_tn: 274078.0000 - val_fn: 3630.0000 - val_accuracy: 0.9782 - val_precision: 0.7245 - val_recall: 0.6553 - val_auc: 0.8850 - val_prc: 0.6386\n",
      "Epoch 86/100\n",
      "55/55 [==============================] - 6s 117ms/step - loss: 0.0081 - tp: 23524.0000 - fp: 983.0000 - tn: 644643.0000 - fn: 1044.0000 - accuracy: 0.9970 - precision: 0.9599 - recall: 0.9575 - auc: 0.9988 - prc: 0.9915 - val_loss: 0.1530 - val_tp: 6816.0000 - val_fp: 2617.0000 - val_tn: 274085.0000 - val_fn: 3714.0000 - val_accuracy: 0.9780 - val_precision: 0.7226 - val_recall: 0.6473 - val_auc: 0.8908 - val_prc: 0.6536\n",
      "Epoch 87/100\n",
      "55/55 [==============================] - 6s 116ms/step - loss: 0.0076 - tp: 23579.0000 - fp: 881.0000 - tn: 644745.0000 - fn: 989.0000 - accuracy: 0.9972 - precision: 0.9640 - recall: 0.9597 - auc: 0.9987 - prc: 0.9921 - val_loss: 0.1595 - val_tp: 7151.0000 - val_fp: 3215.0000 - val_tn: 273487.0000 - val_fn: 3379.0000 - val_accuracy: 0.9770 - val_precision: 0.6899 - val_recall: 0.6791 - val_auc: 0.8969 - val_prc: 0.6381\n",
      "Epoch 88/100\n",
      "55/55 [==============================] - 6s 116ms/step - loss: 0.0074 - tp: 23649.0000 - fp: 872.0000 - tn: 644754.0000 - fn: 919.0000 - accuracy: 0.9973 - precision: 0.9644 - recall: 0.9626 - auc: 0.9990 - prc: 0.9926 - val_loss: 0.1617 - val_tp: 7011.0000 - val_fp: 2943.0000 - val_tn: 273759.0000 - val_fn: 3519.0000 - val_accuracy: 0.9775 - val_precision: 0.7043 - val_recall: 0.6658 - val_auc: 0.8923 - val_prc: 0.6397\n",
      "Epoch 89/100\n",
      "55/55 [==============================] - 6s 116ms/step - loss: 0.0070 - tp: 23673.0000 - fp: 875.0000 - tn: 644751.0000 - fn: 895.0000 - accuracy: 0.9974 - precision: 0.9644 - recall: 0.9636 - auc: 0.9990 - prc: 0.9937 - val_loss: 0.1722 - val_tp: 6930.0000 - val_fp: 2752.0000 - val_tn: 273950.0000 - val_fn: 3600.0000 - val_accuracy: 0.9779 - val_precision: 0.7158 - val_recall: 0.6581 - val_auc: 0.8856 - val_prc: 0.6376\n",
      "Epoch 90/100\n",
      "55/55 [==============================] - 6s 117ms/step - loss: 0.0069 - tp: 23675.0000 - fp: 823.0000 - tn: 644803.0000 - fn: 893.0000 - accuracy: 0.9974 - precision: 0.9664 - recall: 0.9637 - auc: 0.9989 - prc: 0.9938 - val_loss: 0.1723 - val_tp: 6932.0000 - val_fp: 2939.0000 - val_tn: 273763.0000 - val_fn: 3598.0000 - val_accuracy: 0.9772 - val_precision: 0.7023 - val_recall: 0.6583 - val_auc: 0.8867 - val_prc: 0.6277\n",
      "Epoch 91/100\n",
      "55/55 [==============================] - 6s 116ms/step - loss: 0.0067 - tp: 23710.0000 - fp: 786.0000 - tn: 644840.0000 - fn: 858.0000 - accuracy: 0.9975 - precision: 0.9679 - recall: 0.9651 - auc: 0.9989 - prc: 0.9937 - val_loss: 0.1747 - val_tp: 6974.0000 - val_fp: 2820.0000 - val_tn: 273882.0000 - val_fn: 3556.0000 - val_accuracy: 0.9778 - val_precision: 0.7121 - val_recall: 0.6623 - val_auc: 0.8859 - val_prc: 0.6295\n",
      "Epoch 92/100\n",
      "55/55 [==============================] - 6s 116ms/step - loss: 0.0066 - tp: 23711.0000 - fp: 802.0000 - tn: 644824.0000 - fn: 857.0000 - accuracy: 0.9975 - precision: 0.9673 - recall: 0.9651 - auc: 0.9990 - prc: 0.9939 - val_loss: 0.1759 - val_tp: 6926.0000 - val_fp: 2854.0000 - val_tn: 273848.0000 - val_fn: 3604.0000 - val_accuracy: 0.9775 - val_precision: 0.7082 - val_recall: 0.6577 - val_auc: 0.8855 - val_prc: 0.6278\n",
      "Epoch 93/100\n",
      "55/55 [==============================] - 6s 116ms/step - loss: 0.0064 - tp: 23765.0000 - fp: 775.0000 - tn: 644851.0000 - fn: 803.0000 - accuracy: 0.9976 - precision: 0.9684 - recall: 0.9673 - auc: 0.9991 - prc: 0.9943 - val_loss: 0.1776 - val_tp: 6911.0000 - val_fp: 2876.0000 - val_tn: 273826.0000 - val_fn: 3619.0000 - val_accuracy: 0.9774 - val_precision: 0.7061 - val_recall: 0.6563 - val_auc: 0.8853 - val_prc: 0.6273\n",
      "Epoch 94/100\n",
      "55/55 [==============================] - 6s 116ms/step - loss: 0.0067 - tp: 23677.0000 - fp: 846.0000 - tn: 644780.0000 - fn: 891.0000 - accuracy: 0.9974 - precision: 0.9655 - recall: 0.9637 - auc: 0.9991 - prc: 0.9938 - val_loss: 0.1697 - val_tp: 6941.0000 - val_fp: 2794.0000 - val_tn: 273908.0000 - val_fn: 3589.0000 - val_accuracy: 0.9778 - val_precision: 0.7130 - val_recall: 0.6592 - val_auc: 0.8889 - val_prc: 0.6393\n",
      "Epoch 95/100\n",
      "55/55 [==============================] - 6s 117ms/step - loss: 0.0065 - tp: 23736.0000 - fp: 786.0000 - tn: 644840.0000 - fn: 832.0000 - accuracy: 0.9976 - precision: 0.9679 - recall: 0.9661 - auc: 0.9991 - prc: 0.9944 - val_loss: 0.1810 - val_tp: 7075.0000 - val_fp: 3082.0000 - val_tn: 273620.0000 - val_fn: 3455.0000 - val_accuracy: 0.9772 - val_precision: 0.6966 - val_recall: 0.6719 - val_auc: 0.8893 - val_prc: 0.6242\n",
      "Epoch 96/100\n",
      "55/55 [==============================] - 6s 117ms/step - loss: 0.0065 - tp: 23740.0000 - fp: 776.0000 - tn: 644850.0000 - fn: 828.0000 - accuracy: 0.9976 - precision: 0.9683 - recall: 0.9663 - auc: 0.9992 - prc: 0.9944 - val_loss: 0.1827 - val_tp: 6890.0000 - val_fp: 2631.0000 - val_tn: 274071.0000 - val_fn: 3640.0000 - val_accuracy: 0.9782 - val_precision: 0.7237 - val_recall: 0.6543 - val_auc: 0.8817 - val_prc: 0.6350\n",
      "Epoch 97/100\n",
      "55/55 [==============================] - 6s 117ms/step - loss: 0.0069 - tp: 23683.0000 - fp: 811.0000 - tn: 644815.0000 - fn: 885.0000 - accuracy: 0.9975 - precision: 0.9669 - recall: 0.9640 - auc: 0.9987 - prc: 0.9930 - val_loss: 0.1818 - val_tp: 6953.0000 - val_fp: 2755.0000 - val_tn: 273947.0000 - val_fn: 3577.0000 - val_accuracy: 0.9780 - val_precision: 0.7162 - val_recall: 0.6603 - val_auc: 0.8828 - val_prc: 0.6311\n",
      "Epoch 98/100\n",
      "55/55 [==============================] - 6s 116ms/step - loss: 0.0062 - tp: 23808.0000 - fp: 761.0000 - tn: 644865.0000 - fn: 760.0000 - accuracy: 0.9977 - precision: 0.9690 - recall: 0.9691 - auc: 0.9992 - prc: 0.9947 - val_loss: 0.1858 - val_tp: 6899.0000 - val_fp: 2740.0000 - val_tn: 273962.0000 - val_fn: 3631.0000 - val_accuracy: 0.9778 - val_precision: 0.7157 - val_recall: 0.6552 - val_auc: 0.8800 - val_prc: 0.6269\n",
      "Epoch 99/100\n",
      "55/55 [==============================] - 6s 116ms/step - loss: 0.0061 - tp: 23813.0000 - fp: 737.0000 - tn: 644889.0000 - fn: 755.0000 - accuracy: 0.9978 - precision: 0.9700 - recall: 0.9693 - auc: 0.9991 - prc: 0.9945 - val_loss: 0.1854 - val_tp: 7043.0000 - val_fp: 2958.0000 - val_tn: 273744.0000 - val_fn: 3487.0000 - val_accuracy: 0.9776 - val_precision: 0.7042 - val_recall: 0.6689 - val_auc: 0.8855 - val_prc: 0.6239\n",
      "Epoch 100/100\n",
      "55/55 [==============================] - 6s 116ms/step - loss: 0.0060 - tp: 23785.0000 - fp: 719.0000 - tn: 644907.0000 - fn: 783.0000 - accuracy: 0.9978 - precision: 0.9707 - recall: 0.9681 - auc: 0.9992 - prc: 0.9951 - val_loss: 0.1884 - val_tp: 7098.0000 - val_fp: 3312.0000 - val_tn: 273390.0000 - val_fn: 3432.0000 - val_accuracy: 0.9765 - val_precision: 0.6818 - val_recall: 0.6741 - val_auc: 0.8892 - val_prc: 0.6146\n"
     ]
    }
   ],
   "source": [
    "EPOCHS = 100\n",
    "\n",
    "history_first = model.fit(vectorized_X_train, y_train, epochs=EPOCHS, validation_data=(vectorized_X_test, y_test), batch_size=2048, verbose=1, callbacks=[tensorboard_callback])\n",
    "\n",
    "# Large batch size used so that each batch will contain the negative classes. If the batch size is small, the batch will contain only the negative classes and the model will not learn anything."
   ]
  },
  {
   "cell_type": "code",
   "execution_count": 60,
   "metadata": {},
   "outputs": [],
   "source": [
    "model.save('../nn_models/baseline_model.h5')"
   ]
  },
  {
   "cell_type": "code",
   "execution_count": 61,
   "metadata": {},
   "outputs": [
    {
     "data": {
      "text/html": [
       "\n",
       "      <iframe id=\"tensorboard-frame-6f267de15e4e834e\" width=\"100%\" height=\"800\" frameborder=\"0\">\n",
       "      </iframe>\n",
       "      <script>\n",
       "        (function() {\n",
       "          const frame = document.getElementById(\"tensorboard-frame-6f267de15e4e834e\");\n",
       "          const url = new URL(\"/\", window.location);\n",
       "          const port = 6006;\n",
       "          if (port) {\n",
       "            url.port = port;\n",
       "          }\n",
       "          frame.src = url;\n",
       "        })();\n",
       "      </script>\n",
       "    "
      ],
      "text/plain": [
       "<IPython.core.display.HTML object>"
      ]
     },
     "metadata": {},
     "output_type": "display_data"
    }
   ],
   "source": [
    "%tensorboard --logdir logs/fit/base_model"
   ]
  },
  {
   "cell_type": "code",
   "execution_count": 31,
   "metadata": {},
   "outputs": [
    {
     "data": {
      "text/plain": [
       "dict_keys(['loss', 'tp', 'fp', 'tn', 'fn', 'accuracy', 'precision', 'recall', 'auc', 'prc', 'val_loss', 'val_tp', 'val_fp', 'val_tn', 'val_fn', 'val_accuracy', 'val_precision', 'val_recall', 'val_auc', 'val_prc'])"
      ]
     },
     "execution_count": 31,
     "metadata": {},
     "output_type": "execute_result"
    }
   ],
   "source": [
    "history.history.keys()"
   ]
  },
  {
   "cell_type": "code",
   "execution_count": 62,
   "metadata": {},
   "outputs": [
    {
     "data": {
      "image/png": "[encoded data removed]",
      "text/plain": [
       "<Figure size 1200x800 with 1 Axes>"
      ]
     },
     "metadata": {},
     "output_type": "display_data"
    }
   ],
   "source": [
    "train_loss = history_first.history['loss']\n",
    "test_loss = history_first.history['val_loss']\n",
    "\n",
    "plt.figure(figsize=(12, 8))\n",
    "plt.plot(train_loss, label='Training loss', color='navy')\n",
    "plt.plot(test_loss, label='Testing loss', color='skyblue')\n",
    "plt.legend();"
   ]
  },
  {
   "cell_type": "code",
   "execution_count": 64,
   "metadata": {},
   "outputs": [
    {
     "data": {
      "image/png": "[encoded data removed]",
      "text/plain": [
       "<Figure size 1200x800 with 1 Axes>"
      ]
     },
     "metadata": {},
     "output_type": "display_data"
    }
   ],
   "source": [
    "train_loss = history_first.history['prc']\n",
    "test_loss = history_first.history['val_prc']\n",
    "\n",
    "plt.figure(figsize=(12, 8))\n",
    "plt.plot(train_loss, label='Training acc', color='navy')\n",
    "plt.plot(test_loss, label='Testing acc', color='skyblue')\n",
    "plt.legend();"
   ]
  },
  {
   "cell_type": "markdown",
   "metadata": {},
   "source": [
    "# Model with class weights"
   ]
  },
  {
   "cell_type": "code",
   "execution_count": 25,
   "metadata": {},
   "outputs": [],
   "source": [
    "def generate_class_weights(class_series, multi_class=True, one_hot_encoded=False):\n",
    "    \"\"\"\n",
    "    Method to generate class weights given a set of multi-class or multi-label labels, both one-hot-encoded or not.\n",
    "    Some examples of different formats of class_series and their outputs are:\n",
    "    - generate_class_weights(['mango', 'lemon', 'banana', 'mango'], multi_class=True, one_hot_encoded=False)\n",
    "    {'banana': 1.3333333333333333, 'lemon': 1.3333333333333333, 'mango': 0.6666666666666666}\n",
    "    - generate_class_weights([[1, 0, 0], [0, 1, 0], [0, 0, 1], [1, 0, 0]], multi_class=True, one_hot_encoded=True)\n",
    "    {0: 0.6666666666666666, 1: 1.3333333333333333, 2: 1.3333333333333333}\n",
    "    - generate_class_weights([['mango', 'lemon'], ['mango'], ['lemon', 'banana'], ['lemon']], multi_class=False, one_hot_encoded=False)\n",
    "    {'banana': 1.3333333333333333, 'lemon': 0.4444444444444444, 'mango': 0.6666666666666666}\n",
    "    - generate_class_weights([[0, 1, 1], [0, 0, 1], [1, 1, 0], [0, 1, 0]], multi_class=False, one_hot_encoded=True)\n",
    "    {0: 1.3333333333333333, 1: 0.4444444444444444, 2: 0.6666666666666666}\n",
    "    The output is a dictionary in the format { class_label: class_weight }. In case the input is one hot encoded, the class_label would be index\n",
    "    of appareance of the label when the dataset was processed.\n",
    "    In multi_class this is np.unique(class_series) and in multi-label np.unique(np.concatenate(class_series)).\n",
    "    Author: Angel Igareta (angel@igareta.com)\n",
    "    \"\"\"\n",
    "    if multi_class:\n",
    "        # If class is one hot encoded, transform to categorical labels to use compute_class_weight\n",
    "        if one_hot_encoded:\n",
    "            class_series = np.argmax(class_series, axis=1)\n",
    "\n",
    "        # Compute class weights with sklearn method\n",
    "        class_labels = np.unique(class_series)\n",
    "        class_weights = compute_class_weight(\n",
    "            class_weight=\"balanced\", classes=class_labels, y=class_series\n",
    "        )\n",
    "        return dict(zip(class_labels, class_weights))\n",
    "    else:\n",
    "        # It is neccessary that the multi-label values are one-hot encoded\n",
    "        mlb = None\n",
    "        if not one_hot_encoded:\n",
    "            mlb = MultiLabelBinarizer()\n",
    "            class_series = mlb.fit_transform(class_series)\n",
    "\n",
    "        n_samples = len(class_series)\n",
    "        n_classes = len(class_series[0])\n",
    "\n",
    "        # Count each class frequency\n",
    "        class_count = [0] * n_classes\n",
    "        for classes in class_series:\n",
    "            for index in range(n_classes):\n",
    "                if classes[index] != 0:\n",
    "                    class_count[index] += 1\n",
    "\n",
    "        # Compute class weights using balanced method\n",
    "        class_weights = [\n",
    "            n_samples / (n_classes * freq) if freq > 0 else 1 for freq in class_count\n",
    "        ]\n",
    "        class_labels = range(len(class_weights)) if mlb is None else mlb.classes_\n",
    "        return dict(zip(class_labels, class_weights))"
   ]
  },
  {
   "cell_type": "code",
   "execution_count": 26,
   "metadata": {},
   "outputs": [],
   "source": [
    "class_weights = generate_class_weights(y_train, multi_class=False, one_hot_encoded=True)"
   ]
  },
  {
   "cell_type": "code",
   "execution_count": 27,
   "metadata": {},
   "outputs": [],
   "source": [
    "log_dir2 = \"logs/fit/model_class_weights\" + datetime.datetime.now().strftime(\"%Y%m%d-%H%M%S\")\n",
    "tensorboard_callback = tf.keras.callbacks.TensorBoard(log_dir=log_dir2, histogram_freq=1)"
   ]
  },
  {
   "cell_type": "code",
   "execution_count": 42,
   "metadata": {},
   "outputs": [
    {
     "name": "stdout",
     "output_type": "stream",
     "text": [
      "Epoch 1/100\n",
      "3491/3491 [==============================] - 47s 13ms/step - loss: 0.0660 - tp: 19989.0000 - fp: 3291.0000 - tn: 642338.0000 - fn: 4576.0000 - accuracy: 0.9883 - precision: 0.8586 - recall: 0.8137 - auc: 0.9913 - prc: 0.9130 - val_loss: 0.0713 - val_tp: 6730.0000 - val_fp: 2158.0000 - val_tn: 274541.0000 - val_fn: 3803.0000 - val_accuracy: 0.9792 - val_precision: 0.7572 - val_recall: 0.6389 - val_auc: 0.9505 - val_prc: 0.7510\n",
      "Epoch 2/100\n",
      "3491/3491 [==============================] - 46s 13ms/step - loss: 0.0452 - tp: 21342.0000 - fp: 2403.0000 - tn: 643226.0000 - fn: 3223.0000 - accuracy: 0.9916 - precision: 0.8988 - recall: 0.8688 - auc: 0.9951 - prc: 0.9513 - val_loss: 0.0788 - val_tp: 7127.0000 - val_fp: 2656.0000 - val_tn: 274043.0000 - val_fn: 3406.0000 - val_accuracy: 0.9789 - val_precision: 0.7285 - val_recall: 0.6766 - val_auc: 0.9440 - val_prc: 0.7433\n",
      "Epoch 3/100\n",
      "3491/3491 [==============================] - 46s 13ms/step - loss: 0.0407 - tp: 21667.0000 - fp: 2201.0000 - tn: 643428.0000 - fn: 2898.0000 - accuracy: 0.9924 - precision: 0.9078 - recall: 0.8820 - auc: 0.9957 - prc: 0.9590 - val_loss: 0.0819 - val_tp: 7122.0000 - val_fp: 3010.0000 - val_tn: 273689.0000 - val_fn: 3411.0000 - val_accuracy: 0.9776 - val_precision: 0.7029 - val_recall: 0.6762 - val_auc: 0.9430 - val_prc: 0.7357\n",
      "Epoch 4/100\n",
      "3491/3491 [==============================] - 47s 13ms/step - loss: 0.0351 - tp: 22085.0000 - fp: 2067.0000 - tn: 643562.0000 - fn: 2480.0000 - accuracy: 0.9932 - precision: 0.9144 - recall: 0.8990 - auc: 0.9967 - prc: 0.9655 - val_loss: 0.0970 - val_tp: 7004.0000 - val_fp: 2424.0000 - val_tn: 274275.0000 - val_fn: 3529.0000 - val_accuracy: 0.9793 - val_precision: 0.7429 - val_recall: 0.6650 - val_auc: 0.9246 - val_prc: 0.7292\n",
      "Epoch 5/100\n",
      "3491/3491 [==============================] - 47s 14ms/step - loss: 0.0317 - tp: 22280.0000 - fp: 1872.0000 - tn: 643757.0000 - fn: 2285.0000 - accuracy: 0.9938 - precision: 0.9225 - recall: 0.9070 - auc: 0.9970 - prc: 0.9709 - val_loss: 0.1024 - val_tp: 6981.0000 - val_fp: 2471.0000 - val_tn: 274228.0000 - val_fn: 3552.0000 - val_accuracy: 0.9790 - val_precision: 0.7386 - val_recall: 0.6628 - val_auc: 0.9247 - val_prc: 0.7229\n",
      "Epoch 6/100\n",
      "3491/3491 [==============================] - 48s 14ms/step - loss: 0.0284 - tp: 22529.0000 - fp: 1696.0000 - tn: 643933.0000 - fn: 2036.0000 - accuracy: 0.9944 - precision: 0.9300 - recall: 0.9171 - auc: 0.9975 - prc: 0.9754 - val_loss: 0.1140 - val_tp: 6770.0000 - val_fp: 2357.0000 - val_tn: 274342.0000 - val_fn: 3763.0000 - val_accuracy: 0.9787 - val_precision: 0.7418 - val_recall: 0.6427 - val_auc: 0.9143 - val_prc: 0.7048\n",
      "Epoch 7/100\n",
      "3491/3491 [==============================] - 48s 14ms/step - loss: 0.0272 - tp: 22655.0000 - fp: 1623.0000 - tn: 644006.0000 - fn: 1910.0000 - accuracy: 0.9947 - precision: 0.9331 - recall: 0.9222 - auc: 0.9976 - prc: 0.9774 - val_loss: 0.1119 - val_tp: 7124.0000 - val_fp: 2900.0000 - val_tn: 273799.0000 - val_fn: 3409.0000 - val_accuracy: 0.9780 - val_precision: 0.7107 - val_recall: 0.6764 - val_auc: 0.9225 - val_prc: 0.7067\n",
      "Epoch 8/100\n",
      "3491/3491 [==============================] - 48s 14ms/step - loss: 0.0259 - tp: 22717.0000 - fp: 1479.0000 - tn: 644150.0000 - fn: 1848.0000 - accuracy: 0.9950 - precision: 0.9389 - recall: 0.9248 - auc: 0.9975 - prc: 0.9790 - val_loss: 0.1079 - val_tp: 7092.0000 - val_fp: 2874.0000 - val_tn: 273825.0000 - val_fn: 3441.0000 - val_accuracy: 0.9780 - val_precision: 0.7116 - val_recall: 0.6733 - val_auc: 0.9235 - val_prc: 0.7025\n",
      "Epoch 9/100\n",
      "3491/3491 [==============================] - 49s 14ms/step - loss: 0.0244 - tp: 22850.0000 - fp: 1497.0000 - tn: 644132.0000 - fn: 1715.0000 - accuracy: 0.9952 - precision: 0.9385 - recall: 0.9302 - auc: 0.9976 - prc: 0.9806 - val_loss: 0.1169 - val_tp: 7136.0000 - val_fp: 3195.0000 - val_tn: 273504.0000 - val_fn: 3397.0000 - val_accuracy: 0.9770 - val_precision: 0.6907 - val_recall: 0.6775 - val_auc: 0.9201 - val_prc: 0.6838\n",
      "Epoch 10/100\n",
      "3491/3491 [==============================] - 49s 14ms/step - loss: 0.0224 - tp: 22926.0000 - fp: 1420.0000 - tn: 644209.0000 - fn: 1639.0000 - accuracy: 0.9954 - precision: 0.9417 - recall: 0.9333 - auc: 0.9982 - prc: 0.9834 - val_loss: 0.1397 - val_tp: 6898.0000 - val_fp: 2490.0000 - val_tn: 274209.0000 - val_fn: 3635.0000 - val_accuracy: 0.9787 - val_precision: 0.7348 - val_recall: 0.6549 - val_auc: 0.9051 - val_prc: 0.6880\n",
      "Epoch 11/100\n",
      "3491/3491 [==============================] - 49s 14ms/step - loss: 0.0229 - tp: 23046.0000 - fp: 1382.0000 - tn: 644247.0000 - fn: 1519.0000 - accuracy: 0.9957 - precision: 0.9434 - recall: 0.9382 - auc: 0.9982 - prc: 0.9837 - val_loss: 0.1280 - val_tp: 7163.0000 - val_fp: 3274.0000 - val_tn: 273425.0000 - val_fn: 3370.0000 - val_accuracy: 0.9769 - val_precision: 0.6863 - val_recall: 0.6801 - val_auc: 0.9183 - val_prc: 0.6795\n",
      "Epoch 12/100\n",
      "3491/3491 [==============================] - 49s 14ms/step - loss: 0.0228 - tp: 23093.0000 - fp: 1346.0000 - tn: 644283.0000 - fn: 1472.0000 - accuracy: 0.9958 - precision: 0.9449 - recall: 0.9401 - auc: 0.9983 - prc: 0.9845 - val_loss: 0.1265 - val_tp: 7093.0000 - val_fp: 3062.0000 - val_tn: 273637.0000 - val_fn: 3440.0000 - val_accuracy: 0.9774 - val_precision: 0.6985 - val_recall: 0.6734 - val_auc: 0.9150 - val_prc: 0.6841\n",
      "Epoch 13/100\n",
      "3491/3491 [==============================] - 51s 15ms/step - loss: 0.0185 - tp: 23232.0000 - fp: 1202.0000 - tn: 644427.0000 - fn: 1333.0000 - accuracy: 0.9962 - precision: 0.9508 - recall: 0.9457 - auc: 0.9986 - prc: 0.9877 - val_loss: 0.1409 - val_tp: 6917.0000 - val_fp: 2878.0000 - val_tn: 273821.0000 - val_fn: 3616.0000 - val_accuracy: 0.9774 - val_precision: 0.7062 - val_recall: 0.6567 - val_auc: 0.9075 - val_prc: 0.6724\n",
      "Epoch 14/100\n",
      "3491/3491 [==============================] - 51s 15ms/step - loss: 0.0196 - tp: 23244.0000 - fp: 1206.0000 - tn: 644423.0000 - fn: 1321.0000 - accuracy: 0.9962 - precision: 0.9507 - recall: 0.9462 - auc: 0.9983 - prc: 0.9870 - val_loss: 0.1496 - val_tp: 6688.0000 - val_fp: 2297.0000 - val_tn: 274402.0000 - val_fn: 3845.0000 - val_accuracy: 0.9786 - val_precision: 0.7444 - val_recall: 0.6350 - val_auc: 0.8962 - val_prc: 0.6748\n",
      "Epoch 15/100\n",
      "3491/3491 [==============================] - 50s 14ms/step - loss: 0.0214 - tp: 23102.0000 - fp: 1259.0000 - tn: 644370.0000 - fn: 1463.0000 - accuracy: 0.9959 - precision: 0.9483 - recall: 0.9404 - auc: 0.9980 - prc: 0.9851 - val_loss: 0.1346 - val_tp: 6780.0000 - val_fp: 2587.0000 - val_tn: 274112.0000 - val_fn: 3753.0000 - val_accuracy: 0.9779 - val_precision: 0.7238 - val_recall: 0.6437 - val_auc: 0.9067 - val_prc: 0.6784\n",
      "Epoch 16/100\n",
      "3491/3491 [==============================] - 49s 14ms/step - loss: 0.0183 - tp: 23296.0000 - fp: 1072.0000 - tn: 644557.0000 - fn: 1269.0000 - accuracy: 0.9965 - precision: 0.9560 - recall: 0.9483 - auc: 0.9986 - prc: 0.9891 - val_loss: 0.1560 - val_tp: 6951.0000 - val_fp: 2960.0000 - val_tn: 273739.0000 - val_fn: 3582.0000 - val_accuracy: 0.9772 - val_precision: 0.7013 - val_recall: 0.6599 - val_auc: 0.9027 - val_prc: 0.6663\n",
      "Epoch 17/100\n",
      "3491/3491 [==============================] - 49s 14ms/step - loss: 0.0229 - tp: 23229.0000 - fp: 1188.0000 - tn: 644441.0000 - fn: 1336.0000 - accuracy: 0.9962 - precision: 0.9513 - recall: 0.9456 - auc: 0.9984 - prc: 0.9871 - val_loss: 0.1632 - val_tp: 6757.0000 - val_fp: 2537.0000 - val_tn: 274162.0000 - val_fn: 3776.0000 - val_accuracy: 0.9780 - val_precision: 0.7270 - val_recall: 0.6415 - val_auc: 0.8982 - val_prc: 0.6711\n",
      "Epoch 18/100\n",
      "3491/3491 [==============================] - 49s 14ms/step - loss: 0.0175 - tp: 23408.0000 - fp: 1060.0000 - tn: 644569.0000 - fn: 1157.0000 - accuracy: 0.9967 - precision: 0.9567 - recall: 0.9529 - auc: 0.9986 - prc: 0.9892 - val_loss: 0.1490 - val_tp: 7212.0000 - val_fp: 3197.0000 - val_tn: 273502.0000 - val_fn: 3321.0000 - val_accuracy: 0.9773 - val_precision: 0.6929 - val_recall: 0.6847 - val_auc: 0.9109 - val_prc: 0.6696\n",
      "Epoch 19/100\n",
      "3491/3491 [==============================] - 49s 14ms/step - loss: 0.0172 - tp: 23441.0000 - fp: 1055.0000 - tn: 644574.0000 - fn: 1124.0000 - accuracy: 0.9967 - precision: 0.9569 - recall: 0.9542 - auc: 0.9988 - prc: 0.9900 - val_loss: 0.1712 - val_tp: 7043.0000 - val_fp: 2888.0000 - val_tn: 273811.0000 - val_fn: 3490.0000 - val_accuracy: 0.9778 - val_precision: 0.7092 - val_recall: 0.6687 - val_auc: 0.9007 - val_prc: 0.6595\n",
      "Epoch 20/100\n",
      "3491/3491 [==============================] - 49s 14ms/step - loss: 0.0162 - tp: 23421.0000 - fp: 994.0000 - tn: 644635.0000 - fn: 1144.0000 - accuracy: 0.9968 - precision: 0.9593 - recall: 0.9534 - auc: 0.9984 - prc: 0.9902 - val_loss: 0.1748 - val_tp: 6896.0000 - val_fp: 2469.0000 - val_tn: 274230.0000 - val_fn: 3637.0000 - val_accuracy: 0.9787 - val_precision: 0.7364 - val_recall: 0.6547 - val_auc: 0.8967 - val_prc: 0.6725\n",
      "Epoch 21/100\n",
      "3491/3491 [==============================] - 49s 14ms/step - loss: 0.0154 - tp: 23478.0000 - fp: 971.0000 - tn: 644658.0000 - fn: 1087.0000 - accuracy: 0.9969 - precision: 0.9603 - recall: 0.9558 - auc: 0.9987 - prc: 0.9909 - val_loss: 0.1604 - val_tp: 6857.0000 - val_fp: 2820.0000 - val_tn: 273879.0000 - val_fn: 3676.0000 - val_accuracy: 0.9774 - val_precision: 0.7086 - val_recall: 0.6510 - val_auc: 0.9033 - val_prc: 0.6529\n",
      "Epoch 22/100\n",
      "3491/3491 [==============================] - 50s 14ms/step - loss: 0.0151 - tp: 23498.0000 - fp: 914.0000 - tn: 644715.0000 - fn: 1067.0000 - accuracy: 0.9970 - precision: 0.9626 - recall: 0.9566 - auc: 0.9987 - prc: 0.9914 - val_loss: 0.1602 - val_tp: 7188.0000 - val_fp: 3313.0000 - val_tn: 273386.0000 - val_fn: 3345.0000 - val_accuracy: 0.9768 - val_precision: 0.6845 - val_recall: 0.6824 - val_auc: 0.9108 - val_prc: 0.6560\n",
      "Epoch 23/100\n",
      "3491/3491 [==============================] - 49s 14ms/step - loss: 0.0152 - tp: 23527.0000 - fp: 937.0000 - tn: 644692.0000 - fn: 1038.0000 - accuracy: 0.9971 - precision: 0.9617 - recall: 0.9577 - auc: 0.9989 - prc: 0.9918 - val_loss: 0.1907 - val_tp: 7105.0000 - val_fp: 3193.0000 - val_tn: 273506.0000 - val_fn: 3428.0000 - val_accuracy: 0.9769 - val_precision: 0.6899 - val_recall: 0.6745 - val_auc: 0.9024 - val_prc: 0.6462\n",
      "Epoch 24/100\n",
      "3491/3491 [==============================] - 49s 14ms/step - loss: 0.0154 - tp: 23526.0000 - fp: 879.0000 - tn: 644750.0000 - fn: 1039.0000 - accuracy: 0.9971 - precision: 0.9640 - recall: 0.9577 - auc: 0.9986 - prc: 0.9913 - val_loss: 0.1646 - val_tp: 6626.0000 - val_fp: 2187.0000 - val_tn: 274512.0000 - val_fn: 3907.0000 - val_accuracy: 0.9788 - val_precision: 0.7518 - val_recall: 0.6291 - val_auc: 0.8928 - val_prc: 0.6764\n",
      "Epoch 25/100\n",
      "3491/3491 [==============================] - 49s 14ms/step - loss: 0.0189 - tp: 23490.0000 - fp: 970.0000 - tn: 644659.0000 - fn: 1075.0000 - accuracy: 0.9969 - precision: 0.9603 - recall: 0.9562 - auc: 0.9986 - prc: 0.9901 - val_loss: 0.1560 - val_tp: 7201.0000 - val_fp: 3330.0000 - val_tn: 273369.0000 - val_fn: 3332.0000 - val_accuracy: 0.9768 - val_precision: 0.6838 - val_recall: 0.6837 - val_auc: 0.9091 - val_prc: 0.6511\n",
      "Epoch 26/100\n",
      "3491/3491 [==============================] - 49s 14ms/step - loss: 0.0131 - tp: 23646.0000 - fp: 827.0000 - tn: 644802.0000 - fn: 919.0000 - accuracy: 0.9974 - precision: 0.9662 - recall: 0.9626 - auc: 0.9990 - prc: 0.9933 - val_loss: 0.1837 - val_tp: 6914.0000 - val_fp: 2732.0000 - val_tn: 273967.0000 - val_fn: 3619.0000 - val_accuracy: 0.9779 - val_precision: 0.7168 - val_recall: 0.6564 - val_auc: 0.8941 - val_prc: 0.6514\n",
      "Epoch 27/100\n",
      "3491/3491 [==============================] - 49s 14ms/step - loss: 0.0146 - tp: 23602.0000 - fp: 861.0000 - tn: 644768.0000 - fn: 963.0000 - accuracy: 0.9973 - precision: 0.9648 - recall: 0.9608 - auc: 0.9988 - prc: 0.9922 - val_loss: 0.1646 - val_tp: 6925.0000 - val_fp: 2918.0000 - val_tn: 273781.0000 - val_fn: 3608.0000 - val_accuracy: 0.9773 - val_precision: 0.7035 - val_recall: 0.6575 - val_auc: 0.9034 - val_prc: 0.6593\n",
      "Epoch 28/100\n",
      "3491/3491 [==============================] - 49s 14ms/step - loss: 0.0163 - tp: 23570.0000 - fp: 886.0000 - tn: 644743.0000 - fn: 995.0000 - accuracy: 0.9972 - precision: 0.9638 - recall: 0.9595 - auc: 0.9990 - prc: 0.9917 - val_loss: 0.1501 - val_tp: 6852.0000 - val_fp: 2716.0000 - val_tn: 273983.0000 - val_fn: 3681.0000 - val_accuracy: 0.9777 - val_precision: 0.7161 - val_recall: 0.6505 - val_auc: 0.9028 - val_prc: 0.6719\n",
      "Epoch 29/100\n",
      "3491/3491 [==============================] - 49s 14ms/step - loss: 0.0131 - tp: 23676.0000 - fp: 776.0000 - tn: 644853.0000 - fn: 889.0000 - accuracy: 0.9975 - precision: 0.9683 - recall: 0.9638 - auc: 0.9988 - prc: 0.9930 - val_loss: 0.1749 - val_tp: 6904.0000 - val_fp: 2783.0000 - val_tn: 273916.0000 - val_fn: 3629.0000 - val_accuracy: 0.9777 - val_precision: 0.7127 - val_recall: 0.6555 - val_auc: 0.8980 - val_prc: 0.6605\n",
      "Epoch 30/100\n",
      "3491/3491 [==============================] - 49s 14ms/step - loss: 0.0125 - tp: 23656.0000 - fp: 743.0000 - tn: 644886.0000 - fn: 909.0000 - accuracy: 0.9975 - precision: 0.9695 - recall: 0.9630 - auc: 0.9988 - prc: 0.9930 - val_loss: 0.1904 - val_tp: 7060.0000 - val_fp: 3110.0000 - val_tn: 273589.0000 - val_fn: 3473.0000 - val_accuracy: 0.9771 - val_precision: 0.6942 - val_recall: 0.6703 - val_auc: 0.8960 - val_prc: 0.6471\n",
      "Epoch 31/100\n",
      "3491/3491 [==============================] - 49s 14ms/step - loss: 0.0137 - tp: 23685.0000 - fp: 851.0000 - tn: 644778.0000 - fn: 880.0000 - accuracy: 0.9974 - precision: 0.9653 - recall: 0.9642 - auc: 0.9987 - prc: 0.9920 - val_loss: 0.1778 - val_tp: 6712.0000 - val_fp: 2863.0000 - val_tn: 273836.0000 - val_fn: 3821.0000 - val_accuracy: 0.9767 - val_precision: 0.7010 - val_recall: 0.6372 - val_auc: 0.8952 - val_prc: 0.6390\n",
      "Epoch 32/100\n",
      "3491/3491 [==============================] - 49s 14ms/step - loss: 0.0114 - tp: 23755.0000 - fp: 689.0000 - tn: 644940.0000 - fn: 810.0000 - accuracy: 0.9978 - precision: 0.9718 - recall: 0.9670 - auc: 0.9990 - prc: 0.9940 - val_loss: 0.1873 - val_tp: 6848.0000 - val_fp: 2508.0000 - val_tn: 274191.0000 - val_fn: 3685.0000 - val_accuracy: 0.9784 - val_precision: 0.7319 - val_recall: 0.6501 - val_auc: 0.8938 - val_prc: 0.6604\n",
      "Epoch 33/100\n",
      "3491/3491 [==============================] - 51s 14ms/step - loss: 0.0151 - tp: 23707.0000 - fp: 823.0000 - tn: 644806.0000 - fn: 858.0000 - accuracy: 0.9975 - precision: 0.9664 - recall: 0.9651 - auc: 0.9990 - prc: 0.9928 - val_loss: 0.1696 - val_tp: 6835.0000 - val_fp: 2598.0000 - val_tn: 274101.0000 - val_fn: 3698.0000 - val_accuracy: 0.9781 - val_precision: 0.7246 - val_recall: 0.6489 - val_auc: 0.8965 - val_prc: 0.6636\n",
      "Epoch 34/100\n",
      "3491/3491 [==============================] - 50s 14ms/step - loss: 0.0124 - tp: 23733.0000 - fp: 775.0000 - tn: 644854.0000 - fn: 832.0000 - accuracy: 0.9976 - precision: 0.9684 - recall: 0.9661 - auc: 0.9990 - prc: 0.9933 - val_loss: 0.1635 - val_tp: 6839.0000 - val_fp: 2833.0000 - val_tn: 273866.0000 - val_fn: 3694.0000 - val_accuracy: 0.9773 - val_precision: 0.7071 - val_recall: 0.6493 - val_auc: 0.8994 - val_prc: 0.6572\n",
      "Epoch 35/100\n",
      "3491/3491 [==============================] - 49s 14ms/step - loss: 0.0120 - tp: 23777.0000 - fp: 705.0000 - tn: 644924.0000 - fn: 788.0000 - accuracy: 0.9978 - precision: 0.9712 - recall: 0.9679 - auc: 0.9990 - prc: 0.9940 - val_loss: 0.1813 - val_tp: 7151.0000 - val_fp: 3249.0000 - val_tn: 273450.0000 - val_fn: 3382.0000 - val_accuracy: 0.9769 - val_precision: 0.6876 - val_recall: 0.6789 - val_auc: 0.9003 - val_prc: 0.6438\n",
      "Epoch 36/100\n",
      "3491/3491 [==============================] - 49s 14ms/step - loss: 0.0124 - tp: 23779.0000 - fp: 722.0000 - tn: 644907.0000 - fn: 786.0000 - accuracy: 0.9977 - precision: 0.9705 - recall: 0.9680 - auc: 0.9988 - prc: 0.9934 - val_loss: 0.1839 - val_tp: 6755.0000 - val_fp: 2752.0000 - val_tn: 273947.0000 - val_fn: 3778.0000 - val_accuracy: 0.9773 - val_precision: 0.7105 - val_recall: 0.6413 - val_auc: 0.8906 - val_prc: 0.6420\n",
      "Epoch 37/100\n",
      "3491/3491 [==============================] - 49s 14ms/step - loss: 0.0124 - tp: 23784.0000 - fp: 699.0000 - tn: 644930.0000 - fn: 781.0000 - accuracy: 0.9978 - precision: 0.9714 - recall: 0.9682 - auc: 0.9990 - prc: 0.9937 - val_loss: 0.1854 - val_tp: 7009.0000 - val_fp: 3244.0000 - val_tn: 273455.0000 - val_fn: 3524.0000 - val_accuracy: 0.9764 - val_precision: 0.6836 - val_recall: 0.6654 - val_auc: 0.8982 - val_prc: 0.6282\n",
      "Epoch 38/100\n",
      "3491/3491 [==============================] - 49s 14ms/step - loss: 0.0108 - tp: 23831.0000 - fp: 683.0000 - tn: 644946.0000 - fn: 734.0000 - accuracy: 0.9979 - precision: 0.9721 - recall: 0.9701 - auc: 0.9989 - prc: 0.9945 - val_loss: 0.1919 - val_tp: 7061.0000 - val_fp: 3289.0000 - val_tn: 273410.0000 - val_fn: 3472.0000 - val_accuracy: 0.9765 - val_precision: 0.6822 - val_recall: 0.6704 - val_auc: 0.8981 - val_prc: 0.6330\n",
      "Epoch 39/100\n",
      "3491/3491 [==============================] - 49s 14ms/step - loss: 0.0107 - tp: 23841.0000 - fp: 718.0000 - tn: 644911.0000 - fn: 724.0000 - accuracy: 0.9978 - precision: 0.9708 - recall: 0.9705 - auc: 0.9989 - prc: 0.9945 - val_loss: 0.1913 - val_tp: 6843.0000 - val_fp: 2654.0000 - val_tn: 274045.0000 - val_fn: 3690.0000 - val_accuracy: 0.9779 - val_precision: 0.7205 - val_recall: 0.6497 - val_auc: 0.8865 - val_prc: 0.6458\n",
      "Epoch 40/100\n",
      "3491/3491 [==============================] - 49s 14ms/step - loss: 0.0115 - tp: 23819.0000 - fp: 705.0000 - tn: 644924.0000 - fn: 746.0000 - accuracy: 0.9978 - precision: 0.9713 - recall: 0.9696 - auc: 0.9989 - prc: 0.9940 - val_loss: 0.2047 - val_tp: 6805.0000 - val_fp: 2963.0000 - val_tn: 273736.0000 - val_fn: 3728.0000 - val_accuracy: 0.9767 - val_precision: 0.6967 - val_recall: 0.6461 - val_auc: 0.8908 - val_prc: 0.6375\n",
      "Epoch 41/100\n",
      "3491/3491 [==============================] - 49s 14ms/step - loss: 0.0120 - tp: 23836.0000 - fp: 673.0000 - tn: 644956.0000 - fn: 729.0000 - accuracy: 0.9979 - precision: 0.9725 - recall: 0.9703 - auc: 0.9988 - prc: 0.9942 - val_loss: 0.1779 - val_tp: 6952.0000 - val_fp: 3128.0000 - val_tn: 273571.0000 - val_fn: 3581.0000 - val_accuracy: 0.9766 - val_precision: 0.6897 - val_recall: 0.6600 - val_auc: 0.9004 - val_prc: 0.6411\n",
      "Epoch 42/100\n",
      "3491/3491 [==============================] - 49s 14ms/step - loss: 0.0102 - tp: 23875.0000 - fp: 652.0000 - tn: 644977.0000 - fn: 690.0000 - accuracy: 0.9980 - precision: 0.9734 - recall: 0.9719 - auc: 0.9992 - prc: 0.9952 - val_loss: 0.1727 - val_tp: 7082.0000 - val_fp: 3596.0000 - val_tn: 273103.0000 - val_fn: 3451.0000 - val_accuracy: 0.9755 - val_precision: 0.6632 - val_recall: 0.6724 - val_auc: 0.9033 - val_prc: 0.6370\n",
      "Epoch 43/100\n",
      "3491/3491 [==============================] - 49s 14ms/step - loss: 0.0150 - tp: 23814.0000 - fp: 723.0000 - tn: 644906.0000 - fn: 751.0000 - accuracy: 0.9978 - precision: 0.9705 - recall: 0.9694 - auc: 0.9989 - prc: 0.9934 - val_loss: 0.1873 - val_tp: 7006.0000 - val_fp: 2940.0000 - val_tn: 273759.0000 - val_fn: 3527.0000 - val_accuracy: 0.9775 - val_precision: 0.7044 - val_recall: 0.6651 - val_auc: 0.8951 - val_prc: 0.6527\n",
      "Epoch 44/100\n",
      "3491/3491 [==============================] - 49s 14ms/step - loss: 0.0091 - tp: 23960.0000 - fp: 601.0000 - tn: 645028.0000 - fn: 605.0000 - accuracy: 0.9982 - precision: 0.9755 - recall: 0.9754 - auc: 0.9991 - prc: 0.9953 - val_loss: 0.2163 - val_tp: 6779.0000 - val_fp: 2930.0000 - val_tn: 273769.0000 - val_fn: 3754.0000 - val_accuracy: 0.9767 - val_precision: 0.6982 - val_recall: 0.6436 - val_auc: 0.8868 - val_prc: 0.6264\n",
      "Epoch 45/100\n",
      "3491/3491 [==============================] - 49s 14ms/step - loss: 0.0100 - tp: 23900.0000 - fp: 573.0000 - tn: 645056.0000 - fn: 665.0000 - accuracy: 0.9982 - precision: 0.9766 - recall: 0.9729 - auc: 0.9990 - prc: 0.9951 - val_loss: 0.2101 - val_tp: 7032.0000 - val_fp: 3143.0000 - val_tn: 273556.0000 - val_fn: 3501.0000 - val_accuracy: 0.9769 - val_precision: 0.6911 - val_recall: 0.6676 - val_auc: 0.8934 - val_prc: 0.6308\n",
      "Epoch 46/100\n",
      "3491/3491 [==============================] - 50s 14ms/step - loss: 0.0101 - tp: 23888.0000 - fp: 598.0000 - tn: 645031.0000 - fn: 677.0000 - accuracy: 0.9981 - precision: 0.9756 - recall: 0.9724 - auc: 0.9988 - prc: 0.9942 - val_loss: 0.1989 - val_tp: 6826.0000 - val_fp: 2607.0000 - val_tn: 274092.0000 - val_fn: 3707.0000 - val_accuracy: 0.9780 - val_precision: 0.7236 - val_recall: 0.6481 - val_auc: 0.8882 - val_prc: 0.6494\n",
      "Epoch 47/100\n",
      "3491/3491 [==============================] - 49s 14ms/step - loss: 0.0101 - tp: 23944.0000 - fp: 618.0000 - tn: 645011.0000 - fn: 621.0000 - accuracy: 0.9982 - precision: 0.9748 - recall: 0.9747 - auc: 0.9990 - prc: 0.9950 - val_loss: 0.2032 - val_tp: 6771.0000 - val_fp: 2911.0000 - val_tn: 273788.0000 - val_fn: 3762.0000 - val_accuracy: 0.9768 - val_precision: 0.6993 - val_recall: 0.6428 - val_auc: 0.8900 - val_prc: 0.6321\n",
      "Epoch 48/100\n",
      "3491/3491 [==============================] - 49s 14ms/step - loss: 0.0100 - tp: 23907.0000 - fp: 598.0000 - tn: 645031.0000 - fn: 658.0000 - accuracy: 0.9981 - precision: 0.9756 - recall: 0.9732 - auc: 0.9990 - prc: 0.9948 - val_loss: 0.1985 - val_tp: 6768.0000 - val_fp: 2819.0000 - val_tn: 273880.0000 - val_fn: 3765.0000 - val_accuracy: 0.9771 - val_precision: 0.7060 - val_recall: 0.6426 - val_auc: 0.8898 - val_prc: 0.6401\n",
      "Epoch 49/100\n",
      "3491/3491 [==============================] - 50s 14ms/step - loss: 0.0101 - tp: 23913.0000 - fp: 602.0000 - tn: 645027.0000 - fn: 652.0000 - accuracy: 0.9981 - precision: 0.9754 - recall: 0.9735 - auc: 0.9990 - prc: 0.9948 - val_loss: 0.2085 - val_tp: 6981.0000 - val_fp: 2953.0000 - val_tn: 273746.0000 - val_fn: 3552.0000 - val_accuracy: 0.9774 - val_precision: 0.7027 - val_recall: 0.6628 - val_auc: 0.8899 - val_prc: 0.6375\n",
      "Epoch 50/100\n",
      "3491/3491 [==============================] - 49s 14ms/step - loss: 0.0097 - tp: 23968.0000 - fp: 621.0000 - tn: 645008.0000 - fn: 597.0000 - accuracy: 0.9982 - precision: 0.9747 - recall: 0.9757 - auc: 0.9993 - prc: 0.9953 - val_loss: 0.2309 - val_tp: 6857.0000 - val_fp: 2877.0000 - val_tn: 273822.0000 - val_fn: 3676.0000 - val_accuracy: 0.9772 - val_precision: 0.7044 - val_recall: 0.6510 - val_auc: 0.8805 - val_prc: 0.6245\n",
      "Epoch 51/100\n",
      "3491/3491 [==============================] - 49s 14ms/step - loss: 0.0108 - tp: 23877.0000 - fp: 628.0000 - tn: 645001.0000 - fn: 688.0000 - accuracy: 0.9980 - precision: 0.9744 - recall: 0.9720 - auc: 0.9991 - prc: 0.9946 - val_loss: 0.1796 - val_tp: 6900.0000 - val_fp: 3150.0000 - val_tn: 273549.0000 - val_fn: 3633.0000 - val_accuracy: 0.9764 - val_precision: 0.6866 - val_recall: 0.6551 - val_auc: 0.8964 - val_prc: 0.6443\n",
      "Epoch 52/100\n",
      "3491/3491 [==============================] - 49s 14ms/step - loss: 0.0129 - tp: 23915.0000 - fp: 597.0000 - tn: 645032.0000 - fn: 650.0000 - accuracy: 0.9981 - precision: 0.9756 - recall: 0.9735 - auc: 0.9988 - prc: 0.9944 - val_loss: 0.1921 - val_tp: 6869.0000 - val_fp: 2885.0000 - val_tn: 273814.0000 - val_fn: 3664.0000 - val_accuracy: 0.9772 - val_precision: 0.7042 - val_recall: 0.6521 - val_auc: 0.8937 - val_prc: 0.6458\n",
      "Epoch 53/100\n",
      "3491/3491 [==============================] - 49s 14ms/step - loss: 0.0118 - tp: 23925.0000 - fp: 626.0000 - tn: 645003.0000 - fn: 640.0000 - accuracy: 0.9981 - precision: 0.9745 - recall: 0.9739 - auc: 0.9989 - prc: 0.9950 - val_loss: 0.1963 - val_tp: 6948.0000 - val_fp: 3153.0000 - val_tn: 273546.0000 - val_fn: 3585.0000 - val_accuracy: 0.9765 - val_precision: 0.6879 - val_recall: 0.6596 - val_auc: 0.8902 - val_prc: 0.6318\n",
      "Epoch 54/100\n",
      "3491/3491 [==============================] - 49s 14ms/step - loss: 0.0103 - tp: 23950.0000 - fp: 623.0000 - tn: 645006.0000 - fn: 615.0000 - accuracy: 0.9982 - precision: 0.9746 - recall: 0.9750 - auc: 0.9989 - prc: 0.9945 - val_loss: 0.2085 - val_tp: 6806.0000 - val_fp: 2960.0000 - val_tn: 273739.0000 - val_fn: 3727.0000 - val_accuracy: 0.9767 - val_precision: 0.6969 - val_recall: 0.6462 - val_auc: 0.8869 - val_prc: 0.6338\n",
      "Epoch 55/100\n",
      "3491/3491 [==============================] - 49s 14ms/step - loss: 0.0106 - tp: 23941.0000 - fp: 570.0000 - tn: 645059.0000 - fn: 624.0000 - accuracy: 0.9982 - precision: 0.9767 - recall: 0.9746 - auc: 0.9988 - prc: 0.9949 - val_loss: 0.2149 - val_tp: 6670.0000 - val_fp: 2622.0000 - val_tn: 274077.0000 - val_fn: 3863.0000 - val_accuracy: 0.9774 - val_precision: 0.7178 - val_recall: 0.6332 - val_auc: 0.8846 - val_prc: 0.6339\n",
      "Epoch 56/100\n",
      "3491/3491 [==============================] - 49s 14ms/step - loss: 0.0093 - tp: 23945.0000 - fp: 550.0000 - tn: 645079.0000 - fn: 620.0000 - accuracy: 0.9983 - precision: 0.9775 - recall: 0.9748 - auc: 0.9990 - prc: 0.9952 - val_loss: 0.2212 - val_tp: 6829.0000 - val_fp: 2790.0000 - val_tn: 273909.0000 - val_fn: 3704.0000 - val_accuracy: 0.9774 - val_precision: 0.7099 - val_recall: 0.6483 - val_auc: 0.8827 - val_prc: 0.6257\n",
      "Epoch 57/100\n",
      "3491/3491 [==============================] - 49s 14ms/step - loss: 0.0108 - tp: 23946.0000 - fp: 541.0000 - tn: 645088.0000 - fn: 619.0000 - accuracy: 0.9983 - precision: 0.9779 - recall: 0.9748 - auc: 0.9990 - prc: 0.9950 - val_loss: 0.2251 - val_tp: 7011.0000 - val_fp: 2914.0000 - val_tn: 273785.0000 - val_fn: 3522.0000 - val_accuracy: 0.9776 - val_precision: 0.7064 - val_recall: 0.6656 - val_auc: 0.8898 - val_prc: 0.6446\n",
      "Epoch 58/100\n",
      "3491/3491 [==============================] - 49s 14ms/step - loss: 0.0097 - tp: 24003.0000 - fp: 543.0000 - tn: 645086.0000 - fn: 562.0000 - accuracy: 0.9984 - precision: 0.9779 - recall: 0.9771 - auc: 0.9989 - prc: 0.9955 - val_loss: 0.2163 - val_tp: 6704.0000 - val_fp: 2596.0000 - val_tn: 274103.0000 - val_fn: 3829.0000 - val_accuracy: 0.9776 - val_precision: 0.7209 - val_recall: 0.6365 - val_auc: 0.8836 - val_prc: 0.6311\n",
      "Epoch 59/100\n",
      "3491/3491 [==============================] - 49s 14ms/step - loss: 0.0139 - tp: 23869.0000 - fp: 611.0000 - tn: 645018.0000 - fn: 696.0000 - accuracy: 0.9980 - precision: 0.9750 - recall: 0.9717 - auc: 0.9989 - prc: 0.9942 - val_loss: 0.2040 - val_tp: 6812.0000 - val_fp: 3022.0000 - val_tn: 273677.0000 - val_fn: 3721.0000 - val_accuracy: 0.9765 - val_precision: 0.6927 - val_recall: 0.6467 - val_auc: 0.8892 - val_prc: 0.6214\n",
      "Epoch 60/100\n",
      "3491/3491 [==============================] - 49s 14ms/step - loss: 0.0087 - tp: 23993.0000 - fp: 506.0000 - tn: 645123.0000 - fn: 572.0000 - accuracy: 0.9984 - precision: 0.9793 - recall: 0.9767 - auc: 0.9992 - prc: 0.9960 - val_loss: 0.1840 - val_tp: 7158.0000 - val_fp: 3485.0000 - val_tn: 273214.0000 - val_fn: 3375.0000 - val_accuracy: 0.9761 - val_precision: 0.6726 - val_recall: 0.6796 - val_auc: 0.9026 - val_prc: 0.6382\n",
      "Epoch 61/100\n",
      "3491/3491 [==============================] - 50s 14ms/step - loss: 0.0095 - tp: 24004.0000 - fp: 586.0000 - tn: 645043.0000 - fn: 561.0000 - accuracy: 0.9983 - precision: 0.9762 - recall: 0.9772 - auc: 0.9990 - prc: 0.9950 - val_loss: 0.2244 - val_tp: 6900.0000 - val_fp: 2948.0000 - val_tn: 273751.0000 - val_fn: 3633.0000 - val_accuracy: 0.9771 - val_precision: 0.7006 - val_recall: 0.6551 - val_auc: 0.8857 - val_prc: 0.6293\n",
      "Epoch 62/100\n",
      "3491/3491 [==============================] - 49s 14ms/step - loss: 0.0109 - tp: 23924.0000 - fp: 571.0000 - tn: 645058.0000 - fn: 641.0000 - accuracy: 0.9982 - precision: 0.9767 - recall: 0.9739 - auc: 0.9990 - prc: 0.9956 - val_loss: 0.2001 - val_tp: 6968.0000 - val_fp: 3031.0000 - val_tn: 273668.0000 - val_fn: 3565.0000 - val_accuracy: 0.9770 - val_precision: 0.6969 - val_recall: 0.6615 - val_auc: 0.8928 - val_prc: 0.6390\n",
      "Epoch 63/100\n",
      "3491/3491 [==============================] - 49s 14ms/step - loss: 0.0098 - tp: 23966.0000 - fp: 551.0000 - tn: 645078.0000 - fn: 599.0000 - accuracy: 0.9983 - precision: 0.9775 - recall: 0.9756 - auc: 0.9992 - prc: 0.9957 - val_loss: 0.2201 - val_tp: 6764.0000 - val_fp: 2673.0000 - val_tn: 274026.0000 - val_fn: 3769.0000 - val_accuracy: 0.9776 - val_precision: 0.7168 - val_recall: 0.6422 - val_auc: 0.8859 - val_prc: 0.6373\n",
      "Epoch 64/100\n",
      "3491/3491 [==============================] - 49s 14ms/step - loss: 0.0094 - tp: 23983.0000 - fp: 531.0000 - tn: 645098.0000 - fn: 582.0000 - accuracy: 0.9983 - precision: 0.9783 - recall: 0.9763 - auc: 0.9992 - prc: 0.9957 - val_loss: 0.2187 - val_tp: 6868.0000 - val_fp: 3095.0000 - val_tn: 273604.0000 - val_fn: 3665.0000 - val_accuracy: 0.9765 - val_precision: 0.6894 - val_recall: 0.6520 - val_auc: 0.8865 - val_prc: 0.6250\n",
      "Epoch 65/100\n",
      "3491/3491 [==============================] - 49s 14ms/step - loss: 0.0144 - tp: 23920.0000 - fp: 599.0000 - tn: 645030.0000 - fn: 645.0000 - accuracy: 0.9981 - precision: 0.9756 - recall: 0.9737 - auc: 0.9988 - prc: 0.9947 - val_loss: 0.1938 - val_tp: 6994.0000 - val_fp: 3201.0000 - val_tn: 273498.0000 - val_fn: 3539.0000 - val_accuracy: 0.9765 - val_precision: 0.6860 - val_recall: 0.6640 - val_auc: 0.8971 - val_prc: 0.6383\n",
      "Epoch 66/100\n",
      "3491/3491 [==============================] - 49s 14ms/step - loss: 0.0097 - tp: 23970.0000 - fp: 516.0000 - tn: 645113.0000 - fn: 595.0000 - accuracy: 0.9983 - precision: 0.9789 - recall: 0.9758 - auc: 0.9991 - prc: 0.9958 - val_loss: 0.2320 - val_tp: 6797.0000 - val_fp: 2944.0000 - val_tn: 273755.0000 - val_fn: 3736.0000 - val_accuracy: 0.9767 - val_precision: 0.6978 - val_recall: 0.6453 - val_auc: 0.8839 - val_prc: 0.6255\n",
      "Epoch 67/100\n",
      "3491/3491 [==============================] - 49s 14ms/step - loss: 0.0160 - tp: 24033.0000 - fp: 534.0000 - tn: 645095.0000 - fn: 532.0000 - accuracy: 0.9984 - precision: 0.9783 - recall: 0.9783 - auc: 0.9990 - prc: 0.9956 - val_loss: 0.2364 - val_tp: 6807.0000 - val_fp: 2928.0000 - val_tn: 273771.0000 - val_fn: 3726.0000 - val_accuracy: 0.9768 - val_precision: 0.6992 - val_recall: 0.6463 - val_auc: 0.8782 - val_prc: 0.6205\n",
      "Epoch 68/100\n",
      "3491/3491 [==============================] - 49s 14ms/step - loss: 0.0100 - tp: 23969.0000 - fp: 542.0000 - tn: 645087.0000 - fn: 596.0000 - accuracy: 0.9983 - precision: 0.9779 - recall: 0.9757 - auc: 0.9991 - prc: 0.9958 - val_loss: 0.2183 - val_tp: 6739.0000 - val_fp: 2740.0000 - val_tn: 273959.0000 - val_fn: 3794.0000 - val_accuracy: 0.9773 - val_precision: 0.7109 - val_recall: 0.6398 - val_auc: 0.8837 - val_prc: 0.6320\n",
      "Epoch 69/100\n",
      "3491/3491 [==============================] - 49s 14ms/step - loss: 0.0089 - tp: 24013.0000 - fp: 489.0000 - tn: 645140.0000 - fn: 552.0000 - accuracy: 0.9984 - precision: 0.9800 - recall: 0.9775 - auc: 0.9992 - prc: 0.9961 - val_loss: 0.2137 - val_tp: 6811.0000 - val_fp: 3026.0000 - val_tn: 273673.0000 - val_fn: 3722.0000 - val_accuracy: 0.9765 - val_precision: 0.6924 - val_recall: 0.6466 - val_auc: 0.8897 - val_prc: 0.6219\n",
      "Epoch 70/100\n",
      "3491/3491 [==============================] - 49s 14ms/step - loss: 0.0088 - tp: 23978.0000 - fp: 518.0000 - tn: 645111.0000 - fn: 587.0000 - accuracy: 0.9984 - precision: 0.9789 - recall: 0.9761 - auc: 0.9992 - prc: 0.9958 - val_loss: 0.2567 - val_tp: 6812.0000 - val_fp: 2902.0000 - val_tn: 273797.0000 - val_fn: 3721.0000 - val_accuracy: 0.9769 - val_precision: 0.7013 - val_recall: 0.6467 - val_auc: 0.8818 - val_prc: 0.6177\n",
      "Epoch 71/100\n",
      "3491/3491 [==============================] - 49s 14ms/step - loss: 0.0099 - tp: 23988.0000 - fp: 528.0000 - tn: 645101.0000 - fn: 577.0000 - accuracy: 0.9984 - precision: 0.9785 - recall: 0.9765 - auc: 0.9990 - prc: 0.9953 - val_loss: 0.1914 - val_tp: 6832.0000 - val_fp: 3102.0000 - val_tn: 273597.0000 - val_fn: 3701.0000 - val_accuracy: 0.9763 - val_precision: 0.6877 - val_recall: 0.6486 - val_auc: 0.8903 - val_prc: 0.6256\n",
      "Epoch 72/100\n",
      "3491/3491 [==============================] - 49s 14ms/step - loss: 0.0113 - tp: 23976.0000 - fp: 546.0000 - tn: 645083.0000 - fn: 589.0000 - accuracy: 0.9983 - precision: 0.9777 - recall: 0.9760 - auc: 0.9990 - prc: 0.9951 - val_loss: 0.2102 - val_tp: 6745.0000 - val_fp: 2713.0000 - val_tn: 273986.0000 - val_fn: 3788.0000 - val_accuracy: 0.9774 - val_precision: 0.7132 - val_recall: 0.6404 - val_auc: 0.8904 - val_prc: 0.6412\n",
      "Epoch 73/100\n",
      "3491/3491 [==============================] - 49s 14ms/step - loss: 0.0094 - tp: 23979.0000 - fp: 548.0000 - tn: 645081.0000 - fn: 586.0000 - accuracy: 0.9983 - precision: 0.9777 - recall: 0.9761 - auc: 0.9991 - prc: 0.9956 - val_loss: 0.2127 - val_tp: 7016.0000 - val_fp: 3387.0000 - val_tn: 273312.0000 - val_fn: 3517.0000 - val_accuracy: 0.9760 - val_precision: 0.6744 - val_recall: 0.6661 - val_auc: 0.8888 - val_prc: 0.6204\n",
      "Epoch 74/100\n",
      "3491/3491 [==============================] - 49s 14ms/step - loss: 0.0111 - tp: 24030.0000 - fp: 514.0000 - tn: 645115.0000 - fn: 535.0000 - accuracy: 0.9984 - precision: 0.9791 - recall: 0.9782 - auc: 0.9988 - prc: 0.9954 - val_loss: 0.1974 - val_tp: 7001.0000 - val_fp: 3483.0000 - val_tn: 273216.0000 - val_fn: 3532.0000 - val_accuracy: 0.9756 - val_precision: 0.6678 - val_recall: 0.6647 - val_auc: 0.8983 - val_prc: 0.6262\n",
      "Epoch 75/100\n",
      "3491/3491 [==============================] - 49s 14ms/step - loss: 0.0097 - tp: 23997.0000 - fp: 509.0000 - tn: 645120.0000 - fn: 568.0000 - accuracy: 0.9984 - precision: 0.9792 - recall: 0.9769 - auc: 0.9989 - prc: 0.9955 - val_loss: 0.1819 - val_tp: 7058.0000 - val_fp: 4160.0000 - val_tn: 272539.0000 - val_fn: 3475.0000 - val_accuracy: 0.9734 - val_precision: 0.6292 - val_recall: 0.6701 - val_auc: 0.9029 - val_prc: 0.6160\n",
      "Epoch 76/100\n",
      "3491/3491 [==============================] - 49s 14ms/step - loss: 0.0085 - tp: 24024.0000 - fp: 501.0000 - tn: 645128.0000 - fn: 541.0000 - accuracy: 0.9984 - precision: 0.9796 - recall: 0.9780 - auc: 0.9990 - prc: 0.9957 - val_loss: 0.2268 - val_tp: 6996.0000 - val_fp: 3252.0000 - val_tn: 273447.0000 - val_fn: 3537.0000 - val_accuracy: 0.9764 - val_precision: 0.6827 - val_recall: 0.6642 - val_auc: 0.8892 - val_prc: 0.6138\n",
      "Epoch 77/100\n",
      "3491/3491 [==============================] - 49s 14ms/step - loss: 0.0090 - tp: 24040.0000 - fp: 516.0000 - tn: 645113.0000 - fn: 525.0000 - accuracy: 0.9984 - precision: 0.9790 - recall: 0.9786 - auc: 0.9990 - prc: 0.9960 - val_loss: 0.1889 - val_tp: 6895.0000 - val_fp: 3116.0000 - val_tn: 273583.0000 - val_fn: 3638.0000 - val_accuracy: 0.9765 - val_precision: 0.6887 - val_recall: 0.6546 - val_auc: 0.8968 - val_prc: 0.6348\n",
      "Epoch 78/100\n",
      "3491/3491 [==============================] - 49s 14ms/step - loss: 0.0099 - tp: 24011.0000 - fp: 561.0000 - tn: 645068.0000 - fn: 554.0000 - accuracy: 0.9983 - precision: 0.9772 - recall: 0.9774 - auc: 0.9991 - prc: 0.9955 - val_loss: 0.2251 - val_tp: 6949.0000 - val_fp: 3292.0000 - val_tn: 273407.0000 - val_fn: 3584.0000 - val_accuracy: 0.9761 - val_precision: 0.6785 - val_recall: 0.6597 - val_auc: 0.8900 - val_prc: 0.6135\n",
      "Epoch 79/100\n",
      "3491/3491 [==============================] - 49s 14ms/step - loss: 0.0101 - tp: 24035.0000 - fp: 533.0000 - tn: 645096.0000 - fn: 530.0000 - accuracy: 0.9984 - precision: 0.9783 - recall: 0.9784 - auc: 0.9992 - prc: 0.9959 - val_loss: 0.2361 - val_tp: 6856.0000 - val_fp: 3041.0000 - val_tn: 273658.0000 - val_fn: 3677.0000 - val_accuracy: 0.9766 - val_precision: 0.6927 - val_recall: 0.6509 - val_auc: 0.8803 - val_prc: 0.6176\n",
      "Epoch 80/100\n",
      "3491/3491 [==============================] - 49s 14ms/step - loss: 0.0091 - tp: 24018.0000 - fp: 510.0000 - tn: 645119.0000 - fn: 547.0000 - accuracy: 0.9984 - precision: 0.9792 - recall: 0.9777 - auc: 0.9991 - prc: 0.9959 - val_loss: 0.2293 - val_tp: 6787.0000 - val_fp: 3077.0000 - val_tn: 273622.0000 - val_fn: 3746.0000 - val_accuracy: 0.9762 - val_precision: 0.6881 - val_recall: 0.6444 - val_auc: 0.8817 - val_prc: 0.6152\n",
      "Epoch 81/100\n",
      "3491/3491 [==============================] - 49s 14ms/step - loss: 0.0084 - tp: 24027.0000 - fp: 454.0000 - tn: 645175.0000 - fn: 538.0000 - accuracy: 0.9985 - precision: 0.9815 - recall: 0.9781 - auc: 0.9991 - prc: 0.9965 - val_loss: 0.2238 - val_tp: 6837.0000 - val_fp: 2914.0000 - val_tn: 273785.0000 - val_fn: 3696.0000 - val_accuracy: 0.9770 - val_precision: 0.7012 - val_recall: 0.6491 - val_auc: 0.8844 - val_prc: 0.6212\n",
      "Epoch 82/100\n",
      "3491/3491 [==============================] - 49s 14ms/step - loss: 0.0097 - tp: 24009.0000 - fp: 509.0000 - tn: 645120.0000 - fn: 556.0000 - accuracy: 0.9984 - precision: 0.9792 - recall: 0.9774 - auc: 0.9991 - prc: 0.9955 - val_loss: 0.2290 - val_tp: 6606.0000 - val_fp: 2946.0000 - val_tn: 273753.0000 - val_fn: 3927.0000 - val_accuracy: 0.9761 - val_precision: 0.6916 - val_recall: 0.6272 - val_auc: 0.8777 - val_prc: 0.6072\n",
      "Epoch 83/100\n",
      "3491/3491 [==============================] - 49s 14ms/step - loss: 0.0092 - tp: 24007.0000 - fp: 503.0000 - tn: 645126.0000 - fn: 558.0000 - accuracy: 0.9984 - precision: 0.9795 - recall: 0.9773 - auc: 0.9991 - prc: 0.9955 - val_loss: 0.2099 - val_tp: 6817.0000 - val_fp: 3003.0000 - val_tn: 273696.0000 - val_fn: 3716.0000 - val_accuracy: 0.9766 - val_precision: 0.6942 - val_recall: 0.6472 - val_auc: 0.8877 - val_prc: 0.6281\n",
      "Epoch 84/100\n",
      "3491/3491 [==============================] - 49s 14ms/step - loss: 0.0087 - tp: 24060.0000 - fp: 505.0000 - tn: 645124.0000 - fn: 505.0000 - accuracy: 0.9985 - precision: 0.9794 - recall: 0.9794 - auc: 0.9989 - prc: 0.9954 - val_loss: 0.2028 - val_tp: 6811.0000 - val_fp: 3073.0000 - val_tn: 273626.0000 - val_fn: 3722.0000 - val_accuracy: 0.9763 - val_precision: 0.6891 - val_recall: 0.6466 - val_auc: 0.8913 - val_prc: 0.6246\n",
      "Epoch 85/100\n",
      "3491/3491 [==============================] - 49s 14ms/step - loss: 0.0078 - tp: 24055.0000 - fp: 451.0000 - tn: 645178.0000 - fn: 510.0000 - accuracy: 0.9986 - precision: 0.9816 - recall: 0.9792 - auc: 0.9992 - prc: 0.9961 - val_loss: 0.2303 - val_tp: 6727.0000 - val_fp: 2759.0000 - val_tn: 273940.0000 - val_fn: 3806.0000 - val_accuracy: 0.9771 - val_precision: 0.7092 - val_recall: 0.6387 - val_auc: 0.8786 - val_prc: 0.6174\n",
      "Epoch 86/100\n",
      "3491/3491 [==============================] - 49s 14ms/step - loss: 0.0095 - tp: 24048.0000 - fp: 492.0000 - tn: 645137.0000 - fn: 517.0000 - accuracy: 0.9985 - precision: 0.9800 - recall: 0.9790 - auc: 0.9992 - prc: 0.9960 - val_loss: 0.2343 - val_tp: 6657.0000 - val_fp: 2695.0000 - val_tn: 274004.0000 - val_fn: 3876.0000 - val_accuracy: 0.9771 - val_precision: 0.7118 - val_recall: 0.6320 - val_auc: 0.8779 - val_prc: 0.6242\n",
      "Epoch 87/100\n",
      "3491/3491 [==============================] - 49s 14ms/step - loss: 0.0088 - tp: 24069.0000 - fp: 486.0000 - tn: 645143.0000 - fn: 496.0000 - accuracy: 0.9985 - precision: 0.9802 - recall: 0.9798 - auc: 0.9990 - prc: 0.9957 - val_loss: 0.2190 - val_tp: 6606.0000 - val_fp: 2696.0000 - val_tn: 274003.0000 - val_fn: 3927.0000 - val_accuracy: 0.9769 - val_precision: 0.7102 - val_recall: 0.6272 - val_auc: 0.8822 - val_prc: 0.6295\n",
      "Epoch 88/100\n",
      "3491/3491 [==============================] - 49s 14ms/step - loss: 0.0092 - tp: 24034.0000 - fp: 485.0000 - tn: 645144.0000 - fn: 531.0000 - accuracy: 0.9985 - precision: 0.9802 - recall: 0.9784 - auc: 0.9990 - prc: 0.9959 - val_loss: 0.2052 - val_tp: 6790.0000 - val_fp: 2911.0000 - val_tn: 273788.0000 - val_fn: 3743.0000 - val_accuracy: 0.9768 - val_precision: 0.6999 - val_recall: 0.6446 - val_auc: 0.8867 - val_prc: 0.6296\n",
      "Epoch 89/100\n",
      "3491/3491 [==============================] - 49s 14ms/step - loss: 0.0083 - tp: 24052.0000 - fp: 469.0000 - tn: 645160.0000 - fn: 513.0000 - accuracy: 0.9985 - precision: 0.9809 - recall: 0.9791 - auc: 0.9991 - prc: 0.9961 - val_loss: 0.2146 - val_tp: 6797.0000 - val_fp: 2999.0000 - val_tn: 273700.0000 - val_fn: 3736.0000 - val_accuracy: 0.9766 - val_precision: 0.6939 - val_recall: 0.6453 - val_auc: 0.8849 - val_prc: 0.6205\n",
      "Epoch 90/100\n",
      "3491/3491 [==============================] - 49s 14ms/step - loss: 0.0090 - tp: 24052.0000 - fp: 511.0000 - tn: 645118.0000 - fn: 513.0000 - accuracy: 0.9985 - precision: 0.9792 - recall: 0.9791 - auc: 0.9992 - prc: 0.9962 - val_loss: 0.1967 - val_tp: 6967.0000 - val_fp: 3249.0000 - val_tn: 273450.0000 - val_fn: 3566.0000 - val_accuracy: 0.9763 - val_precision: 0.6820 - val_recall: 0.6614 - val_auc: 0.8920 - val_prc: 0.6264\n",
      "Epoch 91/100\n",
      "3491/3491 [==============================] - 49s 14ms/step - loss: 0.0088 - tp: 24042.0000 - fp: 442.0000 - tn: 645187.0000 - fn: 523.0000 - accuracy: 0.9986 - precision: 0.9819 - recall: 0.9787 - auc: 0.9990 - prc: 0.9960 - val_loss: 0.2277 - val_tp: 6745.0000 - val_fp: 2867.0000 - val_tn: 273832.0000 - val_fn: 3788.0000 - val_accuracy: 0.9768 - val_precision: 0.7017 - val_recall: 0.6404 - val_auc: 0.8792 - val_prc: 0.6180\n",
      "Epoch 92/100\n",
      "3491/3491 [==============================] - 49s 14ms/step - loss: 0.0103 - tp: 24066.0000 - fp: 457.0000 - tn: 645172.0000 - fn: 499.0000 - accuracy: 0.9986 - precision: 0.9814 - recall: 0.9797 - auc: 0.9989 - prc: 0.9958 - val_loss: 0.2408 - val_tp: 6897.0000 - val_fp: 3273.0000 - val_tn: 273426.0000 - val_fn: 3636.0000 - val_accuracy: 0.9759 - val_precision: 0.6782 - val_recall: 0.6548 - val_auc: 0.8863 - val_prc: 0.6068\n",
      "Epoch 93/100\n",
      "3491/3491 [==============================] - 49s 14ms/step - loss: 0.0102 - tp: 24053.0000 - fp: 521.0000 - tn: 645108.0000 - fn: 512.0000 - accuracy: 0.9985 - precision: 0.9788 - recall: 0.9792 - auc: 0.9990 - prc: 0.9956 - val_loss: 0.2343 - val_tp: 6749.0000 - val_fp: 2918.0000 - val_tn: 273781.0000 - val_fn: 3784.0000 - val_accuracy: 0.9767 - val_precision: 0.6981 - val_recall: 0.6407 - val_auc: 0.8799 - val_prc: 0.6152\n",
      "Epoch 94/100\n",
      "3491/3491 [==============================] - 49s 14ms/step - loss: 0.0077 - tp: 24025.0000 - fp: 430.0000 - tn: 645199.0000 - fn: 540.0000 - accuracy: 0.9986 - precision: 0.9824 - recall: 0.9780 - auc: 0.9992 - prc: 0.9966 - val_loss: 0.2110 - val_tp: 7010.0000 - val_fp: 3176.0000 - val_tn: 273523.0000 - val_fn: 3523.0000 - val_accuracy: 0.9767 - val_precision: 0.6882 - val_recall: 0.6655 - val_auc: 0.8932 - val_prc: 0.6227\n",
      "Epoch 95/100\n",
      "3491/3491 [==============================] - 49s 14ms/step - loss: 0.0082 - tp: 24069.0000 - fp: 447.0000 - tn: 645182.0000 - fn: 496.0000 - accuracy: 0.9986 - precision: 0.9818 - recall: 0.9798 - auc: 0.9991 - prc: 0.9961 - val_loss: 0.2120 - val_tp: 6916.0000 - val_fp: 3340.0000 - val_tn: 273359.0000 - val_fn: 3617.0000 - val_accuracy: 0.9758 - val_precision: 0.6743 - val_recall: 0.6566 - val_auc: 0.8934 - val_prc: 0.6167\n",
      "Epoch 96/100\n",
      "3491/3491 [==============================] - 49s 14ms/step - loss: 0.0101 - tp: 24022.0000 - fp: 467.0000 - tn: 645162.0000 - fn: 543.0000 - accuracy: 0.9985 - precision: 0.9809 - recall: 0.9779 - auc: 0.9991 - prc: 0.9954 - val_loss: 0.2061 - val_tp: 6930.0000 - val_fp: 2770.0000 - val_tn: 273929.0000 - val_fn: 3603.0000 - val_accuracy: 0.9778 - val_precision: 0.7144 - val_recall: 0.6579 - val_auc: 0.8926 - val_prc: 0.6402\n",
      "Epoch 97/100\n",
      "3491/3491 [==============================] - 49s 14ms/step - loss: 0.0093 - tp: 24033.0000 - fp: 463.0000 - tn: 645166.0000 - fn: 532.0000 - accuracy: 0.9985 - precision: 0.9811 - recall: 0.9783 - auc: 0.9991 - prc: 0.9954 - val_loss: 0.1976 - val_tp: 6840.0000 - val_fp: 3028.0000 - val_tn: 273671.0000 - val_fn: 3693.0000 - val_accuracy: 0.9766 - val_precision: 0.6931 - val_recall: 0.6494 - val_auc: 0.8897 - val_prc: 0.6273\n",
      "Epoch 98/100\n",
      "3491/3491 [==============================] - 49s 14ms/step - loss: 0.0101 - tp: 24058.0000 - fp: 471.0000 - tn: 645158.0000 - fn: 507.0000 - accuracy: 0.9985 - precision: 0.9808 - recall: 0.9794 - auc: 0.9991 - prc: 0.9959 - val_loss: 0.2108 - val_tp: 6799.0000 - val_fp: 2880.0000 - val_tn: 273819.0000 - val_fn: 3734.0000 - val_accuracy: 0.9770 - val_precision: 0.7024 - val_recall: 0.6455 - val_auc: 0.8890 - val_prc: 0.6286\n",
      "Epoch 99/100\n",
      "3491/3491 [==============================] - 49s 14ms/step - loss: 0.0080 - tp: 24069.0000 - fp: 449.0000 - tn: 645180.0000 - fn: 496.0000 - accuracy: 0.9986 - precision: 0.9817 - recall: 0.9798 - auc: 0.9993 - prc: 0.9961 - val_loss: 0.2109 - val_tp: 6791.0000 - val_fp: 3037.0000 - val_tn: 273662.0000 - val_fn: 3742.0000 - val_accuracy: 0.9764 - val_precision: 0.6910 - val_recall: 0.6447 - val_auc: 0.8911 - val_prc: 0.6259\n",
      "Epoch 100/100\n",
      "3491/3491 [==============================] - 49s 14ms/step - loss: 0.0083 - tp: 24073.0000 - fp: 429.0000 - tn: 645200.0000 - fn: 492.0000 - accuracy: 0.9986 - precision: 0.9825 - recall: 0.9800 - auc: 0.9990 - prc: 0.9960 - val_loss: 0.2325 - val_tp: 6766.0000 - val_fp: 2877.0000 - val_tn: 273822.0000 - val_fn: 3767.0000 - val_accuracy: 0.9769 - val_precision: 0.7016 - val_recall: 0.6424 - val_auc: 0.8844 - val_prc: 0.6187\n"
     ]
    }
   ],
   "source": [
    "EPOCHS = 100\n",
    "\n",
    "history = model.fit(vectorized_X_train, y_train, epochs=EPOCHS, validation_data=(vectorized_X_test, y_test), batch_size=32, verbose=1, callbacks=[tensorboard_callback], class_weight=class_weights)"
   ]
  },
  {
   "cell_type": "code",
   "execution_count": 43,
   "metadata": {},
   "outputs": [
    {
     "data": {
      "text/html": [
       "\n",
       "      <iframe id=\"tensorboard-frame-f25f12e47631fd24\" width=\"100%\" height=\"800\" frameborder=\"0\">\n",
       "      </iframe>\n",
       "      <script>\n",
       "        (function() {\n",
       "          const frame = document.getElementById(\"tensorboard-frame-f25f12e47631fd24\");\n",
       "          const url = new URL(\"/\", window.location);\n",
       "          const port = 6008;\n",
       "          if (port) {\n",
       "            url.port = port;\n",
       "          }\n",
       "          frame.src = url;\n",
       "        })();\n",
       "      </script>\n",
       "    "
      ],
      "text/plain": [
       "<IPython.core.display.HTML object>"
      ]
     },
     "metadata": {},
     "output_type": "display_data"
    }
   ],
   "source": [
    "%tensorboard --logdir logs/fit/model_class_weights"
   ]
  },
  {
   "cell_type": "code",
   "execution_count": 24,
   "metadata": {},
   "outputs": [
    {
     "ename": "NameError",
     "evalue": "name 'history' is not defined",
     "output_type": "error",
     "traceback": [
      "\u001b[0;31m---------------------------------------------------------------------------\u001b[0m",
      "\u001b[0;31mNameError\u001b[0m                                 Traceback (most recent call last)",
      "\u001b[1;32m/home/bryan/my_personal_github/projects/Toxic_comments_classification/code/model1.ipynb Cell 74\u001b[0m in \u001b[0;36m<cell line: 1>\u001b[0;34m()\u001b[0m\n\u001b[0;32m----> <a href='vscode-notebook-cell:/home/bryan/my_personal_github/projects/Toxic_comments_classification/code/model1.ipynb#Y200sZmlsZQ%3D%3D?line=0'>1</a>\u001b[0m train_loss \u001b[39m=\u001b[39m history\u001b[39m.\u001b[39mhistory[\u001b[39m'\u001b[39m\u001b[39mloss\u001b[39m\u001b[39m'\u001b[39m]\n\u001b[1;32m      <a href='vscode-notebook-cell:/home/bryan/my_personal_github/projects/Toxic_comments_classification/code/model1.ipynb#Y200sZmlsZQ%3D%3D?line=1'>2</a>\u001b[0m test_loss \u001b[39m=\u001b[39m history\u001b[39m.\u001b[39mhistory[\u001b[39m'\u001b[39m\u001b[39mval_loss\u001b[39m\u001b[39m'\u001b[39m]\n\u001b[1;32m      <a href='vscode-notebook-cell:/home/bryan/my_personal_github/projects/Toxic_comments_classification/code/model1.ipynb#Y200sZmlsZQ%3D%3D?line=3'>4</a>\u001b[0m plt\u001b[39m.\u001b[39mfigure(figsize\u001b[39m=\u001b[39m(\u001b[39m12\u001b[39m, \u001b[39m8\u001b[39m))\n",
      "\u001b[0;31mNameError\u001b[0m: name 'history' is not defined"
     ]
    }
   ],
   "source": [
    "train_loss = history.history['loss']\n",
    "test_loss = history.history['val_loss']\n",
    "\n",
    "plt.figure(figsize=(12, 8))\n",
    "plt.plot(train_loss, label='Training loss', color='navy')\n",
    "plt.plot(test_loss, label='Testing loss', color='skyblue')\n",
    "plt.legend();"
   ]
  },
  {
   "cell_type": "markdown",
   "metadata": {},
   "source": [
    "## Model with early stopping"
   ]
  },
  {
   "cell_type": "code",
   "execution_count": 17,
   "metadata": {},
   "outputs": [],
   "source": [
    "early_stopping = tf.keras.callbacks.EarlyStopping(\n",
    "    monitor='val_prc', \n",
    "    verbose=1,\n",
    "    patience=10,\n",
    "    mode='max',\n",
    "    restore_best_weights=True)"
   ]
  },
  {
   "cell_type": "code",
   "execution_count": 20,
   "metadata": {},
   "outputs": [
    {
     "name": "stdout",
     "output_type": "stream",
     "text": [
      "Epoch 1/100\n"
     ]
    },
    {
     "name": "stderr",
     "output_type": "stream",
     "text": [
      "2022-10-13 14:08:02.863263: I tensorflow/stream_executor/cuda/cuda_dnn.cc:384] Loaded cuDNN version 8100\n"
     ]
    },
    {
     "name": "stdout",
     "output_type": "stream",
     "text": [
      "3491/3491 [==============================] - 48s 13ms/step - loss: 0.1465 - tp: 12606.0000 - fp: 3610.0000 - tn: 642020.0000 - fn: 11958.0000 - accuracy: 0.9768 - precision: 0.7774 - recall: 0.5132 - auc: 0.9544 - prc: 0.6836 - val_loss: 0.0506 - val_tp: 6252.0000 - val_fp: 1038.0000 - val_tn: 275660.0000 - val_fn: 4282.0000 - val_accuracy: 0.9815 - val_precision: 0.8576 - val_recall: 0.5935 - val_auc: 0.9806 - val_prc: 0.8142\n",
      "Epoch 2/100\n",
      "3491/3491 [==============================] - 44s 12ms/step - loss: 0.1042 - tp: 15833.0000 - fp: 3326.0000 - tn: 642304.0000 - fn: 8731.0000 - accuracy: 0.9820 - precision: 0.8264 - recall: 0.6446 - auc: 0.9807 - prc: 0.8152 - val_loss: 0.0509 - val_tp: 6396.0000 - val_fp: 1100.0000 - val_tn: 275598.0000 - val_fn: 4138.0000 - val_accuracy: 0.9818 - val_precision: 0.8533 - val_recall: 0.6072 - val_auc: 0.9752 - val_prc: 0.8136\n",
      "Epoch 3/100\n",
      "3491/3491 [==============================] - 44s 13ms/step - loss: 0.0923 - tp: 16468.0000 - fp: 3137.0000 - tn: 642493.0000 - fn: 8096.0000 - accuracy: 0.9832 - precision: 0.8400 - recall: 0.6704 - auc: 0.9857 - prc: 0.8424 - val_loss: 0.0492 - val_tp: 7266.0000 - val_fp: 1726.0000 - val_tn: 274972.0000 - val_fn: 3268.0000 - val_accuracy: 0.9826 - val_precision: 0.8081 - val_recall: 0.6898 - val_auc: 0.9769 - val_prc: 0.8255\n",
      "Epoch 4/100\n",
      "3491/3491 [==============================] - 44s 13ms/step - loss: 0.0818 - tp: 17298.0000 - fp: 3231.0000 - tn: 642399.0000 - fn: 7266.0000 - accuracy: 0.9843 - precision: 0.8426 - recall: 0.7042 - auc: 0.9892 - prc: 0.8645 - val_loss: 0.0504 - val_tp: 6644.0000 - val_fp: 1164.0000 - val_tn: 275534.0000 - val_fn: 3890.0000 - val_accuracy: 0.9824 - val_precision: 0.8509 - val_recall: 0.6307 - val_auc: 0.9739 - val_prc: 0.8249\n",
      "Epoch 5/100\n",
      "3491/3491 [==============================] - 44s 13ms/step - loss: 0.0721 - tp: 18149.0000 - fp: 3247.0000 - tn: 642383.0000 - fn: 6415.0000 - accuracy: 0.9856 - precision: 0.8482 - recall: 0.7388 - auc: 0.9914 - prc: 0.8846 - val_loss: 0.0520 - val_tp: 7218.0000 - val_fp: 1846.0000 - val_tn: 274852.0000 - val_fn: 3316.0000 - val_accuracy: 0.9820 - val_precision: 0.7963 - val_recall: 0.6852 - val_auc: 0.9717 - val_prc: 0.8189\n",
      "Epoch 6/100\n",
      "3491/3491 [==============================] - 45s 13ms/step - loss: 0.0673 - tp: 18981.0000 - fp: 3333.0000 - tn: 642297.0000 - fn: 5583.0000 - accuracy: 0.9867 - precision: 0.8506 - recall: 0.7727 - auc: 0.9924 - prc: 0.8989 - val_loss: 0.0557 - val_tp: 7521.0000 - val_fp: 2322.0000 - val_tn: 274376.0000 - val_fn: 3013.0000 - val_accuracy: 0.9814 - val_precision: 0.7641 - val_recall: 0.7140 - val_auc: 0.9685 - val_prc: 0.8144\n",
      "Epoch 7/100\n",
      "3491/3491 [==============================] - 45s 13ms/step - loss: 0.0590 - tp: 19572.0000 - fp: 3212.0000 - tn: 642418.0000 - fn: 4992.0000 - accuracy: 0.9878 - precision: 0.8590 - recall: 0.7968 - auc: 0.9938 - prc: 0.9146 - val_loss: 0.0631 - val_tp: 7038.0000 - val_fp: 1770.0000 - val_tn: 274928.0000 - val_fn: 3496.0000 - val_accuracy: 0.9817 - val_precision: 0.7990 - val_recall: 0.6681 - val_auc: 0.9580 - val_prc: 0.7980\n",
      "Epoch 8/100\n",
      "3491/3491 [==============================] - 45s 13ms/step - loss: 0.0533 - tp: 20164.0000 - fp: 3023.0000 - tn: 642607.0000 - fn: 4400.0000 - accuracy: 0.9889 - precision: 0.8696 - recall: 0.8209 - auc: 0.9944 - prc: 0.9265 - val_loss: 0.0686 - val_tp: 7600.0000 - val_fp: 2491.0000 - val_tn: 274207.0000 - val_fn: 2934.0000 - val_accuracy: 0.9811 - val_precision: 0.7531 - val_recall: 0.7215 - val_auc: 0.9576 - val_prc: 0.7967\n",
      "Epoch 9/100\n",
      "3491/3491 [==============================] - 46s 13ms/step - loss: 0.0492 - tp: 20557.0000 - fp: 2857.0000 - tn: 642773.0000 - fn: 4007.0000 - accuracy: 0.9898 - precision: 0.8780 - recall: 0.8369 - auc: 0.9956 - prc: 0.9363 - val_loss: 0.0761 - val_tp: 7497.0000 - val_fp: 2481.0000 - val_tn: 274217.0000 - val_fn: 3037.0000 - val_accuracy: 0.9808 - val_precision: 0.7514 - val_recall: 0.7117 - val_auc: 0.9517 - val_prc: 0.7846\n",
      "Epoch 10/100\n",
      "3491/3491 [==============================] - 46s 13ms/step - loss: 0.0439 - tp: 20905.0000 - fp: 2600.0000 - tn: 643030.0000 - fn: 3659.0000 - accuracy: 0.9907 - precision: 0.8894 - recall: 0.8510 - auc: 0.9961 - prc: 0.9468 - val_loss: 0.0850 - val_tp: 7219.0000 - val_fp: 2262.0000 - val_tn: 274436.0000 - val_fn: 3315.0000 - val_accuracy: 0.9806 - val_precision: 0.7614 - val_recall: 0.6853 - val_auc: 0.9430 - val_prc: 0.7691\n",
      "Epoch 11/100\n",
      "3491/3491 [==============================] - 47s 13ms/step - loss: 0.0422 - tp: 21183.0000 - fp: 2544.0000 - tn: 643086.0000 - fn: 3381.0000 - accuracy: 0.9912 - precision: 0.8928 - recall: 0.8624 - auc: 0.9963 - prc: 0.9512 - val_loss: 0.0976 - val_tp: 7127.0000 - val_fp: 2187.0000 - val_tn: 274511.0000 - val_fn: 3407.0000 - val_accuracy: 0.9805 - val_precision: 0.7652 - val_recall: 0.6766 - val_auc: 0.9365 - val_prc: 0.7556\n",
      "Epoch 12/100\n",
      "3491/3491 [==============================] - 46s 13ms/step - loss: 0.0378 - tp: 21538.0000 - fp: 2304.0000 - tn: 643326.0000 - fn: 3026.0000 - accuracy: 0.9920 - precision: 0.9034 - recall: 0.8768 - auc: 0.9968 - prc: 0.9585 - val_loss: 0.0925 - val_tp: 7336.0000 - val_fp: 2568.0000 - val_tn: 274130.0000 - val_fn: 3198.0000 - val_accuracy: 0.9799 - val_precision: 0.7407 - val_recall: 0.6964 - val_auc: 0.9407 - val_prc: 0.7477\n",
      "Epoch 13/100\n",
      "3487/3491 [============================>.] - ETA: 0s - loss: 0.0357 - tp: 21716.0000 - fp: 2225.0000 - tn: 642734.0000 - fn: 2829.0000 - accuracy: 0.9925 - precision: 0.9071 - recall: 0.8847 - auc: 0.9969 - prc: 0.9629Restoring model weights from the end of the best epoch: 3.\n",
      "3491/3491 [==============================] - 47s 13ms/step - loss: 0.0357 - tp: 21734.0000 - fp: 2226.0000 - tn: 643404.0000 - fn: 2830.0000 - accuracy: 0.9925 - precision: 0.9071 - recall: 0.8848 - auc: 0.9969 - prc: 0.9629 - val_loss: 0.1076 - val_tp: 7072.0000 - val_fp: 2514.0000 - val_tn: 274184.0000 - val_fn: 3462.0000 - val_accuracy: 0.9792 - val_precision: 0.7377 - val_recall: 0.6713 - val_auc: 0.9348 - val_prc: 0.7372\n",
      "Epoch 13: early stopping\n"
     ]
    }
   ],
   "source": [
    "EPOCHS = 100\n",
    "history_stop = model.fit(vectorized_X_train, y_train, epochs=EPOCHS, validation_data=(vectorized_X_test, y_test), batch_size=32, verbose=1, class_weight=class_weights, callbacks=[early_stopping])"
   ]
  },
  {
   "cell_type": "code",
   "execution_count": 21,
   "metadata": {},
   "outputs": [],
   "source": [
    "model.save(os.path.join('model1_saved_file', 'model_with_early_stopping.h5'))"
   ]
  },
  {
   "cell_type": "code",
   "execution_count": 22,
   "metadata": {},
   "outputs": [
    {
     "data": {
      "image/png": "[encoded data removed]",
      "text/plain": [
       "<Figure size 1200x800 with 1 Axes>"
      ]
     },
     "metadata": {},
     "output_type": "display_data"
    }
   ],
   "source": [
    "train_loss = history_stop.history['prc']\n",
    "test_loss = history_stop.history['val_prc']\n",
    "\n",
    "plt.figure(figsize=(12, 8))\n",
    "plt.plot(train_loss, label='Training loss', color='navy')\n",
    "plt.plot(test_loss, label='Testing loss', color='skyblue')\n",
    "plt.legend();"
   ]
  },
  {
   "cell_type": "code",
   "execution_count": 23,
   "metadata": {},
   "outputs": [
    {
     "data": {
      "image/png": "[encoded data removed]",
      "text/plain": [
       "<Figure size 1200x800 with 1 Axes>"
      ]
     },
     "metadata": {},
     "output_type": "display_data"
    }
   ],
   "source": [
    "train_loss = history_stop.history['loss']\n",
    "test_loss = history_stop.history['val_loss']\n",
    "\n",
    "plt.figure(figsize=(12, 8))\n",
    "plt.plot(train_loss, label='Training loss', color='navy')\n",
    "plt.plot(test_loss, label='Testing loss', color='skyblue')\n",
    "plt.legend();"
   ]
  },
  {
   "cell_type": "code",
   "execution_count": 113,
   "metadata": {},
   "outputs": [
    {
     "name": "stdout",
     "output_type": "stream",
     "text": [
      "3491/3491 [==============================] - 15s 4ms/step\n",
      "1496/1496 [==============================] - 6s 4ms/step\n"
     ]
    }
   ],
   "source": [
    "train_predictions_baseline = model.predict(vectorized_X_train, batch_size=32)\n",
    "test_predictions_baseline = model.predict(vectorized_X_test, batch_size=32)"
   ]
  },
  {
   "cell_type": "code",
   "execution_count": 66,
   "metadata": {},
   "outputs": [],
   "source": [
    "# def plot_cm(labels, predictions, p=0.5):\n",
    "#     cm = confusion_matrix(labels, predictions > p)\n",
    "#     plt.figure(figsize=(5,5))\n",
    "#     sns.heatmap(cm, annot=True, fmt=\"d\")\n",
    "#     plt.title('Confusion matrix @{:.2f}'.format(p))\n",
    "#     plt.ylabel('Actual label')\n",
    "#     plt.xlabel('Predicted label')\n",
    "\n",
    "#     print('True Negatives: ', cm[0][0])\n",
    "#     print('False Positives: ', cm[0][1])\n",
    "#     print('False Negatives: ', cm[1][0])\n",
    "#     print('True Positives: ', cm[1][1])\n",
    "#     print('Total: ', np.sum(cm[1]))\n"
   ]
  },
  {
   "cell_type": "code",
   "execution_count": 114,
   "metadata": {},
   "outputs": [
    {
     "data": {
      "text/plain": [
       "array([[[42483,   801],\n",
       "        [ 1277,  3311]],\n",
       "\n",
       "       [[47296,    98],\n",
       "        [  351,   127]],\n",
       "\n",
       "       [[44772,   565],\n",
       "        [  529,  2006]],\n",
       "\n",
       "       [[47660,    69],\n",
       "        [  100,    43]],\n",
       "\n",
       "       [[44797,   712],\n",
       "        [  759,  1604]],\n",
       "\n",
       "       [[47267,   179],\n",
       "        [  240,   186]]])"
      ]
     },
     "execution_count": 114,
     "metadata": {},
     "output_type": "execute_result"
    }
   ],
   "source": [
    "cm = multilabel_confusion_matrix(y_test, test_predictions_baseline > 0.5)\n",
    "# plt.figure(figsize=(5,5))\n",
    "# sns.heatmap(cm, annot=True, fmt=\"d\")\n",
    "# plt.title('Confusion matrix @{:.2f}'.format(p))\n",
    "# plt.ylabel('Actual label')\n",
    "# plt.xlabel('Predicted label')\n",
    "cm"
   ]
  },
  {
   "cell_type": "code",
   "execution_count": 114,
   "metadata": {},
   "outputs": [],
   "source": [
    "from tensorflow import keras\n",
    "model = keras.models.load_model(\"./model1_saved_file/model_x_train_ep5.h5\")"
   ]
  },
  {
   "cell_type": "code",
   "execution_count": 119,
   "metadata": {},
   "outputs": [
    {
     "name": "stdout",
     "output_type": "stream",
     "text": [
      "1496/1496 [==============================] - 7s 4ms/step - loss: 0.0523 - accuracy: 0.9804\n"
     ]
    },
    {
     "data": {
      "text/plain": [
       "[0.052330248057842255, 0.9803851842880249]"
      ]
     },
     "execution_count": 119,
     "metadata": {},
     "output_type": "execute_result"
    }
   ],
   "source": [
    "model.evaluate(vectorized_X_test, y_test)"
   ]
  },
  {
   "cell_type": "code",
   "execution_count": 112,
   "metadata": {},
   "outputs": [],
   "source": [
    "# batch = test.as_numpy_iterator().next()"
   ]
  },
  {
   "cell_type": "code",
   "execution_count": 115,
   "metadata": {},
   "outputs": [],
   "source": [
    "# model.predict(np.expand_dims(input_text,0))"
   ]
  },
  {
   "cell_type": "code",
   "execution_count": 116,
   "metadata": {},
   "outputs": [],
   "source": [
    "from tensorflow.keras.metrics import Precision, Recall, AUC, CategoricalAccuracy, Accuracy"
   ]
  },
  {
   "cell_type": "code",
   "execution_count": 117,
   "metadata": {},
   "outputs": [],
   "source": [
    "pre = Precision()\n",
    "rec = Recall()\n",
    "acc = Accuracy()"
   ]
  },
  {
   "cell_type": "code",
   "execution_count": 118,
   "metadata": {},
   "outputs": [],
   "source": [
    "# for batch in test.as_numpy_iterator():\n",
    "#     X_true, y_true = batch\n",
    "#     yhat = model.predict(X_true)\n",
    "\n",
    "#     y_true = y_true.flatten()\n",
    "#     yhat = yhat.flatten()\n",
    "\n",
    "#     pre.update_state(y_true, yhat)\n",
    "#     rec.update_state(y_true, yhat)\n",
    "#     acc.update_state(y_true, yhat)"
   ]
  },
  {
   "cell_type": "code",
   "execution_count": null,
   "metadata": {},
   "outputs": [],
   "source": [
    "y_pred = model.predict(vectorized_X_test)\n"
   ]
  },
  {
   "cell_type": "code",
   "execution_count": 149,
   "metadata": {},
   "outputs": [
    {
     "name": "stdout",
     "output_type": "stream",
     "text": [
      "Precision: 0.8293979167938232, Recall:0.7679348587989807, Accuracy: 0.0\n"
     ]
    }
   ],
   "source": [
    "print(f'Precision: {pre.result().numpy()}, Recall:{rec.result().numpy()}, Accuracy: {acc.result().numpy()}')"
   ]
  },
  {
   "cell_type": "code",
   "execution_count": 25,
   "metadata": {},
   "outputs": [],
   "source": [
    "pred_model = keras.models.load_model(\"./model1_saved_file/model_less_length_dropout_reduced_layers_ep3.h5\")"
   ]
  },
  {
   "cell_type": "code",
   "execution_count": 26,
   "metadata": {},
   "outputs": [],
   "source": [
    "actual_test = pd.read_csv('../data/test.csv')"
   ]
  },
  {
   "cell_type": "code",
   "execution_count": 154,
   "metadata": {},
   "outputs": [],
   "source": [
    "max_features = 20000\n",
    "vectorizer = TextVectorization(max_tokens=max_features, output_mode='int', output_sequence_length=100)\n",
    "\n",
    "# vectorizer.adapt(actual_test['comment_text'], batch_size=16)"
   ]
  },
  {
   "cell_type": "code",
   "execution_count": 27,
   "metadata": {},
   "outputs": [],
   "source": [
    "vectorized_text = vectorizer(actual_test['comment_text'])"
   ]
  },
  {
   "cell_type": "code",
   "execution_count": 32,
   "metadata": {},
   "outputs": [
    {
     "data": {
      "text/plain": [
       "<tf.Tensor: shape=(153164, 200), dtype=int64, numpy=\n",
       "array([[ 2661,   762, 10794, ...,     0,     0,     0],\n",
       "       [   31,  1246,     2, ...,     0,     0,     0],\n",
       "       [  107,     1,     1, ...,     0,     0,     0],\n",
       "       ...,\n",
       "       [    1,  1212,     8, ...,     0,     0,     0],\n",
       "       [   50,     4,     2, ...,     0,     0,     0],\n",
       "       [  168,   226,    21, ...,     0,     0,     0]])>"
      ]
     },
     "execution_count": 32,
     "metadata": {},
     "output_type": "execute_result"
    }
   ],
   "source": [
    "vectorized_text"
   ]
  },
  {
   "cell_type": "code",
   "execution_count": 31,
   "metadata": {},
   "outputs": [
    {
     "name": "stderr",
     "output_type": "stream",
     "text": [
      "2022-10-11 14:39:13.896104: W tensorflow/core/common_runtime/bfc_allocator.cc:479] Allocator (GPU_0_bfc) ran out of memory trying to allocate 14.61GiB (rounded to 15683993600)requested by op sequential/embedding/embedding_lookup\n",
      "If the cause is memory fragmentation maybe the environment variable 'TF_GPU_ALLOCATOR=cuda_malloc_async' will improve the situation. \n",
      "Current allocation summary follows.\n",
      "Current allocation summary follows.\n",
      "2022-10-11 14:39:13.896130: I tensorflow/core/common_runtime/bfc_allocator.cc:1033] BFCAllocator dump for GPU_0_bfc\n",
      "2022-10-11 14:39:13.896138: I tensorflow/core/common_runtime/bfc_allocator.cc:1040] Bin (256): \tTotal Chunks: 54, Chunks in use: 53. 13.5KiB allocated for chunks. 13.2KiB in use in bin. 1.1KiB client-requested in use in bin.\n",
      "2022-10-11 14:39:13.896144: I tensorflow/core/common_runtime/bfc_allocator.cc:1040] Bin (512): \tTotal Chunks: 3, Chunks in use: 3. 1.5KiB allocated for chunks. 1.5KiB in use in bin. 1.5KiB client-requested in use in bin.\n",
      "2022-10-11 14:39:13.896149: I tensorflow/core/common_runtime/bfc_allocator.cc:1040] Bin (1024): \tTotal Chunks: 16, Chunks in use: 16. 18.8KiB allocated for chunks. 18.8KiB in use in bin. 16.1KiB client-requested in use in bin.\n",
      "2022-10-11 14:39:13.896154: I tensorflow/core/common_runtime/bfc_allocator.cc:1040] Bin (2048): \tTotal Chunks: 2, Chunks in use: 2. 6.0KiB allocated for chunks. 6.0KiB in use in bin. 6.0KiB client-requested in use in bin.\n",
      "2022-10-11 14:39:13.896159: I tensorflow/core/common_runtime/bfc_allocator.cc:1040] Bin (4096): \tTotal Chunks: 1, Chunks in use: 1. 5.2KiB allocated for chunks. 5.2KiB in use in bin. 3.0KiB client-requested in use in bin.\n",
      "2022-10-11 14:39:13.896165: I tensorflow/core/common_runtime/bfc_allocator.cc:1040] Bin (8192): \tTotal Chunks: 1, Chunks in use: 0. 13.8KiB allocated for chunks. 0B in use in bin. 0B client-requested in use in bin.\n",
      "2022-10-11 14:39:13.896171: I tensorflow/core/common_runtime/bfc_allocator.cc:1040] Bin (16384): \tTotal Chunks: 3, Chunks in use: 3. 70.5KiB allocated for chunks. 70.5KiB in use in bin. 70.3KiB client-requested in use in bin.\n",
      "2022-10-11 14:39:13.896177: I tensorflow/core/common_runtime/bfc_allocator.cc:1040] Bin (32768): \tTotal Chunks: 8, Chunks in use: 8. 425.0KiB allocated for chunks. 425.0KiB in use in bin. 404.7KiB client-requested in use in bin.\n",
      "2022-10-11 14:39:13.896182: I tensorflow/core/common_runtime/bfc_allocator.cc:1040] Bin (65536): \tTotal Chunks: 10, Chunks in use: 10. 1.08MiB allocated for chunks. 1.08MiB in use in bin. 938.8KiB client-requested in use in bin.\n",
      "2022-10-11 14:39:13.896187: I tensorflow/core/common_runtime/bfc_allocator.cc:1040] Bin (131072): \tTotal Chunks: 6, Chunks in use: 6. 864.2KiB allocated for chunks. 864.2KiB in use in bin. 780.2KiB client-requested in use in bin.\n",
      "2022-10-11 14:39:13.896192: I tensorflow/core/common_runtime/bfc_allocator.cc:1040] Bin (262144): \tTotal Chunks: 0, Chunks in use: 0. 0B allocated for chunks. 0B in use in bin. 0B client-requested in use in bin.\n",
      "2022-10-11 14:39:13.896197: I tensorflow/core/common_runtime/bfc_allocator.cc:1040] Bin (524288): \tTotal Chunks: 0, Chunks in use: 0. 0B allocated for chunks. 0B in use in bin. 0B client-requested in use in bin.\n",
      "2022-10-11 14:39:13.896201: I tensorflow/core/common_runtime/bfc_allocator.cc:1040] Bin (1048576): \tTotal Chunks: 0, Chunks in use: 0. 0B allocated for chunks. 0B in use in bin. 0B client-requested in use in bin.\n",
      "2022-10-11 14:39:13.896206: I tensorflow/core/common_runtime/bfc_allocator.cc:1040] Bin (2097152): \tTotal Chunks: 0, Chunks in use: 0. 0B allocated for chunks. 0B in use in bin. 0B client-requested in use in bin.\n",
      "2022-10-11 14:39:13.896211: I tensorflow/core/common_runtime/bfc_allocator.cc:1040] Bin (4194304): \tTotal Chunks: 1, Chunks in use: 1. 7.30MiB allocated for chunks. 7.30MiB in use in bin. 7.30MiB client-requested in use in bin.\n",
      "2022-10-11 14:39:13.896217: I tensorflow/core/common_runtime/bfc_allocator.cc:1040] Bin (8388608): \tTotal Chunks: 6, Chunks in use: 4. 58.56MiB allocated for chunks. 39.06MiB in use in bin. 39.06MiB client-requested in use in bin.\n",
      "2022-10-11 14:39:13.896223: I tensorflow/core/common_runtime/bfc_allocator.cc:1040] Bin (16777216): \tTotal Chunks: 0, Chunks in use: 0. 0B allocated for chunks. 0B in use in bin. 0B client-requested in use in bin.\n",
      "2022-10-11 14:39:13.896228: I tensorflow/core/common_runtime/bfc_allocator.cc:1040] Bin (33554432): \tTotal Chunks: 0, Chunks in use: 0. 0B allocated for chunks. 0B in use in bin. 0B client-requested in use in bin.\n",
      "2022-10-11 14:39:13.896233: I tensorflow/core/common_runtime/bfc_allocator.cc:1040] Bin (67108864): \tTotal Chunks: 1, Chunks in use: 1. 116.85MiB allocated for chunks. 116.85MiB in use in bin. 116.85MiB client-requested in use in bin.\n",
      "2022-10-11 14:39:13.896238: I tensorflow/core/common_runtime/bfc_allocator.cc:1040] Bin (134217728): \tTotal Chunks: 3, Chunks in use: 1. 584.81MiB allocated for chunks. 233.71MiB in use in bin. 233.71MiB client-requested in use in bin.\n",
      "2022-10-11 14:39:13.896244: I tensorflow/core/common_runtime/bfc_allocator.cc:1040] Bin (268435456): \tTotal Chunks: 1, Chunks in use: 1. 256.00MiB allocated for chunks. 256.00MiB in use in bin. 233.71MiB client-requested in use in bin.\n",
      "2022-10-11 14:39:13.896249: I tensorflow/core/common_runtime/bfc_allocator.cc:1056] Bin for 14.61GiB was 256.00MiB, Chunk State: \n",
      "2022-10-11 14:39:13.896254: I tensorflow/core/common_runtime/bfc_allocator.cc:1069] Next region of size 536870912\n",
      "2022-10-11 14:39:13.896262: I tensorflow/core/common_runtime/bfc_allocator.cc:1089] InUse at 7fe6e8000000 of size 245062400 next 138\n",
      "2022-10-11 14:39:13.896267: I tensorflow/core/common_runtime/bfc_allocator.cc:1089] InUse at 7fe6f69b5b00 of size 122531328 next 117\n",
      "2022-10-11 14:39:13.896271: I tensorflow/core/common_runtime/bfc_allocator.cc:1089] Free  at 7fe6fde90900 of size 169277184 next 18446744073709551615\n",
      "2022-10-11 14:39:13.896275: I tensorflow/core/common_runtime/bfc_allocator.cc:1069] Next region of size 268435456\n",
      "2022-10-11 14:39:13.896279: I tensorflow/core/common_runtime/bfc_allocator.cc:1089] InUse at 7fe78e000000 of size 7659520 next 11\n",
      "2022-10-11 14:39:13.896284: I tensorflow/core/common_runtime/bfc_allocator.cc:1089] InUse at 7fe78e74e000 of size 10240512 next 66\n",
      "2022-10-11 14:39:13.896288: I tensorflow/core/common_runtime/bfc_allocator.cc:1089] InUse at 7fe78f112200 of size 122880 next 103\n",
      "2022-10-11 14:39:13.896292: I tensorflow/core/common_runtime/bfc_allocator.cc:1089] InUse at 7fe78f130200 of size 122880 next 106\n",
      "2022-10-11 14:39:13.896296: I tensorflow/core/common_runtime/bfc_allocator.cc:1089] InUse at 7fe78f14e200 of size 57600 next 89\n",
      "2022-10-11 14:39:13.896300: I tensorflow/core/common_runtime/bfc_allocator.cc:1089] InUse at 7fe78f15c300 of size 51200 next 93\n",
      "2022-10-11 14:39:13.896304: I tensorflow/core/common_runtime/bfc_allocator.cc:1089] InUse at 7fe78f168b00 of size 131072 next 95\n",
      "2022-10-11 14:39:13.896308: I tensorflow/core/common_runtime/bfc_allocator.cc:1089] Free  at 7fe78f188b00 of size 9754880 next 22\n",
      "2022-10-11 14:39:13.896312: I tensorflow/core/common_runtime/bfc_allocator.cc:1089] InUse at 7fe78fad6400 of size 10240512 next 21\n",
      "2022-10-11 14:39:13.896316: I tensorflow/core/common_runtime/bfc_allocator.cc:1089] Free  at 7fe79049a600 of size 10692096 next 100\n",
      "2022-10-11 14:39:13.896320: I tensorflow/core/common_runtime/bfc_allocator.cc:1089] InUse at 7fe790eccc00 of size 256 next 101\n",
      "2022-10-11 14:39:13.896327: I tensorflow/core/common_runtime/bfc_allocator.cc:1089] InUse at 7fe790eccd00 of size 10240512 next 102\n",
      "2022-10-11 14:39:13.896331: I tensorflow/core/common_runtime/bfc_allocator.cc:1089] InUse at 7fe791890f00 of size 10240512 next 84\n",
      "2022-10-11 14:39:13.896336: I tensorflow/core/common_runtime/bfc_allocator.cc:1089] Free  at 7fe792255100 of size 198881024 next 18446744073709551615\n",
      "2022-10-11 14:39:13.896342: I tensorflow/core/common_runtime/bfc_allocator.cc:1069] Next region of size 268435456\n",
      "2022-10-11 14:39:13.896353: I tensorflow/core/common_runtime/bfc_allocator.cc:1089] InUse at 7fe7c4000000 of size 268435456 next 18446744073709551615\n",
      "2022-10-11 14:39:13.896364: I tensorflow/core/common_runtime/bfc_allocator.cc:1069] Next region of size 2097152\n",
      "2022-10-11 14:39:13.896370: I tensorflow/core/common_runtime/bfc_allocator.cc:1089] InUse at 7fe871800000 of size 1280 next 1\n",
      "2022-10-11 14:39:13.896375: I tensorflow/core/common_runtime/bfc_allocator.cc:1089] InUse at 7fe871800500 of size 256 next 2\n",
      "2022-10-11 14:39:13.896378: I tensorflow/core/common_runtime/bfc_allocator.cc:1089] InUse at 7fe871800600 of size 256 next 3\n",
      "2022-10-11 14:39:13.896382: I tensorflow/core/common_runtime/bfc_allocator.cc:1089] InUse at 7fe871800700 of size 256 next 4\n",
      "2022-10-11 14:39:13.896385: I tensorflow/core/common_runtime/bfc_allocator.cc:1089] InUse at 7fe871800800 of size 256 next 5\n",
      "2022-10-11 14:39:13.896389: I tensorflow/core/common_runtime/bfc_allocator.cc:1089] InUse at 7fe871800900 of size 256 next 10\n",
      "2022-10-11 14:39:13.896393: I tensorflow/core/common_runtime/bfc_allocator.cc:1089] InUse at 7fe871800a00 of size 256 next 7\n",
      "2022-10-11 14:39:13.896396: I tensorflow/core/common_runtime/bfc_allocator.cc:1089] InUse at 7fe871800b00 of size 160000 next 8\n",
      "2022-10-11 14:39:13.896400: I tensorflow/core/common_runtime/bfc_allocator.cc:1089] InUse at 7fe871827c00 of size 256 next 13\n",
      "2022-10-11 14:39:13.896403: I tensorflow/core/common_runtime/bfc_allocator.cc:1089] InUse at 7fe871827d00 of size 256 next 15\n",
      "2022-10-11 14:39:13.896407: I tensorflow/core/common_runtime/bfc_allocator.cc:1089] InUse at 7fe871827e00 of size 256 next 16\n",
      "2022-10-11 14:39:13.896411: I tensorflow/core/common_runtime/bfc_allocator.cc:1089] InUse at 7fe871827f00 of size 256 next 14\n",
      "2022-10-11 14:39:13.896436: I tensorflow/core/common_runtime/bfc_allocator.cc:1089] InUse at 7fe871828000 of size 256 next 12\n",
      "2022-10-11 14:39:13.896440: I tensorflow/core/common_runtime/bfc_allocator.cc:1089] InUse at 7fe871828100 of size 256 next 17\n",
      "2022-10-11 14:39:13.896444: I tensorflow/core/common_runtime/bfc_allocator.cc:1089] InUse at 7fe871828200 of size 256 next 20\n",
      "2022-10-11 14:39:13.896447: I tensorflow/core/common_runtime/bfc_allocator.cc:1089] InUse at 7fe871828300 of size 256 next 18\n",
      "2022-10-11 14:39:13.896451: I tensorflow/core/common_runtime/bfc_allocator.cc:1089] InUse at 7fe871828400 of size 256 next 23\n",
      "2022-10-11 14:39:13.896455: I tensorflow/core/common_runtime/bfc_allocator.cc:1089] InUse at 7fe871828500 of size 256 next 24\n",
      "2022-10-11 14:39:13.896458: I tensorflow/core/common_runtime/bfc_allocator.cc:1089] InUse at 7fe871828600 of size 256 next 25\n",
      "2022-10-11 14:39:13.896462: I tensorflow/core/common_runtime/bfc_allocator.cc:1089] InUse at 7fe871828700 of size 256 next 30\n",
      "2022-10-11 14:39:13.896465: I tensorflow/core/common_runtime/bfc_allocator.cc:1089] InUse at 7fe871828800 of size 256 next 19\n",
      "2022-10-11 14:39:13.896486: I tensorflow/core/common_runtime/bfc_allocator.cc:1089] InUse at 7fe871828900 of size 256 next 37\n",
      "2022-10-11 14:39:13.896490: I tensorflow/core/common_runtime/bfc_allocator.cc:1089] InUse at 7fe871828a00 of size 256 next 39\n",
      "2022-10-11 14:39:13.896493: I tensorflow/core/common_runtime/bfc_allocator.cc:1089] InUse at 7fe871828b00 of size 256 next 32\n",
      "2022-10-11 14:39:13.896497: I tensorflow/core/common_runtime/bfc_allocator.cc:1089] InUse at 7fe871828c00 of size 1024 next 33\n",
      "2022-10-11 14:39:13.896501: I tensorflow/core/common_runtime/bfc_allocator.cc:1089] InUse at 7fe871829000 of size 1024 next 31\n",
      "2022-10-11 14:39:13.896504: I tensorflow/core/common_runtime/bfc_allocator.cc:1089] InUse at 7fe871829400 of size 256 next 38\n",
      "2022-10-11 14:39:13.896508: I tensorflow/core/common_runtime/bfc_allocator.cc:1089] InUse at 7fe871829500 of size 256 next 43\n",
      "2022-10-11 14:39:13.896511: I tensorflow/core/common_runtime/bfc_allocator.cc:1089] InUse at 7fe871829600 of size 256 next 44\n",
      "2022-10-11 14:39:13.896515: I tensorflow/core/common_runtime/bfc_allocator.cc:1089] InUse at 7fe871829700 of size 256 next 42\n",
      "2022-10-11 14:39:13.896519: I tensorflow/core/common_runtime/bfc_allocator.cc:1089] InUse at 7fe871829800 of size 256 next 49\n",
      "2022-10-11 14:39:13.896522: I tensorflow/core/common_runtime/bfc_allocator.cc:1089] InUse at 7fe871829900 of size 256 next 45\n",
      "2022-10-11 14:39:13.896526: I tensorflow/core/common_runtime/bfc_allocator.cc:1089] InUse at 7fe871829a00 of size 256 next 55\n",
      "2022-10-11 14:39:13.896529: I tensorflow/core/common_runtime/bfc_allocator.cc:1089] InUse at 7fe871829b00 of size 256 next 53\n",
      "2022-10-11 14:39:13.896533: I tensorflow/core/common_runtime/bfc_allocator.cc:1089] InUse at 7fe871829c00 of size 1536 next 46\n",
      "2022-10-11 14:39:13.896537: I tensorflow/core/common_runtime/bfc_allocator.cc:1089] InUse at 7fe87182a200 of size 1280 next 47\n",
      "2022-10-11 14:39:13.896541: I tensorflow/core/common_runtime/bfc_allocator.cc:1089] InUse at 7fe87182a700 of size 256 next 48\n",
      "2022-10-11 14:39:13.896544: I tensorflow/core/common_runtime/bfc_allocator.cc:1089] InUse at 7fe87182a800 of size 512 next 64\n",
      "2022-10-11 14:39:13.896548: I tensorflow/core/common_runtime/bfc_allocator.cc:1089] InUse at 7fe87182aa00 of size 256 next 56\n",
      "2022-10-11 14:39:13.896552: I tensorflow/core/common_runtime/bfc_allocator.cc:1089] InUse at 7fe87182ab00 of size 256 next 72\n",
      "2022-10-11 14:39:13.896555: I tensorflow/core/common_runtime/bfc_allocator.cc:1089] InUse at 7fe87182ac00 of size 256 next 73\n",
      "2022-10-11 14:39:13.896559: I tensorflow/core/common_runtime/bfc_allocator.cc:1089] InUse at 7fe87182ad00 of size 256 next 74\n",
      "2022-10-11 14:39:13.896562: I tensorflow/core/common_runtime/bfc_allocator.cc:1089] InUse at 7fe87182ae00 of size 256 next 59\n",
      "2022-10-11 14:39:13.896566: I tensorflow/core/common_runtime/bfc_allocator.cc:1089] InUse at 7fe87182af00 of size 256 next 58\n",
      "2022-10-11 14:39:13.896569: I tensorflow/core/common_runtime/bfc_allocator.cc:1089] InUse at 7fe87182b000 of size 256 next 70\n",
      "2022-10-11 14:39:13.896573: I tensorflow/core/common_runtime/bfc_allocator.cc:1089] InUse at 7fe87182b100 of size 256 next 63\n",
      "2022-10-11 14:39:13.896576: I tensorflow/core/common_runtime/bfc_allocator.cc:1089] InUse at 7fe87182b200 of size 256 next 60\n",
      "2022-10-11 14:39:13.896580: I tensorflow/core/common_runtime/bfc_allocator.cc:1089] InUse at 7fe87182b300 of size 256 next 62\n",
      "2022-10-11 14:39:13.896584: I tensorflow/core/common_runtime/bfc_allocator.cc:1089] InUse at 7fe87182b400 of size 256 next 68\n",
      "2022-10-11 14:39:13.896587: I tensorflow/core/common_runtime/bfc_allocator.cc:1089] InUse at 7fe87182b500 of size 1024 next 67\n",
      "2022-10-11 14:39:13.896591: I tensorflow/core/common_runtime/bfc_allocator.cc:1089] InUse at 7fe87182b900 of size 1792 next 28\n",
      "2022-10-11 14:39:13.896595: I tensorflow/core/common_runtime/bfc_allocator.cc:1089] InUse at 7fe87182c000 of size 100864 next 29\n",
      "2022-10-11 14:39:13.896599: I tensorflow/core/common_runtime/bfc_allocator.cc:1089] InUse at 7fe871844a00 of size 24064 next 71\n",
      "2022-10-11 14:39:13.896602: I tensorflow/core/common_runtime/bfc_allocator.cc:1089] InUse at 7fe87184a800 of size 3072 next 83\n",
      "2022-10-11 14:39:13.896606: I tensorflow/core/common_runtime/bfc_allocator.cc:1089] InUse at 7fe87184b400 of size 3072 next 97\n",
      "2022-10-11 14:39:13.896610: I tensorflow/core/common_runtime/bfc_allocator.cc:1089] InUse at 7fe87184c000 of size 1792 next 91\n",
      "2022-10-11 14:39:13.896613: I tensorflow/core/common_runtime/bfc_allocator.cc:1089] InUse at 7fe87184c700 of size 1024 next 113\n",
      "2022-10-11 14:39:13.896617: I tensorflow/core/common_runtime/bfc_allocator.cc:1089] InUse at 7fe87184cb00 of size 1024 next 123\n",
      "2022-10-11 14:39:13.896621: I tensorflow/core/common_runtime/bfc_allocator.cc:1089] Free  at 7fe87184cf00 of size 14080 next 41\n",
      "2022-10-11 14:39:13.896625: I tensorflow/core/common_runtime/bfc_allocator.cc:1089] InUse at 7fe871850600 of size 24064 next 40\n",
      "2022-10-11 14:39:13.896628: I tensorflow/core/common_runtime/bfc_allocator.cc:1089] InUse at 7fe871856400 of size 58112 next 26\n",
      "2022-10-11 14:39:13.896632: I tensorflow/core/common_runtime/bfc_allocator.cc:1089] InUse at 7fe871864700 of size 122880 next 27\n",
      "2022-10-11 14:39:13.896638: I tensorflow/core/common_runtime/bfc_allocator.cc:1089] InUse at 7fe871882700 of size 256 next 75\n",
      "2022-10-11 14:39:13.896641: I tensorflow/core/common_runtime/bfc_allocator.cc:1089] InUse at 7fe871882800 of size 256 next 76\n",
      "2022-10-11 14:39:13.896645: I tensorflow/core/common_runtime/bfc_allocator.cc:1089] InUse at 7fe871882900 of size 1024 next 77\n",
      "2022-10-11 14:39:13.896649: I tensorflow/core/common_runtime/bfc_allocator.cc:1089] InUse at 7fe871882d00 of size 1280 next 81\n",
      "2022-10-11 14:39:13.896652: I tensorflow/core/common_runtime/bfc_allocator.cc:1089] InUse at 7fe871883200 of size 512 next 79\n",
      "2022-10-11 14:39:13.896656: I tensorflow/core/common_runtime/bfc_allocator.cc:1089] InUse at 7fe871883400 of size 256 next 85\n",
      "2022-10-11 14:39:13.896659: I tensorflow/core/common_runtime/bfc_allocator.cc:1089] InUse at 7fe871883500 of size 1024 next 87\n",
      "2022-10-11 14:39:13.896663: I tensorflow/core/common_runtime/bfc_allocator.cc:1089] InUse at 7fe871883900 of size 1024 next 90\n",
      "2022-10-11 14:39:13.896667: I tensorflow/core/common_runtime/bfc_allocator.cc:1089] InUse at 7fe871883d00 of size 256 next 92\n",
      "2022-10-11 14:39:13.896670: I tensorflow/core/common_runtime/bfc_allocator.cc:1089] InUse at 7fe871883e00 of size 1024 next 94\n",
      "2022-10-11 14:39:13.896674: I tensorflow/core/common_runtime/bfc_allocator.cc:1089] InUse at 7fe871884200 of size 512 next 96\n",
      "2022-10-11 14:39:13.896677: I tensorflow/core/common_runtime/bfc_allocator.cc:1089] InUse at 7fe871884400 of size 256 next 98\n",
      "2022-10-11 14:39:13.896681: I tensorflow/core/common_runtime/bfc_allocator.cc:1089] InUse at 7fe871884500 of size 256 next 88\n",
      "2022-10-11 14:39:13.896684: I tensorflow/core/common_runtime/bfc_allocator.cc:1089] InUse at 7fe871884600 of size 256 next 99\n",
      "2022-10-11 14:39:13.896688: I tensorflow/core/common_runtime/bfc_allocator.cc:1089] InUse at 7fe871884700 of size 256 next 125\n",
      "2022-10-11 14:39:13.896692: I tensorflow/core/common_runtime/bfc_allocator.cc:1089] InUse at 7fe871884800 of size 256 next 121\n",
      "2022-10-11 14:39:13.896695: I tensorflow/core/common_runtime/bfc_allocator.cc:1089] InUse at 7fe871884900 of size 256 next 149\n",
      "2022-10-11 14:39:13.896699: I tensorflow/core/common_runtime/bfc_allocator.cc:1089] Free  at 7fe871884a00 of size 256 next 69\n",
      "2022-10-11 14:39:13.896703: I tensorflow/core/common_runtime/bfc_allocator.cc:1089] InUse at 7fe871884b00 of size 5376 next 36\n",
      "2022-10-11 14:39:13.896706: I tensorflow/core/common_runtime/bfc_allocator.cc:1089] InUse at 7fe871886000 of size 108288 next 35\n",
      "2022-10-11 14:39:13.896710: I tensorflow/core/common_runtime/bfc_allocator.cc:1089] InUse at 7fe8718a0700 of size 122880 next 34\n",
      "2022-10-11 14:39:13.896714: I tensorflow/core/common_runtime/bfc_allocator.cc:1089] InUse at 7fe8718be700 of size 81664 next 57\n",
      "2022-10-11 14:39:13.896718: I tensorflow/core/common_runtime/bfc_allocator.cc:1089] InUse at 7fe8718d2600 of size 102400 next 61\n",
      "2022-10-11 14:39:13.896721: I tensorflow/core/common_runtime/bfc_allocator.cc:1089] InUse at 7fe8718eb600 of size 1024 next 105\n",
      "2022-10-11 14:39:13.896725: I tensorflow/core/common_runtime/bfc_allocator.cc:1089] InUse at 7fe8718eba00 of size 60672 next 52\n",
      "2022-10-11 14:39:13.896729: I tensorflow/core/common_runtime/bfc_allocator.cc:1089] InUse at 7fe8718fa700 of size 122880 next 51\n",
      "2022-10-11 14:39:13.896732: I tensorflow/core/common_runtime/bfc_allocator.cc:1089] InUse at 7fe871918700 of size 57600 next 104\n",
      "2022-10-11 14:39:13.896736: I tensorflow/core/common_runtime/bfc_allocator.cc:1089] InUse at 7fe871926800 of size 24064 next 78\n",
      "2022-10-11 14:39:13.896740: I tensorflow/core/common_runtime/bfc_allocator.cc:1089] InUse at 7fe87192c600 of size 41216 next 54\n",
      "2022-10-11 14:39:13.896743: I tensorflow/core/common_runtime/bfc_allocator.cc:1089] InUse at 7fe871936700 of size 122880 next 50\n",
      "2022-10-11 14:39:13.896747: I tensorflow/core/common_runtime/bfc_allocator.cc:1089] InUse at 7fe871954700 of size 139264 next 65\n",
      "2022-10-11 14:39:13.896751: I tensorflow/core/common_runtime/bfc_allocator.cc:1089] InUse at 7fe871976700 of size 51200 next 80\n",
      "2022-10-11 14:39:13.896754: I tensorflow/core/common_runtime/bfc_allocator.cc:1089] InUse at 7fe871982f00 of size 180480 next 82\n",
      "2022-10-11 14:39:13.896759: I tensorflow/core/common_runtime/bfc_allocator.cc:1089] InUse at 7fe8719af000 of size 131328 next 86\n",
      "2022-10-11 14:39:13.896763: I tensorflow/core/common_runtime/bfc_allocator.cc:1089] InUse at 7fe8719cf100 of size 57600 next 107\n",
      "2022-10-11 14:39:13.896767: I tensorflow/core/common_runtime/bfc_allocator.cc:1089] InUse at 7fe8719dd200 of size 142848 next 18446744073709551615\n",
      "2022-10-11 14:39:13.896770: I tensorflow/core/common_runtime/bfc_allocator.cc:1094]      Summary of in-use Chunks by size: \n",
      "2022-10-11 14:39:13.896776: I tensorflow/core/common_runtime/bfc_allocator.cc:1097] 53 Chunks of size 256 totalling 13.2KiB\n",
      "2022-10-11 14:39:13.896782: I tensorflow/core/common_runtime/bfc_allocator.cc:1097] 3 Chunks of size 512 totalling 1.5KiB\n",
      "2022-10-11 14:39:13.896786: I tensorflow/core/common_runtime/bfc_allocator.cc:1097] 10 Chunks of size 1024 totalling 10.0KiB\n",
      "2022-10-11 14:39:13.896790: I tensorflow/core/common_runtime/bfc_allocator.cc:1097] 3 Chunks of size 1280 totalling 3.8KiB\n",
      "2022-10-11 14:39:13.896794: I tensorflow/core/common_runtime/bfc_allocator.cc:1097] 1 Chunks of size 1536 totalling 1.5KiB\n",
      "2022-10-11 14:39:13.896798: I tensorflow/core/common_runtime/bfc_allocator.cc:1097] 2 Chunks of size 1792 totalling 3.5KiB\n",
      "2022-10-11 14:39:13.896802: I tensorflow/core/common_runtime/bfc_allocator.cc:1097] 2 Chunks of size 3072 totalling 6.0KiB\n",
      "2022-10-11 14:39:13.896806: I tensorflow/core/common_runtime/bfc_allocator.cc:1097] 1 Chunks of size 5376 totalling 5.2KiB\n",
      "2022-10-11 14:39:13.896810: I tensorflow/core/common_runtime/bfc_allocator.cc:1097] 3 Chunks of size 24064 totalling 70.5KiB\n",
      "2022-10-11 14:39:13.896815: I tensorflow/core/common_runtime/bfc_allocator.cc:1097] 1 Chunks of size 41216 totalling 40.2KiB\n",
      "2022-10-11 14:39:13.896819: I tensorflow/core/common_runtime/bfc_allocator.cc:1097] 2 Chunks of size 51200 totalling 100.0KiB\n",
      "2022-10-11 14:39:13.896823: I tensorflow/core/common_runtime/bfc_allocator.cc:1097] 3 Chunks of size 57600 totalling 168.8KiB\n",
      "2022-10-11 14:39:13.896827: I tensorflow/core/common_runtime/bfc_allocator.cc:1097] 1 Chunks of size 58112 totalling 56.8KiB\n",
      "2022-10-11 14:39:13.896832: I tensorflow/core/common_runtime/bfc_allocator.cc:1097] 1 Chunks of size 60672 totalling 59.2KiB\n",
      "2022-10-11 14:39:13.896836: I tensorflow/core/common_runtime/bfc_allocator.cc:1097] 1 Chunks of size 81664 totalling 79.8KiB\n",
      "2022-10-11 14:39:13.896840: I tensorflow/core/common_runtime/bfc_allocator.cc:1097] 1 Chunks of size 100864 totalling 98.5KiB\n",
      "2022-10-11 14:39:13.896844: I tensorflow/core/common_runtime/bfc_allocator.cc:1097] 1 Chunks of size 102400 totalling 100.0KiB\n",
      "2022-10-11 14:39:13.896848: I tensorflow/core/common_runtime/bfc_allocator.cc:1097] 1 Chunks of size 108288 totalling 105.8KiB\n",
      "2022-10-11 14:39:13.896853: I tensorflow/core/common_runtime/bfc_allocator.cc:1097] 6 Chunks of size 122880 totalling 720.0KiB\n",
      "2022-10-11 14:39:13.896857: I tensorflow/core/common_runtime/bfc_allocator.cc:1097] 1 Chunks of size 131072 totalling 128.0KiB\n",
      "2022-10-11 14:39:13.896861: I tensorflow/core/common_runtime/bfc_allocator.cc:1097] 1 Chunks of size 131328 totalling 128.2KiB\n",
      "2022-10-11 14:39:13.896865: I tensorflow/core/common_runtime/bfc_allocator.cc:1097] 1 Chunks of size 139264 totalling 136.0KiB\n",
      "2022-10-11 14:39:13.896869: I tensorflow/core/common_runtime/bfc_allocator.cc:1097] 1 Chunks of size 142848 totalling 139.5KiB\n",
      "2022-10-11 14:39:13.896875: I tensorflow/core/common_runtime/bfc_allocator.cc:1097] 1 Chunks of size 160000 totalling 156.2KiB\n",
      "2022-10-11 14:39:13.896879: I tensorflow/core/common_runtime/bfc_allocator.cc:1097] 1 Chunks of size 180480 totalling 176.2KiB\n",
      "2022-10-11 14:39:13.896883: I tensorflow/core/common_runtime/bfc_allocator.cc:1097] 1 Chunks of size 7659520 totalling 7.30MiB\n",
      "2022-10-11 14:39:13.896887: I tensorflow/core/common_runtime/bfc_allocator.cc:1097] 4 Chunks of size 10240512 totalling 39.06MiB\n",
      "2022-10-11 14:39:13.896892: I tensorflow/core/common_runtime/bfc_allocator.cc:1097] 1 Chunks of size 122531328 totalling 116.85MiB\n",
      "2022-10-11 14:39:13.896896: I tensorflow/core/common_runtime/bfc_allocator.cc:1097] 1 Chunks of size 245062400 totalling 233.71MiB\n",
      "2022-10-11 14:39:13.896900: I tensorflow/core/common_runtime/bfc_allocator.cc:1097] 1 Chunks of size 268435456 totalling 256.00MiB\n",
      "2022-10-11 14:39:13.896904: I tensorflow/core/common_runtime/bfc_allocator.cc:1101] Sum Total of in-use chunks: 655.38MiB\n",
      "2022-10-11 14:39:13.896908: I tensorflow/core/common_runtime/bfc_allocator.cc:1103] total_region_allocated_bytes_: 1075838976 memory_limit_: 4870373376 available bytes: 3794534400 curr_region_allocation_bytes_: 1073741824\n",
      "2022-10-11 14:39:13.896915: I tensorflow/core/common_runtime/bfc_allocator.cc:1109] Stats: \n",
      "Limit:                      4870373376\n",
      "InUse:                       687219456\n",
      "MaxInUse:                   1055377664\n",
      "NumAllocs:                       10446\n",
      "MaxAllocSize:                291808512\n",
      "Reserved:                            0\n",
      "PeakReserved:                        0\n",
      "LargestFreeBlock:                    0\n",
      "\n",
      "2022-10-11 14:39:13.896925: W tensorflow/core/common_runtime/bfc_allocator.cc:491] ***********************************______________********_________________************************x*\n",
      "2022-10-11 14:39:13.896942: W tensorflow/core/framework/op_kernel.cc:1780] OP_REQUIRES failed at resource_variable_ops.cc:725 : RESOURCE_EXHAUSTED: OOM when allocating tensor with shape[1,153164,200,128] and type float on /job:localhost/replica:0/task:0/device:GPU:0 by allocator GPU_0_bfc\n"
     ]
    },
    {
     "ename": "ResourceExhaustedError",
     "evalue": "Graph execution error:\n\nDetected at node 'sequential/embedding/embedding_lookup' defined at (most recent call last):\n    File \"/home/bryan/miniconda3/envs/tf/lib/python3.9/runpy.py\", line 197, in _run_module_as_main\n      return _run_code(code, main_globals, None,\n    File \"/home/bryan/miniconda3/envs/tf/lib/python3.9/runpy.py\", line 87, in _run_code\n      exec(code, run_globals)\n    File \"/home/bryan/miniconda3/envs/tf/lib/python3.9/site-packages/ipykernel_launcher.py\", line 17, in <module>\n      app.launch_new_instance()\n    File \"/home/bryan/miniconda3/envs/tf/lib/python3.9/site-packages/traitlets/config/application.py\", line 846, in launch_instance\n      app.start()\n    File \"/home/bryan/miniconda3/envs/tf/lib/python3.9/site-packages/ipykernel/kernelapp.py\", line 712, in start\n      self.io_loop.start()\n    File \"/home/bryan/miniconda3/envs/tf/lib/python3.9/site-packages/tornado/platform/asyncio.py\", line 215, in start\n      self.asyncio_loop.run_forever()\n    File \"/home/bryan/miniconda3/envs/tf/lib/python3.9/asyncio/base_events.py\", line 601, in run_forever\n      self._run_once()\n    File \"/home/bryan/miniconda3/envs/tf/lib/python3.9/asyncio/base_events.py\", line 1905, in _run_once\n      handle._run()\n    File \"/home/bryan/miniconda3/envs/tf/lib/python3.9/asyncio/events.py\", line 80, in _run\n      self._context.run(self._callback, *self._args)\n    File \"/home/bryan/miniconda3/envs/tf/lib/python3.9/site-packages/ipykernel/kernelbase.py\", line 510, in dispatch_queue\n      await self.process_one()\n    File \"/home/bryan/miniconda3/envs/tf/lib/python3.9/site-packages/ipykernel/kernelbase.py\", line 499, in process_one\n      await dispatch(*args)\n    File \"/home/bryan/miniconda3/envs/tf/lib/python3.9/site-packages/ipykernel/kernelbase.py\", line 406, in dispatch_shell\n      await result\n    File \"/home/bryan/miniconda3/envs/tf/lib/python3.9/site-packages/ipykernel/kernelbase.py\", line 730, in execute_request\n      reply_content = await reply_content\n    File \"/home/bryan/miniconda3/envs/tf/lib/python3.9/site-packages/ipykernel/ipkernel.py\", line 383, in do_execute\n      res = shell.run_cell(\n    File \"/home/bryan/miniconda3/envs/tf/lib/python3.9/site-packages/ipykernel/zmqshell.py\", line 528, in run_cell\n      return super().run_cell(*args, **kwargs)\n    File \"/home/bryan/miniconda3/envs/tf/lib/python3.9/site-packages/IPython/core/interactiveshell.py\", line 2881, in run_cell\n      result = self._run_cell(\n    File \"/home/bryan/miniconda3/envs/tf/lib/python3.9/site-packages/IPython/core/interactiveshell.py\", line 2936, in _run_cell\n      return runner(coro)\n    File \"/home/bryan/miniconda3/envs/tf/lib/python3.9/site-packages/IPython/core/async_helpers.py\", line 129, in _pseudo_sync_runner\n      coro.send(None)\n    File \"/home/bryan/miniconda3/envs/tf/lib/python3.9/site-packages/IPython/core/interactiveshell.py\", line 3135, in run_cell_async\n      has_raised = await self.run_ast_nodes(code_ast.body, cell_name,\n    File \"/home/bryan/miniconda3/envs/tf/lib/python3.9/site-packages/IPython/core/interactiveshell.py\", line 3338, in run_ast_nodes\n      if await self.run_code(code, result, async_=asy):\n    File \"/home/bryan/miniconda3/envs/tf/lib/python3.9/site-packages/IPython/core/interactiveshell.py\", line 3398, in run_code\n      exec(code_obj, self.user_global_ns, self.user_ns)\n    File \"/tmp/ipykernel_29129/2877429457.py\", line 1, in <cell line: 1>\n      test_res = model.predict(np.expand_dims(vectorized_text,0))\n    File \"/home/bryan/miniconda3/envs/tf/lib/python3.9/site-packages/keras/utils/traceback_utils.py\", line 65, in error_handler\n      return fn(*args, **kwargs)\n    File \"/home/bryan/miniconda3/envs/tf/lib/python3.9/site-packages/keras/engine/training.py\", line 2253, in predict\n      tmp_batch_outputs = self.predict_function(iterator)\n    File \"/home/bryan/miniconda3/envs/tf/lib/python3.9/site-packages/keras/engine/training.py\", line 2041, in predict_function\n      return step_function(self, iterator)\n    File \"/home/bryan/miniconda3/envs/tf/lib/python3.9/site-packages/keras/engine/training.py\", line 2027, in step_function\n      outputs = model.distribute_strategy.run(run_step, args=(data,))\n    File \"/home/bryan/miniconda3/envs/tf/lib/python3.9/site-packages/keras/engine/training.py\", line 2015, in run_step\n      outputs = model.predict_step(data)\n    File \"/home/bryan/miniconda3/envs/tf/lib/python3.9/site-packages/keras/engine/training.py\", line 1983, in predict_step\n      return self(x, training=False)\n    File \"/home/bryan/miniconda3/envs/tf/lib/python3.9/site-packages/keras/utils/traceback_utils.py\", line 65, in error_handler\n      return fn(*args, **kwargs)\n    File \"/home/bryan/miniconda3/envs/tf/lib/python3.9/site-packages/keras/engine/training.py\", line 557, in __call__\n      return super().__call__(*args, **kwargs)\n    File \"/home/bryan/miniconda3/envs/tf/lib/python3.9/site-packages/keras/utils/traceback_utils.py\", line 65, in error_handler\n      return fn(*args, **kwargs)\n    File \"/home/bryan/miniconda3/envs/tf/lib/python3.9/site-packages/keras/engine/base_layer.py\", line 1097, in __call__\n      outputs = call_fn(inputs, *args, **kwargs)\n    File \"/home/bryan/miniconda3/envs/tf/lib/python3.9/site-packages/keras/utils/traceback_utils.py\", line 96, in error_handler\n      return fn(*args, **kwargs)\n    File \"/home/bryan/miniconda3/envs/tf/lib/python3.9/site-packages/keras/engine/sequential.py\", line 410, in call\n      return super().call(inputs, training=training, mask=mask)\n    File \"/home/bryan/miniconda3/envs/tf/lib/python3.9/site-packages/keras/engine/functional.py\", line 510, in call\n      return self._run_internal_graph(inputs, training=training, mask=mask)\n    File \"/home/bryan/miniconda3/envs/tf/lib/python3.9/site-packages/keras/engine/functional.py\", line 667, in _run_internal_graph\n      outputs = node.layer(*args, **kwargs)\n    File \"/home/bryan/miniconda3/envs/tf/lib/python3.9/site-packages/keras/utils/traceback_utils.py\", line 65, in error_handler\n      return fn(*args, **kwargs)\n    File \"/home/bryan/miniconda3/envs/tf/lib/python3.9/site-packages/keras/engine/base_layer.py\", line 1097, in __call__\n      outputs = call_fn(inputs, *args, **kwargs)\n    File \"/home/bryan/miniconda3/envs/tf/lib/python3.9/site-packages/keras/utils/traceback_utils.py\", line 96, in error_handler\n      return fn(*args, **kwargs)\n    File \"/home/bryan/miniconda3/envs/tf/lib/python3.9/site-packages/keras/layers/core/embedding.py\", line 208, in call\n      out = tf.nn.embedding_lookup(self.embeddings, inputs)\nNode: 'sequential/embedding/embedding_lookup'\nOOM when allocating tensor with shape[1,153164,200,128] and type float on /job:localhost/replica:0/task:0/device:GPU:0 by allocator GPU_0_bfc\n\t [[{{node sequential/embedding/embedding_lookup}}]]\nHint: If you want to see a list of allocated tensors when OOM happens, add report_tensor_allocations_upon_oom to RunOptions for current allocation info. This isn't available when running in Eager mode.\n [Op:__inference_predict_function_14708]",
     "output_type": "error",
     "traceback": [
      "\u001b[0;31m---------------------------------------------------------------------------\u001b[0m",
      "\u001b[0;31mResourceExhaustedError\u001b[0m                    Traceback (most recent call last)",
      "\u001b[1;32m/home/bryan/my_personal_github/projects/Toxic_comments_classification/code/model1.ipynb Cell 86\u001b[0m in \u001b[0;36m<cell line: 1>\u001b[0;34m()\u001b[0m\n\u001b[0;32m----> <a href='vscode-notebook-cell:/home/bryan/my_personal_github/projects/Toxic_comments_classification/code/model1.ipynb#Y150sZmlsZQ%3D%3D?line=0'>1</a>\u001b[0m test_res \u001b[39m=\u001b[39m model\u001b[39m.\u001b[39;49mpredict(np\u001b[39m.\u001b[39;49mexpand_dims(vectorized_text,\u001b[39m0\u001b[39;49m))\n",
      "File \u001b[0;32m~/miniconda3/envs/tf/lib/python3.9/site-packages/keras/utils/traceback_utils.py:70\u001b[0m, in \u001b[0;36mfilter_traceback.<locals>.error_handler\u001b[0;34m(*args, **kwargs)\u001b[0m\n\u001b[1;32m     67\u001b[0m     filtered_tb \u001b[39m=\u001b[39m _process_traceback_frames(e\u001b[39m.\u001b[39m__traceback__)\n\u001b[1;32m     68\u001b[0m     \u001b[39m# To get the full stack trace, call:\u001b[39;00m\n\u001b[1;32m     69\u001b[0m     \u001b[39m# `tf.debugging.disable_traceback_filtering()`\u001b[39;00m\n\u001b[0;32m---> 70\u001b[0m     \u001b[39mraise\u001b[39;00m e\u001b[39m.\u001b[39mwith_traceback(filtered_tb) \u001b[39mfrom\u001b[39;00m \u001b[39mNone\u001b[39m\n\u001b[1;32m     71\u001b[0m \u001b[39mfinally\u001b[39;00m:\n\u001b[1;32m     72\u001b[0m     \u001b[39mdel\u001b[39;00m filtered_tb\n",
      "File \u001b[0;32m~/miniconda3/envs/tf/lib/python3.9/site-packages/tensorflow/python/eager/execute.py:54\u001b[0m, in \u001b[0;36mquick_execute\u001b[0;34m(op_name, num_outputs, inputs, attrs, ctx, name)\u001b[0m\n\u001b[1;32m     52\u001b[0m \u001b[39mtry\u001b[39;00m:\n\u001b[1;32m     53\u001b[0m   ctx\u001b[39m.\u001b[39mensure_initialized()\n\u001b[0;32m---> 54\u001b[0m   tensors \u001b[39m=\u001b[39m pywrap_tfe\u001b[39m.\u001b[39mTFE_Py_Execute(ctx\u001b[39m.\u001b[39m_handle, device_name, op_name,\n\u001b[1;32m     55\u001b[0m                                       inputs, attrs, num_outputs)\n\u001b[1;32m     56\u001b[0m \u001b[39mexcept\u001b[39;00m core\u001b[39m.\u001b[39m_NotOkStatusException \u001b[39mas\u001b[39;00m e:\n\u001b[1;32m     57\u001b[0m   \u001b[39mif\u001b[39;00m name \u001b[39mis\u001b[39;00m \u001b[39mnot\u001b[39;00m \u001b[39mNone\u001b[39;00m:\n",
      "\u001b[0;31mResourceExhaustedError\u001b[0m: Graph execution error:\n\nDetected at node 'sequential/embedding/embedding_lookup' defined at (most recent call last):\n    File \"/home/bryan/miniconda3/envs/tf/lib/python3.9/runpy.py\", line 197, in _run_module_as_main\n      return _run_code(code, main_globals, None,\n    File \"/home/bryan/miniconda3/envs/tf/lib/python3.9/runpy.py\", line 87, in _run_code\n      exec(code, run_globals)\n    File \"/home/bryan/miniconda3/envs/tf/lib/python3.9/site-packages/ipykernel_launcher.py\", line 17, in <module>\n      app.launch_new_instance()\n    File \"/home/bryan/miniconda3/envs/tf/lib/python3.9/site-packages/traitlets/config/application.py\", line 846, in launch_instance\n      app.start()\n    File \"/home/bryan/miniconda3/envs/tf/lib/python3.9/site-packages/ipykernel/kernelapp.py\", line 712, in start\n      self.io_loop.start()\n    File \"/home/bryan/miniconda3/envs/tf/lib/python3.9/site-packages/tornado/platform/asyncio.py\", line 215, in start\n      self.asyncio_loop.run_forever()\n    File \"/home/bryan/miniconda3/envs/tf/lib/python3.9/asyncio/base_events.py\", line 601, in run_forever\n      self._run_once()\n    File \"/home/bryan/miniconda3/envs/tf/lib/python3.9/asyncio/base_events.py\", line 1905, in _run_once\n      handle._run()\n    File \"/home/bryan/miniconda3/envs/tf/lib/python3.9/asyncio/events.py\", line 80, in _run\n      self._context.run(self._callback, *self._args)\n    File \"/home/bryan/miniconda3/envs/tf/lib/python3.9/site-packages/ipykernel/kernelbase.py\", line 510, in dispatch_queue\n      await self.process_one()\n    File \"/home/bryan/miniconda3/envs/tf/lib/python3.9/site-packages/ipykernel/kernelbase.py\", line 499, in process_one\n      await dispatch(*args)\n    File \"/home/bryan/miniconda3/envs/tf/lib/python3.9/site-packages/ipykernel/kernelbase.py\", line 406, in dispatch_shell\n      await result\n    File \"/home/bryan/miniconda3/envs/tf/lib/python3.9/site-packages/ipykernel/kernelbase.py\", line 730, in execute_request\n      reply_content = await reply_content\n    File \"/home/bryan/miniconda3/envs/tf/lib/python3.9/site-packages/ipykernel/ipkernel.py\", line 383, in do_execute\n      res = shell.run_cell(\n    File \"/home/bryan/miniconda3/envs/tf/lib/python3.9/site-packages/ipykernel/zmqshell.py\", line 528, in run_cell\n      return super().run_cell(*args, **kwargs)\n    File \"/home/bryan/miniconda3/envs/tf/lib/python3.9/site-packages/IPython/core/interactiveshell.py\", line 2881, in run_cell\n      result = self._run_cell(\n    File \"/home/bryan/miniconda3/envs/tf/lib/python3.9/site-packages/IPython/core/interactiveshell.py\", line 2936, in _run_cell\n      return runner(coro)\n    File \"/home/bryan/miniconda3/envs/tf/lib/python3.9/site-packages/IPython/core/async_helpers.py\", line 129, in _pseudo_sync_runner\n      coro.send(None)\n    File \"/home/bryan/miniconda3/envs/tf/lib/python3.9/site-packages/IPython/core/interactiveshell.py\", line 3135, in run_cell_async\n      has_raised = await self.run_ast_nodes(code_ast.body, cell_name,\n    File \"/home/bryan/miniconda3/envs/tf/lib/python3.9/site-packages/IPython/core/interactiveshell.py\", line 3338, in run_ast_nodes\n      if await self.run_code(code, result, async_=asy):\n    File \"/home/bryan/miniconda3/envs/tf/lib/python3.9/site-packages/IPython/core/interactiveshell.py\", line 3398, in run_code\n      exec(code_obj, self.user_global_ns, self.user_ns)\n    File \"/tmp/ipykernel_29129/2877429457.py\", line 1, in <cell line: 1>\n      test_res = model.predict(np.expand_dims(vectorized_text,0))\n    File \"/home/bryan/miniconda3/envs/tf/lib/python3.9/site-packages/keras/utils/traceback_utils.py\", line 65, in error_handler\n      return fn(*args, **kwargs)\n    File \"/home/bryan/miniconda3/envs/tf/lib/python3.9/site-packages/keras/engine/training.py\", line 2253, in predict\n      tmp_batch_outputs = self.predict_function(iterator)\n    File \"/home/bryan/miniconda3/envs/tf/lib/python3.9/site-packages/keras/engine/training.py\", line 2041, in predict_function\n      return step_function(self, iterator)\n    File \"/home/bryan/miniconda3/envs/tf/lib/python3.9/site-packages/keras/engine/training.py\", line 2027, in step_function\n      outputs = model.distribute_strategy.run(run_step, args=(data,))\n    File \"/home/bryan/miniconda3/envs/tf/lib/python3.9/site-packages/keras/engine/training.py\", line 2015, in run_step\n      outputs = model.predict_step(data)\n    File \"/home/bryan/miniconda3/envs/tf/lib/python3.9/site-packages/keras/engine/training.py\", line 1983, in predict_step\n      return self(x, training=False)\n    File \"/home/bryan/miniconda3/envs/tf/lib/python3.9/site-packages/keras/utils/traceback_utils.py\", line 65, in error_handler\n      return fn(*args, **kwargs)\n    File \"/home/bryan/miniconda3/envs/tf/lib/python3.9/site-packages/keras/engine/training.py\", line 557, in __call__\n      return super().__call__(*args, **kwargs)\n    File \"/home/bryan/miniconda3/envs/tf/lib/python3.9/site-packages/keras/utils/traceback_utils.py\", line 65, in error_handler\n      return fn(*args, **kwargs)\n    File \"/home/bryan/miniconda3/envs/tf/lib/python3.9/site-packages/keras/engine/base_layer.py\", line 1097, in __call__\n      outputs = call_fn(inputs, *args, **kwargs)\n    File \"/home/bryan/miniconda3/envs/tf/lib/python3.9/site-packages/keras/utils/traceback_utils.py\", line 96, in error_handler\n      return fn(*args, **kwargs)\n    File \"/home/bryan/miniconda3/envs/tf/lib/python3.9/site-packages/keras/engine/sequential.py\", line 410, in call\n      return super().call(inputs, training=training, mask=mask)\n    File \"/home/bryan/miniconda3/envs/tf/lib/python3.9/site-packages/keras/engine/functional.py\", line 510, in call\n      return self._run_internal_graph(inputs, training=training, mask=mask)\n    File \"/home/bryan/miniconda3/envs/tf/lib/python3.9/site-packages/keras/engine/functional.py\", line 667, in _run_internal_graph\n      outputs = node.layer(*args, **kwargs)\n    File \"/home/bryan/miniconda3/envs/tf/lib/python3.9/site-packages/keras/utils/traceback_utils.py\", line 65, in error_handler\n      return fn(*args, **kwargs)\n    File \"/home/bryan/miniconda3/envs/tf/lib/python3.9/site-packages/keras/engine/base_layer.py\", line 1097, in __call__\n      outputs = call_fn(inputs, *args, **kwargs)\n    File \"/home/bryan/miniconda3/envs/tf/lib/python3.9/site-packages/keras/utils/traceback_utils.py\", line 96, in error_handler\n      return fn(*args, **kwargs)\n    File \"/home/bryan/miniconda3/envs/tf/lib/python3.9/site-packages/keras/layers/core/embedding.py\", line 208, in call\n      out = tf.nn.embedding_lookup(self.embeddings, inputs)\nNode: 'sequential/embedding/embedding_lookup'\nOOM when allocating tensor with shape[1,153164,200,128] and type float on /job:localhost/replica:0/task:0/device:GPU:0 by allocator GPU_0_bfc\n\t [[{{node sequential/embedding/embedding_lookup}}]]\nHint: If you want to see a list of allocated tensors when OOM happens, add report_tensor_allocations_upon_oom to RunOptions for current allocation info. This isn't available when running in Eager mode.\n [Op:__inference_predict_function_14708]"
     ]
    }
   ],
   "source": [
    "test_res = model.predict(np.expand_dims(vectorized_text,0))"
   ]
  },
  {
   "cell_type": "code",
   "execution_count": 30,
   "metadata": {},
   "outputs": [
    {
     "data": {
      "text/plain": [
       "array([[0.49265477, 0.49556106, 0.500393  , 0.48955858, 0.50027287,\n",
       "        0.5010112 ]], dtype=float32)"
      ]
     },
     "execution_count": 30,
     "metadata": {},
     "output_type": "execute_result"
    }
   ],
   "source": [
    "test_res"
   ]
  }
 ],
 "metadata": {
  "kernelspec": {
   "display_name": "Python 3.9.13 ('tf')",
   "language": "python",
   "name": "python3"
  },
  "language_info": {
   "codemirror_mode": {
    "name": "ipython",
    "version": 3
   },
   "file_extension": ".py",
   "mimetype": "text/x-python",
   "name": "python",
   "nbconvert_exporter": "python",
   "pygments_lexer": "ipython3",
   "version": "3.9.13"
  },
  "orig_nbformat": 4,
  "vscode": {
   "interpreter": {
    "hash": "47f4ee9c649c5555c938a81fb316a8fbf8d268ee2e71fb91ce03301760066cc0"
   }
  }
 },
 "nbformat": 4,
 "nbformat_minor": 2
}
